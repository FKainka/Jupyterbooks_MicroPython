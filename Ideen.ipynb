{
 "cells": [
  {
   "cell_type": "markdown",
   "id": "unlikely-spell",
   "metadata": {},
   "source": [
    "# Allgemeine Ideen\n",
    "\n",
    "Über Labs lässt sich sowohl die Firmware auf einen Microcontroller Flashen (esptool) als auch einzelne Dateien auf oder vom Board übertragen. \n",
    "\n",
    "Der Leser lädt das verzeichniss über git, inklusive aller submodules, bestehend aus aktuellen Firmware versionen etc (oder konkreten getesteten versionen) \n",
    "Über JPLabs wird zunächst Firmware geflasht. Auch libraries werden vor dem gebrauch hochgeladen und behandelt.\n",
    "\n",
    "\n",
    "## Libraries:\n",
    "* https://github.com/tltx/micropython-spotify-web-api\n",
    "* https://github.com/jacklinquan/micropython-aiobutton\n",
    "* https://pypi.org/project/micropython-mcron/\n",
    "* https://pypi.org/project/micropython-scron/\n",
    "* https://pypi.org/project/micropython-eydam-prototyping-statemachine/"
   ]
  }
 ],
 "metadata": {
  "kernelspec": {
   "display_name": "MicroPython - USB",
   "language": "micropython",
   "name": "micropython"
  },
  "language_info": {
   "codemirror_mode": "python",
   "file_extension": ".py",
   "mimetype": "text/python",
   "name": "micropython"
  }
 },
 "nbformat": 4,
 "nbformat_minor": 5
}
