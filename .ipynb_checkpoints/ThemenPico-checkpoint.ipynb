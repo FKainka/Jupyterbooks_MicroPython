{
 "cells": [
  {
   "cell_type": "markdown",
   "id": "small-guitar",
   "metadata": {
    "slideshow": {
     "slide_type": "notes"
    },
    "tags": []
   },
   "source": [
    "# Board: RPi Pico\n",
    "# Firmware: Micropython 1.14 (2021-02-05)\n",
    "# Kernel: MicroPyhton - USB \n",
    "\n",
    "## Thema: Mögliche Themen\n",
    "\n",
    "In diesem Notebook wird eine Liste von möglichen Themen und der richtigen Reihenfolge erstellt\n",
    "\n",
    "1) Machine.Pin\n",
    "    - Einfache Ausgabe\n",
    "        - Blinken mit Loop\n",
    "        - Toggeln\n",
    "        - Signal? -NO existiert hier nicht!\n",
    "    - Eingaben\n",
    "        - Eingaben ohne jeden Pullup, Ausgabe über Terminal\n",
    "        - Pullup, Pulldown (Extern, Intern)\n",
    "    - PWM\n",
    "    - ADC\n",
    "    - NeoPixel\n",
    "    \n",
    "    \n",
    "2) Damit einfache Grundlagen zu Pyhton\n",
    "X) Timer, Interrupt\n",
    "\n",
    "SpezialThemen:\n",
    "    - State Machine Pins\n",
    "    - Circuitpyhton, USB\n",
    "\n",
    "\n",
    "Ideen:\n",
    "https://rk.edu.pl/en/scripting-electronic-components-raspberry-pi-pico/\n",
    "https://www.electronicshub.org/raspberry-pi-pico-micropython-tutorial/\n",
    "\n",
    "#Micropyhton USB\n",
    "#%serialconnect --port=COM13\n",
    "#upydevice \n",
    "%serialconnect COM 115200"
   ]
  },
  {
   "cell_type": "code",
   "execution_count": 1,
   "id": "documentary-lounge",
   "metadata": {},
   "outputs": [
    {
     "name": "stdout",
     "output_type": "stream",
     "text": [
      "\u001b[34mConnecting to --port=COM13 --baud=115200 \u001b[0m\n",
      "\u001b[34mReady.\n",
      "\u001b[0m"
     ]
    }
   ],
   "source": [
    "#Micropyhton USB\n",
    "%serialconnect --port=COM13"
   ]
  },
  {
   "cell_type": "code",
   "execution_count": 2,
   "id": "decent-addition",
   "metadata": {},
   "outputs": [
    {
     "name": "stdout",
     "output_type": "stream",
     "text": [
      "Welcome to MicroPython!\n",
      "\n",
      "For online help please visit https://micropython.org/help/.\n",
      "\n",
      "For access to the hardware use the 'machine' module.  RP2 specific commands\n",
      "are in the 'rp2' module.\n",
      "\n",
      "Quick overview of some objects:\n",
      "  machine.Pin(pin) -- get a pin, eg machine.Pin(0)\n",
      "  machine.Pin(pin, m, [p]) -- get a pin and configure it for IO mode m, pull mode p\n",
      "    methods: init(..), value([v]), high(), low(), irq(handler)\n",
      "  machine.ADC(pin) -- make an analog object from a pin\n",
      "    methods: read_u16()\n",
      "  machine.PWM(pin) -- make a PWM object from a pin\n",
      "    methods: deinit(), freq([f]), duty_u16([d]), duty_ns([d])\n",
      "  machine.I2C(id) -- create an I2C object (id=0,1)\n",
      "    methods: readfrom(addr, buf, stop=True), writeto(addr, buf, stop=True)\n",
      "             readfrom_mem(addr, memaddr, arg), writeto_mem(addr, memaddr, arg)\n",
      "  machine.SPI(id, baudrate=1000000) -- create an SPI object (id=0,1)\n",
      "    methods: read(nbytes, write=0x00), write(buf), write_readinto(wr_buf, rd_buf)\n",
      "  machine.Timer(freq, callback) -- create a software timer object\n",
      "    eg: machine.Timer(freq=1, callback=lambda t:print(t))\n",
      "\n",
      "Pins are numbered 0-29, and 26-29 have ADC capabilities\n",
      "Pin IO modes are: Pin.IN, Pin.OUT, Pin.ALT\n",
      "Pin pull modes are: Pin.PULL_UP, Pin.PULL_DOWN\n",
      "\n",
      "Useful control commands:\n",
      "  CTRL-C -- interrupt a running program\n",
      "  CTRL-D -- on a blank line, do a soft reset of the board\n",
      "  CTRL-E -- on a blank line, enter paste mode\n",
      "\n",
      "For further help on a specific object, type help(obj)\n",
      "For a list of available modules, type help('modules')\n",
      "__main__          gc                uasyncio/event    ujson\n",
      "_boot             machine           uasyncio/funcs    uos\n",
      "_onewire          math              uasyncio/lock     urandom\n",
      "_rp2              micropython       uasyncio/stream   ure\n",
      "_thread           onewire           ubinascii         uselect\n",
      "_uasyncio         rp2               ucollections      ustruct\n",
      "builtins          uarray            uctypes           usys\n",
      "ds18x20           uasyncio/__init__ uhashlib          utime\n",
      "framebuf          uasyncio/core     uio               uzlib\n",
      "Plus any modules on the filesystem\n"
     ]
    }
   ],
   "source": [
    "help()\n",
    "help(\"modules\")"
   ]
  },
  {
   "cell_type": "code",
   "execution_count": 5,
   "id": "palestinian-cooler",
   "metadata": {},
   "outputs": [],
   "source": [
    "import machine"
   ]
  },
  {
   "cell_type": "code",
   "execution_count": 6,
   "id": "marine-bride",
   "metadata": {},
   "outputs": [
    {
     "name": "stdout",
     "output_type": "stream",
     "text": [
      "object <module 'umachine'> is of type module\n",
      "  __name__ -- umachine\n",
      "  unique_id -- <function>\n",
      "  soft_reset -- <function>\n",
      "  reset -- <function>\n",
      "  reset_cause -- <function>\n",
      "  bootloader -- <function>\n",
      "  freq -- <function>\n",
      "  idle -- <function>\n",
      "  lightsleep -- <function>\n",
      "  deepsleep -- <function>\n",
      "  disable_irq -- <function>\n",
      "  enable_irq -- <function>\n",
      "  time_pulse_us -- <function>\n",
      "  mem8 -- <8-bit memory>\n",
      "  mem16 -- <16-bit memory>\n",
      "  mem32 -- <32-bit memory>\n",
      "  ADC -- <class 'ADC'>\n",
      "  I2C -- <class 'I2C'>\n",
      "  SoftI2C -- <class 'SoftI2C'>\n",
      "  Pin -- <class 'Pin'>\n",
      "  PWM -- <class 'PWM'>\n",
      "  SPI -- <class 'SPI'>\n",
      "  SoftSPI -- <class 'SoftSPI'>\n",
      "  Timer -- <class 'Timer'>\n",
      "  UART -- <class 'UART'>\n",
      "  WDT -- <class 'WDT'>\n",
      "  PWRON_RESET -- 1\n",
      "  WDT_RESET -- 3\n"
     ]
    }
   ],
   "source": [
    "help(machine)"
   ]
  },
  {
   "cell_type": "code",
   "execution_count": 7,
   "id": "imported-destiny",
   "metadata": {},
   "outputs": [
    {
     "name": "stdout",
     "output_type": "stream",
     "text": [
      "object <class 'Pin'> is of type type\n",
      "  init -- <function>\n",
      "  value -- <function>\n",
      "  low -- <function>\n",
      "  high -- <function>\n",
      "  off -- <function>\n",
      "  on -- <function>\n",
      "  toggle -- <function>\n",
      "  irq -- <function>\n",
      "  IN -- 0\n",
      "  OUT -- 1\n",
      "  OPEN_DRAIN -- 2\n",
      "  ALT -- 3\n",
      "  PULL_UP -- 1\n",
      "  PULL_DOWN -- 2\n",
      "  IRQ_RISING -- 8\n",
      "  IRQ_FALLING -- 4\n"
     ]
    }
   ],
   "source": [
    "help(machine.Pin)"
   ]
  },
  {
   "cell_type": "code",
   "execution_count": null,
   "id": "artificial-auckland",
   "metadata": {},
   "outputs": [],
   "source": [
    "%disconnect"
   ]
  },
  {
   "cell_type": "code",
   "execution_count": null,
   "id": "regulation-september",
   "metadata": {},
   "outputs": [],
   "source": [
    "pin1 = machine.Pin()"
   ]
  }
 ],
 "metadata": {
  "kernelspec": {
   "display_name": "MicroPython - USB",
   "language": "micropython",
   "name": "micropython"
  },
  "language_info": {
   "codemirror_mode": "python",
   "file_extension": ".py",
   "mimetype": "text/python",
   "name": "micropython"
  }
 },
 "nbformat": 4,
 "nbformat_minor": 5
}
