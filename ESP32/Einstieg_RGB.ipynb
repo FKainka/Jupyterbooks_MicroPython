{
 "cells": [
  {
   "cell_type": "markdown",
   "metadata": {},
   "source": [
    "# Einstieg in MicroPyhton mit dem ESP32 #\n",
    "\n",
    "* *__Board: NodeESP (ESP32)__*\n",
    "* *__Firmware: Micropython 1.14 (2021-02-05)__*\n",
    "* *__Kernel: MicroPyhton - USB__*\n"
   ]
  },
  {
   "cell_type": "markdown",
   "metadata": {},
   "source": [
    "Anweisung an das Jupyter Notebook: Verbindung mit dem EPS32 herstellen\n",
    "(COM-Schnittstelle muss angepasst werden)"
   ]
  },
  {
   "cell_type": "code",
   "execution_count": 1,
   "metadata": {},
   "outputs": [
    {
     "name": "stdout",
     "output_type": "stream",
     "text": [
      "\u001b[34mConnected on COM16\n",
      "\u001b[0m"
     ]
    }
   ],
   "source": [
    "%connect --port=COM16 --baud=115200 --wait=0 CH340"
   ]
  },
  {
   "cell_type": "code",
   "execution_count": 1,
   "metadata": {},
   "outputs": [
    {
     "name": "stdout",
     "output_type": "stream",
     "text": [
      "Hello World\n"
     ]
    }
   ],
   "source": [
    "print(\"Hello World\")"
   ]
  },
  {
   "cell_type": "markdown",
   "metadata": {},
   "source": [
    "Der help()-Befehl kann Informationen direkt über die REPL-liefern (REPL = Read Evaluate Print Lopp)"
   ]
  },
  {
   "cell_type": "code",
   "execution_count": 1,
   "metadata": {},
   "outputs": [
    {
     "name": "stdout",
     "output_type": "stream",
     "text": [
      "Welcome to MicroPython on the ESP32!\n",
      "\n",
      "For generic online docs please visit http://docs.micropython.org/\n",
      "\n",
      "For access to the hardware use the 'machine' module:\n",
      "\n",
      "import machine\n",
      "pin12 = machine.Pin(12, machine.Pin.OUT)\n",
      "pin12.value(1)\n",
      "pin13 = machine.Pin(13, machine.Pin.IN, machine.Pin.PULL_UP)\n",
      "print(pin13.value())\n",
      "i2c = machine.I2C(scl=machine.Pin(21), sda=machine.Pin(22))\n",
      "i2c.scan()\n",
      "i2c.writeto(addr, b'1234')\n",
      "i2c.readfrom(addr, 4)\n",
      "\n",
      "Basic WiFi configuration:\n",
      "\n",
      "import network\n",
      "sta_if = network.WLAN(network.STA_IF); sta_if.active(True)\n",
      "sta_if.scan()                             # Scan for available access points\n",
      "sta_if.connect(\"<AP_name>\", \"<password>\") # Connect to an AP\n",
      "sta_if.isconnected()                      # Check for successful connection\n",
      "\n",
      "Control commands:\n",
      "  CTRL-A        -- on a blank line, enter raw REPL mode\n",
      "  CTRL-B        -- on a blank line, enter normal REPL mode\n",
      "  CTRL-C        -- interrupt a running program\n",
      "  CTRL-D        -- on a blank line, do a soft reset of the board\n",
      "  CTRL-E        -- on a blank line, enter paste mode\n",
      "\n",
      "For further help on a specific object, type help(obj)\n",
      "For a list of available modules, type help('modules')\n"
     ]
    }
   ],
   "source": [
    "help()"
   ]
  },
  {
   "cell_type": "code",
   "execution_count": 1,
   "metadata": {
    "scrolled": true
   },
   "outputs": [
    {
     "name": "stdout",
     "output_type": "stream",
     "text": [
      "__main__          gc                uasyncio/stream   upip_utarfile\n",
      "_boot             inisetup          ubinascii         upysh\n",
      "_onewire          machine           ubluetooth        urandom\n",
      "_thread           math              ucollections      ure\n",
      "_uasyncio         micropython       ucryptolib        urequests\n",
      "_webrepl          neopixel          uctypes           uselect\n",
      "apa106            network           uerrno            usocket\n",
      "btree             ntptime           uhashlib          ussl\n",
      "builtins          onewire           uhashlib          ustruct\n",
      "cmath             sys               uheapq            utime\n",
      "dht               uarray            uio               utimeq\n",
      "ds18x20           uasyncio/__init__ ujson             uwebsocket\n",
      "esp               uasyncio/core     umqtt/robust      uzlib\n",
      "esp32             uasyncio/event    umqtt/simple      webrepl\n",
      "flashbdev         uasyncio/funcs    uos               webrepl_setup\n",
      "framebuf          uasyncio/lock     upip              websocket_helper\n",
      "Plus any modules on the filesystem\n"
     ]
    }
   ],
   "source": [
    "help(\"modules\")"
   ]
  },
  {
   "cell_type": "markdown",
   "metadata": {},
   "source": [
    "Um ein Modul verwenden zu können muss es zuvor importiert werden. Mit dem help()-Befehl können weitere Informationen über das  Modul ermittelt werden."
   ]
  },
  {
   "cell_type": "code",
   "execution_count": 1,
   "metadata": {},
   "outputs": [
    {
     "name": "stdout",
     "output_type": "stream",
     "text": [
      "object <module 'umachine'> is of type module\n",
      "  __name__ -- umachine\n",
      "  mem8 -- <8-bit memory>\n",
      "  mem16 -- <16-bit memory>\n",
      "  mem32 -- <32-bit memory>\n",
      "  freq -- <function>\n",
      "  reset -- <function>\n",
      "  soft_reset -- <function>\n",
      "  unique_id -- <function>\n",
      "  sleep -- <function>\n",
      "  lightsleep -- <function>\n",
      "  deepsleep -- <function>\n",
      "  idle -- <function>\n",
      "  disable_irq -- <function>\n",
      "  enable_irq -- <function>\n",
      "  time_pulse_us -- <function>\n",
      "  Timer -- <class 'Timer'>\n",
      "  WDT -- <class 'WDT'>\n",
      "  SDCard -- <class 'SDCard'>\n",
      "  SLEEP -- 2\n",
      "  DEEPSLEEP -- 4\n",
      "  Pin -- <class 'Pin'>\n",
      "  Signal -- <class 'Signal'>\n",
      "  TouchPad -- <class 'TouchPad'>\n",
      "  ADC -- <class 'ADC'>\n",
      "  DAC -- <class 'DAC'>\n",
      "  I2C -- <class 'I2C'>\n",
      "  PWM -- <class 'PWM'>\n",
      "  RTC -- <class 'RTC'>\n",
      "  SPI -- <class 'SoftSPI'>\n",
      "  UART -- <class 'UART'>\n",
      "  reset_cause -- <function>\n",
      "  HARD_RESET -- 2\n",
      "  PWRON_RESET -- 1\n",
      "  WDT_RESET -- 3\n",
      "  DEEPSLEEP_RESET -- 4\n",
      "  SOFT_RESET -- 5\n",
      "  wake_reason -- <function>\n",
      "  PIN_WAKE -- 2\n",
      "  EXT0_WAKE -- 2\n",
      "  EXT1_WAKE -- 3\n",
      "  TIMER_WAKE -- 4\n",
      "  TOUCHPAD_WAKE -- 5\n",
      "  ULP_WAKE -- 6\n"
     ]
    }
   ],
   "source": [
    "import machine\n",
    "help(machine)"
   ]
  },
  {
   "cell_type": "code",
   "execution_count": 1,
   "metadata": {},
   "outputs": [
    {
     "name": "stdout",
     "output_type": "stream",
     "text": [
      "object <class 'Pin'> is of type type\n",
      "  init -- <function>\n",
      "  value -- <function>\n",
      "  off -- <function>\n",
      "  on -- <function>\n",
      "  irq -- <function>\n",
      "  IN -- 1\n",
      "  OUT -- 3\n",
      "  OPEN_DRAIN -- 7\n",
      "  PULL_UP -- 2\n",
      "  PULL_DOWN -- 1\n",
      "  PULL_HOLD -- 4\n",
      "  IRQ_RISING -- 1\n",
      "  IRQ_FALLING -- 2\n",
      "  WAKE_LOW -- 4\n",
      "  WAKE_HIGH -- 5\n"
     ]
    }
   ],
   "source": [
    "help(machine.Pin)"
   ]
  },
  {
   "cell_type": "markdown",
   "metadata": {},
   "source": [
    "Im folgenden Programmteil wird eine Instanz der machine-Unterklasse Pin erstellt. Neben dem pyhsischen-Pin der verwendet werden soll, sollte auch die \"Richtung\" des Pins abgegebn werden (Eingang oder Ausgang). "
   ]
  },
  {
   "cell_type": "code",
   "execution_count": 1,
   "metadata": {},
   "outputs": [
    {
     "name": "stdout",
     "output_type": "stream",
     "text": [
      "object Pin(2) is of type Pin\n",
      "  init -- <function>\n",
      "  value -- <function>\n",
      "  off -- <function>\n",
      "  on -- <function>\n",
      "  irq -- <function>\n",
      "  IN -- 1\n",
      "  OUT -- 3\n",
      "  OPEN_DRAIN -- 7\n",
      "  PULL_UP -- 2\n",
      "  PULL_DOWN -- 1\n",
      "  PULL_HOLD -- 4\n",
      "  IRQ_RISING -- 1\n",
      "  IRQ_FALLING -- 2\n",
      "  WAKE_LOW -- 4\n",
      "  WAKE_HIGH -- 5\n"
     ]
    }
   ],
   "source": [
    "green_led = machine.Pin(2, machine.Pin.OUT)\n",
    "help(green_led)"
   ]
  },
  {
   "cell_type": "markdown",
   "metadata": {},
   "source": [
    "Mit dem dir()-Befehl kann eine Liste von validen Attributen eines Objekts erzeugt werden."
   ]
  },
  {
   "cell_type": "code",
   "execution_count": 1,
   "metadata": {},
   "outputs": [
    {
     "name": "stdout",
     "output_type": "stream",
     "text": [
      "['__class__', 'value', 'IN', 'IRQ_FALLING', 'IRQ_RISING', 'OPEN_DRAIN', 'OUT', 'PULL_DOWN', 'PULL_HOLD', 'PULL_UP', 'WAKE_HIGH', 'WAKE_LOW', 'init', 'irq', 'off', 'on']\n"
     ]
    }
   ],
   "source": [
    "print(dir(green_led))"
   ]
  },
  {
   "cell_type": "markdown",
   "metadata": {},
   "source": [
    "Das Objekt green_led und der verwendete Pin kann nun über die Funktion on(), bzw. off() an- bzw. ausgeschaltet werden. Alternativ kann der Value-Befehl genutzt werden."
   ]
  },
  {
   "cell_type": "code",
   "execution_count": 1,
   "metadata": {},
   "outputs": [],
   "source": [
    "green_led.on()"
   ]
  },
  {
   "cell_type": "code",
   "execution_count": 1,
   "metadata": {},
   "outputs": [],
   "source": [
    "green_led.value(0)"
   ]
  },
  {
   "cell_type": "code",
   "execution_count": 1,
   "metadata": {},
   "outputs": [
    {
     "name": "stderr",
     "output_type": "stream",
     "text": [
      "Traceback (most recent call last):\n",
      "  File \"<stdin>\", line 1, in <module>\n",
      "AttributeError: 'Pin' object has no attribute 'toggle'\n"
     ]
    }
   ],
   "source": [
    "green_led.toggle()"
   ]
  },
  {
   "cell_type": "markdown",
   "metadata": {},
   "source": [
    "Signal ist ein \"wrapper\" für IO-Pins. Ein Ausgabesignal kann invertiert werden. Ein Eingabesignal kann invertiert betrachtet werden. Der Sinn ist on und off intuitiv verwenden zu können, unabhängig von dem tatsächlichen Pegel des Pins.\n",
    "\n",
    "class machine.Signal(pin_obj, invert=False)\n",
    "class machine.Signal(pin_arguments..., *, invert=False)"
   ]
  },
  {
   "cell_type": "code",
   "execution_count": 1,
   "metadata": {},
   "outputs": [
    {
     "name": "stdout",
     "output_type": "stream",
     "text": [
      "object <class 'Signal'> is of type type\n",
      "  value -- <function>\n",
      "  on -- <function>\n",
      "  off -- <function>\n"
     ]
    }
   ],
   "source": [
    "help(machine.Signal)"
   ]
  },
  {
   "cell_type": "code",
   "execution_count": 1,
   "metadata": {},
   "outputs": [],
   "source": [
    "green_led = machine.Signal(green_led,invert = True)\n",
    "green_led.off()"
   ]
  },
  {
   "cell_type": "code",
   "execution_count": 1,
   "metadata": {},
   "outputs": [],
   "source": [
    "green_led.on()"
   ]
  },
  {
   "cell_type": "code",
   "execution_count": 1,
   "metadata": {},
   "outputs": [],
   "source": [
    "green_led.off()\n",
    "\n",
    "red_led = machine.Signal(4,machine.Pin.OUT, invert = True)\n",
    "red_led.on()"
   ]
  },
  {
   "cell_type": "code",
   "execution_count": 1,
   "metadata": {},
   "outputs": [],
   "source": [
    "red_led.off()\n",
    "\n",
    "blue_led = machine.Signal(0,machine.Pin.OUT,invert = True)\n",
    "blue_led.on()"
   ]
  },
  {
   "cell_type": "code",
   "execution_count": 1,
   "metadata": {},
   "outputs": [
    {
     "name": "stderr",
     "output_type": "stream",
     "text": [
      "Traceback (most recent call last):\n",
      "  File \"<stdin>\", line 2\n",
      "SyntaxError: invalid syntax\n"
     ]
    }
   ],
   "source": [
    "blue_led.off()\n",
    "%disconnect"
   ]
  }
 ],
 "metadata": {
  "kernelspec": {
   "display_name": "MicroPython - USB",
   "language": "micropython",
   "name": "micropython"
  },
  "language_info": {
   "codemirror_mode": "python",
   "file_extension": ".py",
   "mimetype": "text/python",
   "name": "micropython"
  }
 },
 "nbformat": 4,
 "nbformat_minor": 4
}
