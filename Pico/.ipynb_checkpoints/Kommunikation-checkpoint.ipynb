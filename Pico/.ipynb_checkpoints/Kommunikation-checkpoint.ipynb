{
 "cells": [
  {
   "cell_type": "markdown",
   "id": "equivalent-processor",
   "metadata": {},
   "source": [
    "# Interrupts, Timer und Sleepmodes\n",
    "* *__Board: RPi Pico__*\n",
    "* *__Firmware: Micropython 1.14 (2021-02-05)__*\n",
    "* *__Kernel: MicroPyhton - USB__*\n",
    "\n",
    "\n",
    "## Themen\n",
    "    - Serial\n",
    "    - SPI\n",
    "    - I2C\n",
    "    - onewire"
   ]
  },
  {
   "cell_type": "markdown",
   "id": "banned-antibody",
   "metadata": {},
   "source": [
    "# Connect"
   ]
  },
  {
   "cell_type": "code",
   "execution_count": 10,
   "id": "regulation-theology",
   "metadata": {},
   "outputs": [
    {
     "name": "stdout",
     "output_type": "stream",
     "text": [
      "\u001b[34mConnecting to --port=COM13 --baud=115200 \u001b[0m\n",
      "\u001b[34mReady.\n",
      "\u001b[0m"
     ]
    }
   ],
   "source": [
    "%serialconnect --port=COM13"
   ]
  },
  {
   "cell_type": "markdown",
   "id": "extensive-position",
   "metadata": {},
   "source": [
    "# Serielle Schnittstelle"
   ]
  },
  {
   "cell_type": "code",
   "execution_count": 12,
   "id": "palestinian-skirt",
   "metadata": {},
   "outputs": [
    {
     "name": "stdout",
     "output_type": "stream",
     "text": [
      "__main__          gc                uasyncio/funcs    uos\n",
      "_boot             machine           uasyncio/lock     urandom\n",
      "_onewire          math              uasyncio/stream   ure\n",
      "_rp2              micropython       ubinascii         uselect\n",
      "_thread           onewire           ucollections      ustruct\n",
      "_uasyncio         rp2               uctypes           usys\n",
      "builtins          uasyncio/__init__ uhashlib          utime\n",
      "ds18x20           uasyncio/core     uio               uzlib\n",
      "framebuf          uasyncio/event    ujson\n",
      "Plus any modules on the filesystem\n"
     ]
    }
   ],
   "source": [
    "help(\"modules\")\n"
   ]
  },
  {
   "cell_type": "markdown",
   "id": "assured-alert",
   "metadata": {},
   "source": [
    "# I2C"
   ]
  },
  {
   "cell_type": "code",
   "execution_count": null,
   "id": "basic-heater",
   "metadata": {},
   "outputs": [],
   "source": []
  },
  {
   "cell_type": "markdown",
   "id": "handed-fraud",
   "metadata": {},
   "source": [
    "# SPI"
   ]
  },
  {
   "cell_type": "code",
   "execution_count": null,
   "id": "derived-actress",
   "metadata": {},
   "outputs": [],
   "source": []
  },
  {
   "cell_type": "markdown",
   "id": "married-stability",
   "metadata": {},
   "source": [
    "# OneWire"
   ]
  },
  {
   "cell_type": "code",
   "execution_count": 6,
   "id": "about-progressive",
   "metadata": {},
   "outputs": [],
   "source": []
  },
  {
   "cell_type": "markdown",
   "id": "eastern-census",
   "metadata": {},
   "source": [
    "# Disconnect"
   ]
  },
  {
   "cell_type": "code",
   "execution_count": 13,
   "id": "hidden-constitution",
   "metadata": {},
   "outputs": [
    {
     "name": "stdout",
     "output_type": "stream",
     "text": [
      "\u001b[34mattempt to exit paste mode\n",
      "\u001b[0m\u001b[34m[\\r\\x03\\x02] \u001b[0mb'\\r\\nMicroPython v1.14 on 2021-02-02; Raspberry Pi Pico with RP2040\\r\\nType \"help()\" for more information.\\r\\n>>> '\u001b[34m\n",
      "Closing serial Serial<id=0x2320e67f910, open=True>(port='COM13', baudrate=115200, bytesize=8, parity='N', stopbits=1, timeout=0.5, xonxoff=False, rtscts=False, dsrdtr=False)\n",
      "\u001b[0m"
     ]
    }
   ],
   "source": [
    "%disconnect"
   ]
  },
  {
   "cell_type": "code",
   "execution_count": null,
   "id": "intensive-marketplace",
   "metadata": {},
   "outputs": [],
   "source": []
  }
 ],
 "metadata": {
  "kernelspec": {
   "display_name": "MicroPython - USB",
   "language": "micropython",
   "name": "micropython"
  },
  "language_info": {
   "codemirror_mode": "python",
   "file_extension": ".py",
   "mimetype": "text/python",
   "name": "micropython"
  }
 },
 "nbformat": 4,
 "nbformat_minor": 5
}
