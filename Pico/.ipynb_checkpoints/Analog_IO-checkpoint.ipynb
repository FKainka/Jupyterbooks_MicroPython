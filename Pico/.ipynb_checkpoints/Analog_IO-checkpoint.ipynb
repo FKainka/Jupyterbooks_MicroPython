{
 "cells": [
  {
   "cell_type": "markdown",
   "id": "parallel-cyprus",
   "metadata": {},
   "source": [
    "# Analog I/O\n",
    "\n",
    "* *__Board: RPi Pico__*\n",
    "* *__Firmware: Micropython 1.14 (2021-02-05)__*\n",
    "* *__Kernel: MicroPyhton - USB__*\n",
    "\n",
    "In diesem Kapitel geht es um die \"analogen\" Ein- und Ausgangsschaltungen des RPi Pico."
   ]
  },
  {
   "cell_type": "code",
   "execution_count": 22,
   "id": "desirable-turtle",
   "metadata": {},
   "outputs": [
    {
     "name": "stdout",
     "output_type": "stream",
     "text": [
      "\u001b[34mConnecting to --port=COM4 --baud=115200 \u001b[0m\n",
      "\u001b[34mReady.\n",
      "\u001b[0m"
     ]
    }
   ],
   "source": [
    "%serialconnect"
   ]
  },
  {
   "cell_type": "markdown",
   "id": "central-protection",
   "metadata": {},
   "source": [
    "## PWM\n",
    "Pulsdauermodulation"
   ]
  },
  {
   "cell_type": "code",
   "execution_count": 4,
   "id": "hungry-letters",
   "metadata": {},
   "outputs": [
    {
     "name": "stdout",
     "output_type": "stream",
     "text": [
      "__main__          gc                uasyncio/event    ujson\n",
      "_boot             machine           uasyncio/funcs    uos\n",
      "_onewire          math              uasyncio/lock     urandom\n",
      "_rp2              micropython       uasyncio/stream   ure\n",
      "_thread           onewire           ubinascii         uselect\n",
      "_uasyncio         rp2               ucollections      ustruct\n",
      "builtins          uarray            uctypes           usys\n",
      "ds18x20           uasyncio/__init__ uhashlib          utime\n",
      "framebuf          uasyncio/core     uio               uzlib\n",
      "Plus any modules on the filesystem\n",
      "object <module 'umachine'> is of type module\n",
      "  __name__ -- umachine\n",
      "  unique_id -- <function>\n",
      "  soft_reset -- <function>\n",
      "  reset -- <function>\n",
      "  reset_cause -- <function>\n",
      "  bootloader -- <function>\n",
      "  freq -- <function>\n",
      "  idle -- <function>\n",
      "  lightsleep -- <function>\n",
      "  deepsleep -- <function>\n",
      "  disable_irq -- <function>\n",
      "  enable_irq -- <function>\n",
      "  time_pulse_us -- <function>\n",
      "  mem8 -- <8-bit memory>\n",
      "  mem16 -- <16-bit memory>\n",
      "  mem32 -- <32-bit memory>\n",
      "  ADC -- <class 'ADC'>\n",
      "  I2C -- <class 'I2C'>\n",
      "  SoftI2C -- <class 'SoftI2C'>\n",
      "  Pin -- <class 'Pin'>\n",
      "  PWM -- <class 'PWM'>\n",
      "  SPI -- <class 'SPI'>\n",
      "  SoftSPI -- <class 'SoftSPI'>\n",
      "  Timer -- <class 'Timer'>\n",
      "  UART -- <class 'UART'>\n",
      "  WDT -- <class 'WDT'>\n",
      "  PWRON_RESET -- 1\n",
      "  WDT_RESET -- 3\n",
      "object <class 'PWM'> is of type type\n",
      "  deinit -- <function>\n",
      "  freq -- <function>\n",
      "  duty_u16 -- <function>\n",
      "  duty_ns -- <function>\n"
     ]
    }
   ],
   "source": [
    "help(\"modules\")\n",
    "help(machine)\n",
    "help(machine.PWM)"
   ]
  },
  {
   "cell_type": "code",
   "execution_count": 8,
   "id": "preliminary-teaching",
   "metadata": {},
   "outputs": [
    {
     "name": "stdout",
     "output_type": "stream",
     "text": [
      "object <class 'Pin'> is of type type\n",
      "  init -- <function>\n",
      "  value -- <function>\n",
      "  low -- <function>\n",
      "  high -- <function>\n",
      "  off -- <function>\n",
      "  on -- <function>\n",
      "  toggle -- <function>\n",
      "  irq -- <function>\n",
      "  IN -- 0\n",
      "  OUT -- 1\n",
      "  OPEN_DRAIN -- 2\n",
      "  ALT -- 3\n",
      "  PULL_UP -- 1\n",
      "  PULL_DOWN -- 2\n",
      "  IRQ_RISING -- 8\n",
      "  IRQ_FALLING -- 4\n",
      "object <class 'PWM'> is of type type\n",
      "  deinit -- <function>\n",
      "  freq -- <function>\n",
      "  duty_u16 -- <function>\n",
      "  duty_ns -- <function>\n"
     ]
    }
   ],
   "source": [
    "import machine\n",
    "from machine import PWM, Pin\n",
    "help(Pin)\n",
    "help(PWM)"
   ]
  },
  {
   "cell_type": "code",
   "execution_count": null,
   "id": "respected-ultimate",
   "metadata": {},
   "outputs": [],
   "source": [
    "# Initialisiere die Onboard-LED als Ausgang\n",
    "onboard_led = Pin(25, Pin.OUT)\n",
    "\n",
    "# Ausgabe des aktuellen Ausgangszustand\n",
    "print(onboard_led.value())\n",
    "onboard_led.high()"
   ]
  },
  {
   "cell_type": "code",
   "execution_count": 16,
   "id": "vertical-terrorist",
   "metadata": {},
   "outputs": [
    {
     "name": "stdout",
     "output_type": "stream",
     "text": [
      "['__class__', 'value', 'ALT', 'IN', 'IRQ_FALLING', 'IRQ_RISING', 'OPEN_DRAIN', 'OUT', 'PULL_DOWN', 'PULL_UP', 'high', 'init', 'irq', 'low', 'off', 'on', 'toggle']\n",
      "['__class__', 'deinit', 'duty_ns', 'duty_u16', 'freq']\n",
      "<PWM slice=4 channel=1>\n"
     ]
    }
   ],
   "source": [
    "from machine import Pin, PWM\n",
    "\n",
    "# Erst wird der Pin initialisiert, dann eine PWM-instanz auf Basies des Pins\n",
    "onboard_led = Pin(25, Pin.OUT)\n",
    "onboard_pwm = PWM(onboard_led)\n",
    "\n",
    "# Inhalte der beiden Klassen\n",
    "print(dir(onboard_led))\n",
    "print(dir(onboard_pwm))\n",
    "\n",
    "# Einstellen einer Basisfrequenz (hier 500 Hz, default 1907 hz) (Max )\n",
    "onboard_pwm.freq(500)\n",
    "# Einstellen des An- zu Ausverhältnisses. 16 Bit-Zahl (Wertebereich 0 - 65025)\n",
    "onboard_pwm.duty_u16(30000)\n",
    "\n",
    "print(onboard_pwm)"
   ]
  },
  {
   "cell_type": "code",
   "execution_count": 17,
   "id": "outstanding-empty",
   "metadata": {},
   "outputs": [
    {
     "name": "stdout",
     "output_type": "stream",
     "text": [
      "1907\n",
      "1907\n",
      "<PWM slice=7 channel=0>\n",
      "<PWM slice=6 channel=1>\n",
      "<PWM slice=4 channel=1>\n",
      "500\n"
     ]
    }
   ],
   "source": [
    "from machine import Pin, PWM\n",
    "\n",
    "led1 = PWM(Pin(14, Pin.OUT))\n",
    "led2 = PWM(Pin(15, Pin.OUT)) \n",
    "\n",
    "# Beide LEDs sind von der Frequenzänderung betroffen (Slice)\n",
    "print(led1.freq())\n",
    "led2.freq(10)  # minmum 10 Hz\n",
    "print(led1.freq())\n",
    "\n",
    "print(led1)\n",
    "print(led2)\n",
    "\n",
    "print(onboard_pwm)\n",
    "print (onboard_pwm.freq())\n",
    "\n",
    "led1.duty_u16(15000)\n",
    "led2.duty_u16(30000)"
   ]
  },
  {
   "cell_type": "code",
   "execution_count": 21,
   "id": "elect-folks",
   "metadata": {},
   "outputs": [
    {
     "name": "stdout",
     "output_type": "stream",
     "text": [
      "Pin0: <PWM slice=0 channel=0>\n",
      "Pin1: <PWM slice=0 channel=1>\n",
      "Pin2: <PWM slice=1 channel=0>\n",
      "Pin3: <PWM slice=1 channel=1>\n",
      "Pin4: <PWM slice=2 channel=0>\n",
      "Pin5: <PWM slice=2 channel=1>\n",
      "Pin6: <PWM slice=3 channel=0>\n",
      "Pin7: <PWM slice=3 channel=1>\n",
      "Pin8: <PWM slice=4 channel=0>\n",
      "Pin9: <PWM slice=4 channel=1>\n",
      "Pin10: <PWM slice=5 channel=0>\n",
      "Pin11: <PWM slice=5 channel=1>\n",
      "Pin12: <PWM slice=6 channel=0>\n",
      "Pin13: <PWM slice=6 channel=1>\n",
      "Pin14: <PWM slice=7 channel=0>\n",
      "Pin15: <PWM slice=7 channel=1>\n",
      "Pin16: <PWM slice=0 channel=0>\n",
      "Pin17: <PWM slice=0 channel=1>\n",
      "Pin18: <PWM slice=1 channel=0>\n",
      "Pin19: <PWM slice=1 channel=1>\n",
      "Pin20: <PWM slice=2 channel=0>\n",
      "Pin21: <PWM slice=2 channel=1>\n",
      "Pin22: <PWM slice=3 channel=0>\n",
      "Pin23: <PWM slice=3 channel=1>\n",
      "Pin24: <PWM slice=4 channel=0>\n",
      "Pin25: <PWM slice=4 channel=1>\n",
      "Pin26: <PWM slice=5 channel=0>\n",
      "Pin27: <PWM slice=5 channel=1>\n",
      "Pin28: <PWM slice=6 channel=0>\n"
     ]
    }
   ],
   "source": [
    "# Liste welche Pins zusammen gehören \n",
    "from machine import Pin, PWM\n",
    "\n",
    "for i in range(0,29):\n",
    "    test_pwm = PWM(Pin(i,Pin.OUT))\n",
    "    print(\"Pin\"+str(i)  + \": \" +  str(test_pwm))"
   ]
  },
  {
   "cell_type": "code",
   "execution_count": 33,
   "id": "loaded-technology",
   "metadata": {
    "tags": []
   },
   "outputs": [],
   "source": [
    "# Miniaugabe: Oberes Beispiel auf zwei unabhängige Pins "
   ]
  },
  {
   "cell_type": "markdown",
   "id": "scientific-basics",
   "metadata": {
    "tags": []
   },
   "source": [
    "## Aufgabe: PWM Fade\n",
    "Zwei LEDs an Pins 14 und 15 sollen die Helligkeit kontinuierlich erhöhen/verringern (Faden). Dabei sollen beide LEDs immer die gegenläufige Helligkeit anzeigen.\n",
    "\n",
    "![Pico_DIO_Led1_Steckplatine.png](Fritzing/Pico_DIO_Led1_Steckplatine.png \"Aufbau mit zwei Leds\")"
   ]
  },
  {
   "cell_type": "code",
   "execution_count": 14,
   "id": "indian-french",
   "metadata": {
    "collapsed": true,
    "jupyter": {
     "outputs_hidden": true,
     "source_hidden": true
    },
    "tags": []
   },
   "outputs": [
    {
     "name": "stdout",
     "output_type": "stream",
     "text": [
      "object <module 'umachine'> is of type module\n",
      "  __name__ -- umachine\n",
      "  unique_id -- <function>\n",
      "  soft_reset -- <function>\n",
      "  reset -- <function>\n",
      "  reset_cause -- <function>\n",
      "  bootloader -- <function>\n",
      "  freq -- <function>\n",
      "  idle -- <function>\n",
      "  lightsleep -- <function>\n",
      "  deepsleep -- <function>\n",
      "  disable_irq -- <function>\n",
      "  enable_irq -- <function>\n",
      "  time_pulse_us -- <function>\n",
      "  mem8 -- <8-bit memory>\n",
      "  mem16 -- <16-bit memory>\n",
      "  mem32 -- <32-bit memory>\n",
      "  ADC -- <class 'ADC'>\n",
      "  I2C -- <class 'I2C'>\n",
      "  SoftI2C -- <class 'SoftI2C'>\n",
      "  Pin -- <class 'Pin'>\n",
      "\n",
      "**[ys] <class 'serial.serialutil.SerialException'>\n",
      "**[ys] ClearCommError failed (OSError(22, 'Der E/A-Vorgang wurde wegen eines Threadendes oder einer Anwendungsanforderung abgebrochen.', None, 995))\n",
      "\n",
      "\n",
      "**[ys] <class 'serial.serialutil.SerialException'>\n",
      "**[ys] ClearCommError failed (PermissionError(13, 'Das Gerät erkennt den Befehl nicht.', None, 22))\n",
      "\n"
     ]
    }
   ],
   "source": [
    "# Neustart des Boards \n",
    "help(machine)\n",
    "machine.reset()"
   ]
  },
  {
   "cell_type": "markdown",
   "id": "general-member",
   "metadata": {},
   "source": [
    "# ADC\n",
    "Analoge Digital Converter"
   ]
  },
  {
   "cell_type": "code",
   "execution_count": 24,
   "id": "interstate-minority",
   "metadata": {},
   "outputs": [
    {
     "name": "stdout",
     "output_type": "stream",
     "text": [
      "object <module 'umachine'> is of type module\n",
      "  __name__ -- umachine\n",
      "  unique_id -- <function>\n",
      "  soft_reset -- <function>\n",
      "  reset -- <function>\n",
      "  reset_cause -- <function>\n",
      "  bootloader -- <function>\n",
      "  freq -- <function>\n",
      "  idle -- <function>\n",
      "  lightsleep -- <function>\n",
      "  deepsleep -- <function>\n",
      "  disable_irq -- <function>\n",
      "  enable_irq -- <function>\n",
      "  time_pulse_us -- <function>\n",
      "  mem8 -- <8-bit memory>\n",
      "  mem16 -- <16-bit memory>\n",
      "  mem32 -- <32-bit memory>\n",
      "  ADC -- <class 'ADC'>\n",
      "  I2C -- <class 'I2C'>\n",
      "  SoftI2C -- <class 'SoftI2C'>\n",
      "  Pin -- <class 'Pin'>\n",
      "  PWM -- <class 'PWM'>\n",
      "  SPI -- <class 'SPI'>\n",
      "  SoftSPI -- <class 'SoftSPI'>\n",
      "  Timer -- <class 'Timer'>\n",
      "  UART -- <class 'UART'>\n",
      "  WDT -- <class 'WDT'>\n",
      "  PWRON_RESET -- 1\n",
      "  WDT_RESET -- 3\n",
      "object <class 'ADC'> is of type type\n",
      "  read_u16 -- <function>\n",
      "  CORE_TEMP -- 4\n"
     ]
    }
   ],
   "source": [
    "help(machine)\n",
    "help(machine.ADC)"
   ]
  },
  {
   "cell_type": "code",
   "execution_count": 32,
   "id": "fabulous-confidentiality",
   "metadata": {},
   "outputs": [
    {
     "name": "stdout",
     "output_type": "stream",
     "text": [
      "4337\n",
      "768\n",
      "19140\n",
      "20180\n",
      "20981\n",
      "\u001b[34m\n",
      "\n",
      "*** Sending Ctrl-C\n",
      "\n",
      "\u001b[0m"
     ]
    },
    {
     "name": "stderr",
     "output_type": "stream",
     "text": [
      "Traceback (most recent call last):\n",
      "  File \"<stdin>\", line 10, in <module>\n",
      "KeyboardInterrupt: \n"
     ]
    }
   ],
   "source": [
    "from machine import Pin, ADC\n",
    "import time\n",
    "\n",
    "\n",
    "# ADC Pins: 26, 27, 28\n",
    "\n",
    "# Pin 26 wird als analoger Eingang geschaltet\n",
    "adc = ADC(Pin(26))\n",
    "\n",
    "while True:\n",
    "    # Auslesen des aktuellen Wertes\n",
    "    print(adc.read_u16())\n",
    "    time.sleep(1)\n"
   ]
  },
  {
   "cell_type": "markdown",
   "id": "hybrid-interpretation",
   "metadata": {},
   "source": [
    "# Aufgabe: Helligkeit einer LED einstellen\n",
    "\n",
    "Ein Poti soll genutzt werden um die Helligkeit einer LED zu steuern.\n",
    "\n",
    "\n",
    "![Pico_DIO_Poti1_Steckplatine](Fritzing/Pico_DIO_Poti1_Steckplatine.png \"Poti an IO26, LED an IO15\")\n",
    "Poti an IO26, LED an IO15."
   ]
  },
  {
   "cell_type": "markdown",
   "id": "operating-isolation",
   "metadata": {},
   "source": [
    "# Lösungen"
   ]
  },
  {
   "cell_type": "code",
   "execution_count": 43,
   "id": "pressing-movement",
   "metadata": {},
   "outputs": [
    {
     "name": "stdout",
     "output_type": "stream",
     "text": [
      "."
     ]
    }
   ],
   "source": [
    "# Aufgabe: PWM Fade\n",
    "\n",
    "from machine import Pin, PWM\n",
    "\n",
    "led1 = PWM(Pin(15, Pin.OUT))\n",
    "led2 = PWM(Pin(14, Pin.OUT)) \n",
    "\n",
    "for i in range(65535):\n",
    "    led1.duty_u16(i)\n",
    "    led2.duty_u16(65535-i)\n",
    "\n",
    "for i in range(65535,0,-1):\n",
    "    led1.duty_u16(i)\n",
    "    led2.duty_u16(65535-i)"
   ]
  },
  {
   "cell_type": "code",
   "execution_count": null,
   "id": "optimum-cambridge",
   "metadata": {},
   "outputs": [],
   "source": [
    "# Aufgabe: Helligkeit einer LED einstellen\n",
    "\n",
    "from machine import Pin, ADC, PWM\n",
    "import time\n",
    "\n",
    "# Pin 26 wird als analoger Eingang geschaltet, Pin 15 als Ausgang\n",
    "adc = ADC(Pin(26))\n",
    "led = PWM(Pin(15, Pin.OUT))\n",
    "\n",
    "while True:\n",
    "    # Auslesen des aktuellen Wertes und Übertragung auf die LED\n",
    "    led.duty_u16(adc.read_u16())"
   ]
  },
  {
   "cell_type": "code",
   "execution_count": null,
   "id": "formal-weapon",
   "metadata": {},
   "outputs": [],
   "source": [
    "%disconnect"
   ]
  }
 ],
 "metadata": {
  "kernelspec": {
   "display_name": "MicroPython - USB",
   "language": "micropython",
   "name": "micropython"
  },
  "language_info": {
   "codemirror_mode": "python",
   "file_extension": ".py",
   "mimetype": "text/python",
   "name": "micropython"
  }
 },
 "nbformat": 4,
 "nbformat_minor": 5
}
