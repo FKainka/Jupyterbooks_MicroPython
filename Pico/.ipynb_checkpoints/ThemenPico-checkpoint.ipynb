{
 "cells": [
  {
   "cell_type": "markdown",
   "id": "micro-compiler",
   "metadata": {
    "slideshow": {
     "slide_type": "notes"
    },
    "tags": []
   },
   "source": [
    "# Thema: Mögliche Themen\n",
    "\n",
    "* *__Board: RPi Pico__*\n",
    "* *__Firmware: Micropython 1.14 (2021-02-05)__*\n",
    "* *__Kernel: MicroPyhton - USB__*\n",
    "\n",
    "In diesem Notebook wird eine Liste von möglichen Themen und der richtigen Reihenfolge erstellt\n",
    "\n",
    "Problem:\n",
    " input()\n",
    "\n",
    "0) Infoseite RPi Pico\n",
    "   - Firmware isntallieren\n",
    "   - Datenblatt\n",
    "   - Pinout\n",
    "   \n",
    "0) Umgang mit Jupyterlabs und MicroPython Kernel\n",
    "   - Installation\n",
    "   - Befehle\n",
    "   - Steuerung etc.\n",
    "\n",
    "1) Generelle Python/MPython Programmierung\n",
    "    1) Grundlagen: \n",
    "        - print, kommentare, ausdrücke, Variablem (sichtbarkeit, cast, die wichtigisten Typen)\n",
    "        - Kontrollstrukturen (if then else und loops)\n",
    "        - Error Handling?\n",
    "    2) Listen und Strings\n",
    "        - Listen und specialfunktionen\n",
    "        - String mit unterfunktionen (format etC)   \n",
    "    \n",
    "    - Variablen\n",
    "        - Variablen Typen \n",
    "        - Listen (List, Map, etc)\n",
    "        - Strings\n",
    "    - IF THEN ELSE\n",
    "    - Schleifen\n",
    "    - Error Handling (Try Catch) (bildins)\n",
    "    - Allgemein buildins\n",
    "\n",
    "2) Dateisystem und Module\n",
    "    - sys und Dateisystem auf dem Board\n",
    "    - Jupyterlabs und Dateisystem?\n",
    "    - \n",
    "\n",
    "\n",
    "1) Hardware IO Themen:\n",
    "    a)\n",
    "     - Einfache Ausgabe\n",
    "        - Blinken mit Loop\n",
    "        - Toggeln\n",
    "        - Signal? -NO existiert hier nicht!\n",
    "    - Eingaben\n",
    "        - Eingaben ohne jeden Pullup, Ausgabe über Terminal\n",
    "        - Pullup, Pulldown (Extern, Intern)\n",
    "    b) \n",
    "    - PWM\n",
    "    - ADC\n",
    "    c)\n",
    "    - Interrupts\n",
    "    - Timer\n",
    "    - DeepSleep\n",
    "    d) \n",
    "    - Serial\n",
    "    - SPI\n",
    "    - I2C\n",
    "    - onewire\n",
    "    e) Weitere Hardware\n",
    "    - RGB LED\n",
    "    - NeoPixel\n",
    "    \n",
    "    - Bauteile des Kits\n",
    "    Pico SpecialThemen:\n",
    "    - State Machine\n",
    "    - USB (CircuitPython)\n",
    "    \n",
    "5) Hardware: \n",
    "    - LED, Button, \n",
    "    - RGB-LED, \n",
    "    - Neo Pixel\n",
    "    - Piezo\n",
    "    - Motoren,\n",
    "    - Displays\n",
    "    - Ultraschallsensor\n",
    "2) Enthaltende Module in MicroPython:\n",
    "    - FileSystem (uos)\n",
    "    - Threading\n",
    "    - Math\n",
    "    - micropython, gc (memory, gc.mem_free(), shedule ...)\n",
    "    - ujson (JSON)\n",
    "    - ure Regular Expressions\n",
    "    - uselect, urandom, uzlib\n",
    "\n",
    "4) IoT Topics:\n",
    "    - Wifi\n",
    "    - UDP/TCP\n",
    "    - MDNS\n",
    "    - Webserver\n",
    "    - MQTT\n",
    "\n",
    "\n",
    "X) Andere Books:\n",
    "    - VM bzw. GC- VM bzw. GC\n",
    "    - Regulare Ausdrücke?\n",
    "    - Dateisystem und Module\n",
    "\n",
    "\n",
    "Ideen:\n",
    "* https://rk.edu.pl/en/scripting-electronic-components-raspberry-pi-pico/\n",
    "* https://www.electronicshub.org/raspberry-pi-pico-micropython-tutorial/"
   ]
  },
  {
   "cell_type": "raw",
   "id": "refined-farmer",
   "metadata": {
    "slideshow": {
     "slide_type": "notes"
    },
    "tags": []
   },
   "source": [
    "%suppressendcode   # ! Geht nicht\n",
    "    doesn't send x04 or wait to read after sending the contents of the cell\n",
    "  (assists for debugging using %writebytes and %readbytes)\n",
    "\n",
    "%websocketconnect [--raw] [--password PASSWORD] [--verbose] [websocketurl]\n",
    "    connects to the webREPL websocket of an ESP8266 over wifi\n",
    "    websocketurl defaults to ws://192.168.4.1:8266 but be sure to be connected\n",
    "\n",
    "%writebytes [--binary] [--verbose] stringtosend\n",
    "    does serial.write() of the python quoted string given\n",
    "\n",
    "%readbytes [--binary]\n",
    "    does serial.read_all()"
   ]
  },
  {
   "cell_type": "markdown",
   "id": "hybrid-start",
   "metadata": {
    "slideshow": {
     "slide_type": "notes"
    },
    "tags": []
   },
   "source": [
    "Problem input()\n",
    "%serialconnect --raw\n",
    "%writebytes print(input())\n",
    "%writebytes x04\n",
    "%writebytes \"hallo\"\n",
    "%readbytes \n"
   ]
  },
  {
   "cell_type": "markdown",
   "id": "interested-auction",
   "metadata": {
    "slideshow": {
     "slide_type": "notes"
    },
    "tags": []
   },
   "source": [
    "# Inhalt\n",
    "\n",
    "## Grundlagen MicroPython\n",
    "* [Grundlagen I/O](http://localhost:8888/doc/tree/Pico/GrundlagenMicroPython.ipynb)\n",
    "## Hardware IO\n",
    "* [Digital I/O](http://localhost:8888/doc/tree/Pico/Digital_IO.ipynb)\n",
    "* [Analog I/O](http://localhost:8888/doc/tree/Pico/Analog_IO.ipynb)\n",
    "\n",
    "## Integrierte Module"
   ]
  },
  {
   "cell_type": "markdown",
   "id": "reduced-aquarium",
   "metadata": {
    "slideshow": {
     "slide_type": "notes"
    },
    "tags": []
   },
   "source": []
  },
  {
   "cell_type": "code",
   "execution_count": 1,
   "id": "norman-blanket",
   "metadata": {},
   "outputs": [
    {
     "name": "stdout",
     "output_type": "stream",
     "text": [
      "\u001b[34mConnecting to --port=COM13 --baud=115200 \u001b[0m\n",
      "\u001b[34mReady.\n",
      "\u001b[0m"
     ]
    }
   ],
   "source": [
    "#Micropyhton USB\n",
    "%serialconnect --port=COM13"
   ]
  },
  {
   "cell_type": "code",
   "execution_count": 2,
   "id": "worldwide-electronics",
   "metadata": {},
   "outputs": [
    {
     "name": "stdout",
     "output_type": "stream",
     "text": [
      "Welcome to MicroPython!\n",
      "\n",
      "For online help please visit https://micropython.org/help/.\n",
      "\n",
      "For access to the hardware use the 'machine' module.  RP2 specific commands\n",
      "are in the 'rp2' module.\n",
      "\n",
      "Quick overview of some objects:\n",
      "  machine.Pin(pin) -- get a pin, eg machine.Pin(0)\n",
      "  machine.Pin(pin, m, [p]) -- get a pin and configure it for IO mode m, pull mode p\n",
      "    methods: init(..), value([v]), high(), low(), irq(handler)\n",
      "  machine.ADC(pin) -- make an analog object from a pin\n",
      "    methods: read_u16()\n",
      "  machine.PWM(pin) -- make a PWM object from a pin\n",
      "    methods: deinit(), freq([f]), duty_u16([d]), duty_ns([d])\n",
      "  machine.I2C(id) -- create an I2C object (id=0,1)\n",
      "    methods: readfrom(addr, buf, stop=True), writeto(addr, buf, stop=True)\n",
      "             readfrom_mem(addr, memaddr, arg), writeto_mem(addr, memaddr, arg)\n",
      "  machine.SPI(id, baudrate=1000000) -- create an SPI object (id=0,1)\n",
      "    methods: read(nbytes, write=0x00), write(buf), write_readinto(wr_buf, rd_buf)\n",
      "  machine.Timer(freq, callback) -- create a software timer object\n",
      "    eg: machine.Timer(freq=1, callback=lambda t:print(t))\n",
      "\n",
      "Pins are numbered 0-29, and 26-29 have ADC capabilities\n",
      "Pin IO modes are: Pin.IN, Pin.OUT, Pin.ALT\n",
      "Pin pull modes are: Pin.PULL_UP, Pin.PULL_DOWN\n",
      "\n",
      "Useful control commands:\n",
      "  CTRL-C -- interrupt a running program\n",
      "  CTRL-D -- on a blank line, do a soft reset of the board\n",
      "  CTRL-E -- on a blank line, enter paste mode\n",
      "\n",
      "For further help on a specific object, type help(obj)\n",
      "For a list of available modules, type help('modules')\n",
      "__main__          gc                uasyncio/event    ujson\n",
      "_boot             machine           uasyncio/funcs    uos\n",
      "_onewire          math              uasyncio/lock     urandom\n",
      "_rp2              micropython       uasyncio/stream   ure\n",
      "_thread           onewire           ubinascii         uselect\n",
      "_uasyncio         rp2               ucollections      ustruct\n",
      "builtins          uarray            uctypes           usys\n",
      "ds18x20           uasyncio/__init__ uhashlib          utime\n",
      "framebuf          uasyncio/core     uio               uzlib\n",
      "Plus any modules on the filesystem\n"
     ]
    }
   ],
   "source": [
    "help()\n",
    "help(\"modules\")"
   ]
  },
  {
   "cell_type": "code",
   "execution_count": 4,
   "id": "parliamentary-wildlife",
   "metadata": {},
   "outputs": [
    {
     "name": "stdout",
     "output_type": "stream",
     "text": [
      "\u001b[34mConnecting to --port=COM4 --baud=115200 \u001b[0m\n",
      "\u001b[34mReady.\n",
      "\u001b[0m"
     ]
    }
   ],
   "source": [
    "%serialconnect"
   ]
  },
  {
   "cell_type": "code",
   "execution_count": 19,
   "id": "cooked-collar",
   "metadata": {},
   "outputs": [
    {
     "name": "stdout",
     "output_type": "stream",
     "text": [
      "object <module 'utime'> is of type module\n",
      "  __name__ -- utime\n",
      "  gmtime -- <function>\n",
      "  localtime -- <function>\n",
      "  mktime -- <function>\n",
      "  time -- <function>\n",
      "  time_ns -- <function>\n",
      "  sleep -- <function>\n",
      "  sleep_ms -- <function>\n",
      "  sleep_us -- <function>\n",
      "  ticks_ms -- <function>\n",
      "  ticks_us -- <function>\n",
      "  ticks_cpu -- <function>\n",
      "  ticks_add -- <function>\n",
      "  ticks_diff -- <function>\n",
      "object <module 'uzlib'> is of type module\n",
      "  __name__ -- uzlib\n",
      "  decompress -- <function>\n",
      "  DecompIO -- <class 'DecompIO'>\n"
     ]
    }
   ],
   "source": [
    "import utime\n",
    "help(utime)\n",
    "\n",
    "import uzlib\n",
    "help(uzlib)\n",
    "\n",
    "#print(gc.mem_free())"
   ]
  },
  {
   "cell_type": "code",
   "execution_count": 6,
   "id": "guilty-purple",
   "metadata": {},
   "outputs": [
    {
     "name": "stdout",
     "output_type": "stream",
     "text": [
      "object <module 'umachine'> is of type module\n",
      "  __name__ -- umachine\n",
      "  unique_id -- <function>\n",
      "  soft_reset -- <function>\n",
      "  reset -- <function>\n",
      "  reset_cause -- <function>\n",
      "  bootloader -- <function>\n",
      "  freq -- <function>\n",
      "  idle -- <function>\n",
      "  lightsleep -- <function>\n",
      "  deepsleep -- <function>\n",
      "  disable_irq -- <function>\n",
      "  enable_irq -- <function>\n",
      "  time_pulse_us -- <function>\n",
      "  mem8 -- <8-bit memory>\n",
      "  mem16 -- <16-bit memory>\n",
      "  mem32 -- <32-bit memory>\n",
      "  ADC -- <class 'ADC'>\n",
      "  I2C -- <class 'I2C'>\n",
      "  SoftI2C -- <class 'SoftI2C'>\n",
      "  Pin -- <class 'Pin'>\n",
      "  PWM -- <class 'PWM'>\n",
      "  SPI -- <class 'SPI'>\n",
      "  SoftSPI -- <class 'SoftSPI'>\n",
      "  Timer -- <class 'Timer'>\n",
      "  UART -- <class 'UART'>\n",
      "  WDT -- <class 'WDT'>\n",
      "  PWRON_RESET -- 1\n",
      "  WDT_RESET -- 3\n"
     ]
    }
   ],
   "source": [
    "import machine\n",
    "help(machine)"
   ]
  },
  {
   "cell_type": "code",
   "execution_count": 7,
   "id": "engaging-bernard",
   "metadata": {},
   "outputs": [
    {
     "name": "stdout",
     "output_type": "stream",
     "text": [
      "object <class 'Pin'> is of type type\n",
      "  init -- <function>\n",
      "  value -- <function>\n",
      "  low -- <function>\n",
      "  high -- <function>\n",
      "  off -- <function>\n",
      "  on -- <function>\n",
      "  toggle -- <function>\n",
      "  irq -- <function>\n",
      "  IN -- 0\n",
      "  OUT -- 1\n",
      "  OPEN_DRAIN -- 2\n",
      "  ALT -- 3\n",
      "  PULL_UP -- 1\n",
      "  PULL_DOWN -- 2\n",
      "  IRQ_RISING -- 8\n",
      "  IRQ_FALLING -- 4\n"
     ]
    }
   ],
   "source": [
    "help(machine.Pin)"
   ]
  },
  {
   "cell_type": "code",
   "execution_count": null,
   "id": "labeled-limit",
   "metadata": {},
   "outputs": [],
   "source": [
    "# allgmeine zum Filesystem\n",
    "import os\n",
    "help(os)\n",
    "os.chdir(\"/\")\n",
    "print(os.listdir())\n",
    "print(os.chdir(\"lib\"))\n",
    "print(os.listdir())\n"
   ]
  },
  {
   "cell_type": "raw",
   "id": "unavailable-snapshot",
   "metadata": {},
   "source": []
  },
  {
   "cell_type": "code",
   "execution_count": null,
   "id": "appropriate-drinking",
   "metadata": {},
   "outputs": [],
   "source": []
  }
 ],
 "metadata": {
  "kernelspec": {
   "display_name": "MicroPython - USB",
   "language": "micropython",
   "name": "micropython"
  },
  "language_info": {
   "codemirror_mode": "python",
   "file_extension": ".py",
   "mimetype": "text/python",
   "name": "micropython"
  }
 },
 "nbformat": 4,
 "nbformat_minor": 5
}
