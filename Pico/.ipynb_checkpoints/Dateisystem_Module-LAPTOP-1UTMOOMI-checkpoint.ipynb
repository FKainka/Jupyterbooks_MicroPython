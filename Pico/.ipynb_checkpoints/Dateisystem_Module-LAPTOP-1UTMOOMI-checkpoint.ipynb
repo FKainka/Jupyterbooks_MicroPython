{
 "cells": [
  {
   "cell_type": "markdown",
   "id": "satisfied-plasma",
   "metadata": {},
   "source": [
    "# Dateisystem und Module\n",
    "* *__Board: RPi Pico__*\n",
    "* *__Firmware: Micropython 1.14 (2021-02-05)__*\n",
    "* *__Kernel: MicroPyhton - USB__*"
   ]
  },
  {
   "cell_type": "markdown",
   "id": "african-hampshire",
   "metadata": {},
   "source": [
    "# Connect"
   ]
  },
  {
   "cell_type": "code",
   "execution_count": 136,
   "id": "japanese-craps",
   "metadata": {},
   "outputs": [
    {
     "name": "stdout",
     "output_type": "stream",
     "text": [
      "serial exception on close WriteFile failed (PermissionError(13, 'Das Gerät erkennt den Befehl nicht.', None, 22))\n",
      "\u001b[34mConnecting to --port=COM4 --baud=115200 \u001b[0m\n",
      "\u001b[34mReady.\n",
      "\u001b[0m"
     ]
    }
   ],
   "source": [
    "%serialconnect"
   ]
  },
  {
   "cell_type": "markdown",
   "id": "indian-interstate",
   "metadata": {},
   "source": [
    "# Dateisystem"
   ]
  },
  {
   "cell_type": "code",
   "execution_count": 113,
   "id": "drawn-issue",
   "metadata": {},
   "outputs": [
    {
     "name": "stdout",
     "output_type": "stream",
     "text": [
      "__main__          gc                uasyncio/event    ujson\n",
      "_boot             machine           uasyncio/funcs    uos\n",
      "_onewire          math              uasyncio/lock     urandom\n",
      "_rp2              micropython       uasyncio/stream   ure\n",
      "_thread           onewire           ubinascii         uselect\n",
      "_uasyncio         rp2               ucollections      ustruct\n",
      "builtins          uarray            uctypes           usys\n",
      "ds18x20           uasyncio/__init__ uhashlib          utime\n",
      "framebuf          uasyncio/core     uio               uzlib\n",
      "Plus any modules on the filesystem\n",
      "object <module 'uos'> is of type module\n",
      "  __name__ -- uos\n",
      "  uname -- <function>\n",
      "  chdir -- <function>\n",
      "  getcwd -- <function>\n",
      "  listdir -- <function>\n",
      "  mkdir -- <function>\n",
      "  remove -- <function>\n",
      "  rename -- <function>\n",
      "  rmdir -- <function>\n",
      "  stat -- <function>\n",
      "  statvfs -- <function>\n",
      "  ilistdir -- <function>\n",
      "  mount -- <function>\n",
      "  umount -- <function>\n",
      "  VfsLfs2 -- <class 'VfsLfs2'>\n"
     ]
    }
   ],
   "source": [
    "help(\"modules\")\n",
    "import os # das gleiche wie import uos\n",
    "help(os)"
   ]
  },
  {
   "cell_type": "code",
   "execution_count": 112,
   "id": "artistic-istanbul",
   "metadata": {},
   "outputs": [
    {
     "name": "stderr",
     "output_type": "stream",
     "text": [
      "Traceback (most recent call last):\n",
      "  File \"<stdin>\", line 2, in <module>\n",
      "NameError: name 'os' isn't defined\n"
     ]
    }
   ],
   "source": [
    "# Dateisystem Status\n",
    "print(os.uname())  # Informationen über den Controller und Betriebssystem\n",
    "\n",
    "\"\"\"\n",
    "f_bsize – file system block size\n",
    "\n",
    "f_frsize – fragment size\n",
    "\n",
    "f_blocks – size of fs in f_frsize units\n",
    "\n",
    "f_bfree – number of free blocks\n",
    "\n",
    "f_bavail – number of free blocks for unprivileged users\n",
    "\n",
    "f_files – number of inodes\n",
    "\n",
    "f_ffree – number of free inodes\n",
    "\n",
    "f_favail – number of free inodes for unprivileged users\n",
    "\n",
    "f_flag – mount flags\n",
    "\n",
    "f_namemax – maximum filename length\n",
    "\"\"\"\n",
    "print(os.statvfs(\"/\"))   # Status des Dateisystems\n",
    "print(os.stat(\"/\"))      # Status des Ordners/der Datei"
   ]
  },
  {
   "cell_type": "markdown",
   "id": "direct-pixel",
   "metadata": {},
   "source": [
    "## Dateisystem 1 (uos-Modul)"
   ]
  },
  {
   "cell_type": "code",
   "execution_count": 267,
   "id": "threaded-wesley",
   "metadata": {},
   "outputs": [
    {
     "name": "stdout",
     "output_type": "stream",
     "text": [
      "[]\n",
      "['testdir']\n",
      "/testdir\n",
      "[]\n",
      "['testdir']\n"
     ]
    }
   ],
   "source": [
    "# Umgang mit dem Dateisystem #1\n",
    "import os,sys # Für die Fehlermeldungen\n",
    "\n",
    "os.chdir(\"/\")   # In den Rootodner wechseln\n",
    "print(os.listdir())   # Dateien und Ordner aufzeigen\n",
    "\n",
    "try:\n",
    "    os.mkdir(\"testdir\")    # Ordner erstellen\n",
    "except OSError as err:\n",
    "    sys.print_exception(err)  # OSError17: Datei existiert bereits\n",
    "    \n",
    "print(os.listdir())\n",
    "os.chdir(\"testdir\")        # Ordner wechseln\n",
    "print(os.getcwd())         # Aktuellen Ordner ausgeben\n",
    "\n",
    "\n",
    "print(os.listdir())\n",
    "print(os.listdir(\"/\"))     # Dateien und Ordner aufzeigen (fester Pfad)"
   ]
  },
  {
   "cell_type": "markdown",
   "id": "numerical-listening",
   "metadata": {},
   "source": [
    "## Dateisystem (Jupyterlabs & MicroPython Kernel)"
   ]
  },
  {
   "cell_type": "markdown",
   "id": "removable-harvey",
   "metadata": {},
   "source": [
    "### Befehle"
   ]
  },
  {
   "cell_type": "code",
   "execution_count": 268,
   "id": "studied-pierre",
   "metadata": {},
   "outputs": [
    {
     "name": "stdout",
     "output_type": "stream",
     "text": [
      "%capture [--quiet] [--QUIET] outputfilename\n",
      "    records output to a file\n",
      "\n",
      "%comment\n",
      "    print this into output\n",
      "\n",
      "%disconnect [--raw]\n",
      "    disconnects from web/serial connection\n",
      "\n",
      "%esptool [--port PORT] {erase,esp32,esp8266} [binfile]\n",
      "    commands for flashing your esp-device\n",
      "\n",
      "%fetchfile [--binary] [--print] [--load] [--quiet] [--QUIET] sourcefilename [destinationfilename]\n",
      "    fetch and save a file from the device\n",
      "\n",
      "%ls [--recurse] [dirname]\n",
      "    list files on the device\n",
      "\n",
      "%lsmagic\n",
      "    list magic commands\n",
      "\n",
      "%mpy-cross [--set-exe SET_EXE] [pyfile]\n",
      "    cross-compile a .py file to a .mpy file\n",
      "\n",
      "%readbytes [--binary]\n",
      "    does serial.read_all()\n",
      "\n",
      "%rebootdevice\n",
      "    reboots device\n",
      "\n",
      "%sendtofile [--append] [--mkdir] [--binary] [--execute] [--source [SOURCE]] [--quiet] [--QUIET]\n",
      "                   [destinationfilename]\n",
      "    send cell contents or file/direcectory to the device\n",
      "\n",
      "%serialconnect [--raw] [--port PORT] [--baud BAUD] [--verbose]\n",
      "    connects to a device over USB wire\n",
      "\n",
      "%socketconnect [--raw] ipnumber portnumber\n",
      "    connects to a socket of a device over wifi\n",
      "\n",
      "%suppressendcode\n",
      "    doesn't send x04 or wait to read after sending the contents of the cell\n",
      "  (assists for debugging using %writebytes and %readbytes)\n",
      "\n",
      "%websocketconnect [--raw] [--password PASSWORD] [--verbose] [websocketurl]\n",
      "    connects to the webREPL websocket of an ESP8266 over wifi\n",
      "    websocketurl defaults to ws://192.168.4.1:8266 but be sure to be connected\n",
      "\n",
      "%writebytes [--binary] [--verbose] stringtosend\n",
      "    does serial.write() of the python quoted string given\n",
      "\n",
      "%%writefile [--append] [--execute] destinationfilename\n",
      "    write contents of cell to a file\n",
      "\n"
     ]
    }
   ],
   "source": [
    "%lsmagic"
   ]
  },
  {
   "cell_type": "code",
   "execution_count": null,
   "id": "square-insulin",
   "metadata": {},
   "outputs": [
    {
     "name": "stdout",
     "output_type": "stream",
     "text": [
      "Listing directory '/'.\n",
      "             testdir/\n",
      "\n",
      "testdir:\n"
     ]
    },
    {
     "name": "stderr",
     "output_type": "stream",
     "text": [
      ">>"
     ]
    }
   ],
   "source": [
    "%ls \"/\"  --recurse"
   ]
  },
  {
   "cell_type": "code",
   "execution_count": 286,
   "id": "described-blast",
   "metadata": {},
   "outputs": [
    {
     "name": "stdout",
     "output_type": "stream",
     "text": [
      "Listing directory '/testdir'.\n",
      "             testdir/testdir/\n"
     ]
    }
   ],
   "source": [
    "%ls \"/testdir\""
   ]
  },
  {
   "cell_type": "markdown",
   "id": "imperial-expansion",
   "metadata": {},
   "source": [
    "### Sendtofile"
   ]
  },
  {
   "cell_type": "raw",
   "id": "geological-language",
   "metadata": {},
   "source": [
    "%sendtofile [--append] [--mkdir] [--binary] [--execute] [--source [SOURCE]] [--quiet] [--QUIET]\n",
    "                   [destinationfilename]\n",
    "    send cell contents or file/direcectory to the device"
   ]
  },
  {
   "cell_type": "code",
   "execution_count": 290,
   "id": "challenging-logging",
   "metadata": {},
   "outputs": [
    {
     "name": "stdout",
     "output_type": "stream",
     "text": [
      "Sent 1 lines (27 bytes) to /testdir/testfile.txt.\n"
     ]
    }
   ],
   "source": [
    "%sendtofile \"/testdir/testfile.txt\" --mkdir\n",
    "Dies kommt in die Testdatei"
   ]
  },
  {
   "cell_type": "code",
   "execution_count": null,
   "id": "boring-taylor",
   "metadata": {},
   "outputs": [
    {
     "name": "stdout",
     "output_type": "stream",
     "text": [
      "Listing directory '/'.\n",
      "             testdir/\n",
      "       32    testfile2.txt\n",
      "\n",
      "testdir:\n",
      "             testdir/testdir/\n",
      "       27    testdir/testfile.txt\n",
      "\n",
      "testdir/testdir:\n"
     ]
    },
    {
     "name": "stderr",
     "output_type": "stream",
     "text": [
      ">>"
     ]
    }
   ],
   "source": [
    "%ls \"/\"  --recurse"
   ]
  },
  {
   "cell_type": "code",
   "execution_count": 292,
   "id": "defensive-plastic",
   "metadata": {},
   "outputs": [
    {
     "name": "stdout",
     "output_type": "stream",
     "text": [
      "Sent 1 lines (35 bytes) to /testdir/testfile.txt.\n"
     ]
    }
   ],
   "source": [
    "%sendtofile \"/testdir/testfile.txt\" --append\n",
    "Dies wird der Testdatei hinzugefügt"
   ]
  },
  {
   "cell_type": "code",
   "execution_count": 293,
   "id": "defensive-specialist",
   "metadata": {},
   "outputs": [
    {
     "name": "stdout",
     "output_type": "stream",
     "text": [
      "Sent 1 lines (32 bytes) to /testdir/testfile.txt.\n",
      "Hallo from testfile.txt\n"
     ]
    }
   ],
   "source": [
    "%sendtofile \"/testdir/testfile.txt\" --execute\n",
    "print(\"Hallo from testfile.txt\")"
   ]
  },
  {
   "cell_type": "markdown",
   "id": "selective-invitation",
   "metadata": {},
   "source": [
    "### Fetchfile"
   ]
  },
  {
   "cell_type": "raw",
   "id": "solved-therapy",
   "metadata": {},
   "source": [
    "%fetchfile [--binary] [--print] [--load] [--quiet] [--QUIET] sourcefilename [destinationfilename]\n",
    "    fetch and save a file from the device"
   ]
  },
  {
   "cell_type": "code",
   "execution_count": 294,
   "id": "particular-finland",
   "metadata": {},
   "outputs": [
    {
     "name": "stdout",
     "output_type": "stream",
     "text": [
      "print(\"Hallo from testfile.txt\")"
     ]
    }
   ],
   "source": [
    "%fetchfile --print \"/testdir/testfile.txt\""
   ]
  },
  {
   "cell_type": "code",
   "execution_count": null,
   "id": "electronic-terrace",
   "metadata": {},
   "outputs": [
    {
     "name": "stdout",
     "output_type": "stream",
     "text": [
      "Fetched 32=32 bytes from /testdir/testfile.txt.\n",
      "Saving file to 'testfile.txt'"
     ]
    }
   ],
   "source": [
    "%fetchfile \"/testdir/testfile.txt\""
   ]
  },
  {
   "cell_type": "code",
   "execution_count": 296,
   "id": "possible-engineer",
   "metadata": {},
   "outputs": [
    {
     "name": "stdout",
     "output_type": "stream",
     "text": [
      "Hallo from testfile.txt\n"
     ]
    }
   ],
   "source": [
    "#%fetchfile /testdir/testfile.txt --load\n",
    "\n",
    "print(\"Hallo from testfile.txt\")"
   ]
  },
  {
   "cell_type": "markdown",
   "id": "noble-daughter",
   "metadata": {},
   "source": [
    "## Dateisystem 2 (uos-Modul)"
   ]
  },
  {
   "cell_type": "code",
   "execution_count": 297,
   "id": "effective-philadelphia",
   "metadata": {},
   "outputs": [],
   "source": [
    "import os,sys \n",
    "\n",
    "os.rename(\"/testdir/testfile.txt\",\"/testdir/testfile2.txt\") # Umbennen, kann auch verschieben sein!"
   ]
  },
  {
   "cell_type": "code",
   "execution_count": null,
   "id": "parallel-brand",
   "metadata": {},
   "outputs": [
    {
     "name": "stdout",
     "output_type": "stream",
     "text": [
      "Listing directory '/'.\n",
      "             testdir/\n",
      "       32    testfile2.txt\n",
      "\n",
      "testdir:\n",
      "             testdir/testdir/\n",
      "\n",
      "testdir/testdir:\n"
     ]
    },
    {
     "name": "stderr",
     "output_type": "stream",
     "text": [
      ">>"
     ]
    }
   ],
   "source": [
    "%ls \"/\" --recurse"
   ]
  },
  {
   "cell_type": "code",
   "execution_count": 303,
   "id": "creative-necessity",
   "metadata": {},
   "outputs": [
    {
     "name": "stderr",
     "output_type": "stream",
     "text": [
      "Traceback (most recent call last):\n",
      "  File \"<stdin>\", line 1, in <module>\n",
      "OSError: 2\n"
     ]
    }
   ],
   "source": [
    "os.rename(\"/testdir/testfile2.txt\",\"/testfile2.txt\")    # Umbennen, kann auch verschieben sein!"
   ]
  },
  {
   "cell_type": "code",
   "execution_count": null,
   "id": "heard-maple",
   "metadata": {},
   "outputs": [
    {
     "name": "stdout",
     "output_type": "stream",
     "text": [
      "Listing directory '/'.\n",
      "             testdir/\n",
      "       32    testfile2.txt\n",
      "\n",
      "testdir:\n",
      "             testdir/testdir/\n",
      "\n",
      "testdir/testdir:\n"
     ]
    },
    {
     "name": "stderr",
     "output_type": "stream",
     "text": [
      ">>"
     ]
    }
   ],
   "source": [
    "%ls \"/\" --recurse"
   ]
  },
  {
   "cell_type": "code",
   "execution_count": 305,
   "id": "automated-cosmetic",
   "metadata": {},
   "outputs": [],
   "source": [
    "os.rename(\"/testfile2.txt\",\"testdir/testfile2.txt\")    # Umbennen, kann auch verschieben sein!"
   ]
  },
  {
   "cell_type": "code",
   "execution_count": 306,
   "id": "editorial-costume",
   "metadata": {},
   "outputs": [
    {
     "name": "stdout",
     "output_type": "stream",
     "text": [
      "Listing directory '/'.\n",
      "             testdir/\n",
      "\n",
      "testdir:\n",
      "             testdir/testdir/\n",
      "\n",
      "testdir/testdir:\n",
      "       32    testdir/testdir/testfile2.txt\n"
     ]
    }
   ],
   "source": [
    "%ls \"/\" --recurse"
   ]
  },
  {
   "cell_type": "code",
   "execution_count": 307,
   "id": "fresh-charm",
   "metadata": {},
   "outputs": [
    {
     "name": "stdout",
     "output_type": "stream",
     "text": [
      "Traceback (most recent call last):\n",
      "  File \"<stdin>\", line 2, in <module>\n",
      "OSError: 2\n",
      "Traceback (most recent call last):\n",
      "  File \"<stdin>\", line 7, in <module>\n",
      "OSError: 39\n"
     ]
    }
   ],
   "source": [
    "try:\n",
    "    os.remove(\"/testdir/testfile2.txt\")   # Datei löschen \n",
    "except OSError as err:\n",
    "    sys.print_exception(err)  # OSError2: Ordner/Datei nicht gefunden\n",
    "\n",
    "try:\n",
    "    os.rmdir(\"/testdir\")   # Ordner löschen\n",
    "except OSError as err:\n",
    "    sys.print_exception(err)  # OSError39: Ordner nicht leer"
   ]
  },
  {
   "cell_type": "markdown",
   "id": "everyday-statistics",
   "metadata": {},
   "source": [
    "### Rekursives Löschen"
   ]
  },
  {
   "cell_type": "code",
   "execution_count": null,
   "id": "innocent-lodge",
   "metadata": {},
   "outputs": [],
   "source": [
    "# Beispiel zum rekursiven Löschen von Dateien und Ordnern in einem Verzeichniss\n",
    "import os,sys \n",
    "def rmtree(dirname):\n",
    "    os.chdir(dirname)\n",
    "    it = os.ilistdir()    # Iterator\n",
    "    \n",
    "    while True:\n",
    "        try:\n",
    "            file_or_dir = next(it)\n",
    "            if file_or_dir[1] == 0x8000: # Wenn Datei -> löschen\n",
    "                os.remove(os.getcwd()+\"/\"+file_or_dir[0])\n",
    "            elif file_or_dir[1] == 0x4000:\n",
    "                try:\n",
    "                    os.rmdir(os.getcwd()+\"/\"+file_or_dir[0])                \n",
    "                except OSError as err:\n",
    "                    if err.args[0] == 39:      # OSError39: Ordner nicht leer\n",
    "                        rmtree(file_or_dir[0]) # reursiver Aufruf\n",
    "                        os.chdir(\"..\")         # zurück in Verzeichniss\n",
    "                        os.rmdir(os.getcwd()+\"/\"+file_or_dir[0]) # Löschen im zweiten Anlauf\n",
    "        except StopIteration: \n",
    "            break\n",
    "    \n",
    "rmtree(\"/\")"
   ]
  },
  {
   "cell_type": "code",
   "execution_count": null,
   "id": "cloudy-niagara",
   "metadata": {},
   "outputs": [
    {
     "name": "stdout",
     "output_type": "stream",
     "text": [
      "Listing directory '/'.\n"
     ]
    },
    {
     "name": "stderr",
     "output_type": "stream",
     "text": [
      ">>"
     ]
    }
   ],
   "source": [
    "%ls \"/\"  --recurse"
   ]
  },
  {
   "cell_type": "markdown",
   "id": "colonial-printer",
   "metadata": {},
   "source": [
    "# Module (ToDo)"
   ]
  },
  {
   "cell_type": "markdown",
   "id": "existing-reading",
   "metadata": {},
   "source": [
    "# Disconnect"
   ]
  },
  {
   "cell_type": "code",
   "execution_count": 41,
   "id": "known-habitat",
   "metadata": {},
   "outputs": [
    {
     "name": "stdout",
     "output_type": "stream",
     "text": [
      "\u001b[34mattempt to exit paste mode\n",
      "\u001b[0m\u001b[34m[\\r\\x03\\x02] \u001b[0mb'\\r\\nMicroPython v1.14 on 2021-02-05; Raspberry Pi Pico with RP2040\\r\\nType \"help()\" for more information.\\r\\n>>> '\u001b[34m\n",
      "Closing serial Serial<id=0x21b33ea3340, open=True>(port='COM4', baudrate=115200, bytesize=8, parity='N', stopbits=1, timeout=0.5, xonxoff=False, rtscts=False, dsrdtr=False)\n",
      "\u001b[0m"
     ]
    }
   ],
   "source": [
    "%disconnect"
   ]
  }
 ],
 "metadata": {
  "kernelspec": {
   "display_name": "MicroPython - USB",
   "language": "micropython",
   "name": "micropython"
  },
  "language_info": {
   "codemirror_mode": "python",
   "file_extension": ".py",
   "mimetype": "text/python",
   "name": "micropython"
  }
 },
 "nbformat": 4,
 "nbformat_minor": 5
}
