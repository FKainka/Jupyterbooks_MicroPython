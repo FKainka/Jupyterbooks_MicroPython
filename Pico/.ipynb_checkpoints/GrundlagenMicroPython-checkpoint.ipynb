{
 "cells": [
  {
   "cell_type": "markdown",
   "id": "young-flour",
   "metadata": {},
   "source": [
    "# Python / MicroPython Einstieg\n",
    "\n",
    "* *__Board: RPi Pico__*\n",
    "* *__Firmware: Micropython 1.14 (2021-02-05)__*\n",
    "* *__Kernel: MicroPyhton - USB__*\n",
    "\n",
    "Dieses Notebook soll als Einstieg in Pyhton bzw. konkret in MicroPyhton dienen. Es werden vor \n",
    "allem Grundlegende Befehle und Keywords behandelt, sowie die builtin-Funktionen und Klassen.\n",
    "\n",
    "\n",
    "### Mögliche Grundlagen Pyhton/MicroPyhton Themen\n",
    "Hier:\n",
    "- exec, eval, keywords allgemein, pass\n",
    "- Generelle Befehle\n",
    "- buildins\n",
    "- klassen : \n",
    "hasattr.\n",
    "type, isinstance\n",
    "\n",
    "### ToDo:\n",
    "    - Klassen\n",
    "    - Keywords ergänzen"
   ]
  },
  {
   "cell_type": "markdown",
   "id": "anticipated-assurance",
   "metadata": {},
   "source": [
    "# Connect"
   ]
  },
  {
   "cell_type": "code",
   "execution_count": 2,
   "id": "bronze-peeing",
   "metadata": {},
   "outputs": [
    {
     "name": "stdout",
     "output_type": "stream",
     "text": [
      "\u001b[34mConnecting to --port=COM4 --baud=115200 \u001b[0m\n",
      "\u001b[34mReady.\n",
      "\u001b[0m"
     ]
    }
   ],
   "source": [
    "%serialconnect --port=COM4"
   ]
  },
  {
   "cell_type": "markdown",
   "id": "dying-factor",
   "metadata": {},
   "source": [
    "# Erste Schritte"
   ]
  },
  {
   "cell_type": "code",
   "execution_count": 19,
   "id": "attractive-dover",
   "metadata": {},
   "outputs": [
    {
     "name": "stdout",
     "output_type": "stream",
     "text": [
      "Hello World!\n",
      "\n",
      "\n",
      "Neue Zeile\n"
     ]
    }
   ],
   "source": [
    "print(\"Hello World!\")\n",
    "print(\"\\n\")   # Sonderzeichen für neue Zeile\n",
    "print(\"Neue Zeile\")"
   ]
  },
  {
   "cell_type": "code",
   "execution_count": 10,
   "id": "checked-affair",
   "metadata": {},
   "outputs": [
    {
     "name": "stdout",
     "output_type": "stream",
     "text": [
      "Hello World\n"
     ]
    }
   ],
   "source": [
    "# Kommentare mit \n",
    "\n",
    "print(\"Hello World\") # Kommentar zu dieser Zeile\n",
    "\n",
    "# Mehrzeilige Kommentare existieren nicht in Python. Ein workaround ist die Verwendung eines mehrzeiligen Strings, da Python (auch MPython) \n",
    "# String die keiner Variable zugeordnet wurden ignoriert. \n",
    "\"\"\"\n",
    "Kommentare über mehrere Zeilen \n",
    "Kommentarzeile 1\n",
    "Kommentarzeile 2\n",
    "....\n",
    "\"\"\""
   ]
  },
  {
   "cell_type": "code",
   "execution_count": 52,
   "id": "english-transcript",
   "metadata": {},
   "outputs": [
    {
     "name": "stdout",
     "output_type": "stream",
     "text": [
      "Five is greater than two!\n",
      "Five is greater than two!\n"
     ]
    }
   ],
   "source": [
    "# Einrücken von Code-Blöcken\n",
    "if 5 > 2:\n",
    " print(\"Five is greater than two!\")  # Möglich aber kein guter Stil!\n",
    "if 5 > 2:\n",
    "        print(\"Five is greater than two!\") "
   ]
  },
  {
   "cell_type": "code",
   "execution_count": 5,
   "id": "nominated-organization",
   "metadata": {},
   "outputs": [
    {
     "name": "stdout",
     "output_type": "stream",
     "text": [
      "24\n",
      "Zeile 1\n",
      "Zeile 2\n",
      "Zeile 3\n"
     ]
    }
   ],
   "source": [
    "# Verschachteln von Befehlen\n",
    "print((3 + 5) * 3)\n",
    "\n",
    "# Mehrere Befehle in eine Zeile\n",
    "print(\"Zeile 1\");print(\"Zeile 2\");print(\"Zeile 3\")"
   ]
  },
  {
   "cell_type": "code",
   "execution_count": 116,
   "id": "cross-exposure",
   "metadata": {},
   "outputs": [
    {
     "name": "stdout",
     "output_type": "stream",
     "text": [
      "Dies ist meine Funktion\n"
     ]
    }
   ],
   "source": [
    "# Funktionen definieren\n",
    "\n",
    "#myFunction() # !! Hier kann die Funktion noch nicht aufgerufen werden\n",
    "\n",
    "def myFunction():\n",
    "    print(\"Dies ist meine Funktion\")\n",
    "\n",
    "myFunction()"
   ]
  },
  {
   "cell_type": "code",
   "execution_count": 123,
   "id": "exciting-flexibility",
   "metadata": {
    "tags": []
   },
   "outputs": [
    {
     "name": "stdout",
     "output_type": "stream",
     "text": [
      "Welcome to MicroPython!\n",
      "\n",
      "For online help please visit https://micropython.org/help/.\n",
      "\n",
      "For access to the hardware use the 'machine' module.  RP2 specific commands\n",
      "are in the 'rp2' module.\n",
      "\n",
      "Quick overview of some objects:\n",
      "  machine.Pin(pin) -- get a pin, eg machine.Pin(0)\n",
      "  machine.Pin(pin, m, [p]) -- get a pin and configure it for IO mode m, pull mode p\n",
      "    methods: init(..), value([v]), high(), low(), irq(handler)\n",
      "  machine.ADC(pin) -- make an analog object from a pin\n",
      "    methods: read_u16()\n",
      "  machine.PWM(pin) -- make a PWM object from a pin\n",
      "    methods: deinit(), freq([f]), duty_u16([d]), duty_ns([d])\n",
      "  machine.I2C(id) -- create an I2C object (id=0,1)\n",
      "    methods: readfrom(addr, buf, stop=True), writeto(addr, buf, stop=True)\n",
      "             readfrom_mem(addr, memaddr, arg), writeto_mem(addr, memaddr, arg)\n",
      "  machine.SPI(id, baudrate=1000000) -- create an SPI object (id=0,1)\n",
      "    methods: read(nbytes, write=0x00), write(buf), write_readinto(wr_buf, rd_buf)\n",
      "  machine.Timer(freq, callback) -- create a software timer object\n",
      "    eg: machine.Timer(freq=1, callback=lambda t:print(t))\n",
      "\n",
      "Pins are numbered 0-29, and 26-29 have ADC capabilities\n",
      "Pin IO modes are: Pin.IN, Pin.OUT, Pin.ALT\n",
      "Pin pull modes are: Pin.PULL_UP, Pin.PULL_DOWN\n",
      "\n",
      "Useful control commands:\n",
      "  CTRL-C -- interrupt a running program\n",
      "  CTRL-D -- on a blank line, do a soft reset of the board\n",
      "  CTRL-E -- on a blank line, enter paste mode\n",
      "\n",
      "For further help on a specific object, type help(obj)\n",
      "For a list of available modules, type help('modules')\n",
      "__main__          gc                uasyncio/funcs    uos\n",
      "_boot             machine           uasyncio/lock     urandom\n",
      "_onewire          math              uasyncio/stream   ure\n",
      "_rp2              micropython       ubinascii         uselect\n",
      "_thread           onewire           ucollections      ustruct\n",
      "_uasyncio         rp2               uctypes           usys\n",
      "builtins          uasyncio/__init__ uhashlib          utime\n",
      "ds18x20           uasyncio/core     uio               uzlib\n",
      "framebuf          uasyncio/event    ujson\n",
      "Plus any modules on the filesystem\n",
      "object <module 'builtins'> is of type module\n",
      "  __name__ -- builtins\n",
      "  __build_class__ -- <function>\n",
      "  __import__ -- <function>\n",
      "  __repl_print__ -- <function>\n",
      "  bool -- <class 'bool'>\n",
      "  bytes -- <class 'bytes'>\n",
      "  bytearray -- <class 'bytearray'>\n",
      "  complex -- <class 'complex'>\n",
      "  dict -- <class 'dict'>\n",
      "  enumerate -- <class 'enumerate'>\n",
      "  filter -- <class 'filter'>\n",
      "  float -- <class 'float'>\n",
      "  int -- <class 'int'>\n",
      "  list -- <class 'list'>\n",
      "  map -- <class 'map'>\n",
      "  memoryview -- <class 'memoryview'>\n",
      "  object -- <class 'object'>\n",
      "  property -- <class 'property'>\n",
      "  range -- <class 'range'>\n",
      "  reversed -- <class 'reversed'>\n",
      "  set -- <class 'set'>\n",
      "  slice -- <class 'slice'>\n",
      "  str -- <class 'str'>\n",
      "  super -- <class 'super'>\n",
      "  tuple -- <class 'tuple'>\n",
      "  type -- <class 'type'>\n",
      "  zip -- <class 'zip'>\n",
      "  classmethod -- <class 'classmethod'>\n",
      "  staticmethod -- <class 'staticmethod'>\n",
      "  Ellipsis -- Ellipsis\n",
      "  abs -- <function>\n",
      "  all -- <function>\n",
      "  any -- <function>\n",
      "  bin -- <function>\n",
      "  callable -- <function>\n",
      "  chr -- <function>\n",
      "  delattr -- <function>\n",
      "  dir -- <function>\n",
      "  divmod -- <function>\n",
      "  eval -- <function>\n",
      "  exec -- <function>\n",
      "  getattr -- <function>\n",
      "  setattr -- <function>\n",
      "  globals -- <function>\n",
      "  hasattr -- <function>\n",
      "  hash -- <function>\n",
      "  help -- <function>\n",
      "  hex -- <function>\n",
      "  id -- <function>\n",
      "  input -- <function>\n",
      "  isinstance -- <function>\n",
      "  issubclass -- <function>\n",
      "  iter -- <function>\n",
      "  len -- <function>\n",
      "  locals -- <function>\n",
      "  max -- <function>\n",
      "  min -- <function>\n",
      "  next -- <function>\n",
      "  oct -- <function>\n",
      "  ord -- <function>\n",
      "  pow -- <function>\n",
      "  print -- <function>\n",
      "  repr -- <function>\n",
      "  round -- <function>\n",
      "  sorted -- <function>\n",
      "  sum -- <function>\n",
      "  BaseException -- <class 'BaseException'>\n",
      "  ArithmeticError -- <class 'ArithmeticError'>\n",
      "  AssertionError -- <class 'AssertionError'>\n",
      "  AttributeError -- <class 'AttributeError'>\n",
      "  EOFError -- <class 'EOFError'>\n",
      "  Exception -- <class 'Exception'>\n",
      "  GeneratorExit -- <class 'GeneratorExit'>\n",
      "  ImportError -- <class 'ImportError'>\n",
      "  IndentationError -- <class 'IndentationError'>\n",
      "  IndexError -- <class 'IndexError'>\n",
      "  KeyboardInterrupt -- <class 'KeyboardInterrupt'>\n",
      "  KeyError -- <class 'KeyError'>\n",
      "  LookupError -- <class 'LookupError'>\n",
      "  MemoryError -- <class 'MemoryError'>\n",
      "  NameError -- <class 'NameError'>\n",
      "  NotImplementedError -- <class 'NotImplementedError'>\n",
      "  OSError -- <class 'OSError'>\n",
      "  OverflowError -- <class 'OverflowError'>\n",
      "  RuntimeError -- <class 'RuntimeError'>\n",
      "  StopAsyncIteration -- <class 'StopAsyncIteration'>\n",
      "  StopIteration -- <class 'StopIteration'>\n",
      "  SyntaxError -- <class 'SyntaxError'>\n",
      "  SystemExit -- <class 'SystemExit'>\n",
      "  TypeError -- <class 'TypeError'>\n",
      "  UnicodeError -- <class 'UnicodeError'>\n",
      "  ValueError -- <class 'ValueError'>\n",
      "  ViperTypeError -- <class 'ViperTypeError'>\n",
      "  ZeroDivisionError -- <class 'ZeroDivisionError'>\n",
      "  open -- <function>\n"
     ]
    }
   ],
   "source": [
    "# Hilfe-Funktion\n",
    "help()\n",
    "\n",
    "help(\"modules\")\n",
    "\n",
    "# Einbinden eines Modules\n",
    "import builtins\n",
    "# Hilfe zum Modul\n",
    "help(builtins)"
   ]
  },
  {
   "cell_type": "markdown",
   "id": "funny-welcome",
   "metadata": {},
   "source": [
    "# Datentypen\n",
    "\n",
    "Datentypen:\n",
    "* __Numerisch:__ int, float, complex, bool, bytes, bytearray, memoryview\n",
    "* __Text:__      str\n",
    "\n",
    "* __Listen:__ list, tuple, set, dict, frozenset, range, enumerate, \n",
    "* __Sonstiges:__ function, class"
   ]
  },
  {
   "cell_type": "markdown",
   "id": "tight-meaning",
   "metadata": {},
   "source": [
    "## Variablen "
   ]
  },
  {
   "cell_type": "code",
   "execution_count": 31,
   "id": "intermediate-bobby",
   "metadata": {},
   "outputs": [
    {
     "name": "stdout",
     "output_type": "stream",
     "text": [
      "3\n",
      "MicroPython\n"
     ]
    }
   ],
   "source": [
    "# Anders als bei z.B. C müssen Variablen nicht deklariert werden\n",
    "x = 3\n",
    "y = \"MicroPython\"\n",
    "\n",
    "print(x)\n",
    "print(y)"
   ]
  },
  {
   "cell_type": "code",
   "execution_count": 30,
   "id": "ordinary-constraint",
   "metadata": {},
   "outputs": [
    {
     "name": "stdout",
     "output_type": "stream",
     "text": [
      "['machine', 'x', 'y', 'builtins', '__name__', 'rp2']\n",
      "{'machine': <module 'umachine'>, 'x': 3, 'y': 'MicroPython', 'builtins': <module 'builtins'>, '__name__': '__main__', 'rp2': <module 'rp2'>}\n",
      "{'machine': <module 'umachine'>, 'x': 3, 'y': 'MicroPython', 'builtins': <module 'builtins'>, '__name__': '__main__', 'rp2': <module 'rp2'>}\n"
     ]
    }
   ],
   "source": [
    "# Variablen im Symbol Table (https://en.wikipedia.org/wiki/Symbol_table)\n",
    "print(dir())      # Liste von Strings\n",
    "print(locals())   # Dictionary (kann auch verändert werden)\n",
    "print(globals())  # Dictionary (kann auch verändert werden)"
   ]
  },
  {
   "cell_type": "code",
   "execution_count": 34,
   "id": "instant-portrait",
   "metadata": {},
   "outputs": [
    {
     "name": "stdout",
     "output_type": "stream",
     "text": [
      "3\n",
      "3\n"
     ]
    }
   ],
   "source": [
    "# Überschreiben einer Variable\n",
    "y = x\n",
    "print(y)\n",
    "print(x)"
   ]
  },
  {
   "cell_type": "code",
   "execution_count": 38,
   "id": "raised-provider",
   "metadata": {},
   "outputs": [
    {
     "name": "stdout",
     "output_type": "stream",
     "text": [
      "3\n",
      "['machine', 'y', 'builtins', '__name__', 'rp2']\n"
     ]
    }
   ],
   "source": [
    "# Löschen von Variablen\n",
    "# Das löschen von Variablen ist nicht umbedingt nötig -> Garbage Collector (gc)\n",
    "x = 3\n",
    "y = x\n",
    "\n",
    "del x\n",
    "# print(x) # Error!\n",
    "\n",
    "print(y)\n",
    "print(dir())"
   ]
  },
  {
   "cell_type": "code",
   "execution_count": 42,
   "id": "italian-hybrid",
   "metadata": {},
   "outputs": [
    {
     "name": "stdout",
     "output_type": "stream",
     "text": [
      "3\n",
      "<class 'int'>\n",
      "MicroPython\n",
      "<class 'str'>\n"
     ]
    }
   ],
   "source": [
    "# Variablentypen\n",
    "x = 3\n",
    "y = \"MicroPython\"\n",
    "print(x)\n",
    "print(type(x))\n",
    "print(y)\n",
    "print(type(y))"
   ]
  },
  {
   "cell_type": "code",
   "execution_count": 47,
   "id": "compact-amendment",
   "metadata": {},
   "outputs": [
    {
     "name": "stdout",
     "output_type": "stream",
     "text": [
      "3: <class 'str'>\n",
      "3: <class 'int'>\n",
      "3.0: <class 'float'>\n"
     ]
    }
   ],
   "source": [
    "# Casting von Variablen \n",
    "\n",
    "# Variablen kann ein bestimmter Typ bewust zugewiesen werden\n",
    "x = str(3)    \n",
    "y = int(3)    \n",
    "z = float(3)  \n",
    "\n",
    "print(x + \": \" + str(type(x)))       #Zusammensetzen eines Strings für eine klarere Ausgabe\n",
    "print(str(y) + \": \" + str(type(y)))  #Print kann nur Strings ausgeben, also müssen Variablen eines anderen Types als String gecastet werden\n",
    "print(str(z) + ': ' + str(type(z)))  #In Python kann ein String durch ein einfaches oder doppeltes Anführungszeichen gekennzeichnet werden"
   ]
  },
  {
   "cell_type": "code",
   "execution_count": 49,
   "id": "adult-female",
   "metadata": {},
   "outputs": [
    {
     "name": "stdout",
     "output_type": "stream",
     "text": [
      "Orange\n",
      "Banane\n",
      "Kirsche\n",
      "Orange\n",
      "Orange\n",
      "Orange\n"
     ]
    }
   ],
   "source": [
    "# Kurzschreibweisen\n",
    "\n",
    "x, y, z = \"Orange\", \"Banane\", \"Kirsche\"\n",
    "print(x)\n",
    "print(y)\n",
    "print(z)\n",
    "\n",
    "x = y = z = \"Orange\"\n",
    "print(x)\n",
    "print(y)\n",
    "print(z)\n",
    "\n",
    "del x, y, z"
   ]
  },
  {
   "cell_type": "markdown",
   "id": "empirical-outline",
   "metadata": {},
   "source": [
    "### Sichtbarkeit"
   ]
  },
  {
   "cell_type": "code",
   "execution_count": 87,
   "id": "illegal-terrorism",
   "metadata": {},
   "outputs": [
    {
     "name": "stdout",
     "output_type": "stream",
     "text": [
      "Globaler Wert: 4\n",
      "Localer Wert: 5\n",
      "{'x': 3, 'myFunc': <function myFunc at 0x2000c720>, 'myFunction': <function myFunction at 0x2000a720>, 'machine': <module 'umachine'>, '__name__': '__main__', 'builtins': <module 'builtins'>, 'rp2': <module 'rp2'>}\n",
      "3\n"
     ]
    }
   ],
   "source": [
    "# Variablen Sichtbarkeit (Scope)\n",
    "\n",
    "x = 3\n",
    "\n",
    "def myFunc():\n",
    "    x = 4\n",
    "    print(\"Globaler Wert: \" + str(x)) \n",
    "    y = 5\n",
    "    print(\"Localer Wert: \" + str(y))\n",
    "    print(locals()) # s.u.\n",
    "    \n",
    "myFunc()\n",
    "print(x)\n",
    "# print(y) #! Fehler, y ist nicht bekannt\n",
    "\n",
    "del x\n",
    "\n",
    "# locals:\n",
    "# https://github.com/micropython/micropython/wiki/Differences\n",
    "# MicroPython optimizes local variable handling and does not record or provide any introspection info for them, e.g. locals() doesn't have entries for locals."
   ]
  },
  {
   "cell_type": "code",
   "execution_count": 97,
   "id": "forward-moisture",
   "metadata": {},
   "outputs": [
    {
     "name": "stdout",
     "output_type": "stream",
     "text": [
      "Globaler Wert: 5\n",
      "Globaler Wert: 4\n"
     ]
    }
   ],
   "source": [
    "# Variablen Sichtbarkeit (Scope)\n",
    "x = 3\n",
    "\n",
    "def myFunc():\n",
    "    global y    # y existiert nun global\n",
    "    y = 5  \n",
    "    global x    # die globale Variable x wird verändert\n",
    "    x = 4  \n",
    "    \n",
    "myFunc()\n",
    "print(\"Globaler Wert: \" + str(y))\n",
    "print(\"Globaler Wert: \" + str(x))\n",
    "\n",
    "del x,y"
   ]
  },
  {
   "cell_type": "code",
   "execution_count": 6,
   "id": "confident-summary",
   "metadata": {},
   "outputs": [
    {
     "name": "stdout",
     "output_type": "stream",
     "text": [
      "<class 'function'>\n",
      "Meine Funktion\n",
      "True\n"
     ]
    }
   ],
   "source": [
    "# Funktionen als Variablen\n",
    "def myFunc():\n",
    "    print(\"Meine Funktion\")\n",
    "\n",
    "otherName = myFunc\n",
    "print(type(myFunc))\n",
    "otherName()\n",
    "print(callable(otherName))"
   ]
  },
  {
   "cell_type": "markdown",
   "id": "monthly-armor",
   "metadata": {},
   "source": [
    "## Numerische Typen"
   ]
  },
  {
   "cell_type": "code",
   "execution_count": 150,
   "id": "consistent-calculation",
   "metadata": {},
   "outputs": [],
   "source": [
    "# Boolsche Variable\n",
    "x = True\n",
    "print(str(x) + '\\t\\t' + str(type(x)) + '\\t\\t' + str(x == x))\n",
    "\n",
    "# Komplexe Variable\n",
    "x = 2j\n",
    "print(str(x) + '\\t\\t' + str(type(x)) + '\\t' + str(x*x))\n",
    "\n",
    "# Bytes\n",
    "x = bytes(1) # Anzahl an Bytes\n",
    "print(str(x) + '\\t\\t' + str(type(x)) + '\\t\\t' + str(x[0]))\n",
    "x = b\"HALLO\"  # String zu Byte \n",
    "print(str(x) + '\\t' + str(type(x)) + '\\t\\tx[1]: ' + str(x[1])) # (ASCII-Tabelle https://www.pctipp.ch/praxis/software/ascii-tabelle-sonderzeichen-1859563.html )\n",
    "print('\\t\\t\\t\\t\\tx[1] as hex: {:02x} \\t\\t x[1] as bin: \"{:08b}'.format(x[1],x[1]))\n",
    "\n",
    "# Memoryview\n",
    "y = b\"HALLO\"\n",
    "x = memoryview(y)\n",
    "print(str(x) + '\\t' + str(type(x)) + '\\t' + str(x[1]))\n",
    "\n",
    "# Bytearray\n",
    "x = bytearray(5)\n",
    "print(str(x) + '\\t' + str(type(x)))"
   ]
  },
  {
   "cell_type": "markdown",
   "id": "arranged-metadata",
   "metadata": {},
   "source": [
    "### Mathematische Funktionen"
   ]
  },
  {
   "cell_type": "code",
   "execution_count": 40,
   "id": "metallic-mineral",
   "metadata": {},
   "outputs": [
    {
     "name": "stdout",
     "output_type": "stream",
     "text": [
      "15\n",
      "-5\n",
      "3\n",
      "7.2\n",
      "7\n",
      "2.75\n",
      "-125\n",
      "-125\n",
      "-125\n"
     ]
    }
   ],
   "source": [
    "# Mathematische Funktionen\n",
    "x = 3; y = -5; z = 2.4;\n",
    "\n",
    "print(abs(x*y))  # Absolutwert (Betrag)\n",
    "print(min(x,y))  # Minimum\n",
    "print(max(x,y))  # Maximum\n",
    "\n",
    "# Runden von Werten\n",
    "print(z*x)     \n",
    "print(round(z*x)) \n",
    "print(round(2.7456,2))\n",
    "\n",
    "# Potenzen\n",
    "print(pow(y,x))\n",
    "print(y**x)\n",
    "# Schnellzuweisungen  (gilt auch für alle anderen Rechenoperationen)\n",
    "y **= x\n",
    "print(y)"
   ]
  },
  {
   "cell_type": "code",
   "execution_count": 61,
   "id": "basic-peace",
   "metadata": {},
   "outputs": [
    {
     "name": "stdout",
     "output_type": "stream",
     "text": [
      "0b11000011\n",
      "0b11000011\n",
      "-0b11000100\n",
      "0b110011\n",
      "0b11\n",
      "0b11110011\n",
      "0b11110000\n",
      "-0b11000100\n",
      "0b111100\n",
      "0b110000\n",
      "0b11001100\n"
     ]
    }
   ],
   "source": [
    "# Binäre Operationen\n",
    "a = 0b00110011\n",
    "b = 0b11000011\n",
    "\n",
    "print(bin(195));  # bin()-erzeugt einen String der Zahl binär darstellt\n",
    "print(bin(b))\n",
    "print(bin(-196))\n",
    "print(bin(a))\n",
    "\n",
    "# Und, oder, exclusiv oder\n",
    "print(bin(a&b))   \n",
    "print(bin(a|b))\n",
    "print(bin(a^b))\n",
    "\n",
    "print(bin(~b))    # ! Achtung, weil zahl mit vorzeichen interpretiert wird!\n",
    "print(bin(255-b))\n",
    "\n",
    "print(bin(b>>2))  # Shift um zwei Stellen nach rechts\n",
    "print(bin(a<<2))  # Shift um zwei Stellen nach links"
   ]
  },
  {
   "cell_type": "markdown",
   "id": "composite-facility",
   "metadata": {},
   "source": [
    "## Strings"
   ]
  },
  {
   "cell_type": "code",
   "execution_count": 52,
   "id": "covered-alpha",
   "metadata": {},
   "outputs": [
    {
     "name": "stdout",
     "output_type": "stream",
     "text": [
      "Text A\n",
      "Text B\n",
      "Mehrzeiliger Text \n",
      "Zeile 1 \n",
      "Zeile 2\n",
      "  \n",
      "\tAuch ein Mehrzeiliger Text\n",
      "Zeile 1\n",
      "Zeile 2\n",
      "\n",
      "\n"
     ]
    }
   ],
   "source": [
    "# Strings einer Variable zuweisen\n",
    "\n",
    "a = \"Text A\"\n",
    "b = 'Text B'    # Mit Sonderzeilchen \"Neue Zeile\"\n",
    "c = \"\"\"Mehrzeiliger Text \n",
    "Zeile 1 \n",
    "Zeile 2\"\"\" # Mit Sonderzeilchen \"Tabulator\"\n",
    "d = '''  \n",
    "\\tAuch ein Mehrzeiliger Text\n",
    "Zeile 1\n",
    "Zeile 2\n",
    "\n",
    "'''\n",
    "\n",
    "print(a); print(b); print(c); print(d)"
   ]
  },
  {
   "cell_type": "code",
   "execution_count": 24,
   "id": "capable-colon",
   "metadata": {},
   "outputs": [
    {
     "name": "stdout",
     "output_type": "stream",
     "text": [
      "A\n",
      "6\n"
     ]
    }
   ],
   "source": [
    "# Strings sind nicht anderes als eine Liste (vgl. Array) von Zeichen\n",
    "\n",
    "print(a[5])\n",
    "#print(a[6]) #! Fehler: IndexError: string index out of range\n",
    "\n",
    "print(len(a))  #Länge des Strings, index beginnt mit 0"
   ]
  },
  {
   "cell_type": "code",
   "execution_count": 25,
   "id": "expired-benjamin",
   "metadata": {},
   "outputs": [
    {
     "name": "stdout",
     "output_type": "stream",
     "text": [
      "True\n",
      "False\n"
     ]
    }
   ],
   "source": [
    "# Prüfen ob ein Teilstring enthalten ist\n",
    "\n",
    "print(\"Text\" in c)\n",
    "print(\"Text\" not in c)"
   ]
  },
  {
   "cell_type": "code",
   "execution_count": 27,
   "id": "incredible-primary",
   "metadata": {},
   "outputs": [
    {
     "name": "stdout",
     "output_type": "stream",
     "text": [
      "Text\n",
      "Text\n",
      "A\n",
      "A\n"
     ]
    }
   ],
   "source": [
    "# Teilstrings (vgl. Listen)\n",
    "\n",
    "print(a[0:4])   # Teilstring von Index 0 bis 4\n",
    "print(a[:4])    # Teilstring von Index 0 (automatisch weil nicht angegeben) bis 4\n",
    "print(a[5:])    # Teilstring von Index 5 bis Ende (automatisch weil nicht angegeben)\n",
    "print(a[-1:])   # Teilstring mit negativen Indizes (Von -1 bis Ende des Strings)"
   ]
  },
  {
   "cell_type": "code",
   "execution_count": 15,
   "id": "boxed-extraction",
   "metadata": {},
   "outputs": [
    {
     "name": "stdout",
     "output_type": "stream",
     "text": [
      "object <class 'str'> is of type type\n",
      "  encode -- <function>\n",
      "  find -- <function>\n",
      "  rfind -- <function>\n",
      "  index -- <function>\n",
      "  rindex -- <function>\n",
      "  join -- <function>\n",
      "  split -- <function>\n",
      "  rsplit -- <function>\n",
      "  startswith -- <function>\n",
      "  endswith -- <function>\n",
      "  strip -- <function>\n",
      "  lstrip -- <function>\n",
      "  rstrip -- <function>\n",
      "  format -- <function>\n",
      "  replace -- <function>\n",
      "  count -- <function>\n",
      "  lower -- <function>\n",
      "  upper -- <function>\n",
      "  isspace -- <function>\n",
      "  isalpha -- <function>\n",
      "  isdigit -- <function>\n",
      "  isupper -- <function>\n",
      "  islower -- <function>\n"
     ]
    }
   ],
   "source": [
    "# String Funktionen\n",
    "\n",
    "help(str)"
   ]
  },
  {
   "cell_type": "code",
   "execution_count": 78,
   "id": "comic-tenant",
   "metadata": {},
   "outputs": [
    {
     "name": "stdout",
     "output_type": "stream",
     "text": [
      "TEXT A\n",
      "text b\n",
      "True\n",
      "True\n",
      "8\n",
      "True\n",
      "True\n",
      "Mehrzeiliger  2\n",
      "True\n",
      "True\n",
      "True\n"
     ]
    }
   ],
   "source": [
    "# String Funktionen #1 \n",
    "\n",
    "print(a.upper())\n",
    "print(b.lower())\n",
    "\n",
    "print(a.lower().islower())\n",
    "print(b.upper().isupper())\n",
    "\n",
    "print(a.startswith(\"Text\"))\n",
    "print(b.endswith(\"B\"))\n",
    "\n",
    "e = c[:12]; f = d[:2]; g= c[-1:]\n",
    "print(e+f+g)      # Einfache Zusammensetzung (Konkatenation, verkettung) von Strings\n",
    "\n",
    "print(e.isalpha())   # Besteht nur aus Zeichen des Alphabets\n",
    "print(f.isspace())   # ist ein oder mehr Leerzeichen\n",
    "print(g.isdigit())   # ist eine Zahl\n"
   ]
  },
  {
   "cell_type": "code",
   "execution_count": 85,
   "id": "mental-scott",
   "metadata": {},
   "outputs": [
    {
     "name": "stdout",
     "output_type": "stream",
     "text": [
      "Mehrzeiliger Text \n",
      "Zeile 1 \n",
      "Zeile 2\n",
      "8\n",
      "19\n",
      "28\n",
      "-1\n",
      "19\n",
      "28\n"
     ]
    },
    {
     "name": "stderr",
     "output_type": "stream",
     "text": [
      "Traceback (most recent call last):\n",
      "  File \"<stdin>\", line 12, in <module>\n",
      "ValueError: substring not found\n"
     ]
    }
   ],
   "source": [
    "# String Funktionen #2\n",
    "print(c)\n",
    "print(c.count(\"e\"))      # Zähle wieviele von Teilstrings existieren\n",
    "\n",
    "# string.find(value, start, end)\n",
    "print(c.find(\"Zeile\"))   # Gib die erste Position von Teilstring aus\n",
    "print(c.rfind(\"Zeile\"))  # Gib die erste Position von Teilstring aus (von beginnend mit dem hinteren Teil des Strings)\n",
    "print(c.find(\"Gibts nicht\"))\n",
    "# string.index(value, start, end)\n",
    "print(c.index(\"Zeile\"))   # Gib die erste Position von Teilstring aus\n",
    "print(c.rindex(\"Zeile\"))   # Gib die erste Position von Teilstring aus\n",
    "print(c.index(\"Gibts nicht\"))  # Hier ist der einzige Unterschied: ValueError statt -1"
   ]
  },
  {
   "cell_type": "code",
   "execution_count": 73,
   "id": "owned-institution",
   "metadata": {},
   "outputs": [
    {
     "name": "stdout",
     "output_type": "stream",
     "text": [
      "  \n",
      "\tAuch ein Mehrzeiliger Text\n",
      "Zeile 1\n",
      "Zeile 2\n",
      "\n",
      "\n",
      "Auch ein Mehrzeiliger Text\n",
      "Zeile 1\n",
      "Zeile 2\n",
      "Auch ein Mehrzeiliger Text\n",
      "Zeile 1\n",
      "Zeile 2\n",
      "\n",
      "\n",
      "  \n",
      "\tAuch ein Mehrzeiliger Text\n",
      "Zeile 1\n",
      "Zeile 2\n"
     ]
    }
   ],
   "source": [
    "# String Funktionen #3\n",
    "print(d)\n",
    "\n",
    "# string.split(separator, maxsplit)\n",
    "print(d.strip())        # Leerzeichen am Anfang und am Ende des Strings werden entfernt\n",
    "print(d.lstrip())       # Leerzeichen am Anfang des Strings werden entfernt\n",
    "print(d.rstrip())       # Leerzeichen am Ende des Strings werden entfernt"
   ]
  },
  {
   "cell_type": "code",
   "execution_count": 103,
   "id": "alien-falls",
   "metadata": {},
   "outputs": [
    {
     "name": "stdout",
     "output_type": "stream",
     "text": [
      "String A\n",
      "['Mehrzeiliger Text ', 'Zeile 1 ', 'Zeile 2']\n",
      "['Mehrzeiliger Text \\nZeile 1 ', 'Zeile 2']\n",
      "Mehrzeiliger Text \n",
      "Zeile 1 \n",
      "Zeile 2\n",
      "b'Text A'\n",
      "Text A\n"
     ]
    }
   ],
   "source": [
    "# String Funktionen #4\n",
    "\n",
    "# string.replace(oldvalue, newvalue, count)\n",
    "print(a.replace(\"Text\",\"String\"))   \n",
    "\n",
    "# string.split(separator, maxsplit)\n",
    "list_of_strings = c.split(\"\\n\")     # String wird aufgeteilt, jeweils am Trennungsstrring (hier neue Zeile)\n",
    "list_of_strings_right = c.rsplit(\"\\n\",1)     # String wird aufgeteilt, jeweils am Trennungsstrring (hier neue Zeile), maximal sofoft wie angegeben, rechts startend\n",
    "print(list_of_strings)\n",
    "print(list_of_strings_right)\n",
    "\n",
    "print(\"\\n\".join(list_of_strings))   # inverses von split, liste wird aneinandergereit mit jeweiligem Trennzeichen\n",
    "\n",
    "# ! Hier: Convertierung zwischen Strings und Byte-Array\n",
    "print(a.encode())\n",
    "print(a.encode().decode()) "
   ]
  },
  {
   "cell_type": "code",
   "execution_count": 158,
   "id": "nutritional-insulin",
   "metadata": {},
   "outputs": [
    {
     "name": "stdout",
     "output_type": "stream",
     "text": [
      "Hallo mein Name ist Donald\n",
      "Hallo mein Name ist Donald Duck\n",
      "Hallo mein Name ist Donald Duck\n",
      "Hallo mein Name ist Donald Duck\n",
      "Die Spannung beträgt 5.00 V\n",
      "Die Binärdarstellung von 5 ist 101\n",
      "Die Binärdarstellung von   5 ist 00000101\n",
      "Die Binärdarstellung von 255 ist 11111111\n",
      "Die Hexadeziamldarstellung von 254 ist fe oder FE\n",
      "Große Kommazahl: 15.7324 \t 15.7324 \t 15.73 \t    +15.7\n",
      "Große Zahl: 100000000 \t 100,000,000 \t 1.000000e+08 \t 1.000000E+08\n"
     ]
    }
   ],
   "source": [
    "# String Funktionen #5\n",
    "\n",
    "# string.format(value1, value2...)\n",
    "print(\"Hallo mein Name ist {}\".format(\"Donald\"))   # Platzhalter werden durch angegebene Werte ersetzt\n",
    "print(\"Hallo mein Name ist {} {}\".format(\"Donald\",\"Duck\"))   # Indentifikation durch Position\n",
    "print(\"Hallo mein Name ist {1} {0}\".format(\"Duck\",\"Donald\"))   # Indentifikation durch Index\n",
    "print(\"Hallo mein Name ist {fname} {lname}\".format(lname = \"Duck\", fname = \"Donald\"))  # Indentifikation durch Bezeichner\n",
    "\n",
    "# Platzhalter können auch dir Formatierung angeben\n",
    "print(\"Die Spannung beträgt {voltage:.2f} V\".format(voltage=5))     # Auf zweich Nachkommastellen genau\n",
    "print(\"Die Binärdarstellung von {0} ist {0:b}\".format(5))           # Binärdarstellung\n",
    "print(\"Die Binärdarstellung von {0:3} ist {0:0>8b}\".format(5))        # Binär und Deziaml mit führenden Nullen\n",
    "print(\"Die Binärdarstellung von {0:3} ist {0:8b}\".format(255))      # Binär und Deziaml mit führenden Leerzeichen\n",
    "print(\"Die Hexadeziamldarstellung von {0} ist {0:x} oder {0:X}\".format(254))  # Hexadezimaldarstellung\n",
    "print(\"Große Kommazahl: {0:n} \\t {0:g} \\t {0:5.2F} \\t {0:+8.3}\".format(15.7324234))\n",
    "print(\"Große Zahl: {0:n} \\t {0:,n} \\t {0:e} \\t {0:E}\".format(100000000))"
   ]
  },
  {
   "cell_type": "markdown",
   "id": "reduced-command",
   "metadata": {},
   "source": [
    "### String Formatierungen\n",
    "\n",
    "https://www.programiz.com/python-programming/methods/string/format\n",
    "\n",
    "Allgemein: {[Platzhalterindentifizierung]:[Positionierung][Numerische Darstellung]}\n",
    "\n",
    "| Numerisch            |             |   | Positionierung                   | (in Verbindung mit Platzangabe) |\n",
    "|----------------------|-------------|---|----------------------------------|---------------------------------|\n",
    "| Format               | Platzhalter |   | Format                           | Platzhalter                     |\n",
    "| Dezimal              | d           |   | Linksbündig                      | <                               |\n",
    "| Binär                | b           |   | Rechtsbündig                     | >                               |\n",
    "| Hexadezimal (klein)  | x           |   | Zentral                          | ^                               |\n",
    "| Hexadezimal (groß)   | X           |   | Vorzeichen links                 | =                               |\n",
    "| Octal                | o           |   | Vorzeichen bei positiv           | +                               |\n",
    "| Nummersich            | n           |   | Vorzeichen nur bei negativ       | -                               |\n",
    "| Kommazahl            | f           |   | Leerzeichen bei Vorzeichen       |                                 |\n",
    "| Kommazahl (groß)     | F           |   | Unterstrich um 1000er zu trennen | _                               |\n",
    "| Nummer               | n           |   | Komma um 1000er zu trennen       | ,                               |\n",
    "| Wissenschaftlich (e) | e           |   |                                  |                                 |\n",
    "| Wissenschaflitch (E) | E           |   | Vorkomma(X) Nachkommastellen (Y) |  X.                               |\n",
    "| Generell             | g           |   |                                  |                                 |\n",
    "| Generell             | G           |   |                                  |                                 |\n",
    "| Prozent              | %           |   |                                  |                                 |\n"
   ]
  },
  {
   "cell_type": "markdown",
   "id": "assisted-challenge",
   "metadata": {},
   "source": [
    "## Listen und Co (ToDo)\n",
    "\n",
    "* Listen []: Gerodnet (index), Änderbar, Duplikate erlaubt\n",
    "* Tuple (): Geordnet (index), Nicht Änderbar, Duplikate erlaubt\n",
    "* Set {}: Ungeordnet (kein index), Erweiterbar, Keine Duplikate\n",
    "* Dictionary {key:value}: Geordnet*, Änderbar, Keine Duplikate\n"
   ]
  },
  {
   "cell_type": "markdown",
   "id": "representative-cargo",
   "metadata": {},
   "source": [
    "### Listen\n",
    "\n",
    "* Eckige Klammern\n",
    "* Dupplikate erlaubt\n",
    "* Verschiedene Datentypen mischbar\n",
    "* Geordnet (Index)\n",
    "* Änderbar"
   ]
  },
  {
   "cell_type": "code",
   "execution_count": 66,
   "id": "crude-external",
   "metadata": {},
   "outputs": [
    {
     "name": "stdout",
     "output_type": "stream",
     "text": [
      "[1, 2, 3]\n",
      "['1', '2', '3']\n",
      "['eins', 'zwei', 'drei', 'vier']\n",
      "['eins', 2, 'drei', True]\n",
      "3\n",
      "eins\n",
      "3\n",
      "['zwei', 'drei']\n",
      "1\n",
      "2\n",
      "3\n",
      "eins\n",
      "zwei\n",
      "drei\n",
      "vier\n",
      "6\n"
     ]
    }
   ],
   "source": [
    "# Listen erstellen\n",
    "\n",
    "meineDaten1 = [1,2,3]                 # Definiert über eckige Klammern\n",
    "meineDaten2 = list((\"1\",\"2\",\"3\"))     # über den Listen-Construktor ((-beachten\n",
    "meineDaten3 = [\"eins\",\"zwei\",\"drei\",\"vier\"]\n",
    "meineDaten4 = [\"eins\",2,\"drei\",True] # Es müssen nicht mal die gleichen Typen verwendet werden\n",
    "\n",
    "print(meineDaten1)\n",
    "print(meineDaten2)\n",
    "print(meineDaten3)\n",
    "print(meineDaten4)\n",
    "\n",
    "# Länge einer Liste (vgl. Strings)\n",
    "print(len(meineDaten1))\n",
    "\n",
    "# Zugriff auf Elemente\n",
    "print(meineDaten4[0])\n",
    "print(meineDaten2[-1])\n",
    "print(meineDaten3[1:-1])\n",
    "\n",
    "# Loop List\n",
    "for x in meineDaten1:\n",
    "    print(x)\n",
    "# Abkürzung für Durchlauf\n",
    "[print(x) for x in meineDaten3]\n",
    "\n",
    "print(sum(meineDaten1)) # Summer einer gesamten numerischen Liste"
   ]
  },
  {
   "cell_type": "code",
   "execution_count": 67,
   "id": "inside-partnership",
   "metadata": {},
   "outputs": [
    {
     "name": "stdout",
     "output_type": "stream",
     "text": [
      "['eins', 'zwei', 'drei', 'vier']\n",
      "True\n",
      "True\n",
      "3\n",
      "['drei', 'vier']\n",
      "['drei', 'vier']\n",
      "['-', '-', 'drei', 'vier']\n",
      "[0, 1, 2, 3, 4, 5, 6, 7, 8, 9]\n"
     ]
    }
   ],
   "source": [
    "# Elemente finden/filtern\n",
    "print(meineDaten3)\n",
    "\n",
    "print(\"vier\" in meineDaten3)\n",
    "print(\"fünf\" not in meineDaten3)\n",
    "print(meineDaten3.index(\"vier\")) # Gibt den index des erste fundes\n",
    "\n",
    "neueListe = []        # ! Liste muss als solche initialisiert sein\n",
    "for x in meineDaten3:\n",
    "  if \"r\" in x:          # Alle Elemente die ein r enthalten kommen in die neue Liste\n",
    "    neueListe.append(x)\n",
    "print(neueListe)\n",
    "\n",
    "#newlist = [expression for item in iterable if condition == True] \n",
    "neueListe2 = [x for x in meineDaten3 if \"r\" in x]  # Selbe Funktion in Kurzschreibweise\n",
    "print(neueListe2)\n",
    "\n",
    "neueListe2 = [x if \"r\" in x else \"-\" for x in meineDaten3]  # Einfügen wenn 'r' in Element sonst '-' einfügen\n",
    "print(neueListe2)\n",
    "\n",
    "neueListe3 =  [x for x in range(10)]  # Neue Liste von Elementen mit Range \n",
    "print(neueListe3)"
   ]
  },
  {
   "cell_type": "code",
   "execution_count": 68,
   "id": "native-calcium",
   "metadata": {},
   "outputs": [
    {
     "name": "stdout",
     "output_type": "stream",
     "text": [
      "['eins', 'zwei', 'drei', 'drei']\n",
      "['eins', 'zwei', 'drei', True]\n",
      "['eins', 'zwei', 'drei', 'drei', True]\n",
      "['eins', 'zwei', 'drei', 'drei', 'vier', True]\n",
      "['eins', 'zwei', 'drei', 'drei', 'vier']\n",
      "['eins', 'zwei', 'drei', 'drei', 'vier', True, 'eins', 'zwei', 'drei', 'drei', 'vier']\n"
     ]
    }
   ],
   "source": [
    "# Listen verändern #1\n",
    "\n",
    "# Einzelnes Element verändern\n",
    "meineDaten3[3] = \"drei\"\n",
    "print(meineDaten3)\n",
    "\n",
    "# Teilliste Verändern\n",
    "meineDaten4[1:3] = [\"zwei\",\"drei\"]\n",
    "print(meineDaten4)\n",
    "\n",
    "# Teilliste Verändern\n",
    "meineDaten4[1:2] = [\"zwei\",\"drei\"]    # Hier wird die Liste an der Stelle erweitert\n",
    "print(meineDaten4)\n",
    "\n",
    "meineDaten4.insert(-1,\"vier\")         # Einfügen an Stelle X\n",
    "print(meineDaten4)\n",
    "\n",
    "meineDaten3.append(\"vier\")            # Hinten anhängen\n",
    "print(meineDaten3)\n",
    "\n",
    "meineDaten4.extend(meineDaten3)       # Liste um Liste erweitern\n",
    "print(meineDaten4)"
   ]
  },
  {
   "cell_type": "code",
   "execution_count": 69,
   "id": "unique-music",
   "metadata": {},
   "outputs": [
    {
     "name": "stdout",
     "output_type": "stream",
     "text": [
      "[1, 1, 2, 3, 4, 3]\n",
      "2\n",
      "[1, 1, 2, 3, 3, 4]\n",
      "['zwei', 'vier', 'eins', 'drei', 'drei']\n",
      "[4, 3, 3, 2, 1, 1]\n"
     ]
    }
   ],
   "source": [
    "# Weitere Listen Funktionen\n",
    "\n",
    "meineDaten1[1:2] = [1,2,3,4]    # Hier wird die Liste an der Stelle erweitert\n",
    "print(meineDaten1)\n",
    "\n",
    "print(meineDaten1.count(1))     # Wieviele von diesem Element existieren\n",
    "\n",
    "meineDaten1.sort()              # Sortiet die Elemente einer List \n",
    "meineDaten3.sort(reverse = True)\n",
    "print(meineDaten1)\n",
    "print(meineDaten3)\n",
    "\n",
    "meineDaten1.reverse()           # Dreht die Reihenfolge einer Liste um\n",
    "print(meineDaten1)"
   ]
  },
  {
   "cell_type": "code",
   "execution_count": 27,
   "id": "designed-certificate",
   "metadata": {},
   "outputs": [
    {
     "name": "stdout",
     "output_type": "stream",
     "text": [
      "['eins', 'zwei', 'drei', 'drei', 'vier', True, 'eins', 'zwei', 'drei', 'drei', 'vier']\n",
      "None\n",
      "['eins', 'zwei', 'drei', 'vier', True, 'eins', 'zwei', 'drei', 'drei', 'vier']\n",
      "drei\n",
      "['eins', 'zwei', 'vier', True, 'eins', 'zwei', 'drei', 'drei', 'vier']\n",
      "vier\n",
      "['eins', 'zwei', 'vier', True, 'eins', 'zwei', 'drei', 'drei']\n",
      "['zwei', 'vier', True, 'eins', 'zwei', 'drei', 'drei']\n",
      "[]\n",
      "False\n"
     ]
    }
   ],
   "source": [
    "# Liste Verändern #2\n",
    "\n",
    "print(meineDaten4)\n",
    "\n",
    "print(meineDaten4.remove(\"drei\")) # entfernt nur ein Element bei mehreren!\n",
    "print(meineDaten4)\n",
    "\n",
    "print(meineDaten4.pop(2)) # entfernt am angegeben Index (und gibt Element zurück)\n",
    "print(meineDaten4)\n",
    "\n",
    "print(meineDaten4.pop()) # entfernt ohne Index das letzte Element(und gibt Element zurück)\n",
    "print(meineDaten4)\n",
    "\n",
    "del meineDaten4[0]       # entfernt erste Element über del\n",
    "print(meineDaten4)\n",
    "\n",
    "meineDaten4.clear()      # Löscht komplette Liste ! nicht die Liste selbst\n",
    "print(meineDaten4)\n",
    "\n",
    "print(any(meineDaten4))  # Befindet sich mindestens ein Element in der Liste?"
   ]
  },
  {
   "cell_type": "code",
   "execution_count": 354,
   "id": "completed-signal",
   "metadata": {},
   "outputs": [
    {
     "name": "stdout",
     "output_type": "stream",
     "text": [
      "['zwei', 'vier', 'vier', 'eins', 'drei', 'drei']\n",
      "['zwei', 'vier', 'vier', 'eins', 'drei', 'drei']\n",
      "[]\n",
      "[]\n",
      "['zwei', 'vier', 'vier', 'eins', 'drei', 'drei']\n"
     ]
    }
   ],
   "source": [
    "# Listen Kopieren\n",
    "\n",
    "meineDaten5 = meineDaten3     \n",
    "meineDaten6 = meineDaten3.copy()\n",
    "print(meineDaten5)\n",
    "print(meineDaten6)\n",
    "\n",
    "meineDaten3.clear()      # Löscht komplette Liste ! nicht die Liste selbst\n",
    "print(meineDaten3)\n",
    "print(meineDaten5)       # Liste5 war nur ein \"Verweis\" auf Liste3\n",
    "print(meineDaten6)       # Liste6 war eine echte Kopie von Liste3 "
   ]
  },
  {
   "cell_type": "code",
   "execution_count": 62,
   "id": "organizational-soldier",
   "metadata": {},
   "outputs": [
    {
     "name": "stdout",
     "output_type": "stream",
     "text": [
      "object <class 'list'> is of type type\n",
      "  append -- <function>\n",
      "  clear -- <function>\n",
      "  copy -- <function>\n",
      "  count -- <function>\n",
      "  extend -- <function>\n",
      "  index -- <function>\n",
      "  insert -- <function>\n",
      "  pop -- <function>\n",
      "  remove -- <function>\n",
      "  reverse -- <function>\n",
      "  sort -- <function>\n"
     ]
    }
   ],
   "source": [
    "help(list)"
   ]
  },
  {
   "cell_type": "markdown",
   "id": "progressive-translation",
   "metadata": {},
   "source": [
    "### Tuple\n",
    "\n",
    "* Runde Klammern\n",
    "* Dupplikate erlaubt\n",
    "* Verschiedene Datentypen mischbar\n",
    "* Geordnet (Index)\n",
    "* Nicht Änderbar"
   ]
  },
  {
   "cell_type": "code",
   "execution_count": 108,
   "id": "smooth-stylus",
   "metadata": {},
   "outputs": [
    {
     "name": "stdout",
     "output_type": "stream",
     "text": [
      "(1, 2, 3)\n",
      "('1', '2', '3')\n",
      "('eins', 'zwei', 'drei', 'vier')\n",
      "('eins', 2, 'drei', True)\n",
      "3\n",
      "eins\n",
      "3\n",
      "('zwei', 'drei')\n",
      "1\n",
      "2\n",
      "3\n",
      "eins\n",
      "zwei\n",
      "drei\n",
      "vier\n",
      "6\n"
     ]
    }
   ],
   "source": [
    "# Tuple erstellen\n",
    "\n",
    "meineDaten1 = (1,2,3)                  # Hier Runde Klammern!\n",
    "meineDaten2 = tuple((\"1\",\"2\",\"3\"))     # über den Tuple-Construktor ((-beachten\n",
    "meineDaten3 = (\"eins\",\"zwei\",\"drei\",\"vier\")\n",
    "meineDaten4 = (\"eins\",2,\"drei\",True) # Es müssen nicht mal die gleichen Typen verwendet werden\n",
    "meineDaten5 = (1,)                   # Tuple mit nur einem Element müssen ein Komma enthalten, sonst kein Tuple!\n",
    "\n",
    "print(meineDaten1)\n",
    "print(meineDaten2)\n",
    "print(meineDaten3)\n",
    "print(meineDaten4)\n",
    "\n",
    "# Länge einer Liste (vgl. Strings)\n",
    "print(len(meineDaten1))\n",
    "\n",
    "# Zugriff auf Elemente\n",
    "print(meineDaten4[0])\n",
    "print(meineDaten2[-1])\n",
    "print(meineDaten3[1:-1])\n",
    "\n",
    "# Loop List\n",
    "for x in meineDaten1:\n",
    "    print(x)\n",
    "# Abkürzung für Durchlauf\n",
    "[print(x) for x in meineDaten3]\n",
    "\n",
    "print(sum(meineDaten1)) # Summer einer gesamten numerischen Liste"
   ]
  },
  {
   "cell_type": "code",
   "execution_count": 109,
   "id": "realistic-macintosh",
   "metadata": {},
   "outputs": [
    {
     "name": "stdout",
     "output_type": "stream",
     "text": [
      "('eins', 'zwei', 'drei', 'vier')\n",
      "True\n",
      "True\n",
      "3\n",
      "['drei', 'vier']\n",
      "['drei', 'vier']\n",
      "['-', '-', 'drei', 'vier']\n",
      "<generator object '<genexpr>' at 20014210>\n"
     ]
    }
   ],
   "source": [
    "# Elemente finden/filtern\n",
    "print(meineDaten3)\n",
    "\n",
    "print(\"vier\" in meineDaten3)\n",
    "print(\"fünf\" not in meineDaten3)\n",
    "print(meineDaten3.index(\"vier\")) # Gibt den index des erste fundes\n",
    "\n",
    "neueListe = []        # ! Liste muss als solche initialisiert sein\n",
    "for x in meineDaten3:\n",
    "    if \"r\" in x:          # Alle Elemente die ein r enthalten kommen in die neue Liste\n",
    "        neueListe.append(x)\n",
    "print(neueListe)\n",
    "\n",
    "#newlist = [expression for item in iterable if condition == True] \n",
    "neueListe2 = [x for x in meineDaten3 if \"r\" in x]  # Selbe Funktion in Kurzschreibweise\n",
    "print(neueListe2)\n",
    "\n",
    "neueListe2 = [x if \"r\" in x else \"-\" for x in meineDaten3]  # Einfügen wenn 'r' in Element sonst '-' einfügen\n",
    "print(neueListe2)"
   ]
  },
  {
   "cell_type": "code",
   "execution_count": 91,
   "id": "laden-companion",
   "metadata": {},
   "outputs": [
    {
     "name": "stdout",
     "output_type": "stream",
     "text": [
      "('eins', 'zwei', 'drei', 'vier')\n",
      "['eins', 'zwei', 'drei', 'vier']\n",
      "['eins', 'zwei', 'drei', 'vier']\n",
      "('eins', 'zwei', 'drei', 'drei')\n"
     ]
    }
   ],
   "source": [
    "# Tuple verändern #1\n",
    "\n",
    "print(meineDaten3)\n",
    "# meineDaten3[3] = \"drei\" #! Tuple lassen sich nicht ändern!\n",
    "\n",
    "# Workaround über Listen\n",
    "neueListe = list(meineDaten3)\n",
    "print(neueListe)\n",
    "neueListe[3] = \"drei\"\n",
    "meineDaten3  = tuple(neueListe)\n",
    "print(meineDaten3)"
   ]
  },
  {
   "cell_type": "code",
   "execution_count": 100,
   "id": "dying-government",
   "metadata": {},
   "outputs": [
    {
     "name": "stdout",
     "output_type": "stream",
     "text": [
      "2\n",
      "['drei', 'drei']\n",
      "[2, 'drei']\n",
      "(1, 2, 3, '1', '2', '3')\n",
      "(1, 2, 3, 1, 2, 3)\n",
      "2\n",
      "1\n"
     ]
    }
   ],
   "source": [
    "# Weitere Tuple Funktionen\n",
    "\n",
    "# Unpacking\n",
    "varEins, varZwei, varDrei = meineDaten1    # Tuple wird direkt Variablen zugeordnet\n",
    "print(varZwei)\n",
    "\n",
    "varEins, varZwei, *varDrei = meineDaten3   # Asterisk ermöglicht zuweisung bei weniger Variablen\n",
    "print(varDrei)\n",
    "\n",
    "varEins, *varZwei, varDrei = meineDaten4   # Asterisk muss nicht an letzer Stelle stehen, Variable mit * wird Liste\n",
    "print(varZwei)\n",
    "\n",
    "neuesTuple1 = meineDaten1 + meineDaten2    # Zusammenführen von Tuplen\n",
    "print(neuesTuple1)\n",
    "\n",
    "neuesTuple2 = meineDaten1 * 2              # Multiplizieren eines Tuples \n",
    "print(neuesTuple2)\n",
    "\n",
    "print(neuesTuple2.count(2))                # Wieoft kommmt ein Element vor ?\n",
    "print(neuesTuple2.index(2))                # An welcher (Index-)Stelle erscheint es zuerst?"
   ]
  },
  {
   "cell_type": "code",
   "execution_count": 101,
   "id": "continued-canvas",
   "metadata": {},
   "outputs": [
    {
     "name": "stdout",
     "output_type": "stream",
     "text": [
      "object <class 'tuple'> is of type type\n",
      "  count -- <function>\n",
      "  index -- <function>\n"
     ]
    }
   ],
   "source": [
    "help(tuple)"
   ]
  },
  {
   "cell_type": "markdown",
   "id": "prerequisite-project",
   "metadata": {
    "tags": []
   },
   "source": [
    "### Sets\n",
    "\n",
    "* Geschweifte Klammern\n",
    "* Keine Dupplikate \n",
    "* Verschiedene Datentypen mischbar\n",
    "* Ungeordnet (Kein Index)\n",
    "* Nur Erweitern/Löschen, keine Verändern von Elementen"
   ]
  },
  {
   "cell_type": "code",
   "execution_count": 146,
   "id": "pending-ranch",
   "metadata": {},
   "outputs": [
    {
     "name": "stdout",
     "output_type": "stream",
     "text": [
      "{3, 1, 2}\n",
      "{'1', '3', '2'}\n",
      "{'eins', 'zwei', 'vier', 'drei'}\n",
      "{'eins', True, 2, 'drei'}\n",
      "3\n",
      "3\n",
      "1\n",
      "2\n",
      "eins\n",
      "zwei\n",
      "vier\n",
      "drei\n",
      "6\n"
     ]
    }
   ],
   "source": [
    "# Sets erstellen\n",
    "\n",
    "meineDaten1 = {1,2,3}                  # Hier geschweifte Klammern\n",
    "meineDaten2 = set((\"1\",\"2\",\"3\"))       # über den Set-Construktor ((-beachten\n",
    "meineDaten3 = {\"eins\",\"zwei\",\"drei\",\"vier\"}\n",
    "meineDaten4 = {\"eins\",2,\"drei\",True} # Es müssen nicht mal die gleichen Typen verwendet werden\n",
    "meineDaten5 = {1,}                   # Tuple mit nur einem Element müssen ein Komma enthalten, sonst kein Tuple!\n",
    "\n",
    "print(meineDaten1)\n",
    "print(meineDaten2)\n",
    "print(meineDaten3)\n",
    "print(meineDaten4)\n",
    "\n",
    "# Länge einer Liste (vgl. Strings)\n",
    "print(len(meineDaten1))\n",
    "\n",
    "# Zugriff auf Elemente\n",
    "# print(meineDaten4[0])    # ! Kein Zugriff über Index (es gibt kein Index)\n",
    "\n",
    "# Loop List\n",
    "for x in meineDaten1:\n",
    "    print(x)\n",
    "# Abkürzung für Durchlauf\n",
    "[print(x) for x in meineDaten3]\n",
    "\n",
    "print(sum(meineDaten1)) # Summer einer gesamten numerischen Liste"
   ]
  },
  {
   "cell_type": "code",
   "execution_count": 129,
   "id": "aerial-marble",
   "metadata": {},
   "outputs": [
    {
     "name": "stdout",
     "output_type": "stream",
     "text": [
      "{'eins', 'zwei', 'vier', 'drei'}\n",
      "True\n",
      "True\n",
      "['vier', 'drei']\n",
      "['vier', 'drei']\n",
      "['-', '-', 'vier', 'drei']\n",
      "{0, 1, 2, 3, 4, 5, 6, 7, 8, 9}\n"
     ]
    }
   ],
   "source": [
    "# Elemente finden/filtern\n",
    "print(meineDaten3)\n",
    "\n",
    "print(\"vier\" in meineDaten3)\n",
    "print(\"fünf\" not in meineDaten3)\n",
    "\n",
    "neueListe = []        # ! Liste muss als solche initialisiert sein\n",
    "for x in meineDaten3:\n",
    "  if \"r\" in x:          # Alle Elemente die ein r enthalten kommen in die neue Liste\n",
    "    neueListe.append(x)\n",
    "print(neueListe)\n",
    "\n",
    "#newlist = [expression for item in iterable if condition == True] \n",
    "neueListe2 = [x for x in meineDaten3 if \"r\" in x]  # Selbe Funktion in Kurzschreibweise\n",
    "print(neueListe2)\n",
    "\n",
    "neueListe2 = [x if \"r\" in x else \"-\" for x in meineDaten3]  # Einfügen wenn 'r' in Element sonst '-' einfügen\n",
    "print(neueListe2)\n",
    "\n",
    "neueListe3 =  {x for x in range(10)}  # Neues Set von Elementen mit Range \n",
    "print(neueListe3)"
   ]
  },
  {
   "cell_type": "code",
   "execution_count": 139,
   "id": "indonesian-separation",
   "metadata": {},
   "outputs": [],
   "source": [
    "# Set verändern\n",
    "\n",
    "print(meineDaten2)\n",
    "\n",
    "meineDaten2.add(4)                # Element hinzufügen\n",
    "meineDaten2.add(2)                # Keine Dupplikate\n",
    "print(meineDaten2)\n",
    "\n",
    "# Vereinigung\n",
    "meineDaten2.update(meineDaten1)   # Ein komplettes Set hinzufügen, funktioniert auch mit Listen etc.\n",
    "print(meineDaten2)\n",
    "\n",
    "neuesSet1 = meineDaten2.union(meineDaten1)  # Vereint beide Sets (z.B. in einem neuen Set)\n",
    "print(neuesSet1)\n",
    "\n",
    "neuesSet2 = neuesSet1.union(meineDaten1)  # Keine Dupplikate\n",
    "print(neuesSet2)"
   ]
  },
  {
   "cell_type": "code",
   "execution_count": 140,
   "id": "structural-battlefield",
   "metadata": {},
   "outputs": [],
   "source": [
    "print(meineDaten3)\n",
    "print(meineDaten4)\n",
    "\n",
    "# Schnittmente / Überschneidung \n",
    "neuesSet2 = meineDaten4.intersection(meineDaten3)   # Nur Elemente die in beiden Liste vorkommen\n",
    "print(neuesSet2)\n",
    "\n",
    "neuesSet2.intersection_update(meineDaten3)        # Update: Nur Elemente die in beiden Liste vorkommen\n",
    "print(neuesSet2)\n",
    "\n",
    "\n",
    "# Differenz \n",
    "neuesSet2 = meineDaten4.difference(meineDaten3)   # Nur Elemente die nicht in beiden Liste vorkommen\n",
    "print(neuesSet2)\n",
    "\n",
    "neuesSet2.difference_update(meineDaten3)        # Update: Nur Elemente die nicht in beiden Liste vorkommen\n",
    "print(neuesSet2)\n",
    "\n",
    "# Symetrische Differenz = Vereinigung bis auf dupplikate (XOR)\n",
    "neuesSet2 = meineDaten4.symmetric_difference(meineDaten3)   # Nur Elemente die in beiden Liste vorkommen\n",
    "print(neuesSet2)\n",
    "\n",
    "neuesSet2.symmetric_difference_update(meineDaten4)        # Update: Nur Elemente die in beiden Liste vorkommen\n",
    "print(neuesSet2)"
   ]
  },
  {
   "cell_type": "code",
   "execution_count": 143,
   "id": "developed-series",
   "metadata": {},
   "outputs": [
    {
     "name": "stdout",
     "output_type": "stream",
     "text": [
      "True\n",
      "True\n",
      "True\n"
     ]
    }
   ],
   "source": [
    "# Eigenschaften\n",
    "schnittmenge = meineDaten4.intersection(meineDaten3)   # Nur Elemente die in beiden Liste vorkommen\n",
    "\n",
    "print(schnittmenge.issubset(meineDaten3))    # Untermenge\n",
    "print(meineDaten3.issuperset(schnittmenge))  # Obermenge\n",
    "print(schnittmenge.isdisjoint(meineDaten1))  # Disjunkt"
   ]
  },
  {
   "cell_type": "code",
   "execution_count": 150,
   "id": "bright-exhibition",
   "metadata": {},
   "outputs": [
    {
     "name": "stdout",
     "output_type": "stream",
     "text": [
      "{'1', '3', '2'}\n",
      "{'3', '2'}\n",
      "{'3', '2'}\n",
      "{'2'}\n",
      "set()\n"
     ]
    }
   ],
   "source": [
    "neuesSet = meineDaten2.copy()  # Kopieren eines Sets\n",
    "print(neuesSet)\n",
    "\n",
    "neuesSet.remove('1')    # Entfernen von Element\n",
    "print(neuesSet)\n",
    "\n",
    "# meineDaten2.remove('1')  # ! Wenn ELement nicht existiert -> ERROR\n",
    "\n",
    "neuesSet.discard('1')     # Discard entfernt auch, aber ohne Error falls Element nicht existiert\n",
    "print(neuesSet)\n",
    "\n",
    "neuesSet.pop()            # Entfernt letzes Element\n",
    "print(neuesSet)\n",
    "\n",
    "neuesSet.clear()          # Löscht Set-Inhalt\n",
    "print(neuesSet)"
   ]
  },
  {
   "cell_type": "code",
   "execution_count": 115,
   "id": "artificial-scoop",
   "metadata": {},
   "outputs": [
    {
     "name": "stdout",
     "output_type": "stream",
     "text": [
      "object <class 'set'> is of type type\n",
      "  add -- <function>\n",
      "  clear -- <function>\n",
      "  copy -- <function>\n",
      "  discard -- <function>\n",
      "  difference -- <function>\n",
      "  difference_update -- <function>\n",
      "  intersection -- <function>\n",
      "  intersection_update -- <function>\n",
      "  isdisjoint -- <function>\n",
      "  issubset -- <function>\n",
      "  issuperset -- <function>\n",
      "  pop -- <function>\n",
      "  remove -- <function>\n",
      "  symmetric_difference -- <function>\n",
      "  symmetric_difference_update -- <function>\n",
      "  union -- <function>\n",
      "  update -- <function>\n",
      "  __contains__ -- <function>\n"
     ]
    }
   ],
   "source": [
    "help(set)"
   ]
  },
  {
   "cell_type": "markdown",
   "id": "postal-mississippi",
   "metadata": {},
   "source": [
    "### Dictionaries\n",
    "\n",
    "* Geschweifte Klammern, Key:Value\n",
    "* Keine Dupplikate\n",
    "* Verschiedene Datentypen mischbar\n",
    "* Geordnet (Index)\n",
    "* Änderbar"
   ]
  },
  {
   "cell_type": "code",
   "execution_count": 192,
   "id": "banner-details",
   "metadata": {},
   "outputs": [
    {
     "name": "stdout",
     "output_type": "stream",
     "text": [
      "{4: 'vier', 1: 'eins', 2: 'zwei', 3: 'drei'}\n",
      "{'nachname': 'Duck', 'alter': 56, 'enkel': ['Tick', 'Trick', 'Track'], 'vorname': 'Dagobert'}\n",
      "{'3': 0, '1': 0, '2': 0}\n",
      "{'3': None, '1': None, '2': None}\n",
      "4\n",
      "3\n"
     ]
    }
   ],
   "source": [
    "# Dictionary erstellen\n",
    "\n",
    "# Key:Value Paare\n",
    "meineDaten1 = {1:\"eins\",2:\"zwei\",3:\"drei\",4:\"vier\"}\n",
    "# Doppelter Key -> Überschrieben. Auch z.B. lists sind values\n",
    "meineDaten2 = {\"vorname\":\"Donald\",\"nachname\":\"Duck\",\"alter\":56,\"vorname\":\"Dagobert\", \"enkel\":[\"Tick\",\"Trick\",\"Track\"]}  \n",
    "\n",
    "x = (\"1\",\"2\",\"3\") \n",
    "y = [\"1\",\"2\",\"3\"]\n",
    "meineDaten3 = dict.fromkeys(x,0)    # Erstellt eine Dict aus einem vorgebenen Datensatz (hier set), Value für alle 0\n",
    "meineDaten4 = dict.fromkeys(y)      # hier aus Liste erstellt. Value nicht angegeben -> None\n",
    "\n",
    "print(meineDaten1)\n",
    "print(meineDaten2)\n",
    "print(meineDaten3)\n",
    "print(meineDaten4)\n",
    "\n",
    "# Länge des Dictionaries\n",
    "print(len(meineDaten1))\n",
    "print(len(meineDaten4))"
   ]
  },
  {
   "cell_type": "code",
   "execution_count": 196,
   "id": "brown-complement",
   "metadata": {},
   "outputs": [
    {
     "name": "stdout",
     "output_type": "stream",
     "text": [
      "eins\n",
      "Dagobert\n",
      "Dagobert\n",
      "None\n",
      "None\n",
      "Duck\n",
      "dict_keys(['nachname', 'vorname', 'familie', 'ehepartner', 'alter', 'enkel'])\n",
      "nachname\n",
      "vorname\n",
      "familie\n",
      "ehepartner\n",
      "alter\n",
      "enkel\n",
      "nachname\n",
      "vorname\n",
      "familie\n",
      "ehepartner\n",
      "alter\n",
      "enkel\n",
      "Duck\n",
      "Dagobert\n",
      "Duck\n",
      "None\n",
      "56\n",
      "['Tick', 'Trick', 'Track']\n",
      "dict_items([('nachname', 'Duck'), ('vorname', 'Dagobert'), ('familie', 'Duck'), ('ehepartner', None), ('alter', 56), ('enkel', ['Tick', 'Trick', 'Track'])])\n"
     ]
    }
   ],
   "source": [
    "# Zugriff auf Elemente\n",
    "print(meineDaten1[1])                # ! Kein Zugriff über Index, hier über key die eine Zahl ist\n",
    "print(meineDaten2[\"vorname\"])        # Zugriff über key\n",
    "print(meineDaten2.get(\"vorname\"))    # Zugriff über key und Funktion get()\n",
    "\n",
    "print(meineDaten2.get(\"zweitname\"))   # None wenn Key nicht exisitert\n",
    "print(meineDaten2.setdefault(\"ehepartner\")) # Setdefault alternative zu get\n",
    "print(meineDaten2.setdefault(\"familie\",\"Duck\")) # Bei setdefault kann Standardwert angegben werden\n",
    "\n",
    "print(meineDaten2.keys())           # Eine Liste von keys\n",
    "\n",
    "for x in meineDaten2:   # Durchläuft Keys\n",
    "    print(x)\n",
    "    \n",
    "for x in meineDaten2.keys():\n",
    "    print(x)\n",
    "    \n",
    "[print(x) for x in meineDaten2.values()]   # Eine Liste von Values\n",
    "\n",
    "print(meineDaten2.items())"
   ]
  },
  {
   "cell_type": "code",
   "execution_count": 178,
   "id": "regulated-appeal",
   "metadata": {},
   "outputs": [
    {
     "name": "stdout",
     "output_type": "stream",
     "text": [
      "{6: 'sechs', 1: 'null', 2: 'eins', 3: 'drei', 4: 'vier', 5: 'vier'}\n",
      "{6: 'sechs', 1: 'null', 2: 'eins', 3: 'drei', 4: 'vier', 5: 'vier'}\n",
      "{6: 'sechs', 1: 'null', 2: 'eins', 3: 'drei', 4: 'vier', 5: 'vier'}\n",
      "{6: 'sechs', 1: 'null', 2: 'eins', 3: 'drei', 4: 'vier', 5: 'vier'}\n",
      "{6: 'sechs', 1: 'null', 2: 'eins', 3: 'drei', 4: 'vier', 5: 'vier'}\n"
     ]
    }
   ],
   "source": [
    "# Daten verändern/hinzufügen\n",
    "\n",
    "# Werte Verändern\n",
    "meineDaten1[1] = \"null\"\n",
    "print(meineDaten1)\n",
    "meineDaten1.update({2:\"eins\"})\n",
    "print(meineDaten1)\n",
    "\n",
    "# Key-Value-Paar hinzufügen\n",
    "meineDaten1[5] = \"vier\"\n",
    "print(meineDaten1)\n",
    "meineDaten1.update({6:\"sechs\"})\n",
    "print(meineDaten1)\n",
    "\n",
    "neuesDict = meineDaten1.copy()\n",
    "print(neuesDict)"
   ]
  },
  {
   "cell_type": "code",
   "execution_count": 175,
   "id": "encouraging-ministry",
   "metadata": {},
   "outputs": [
    {
     "name": "stdout",
     "output_type": "stream",
     "text": [
      "{6: 'sechs', 1: 'null', 2: 'eins', 5: 'vier'}\n",
      "{1: 'null', 2: 'eins', 5: 'vier'}\n",
      "{2: 'eins', 5: 'vier'}\n",
      "{5: 'vier'}\n",
      "{}\n"
     ]
    }
   ],
   "source": [
    "# Daten löschen\n",
    "print(meineDaten1)\n",
    "\n",
    "meineDaten1.popitem()   # Entfernt zuletzt hinzugefügtes item\n",
    "print(meineDaten1)\n",
    "\n",
    "meineDaten1.pop(1)      # Entfernt Key-Value Paar mit diesem Key\n",
    "print(meineDaten1)\n",
    "\n",
    "del meineDaten1[2]      # Entfernt Key-Value Paar mit diesem Key (del Methode)\n",
    "print(meineDaten1)\n",
    "\n",
    "meineDaten1.clear()     # Löscht Dictionary Inhalt\n",
    "print(meineDaten1)"
   ]
  },
  {
   "cell_type": "code",
   "execution_count": 154,
   "id": "coupled-wallpaper",
   "metadata": {},
   "outputs": [
    {
     "name": "stdout",
     "output_type": "stream",
     "text": [
      "object <class 'dict'> is of type type\n",
      "  clear -- <function>\n",
      "  copy -- <function>\n",
      "  fromkeys -- <classmethod>\n",
      "  get -- <function>\n",
      "  items -- <function>\n",
      "  keys -- <function>\n",
      "  pop -- <function>\n",
      "  popitem -- <function>\n",
      "  setdefault -- <function>\n",
      "  update -- <function>\n",
      "  values -- <function>\n",
      "  __getitem__ -- <function>\n",
      "  __setitem__ -- <function>\n",
      "  __delitem__ -- <function>\n"
     ]
    }
   ],
   "source": [
    "help(dict)"
   ]
  },
  {
   "cell_type": "markdown",
   "id": "canadian-admission",
   "metadata": {},
   "source": [
    "## Klassen und Objekte"
   ]
  },
  {
   "cell_type": "code",
   "execution_count": 199,
   "id": "psychological-alloy",
   "metadata": {},
   "outputs": [],
   "source": []
  },
  {
   "cell_type": "code",
   "execution_count": 199,
   "id": "neural-album",
   "metadata": {},
   "outputs": [
    {
     "name": "stdout",
     "output_type": "stream",
     "text": [
      "<class 'function'>\n",
      "Meine Funktion\n"
     ]
    }
   ],
   "source": []
  },
  {
   "cell_type": "markdown",
   "id": "sexual-quarterly",
   "metadata": {},
   "source": [
    "# Kontrollstrukturen "
   ]
  },
  {
   "cell_type": "markdown",
   "id": "varied-consistency",
   "metadata": {},
   "source": [
    "## If-Then-Else\n",
    "\n",
    "Es existiert (derzeit) kein switch-case in MicroPyhton!\n",
    "\n",
    "(Erscheint in Python 3.10: https://towardsdatascience.com/switch-case-statements-are-coming-to-python-d0caf7b2bfd3)\n"
   ]
  },
  {
   "cell_type": "code",
   "execution_count": 95,
   "id": "heated-defendant",
   "metadata": {},
   "outputs": [
    {
     "name": "stdout",
     "output_type": "stream",
     "text": [
      "3 ist kleiner als 5\n"
     ]
    }
   ],
   "source": [
    "# klassiche IF-Anweisung\n",
    "x=3; y=5\n",
    "\n",
    "if x < y:\n",
    "    print(str(x)+ \" ist kleiner als \" +str(y))\n",
    "elif x == y:\n",
    "    print(str(x)+ \" ist gleich \" +str(y))\n",
    "else:\n",
    "    print(str(x)+ \" ist größer als \" +str(y))"
   ]
  },
  {
   "cell_type": "code",
   "execution_count": 99,
   "id": "hourly-aruba",
   "metadata": {},
   "outputs": [
    {
     "name": "stdout",
     "output_type": "stream",
     "text": [
      "a ist größer als b\n",
      "A\n"
     ]
    }
   ],
   "source": [
    "# Kurzschreibweisen\n",
    "a = 5; b = 3\n",
    "\n",
    "if a > b: print(\"a ist größer als b\")\n",
    "print(\"A\") if a > b else print(\"B\")"
   ]
  },
  {
   "cell_type": "code",
   "execution_count": 103,
   "id": "excess-reverse",
   "metadata": {},
   "outputs": [
    {
     "name": "stdout",
     "output_type": "stream",
     "text": [
      "b liegt zwischen a und c\n"
     ]
    }
   ],
   "source": [
    "# AND und OR\n",
    "a = 3; b = 4; c = 7\n",
    "\n",
    "if b > a and b < c: \n",
    "    print(\"b liegt zwischen a und c\")\n",
    "\n",
    "if b < a or b > c: \n",
    "    print(\"b liegt nicht zwischen a und c\")"
   ]
  },
  {
   "cell_type": "markdown",
   "id": "polish-halifax",
   "metadata": {},
   "source": [
    "## While-Loop"
   ]
  },
  {
   "cell_type": "code",
   "execution_count": 128,
   "id": "acceptable-trustee",
   "metadata": {},
   "outputs": [
    {
     "name": "stdout",
     "output_type": "stream",
     "text": [
      "1\n",
      "2\n",
      "3\n"
     ]
    }
   ],
   "source": [
    "x = 1 \n",
    "\n",
    "# Einfache While-Loop\n",
    "while x <= 3:\n",
    "    print(x)\n",
    "    x += 1"
   ]
  },
  {
   "cell_type": "code",
   "execution_count": 130,
   "id": "provincial-paragraph",
   "metadata": {},
   "outputs": [
    {
     "name": "stdout",
     "output_type": "stream",
     "text": [
      "4\n",
      "5\n"
     ]
    }
   ],
   "source": [
    "# While mit Abbruchbedingung:\n",
    "while x > 0:\n",
    "    print(x)\n",
    "    x += 1\n",
    "    if x>5: break"
   ]
  },
  {
   "cell_type": "code",
   "execution_count": 131,
   "id": "incoming-sweet",
   "metadata": {},
   "outputs": [
    {
     "name": "stdout",
     "output_type": "stream",
     "text": [
      "8\n",
      "9\n",
      "10\n"
     ]
    }
   ],
   "source": [
    "# While mit continue\n",
    "while x < 10:\n",
    "    x += 1\n",
    "    if x == 7: continue\n",
    "    print(x)"
   ]
  },
  {
   "cell_type": "code",
   "execution_count": 132,
   "id": "sonic-pickup",
   "metadata": {},
   "outputs": [
    {
     "name": "stdout",
     "output_type": "stream",
     "text": [
      "11\n",
      "12\n",
      "13\n",
      "Die 13 wurde erreicht\n"
     ]
    }
   ],
   "source": [
    "# While mit Else\n",
    "while x < 13:\n",
    "    x += 1\n",
    "    print(x)\n",
    "else:                    # Die Else-Anweisung wird ausfeführt, wenn die Schleifenbedingung nicht länger True ist\n",
    "    print(\"Die 13 wurde erreicht\")"
   ]
  },
  {
   "cell_type": "markdown",
   "id": "fewer-preserve",
   "metadata": {},
   "source": [
    "## For-Loop"
   ]
  },
  {
   "cell_type": "code",
   "execution_count": 134,
   "id": "younger-monster",
   "metadata": {},
   "outputs": [
    {
     "name": "stdout",
     "output_type": "stream",
     "text": [
      "0\n",
      "1\n",
      "2\n",
      "3\n",
      "4\n"
     ]
    }
   ],
   "source": [
    "# For-Loop zum durchlauf eines Zahlenbereichs\n",
    "for x in range(5):\n",
    "    print(x)"
   ]
  },
  {
   "cell_type": "code",
   "execution_count": 135,
   "id": "capable-moses",
   "metadata": {},
   "outputs": [
    {
     "name": "stdout",
     "output_type": "stream",
     "text": [
      "0\n",
      "2\n",
      "4\n"
     ]
    }
   ],
   "source": [
    "# range() erzeugt einen sequenz von nummern die durchlaufen wird. \n",
    "# range(start, stop, step)\n",
    "for x in range(0,6,2):\n",
    "    print(x)"
   ]
  },
  {
   "cell_type": "code",
   "execution_count": 137,
   "id": "verbal-distributor",
   "metadata": {},
   "outputs": [
    {
     "name": "stdout",
     "output_type": "stream",
     "text": [
      "c\n",
      "c++\n",
      "python\n"
     ]
    }
   ],
   "source": [
    "# For-Loop um Listen zu durchlaufen\n",
    "languages = [\"c\", \"c++\", \"python\"]\n",
    "for x in languages:\n",
    "    print(x)"
   ]
  },
  {
   "cell_type": "code",
   "execution_count": 139,
   "id": "supreme-carnival",
   "metadata": {},
   "outputs": [
    {
     "name": "stdout",
     "output_type": "stream",
     "text": [
      "p\n",
      "y\n",
      "t\n",
      "h\n",
      "o\n",
      "n\n"
     ]
    }
   ],
   "source": [
    "# For-Loop um Zeichen eines Strings zu durchlaufen\n",
    "language = \"python\"\n",
    "for x in language:\n",
    "    print(x)"
   ]
  },
  {
   "cell_type": "code",
   "execution_count": 207,
   "id": "accompanied-dakota",
   "metadata": {},
   "outputs": [
    {
     "name": "stdout",
     "output_type": "stream",
     "text": [
      "p\n",
      "t\n",
      "h\n"
     ]
    }
   ],
   "source": [
    "# Break, Continue, Else funktionieren auch hier\n",
    "\n",
    "language = \"python\"\n",
    "for x in language:\n",
    "    if x == 'y': continue\n",
    "    if x == 'o': break    \n",
    "    print(x)\n",
    "else:       # Else wird nicht Ausgeführt, da zuvor mit Break die Schleife beendet wurde!\n",
    "    print(\"Was ist PTHON?\")"
   ]
  },
  {
   "cell_type": "markdown",
   "id": "committed-nursing",
   "metadata": {},
   "source": [
    "## Try-Except"
   ]
  },
  {
   "cell_type": "code",
   "execution_count": 256,
   "id": "governing-projection",
   "metadata": {},
   "outputs": [],
   "source": [
    "# Bei Fehlern schmeißt Pyhton eine Exception\n",
    "\n",
    "#del x      # KeyError: x\n",
    "#print(x)   # NameError: name 'x' isn't defined"
   ]
  },
  {
   "cell_type": "code",
   "execution_count": 258,
   "id": "sacred-priority",
   "metadata": {},
   "outputs": [],
   "source": [
    "# Fehler können behandelt werden in Try-Blöcken (Kein Guter Stil hier)\n",
    "try:\n",
    "    del x\n",
    "except:\n",
    "    pass  # Tue nichts"
   ]
  },
  {
   "cell_type": "code",
   "execution_count": 259,
   "id": "caroline-parade",
   "metadata": {},
   "outputs": [
    {
     "name": "stdout",
     "output_type": "stream",
     "text": [
      "Ein Fehler\n",
      "name 'x' isn't defined\n",
      "Traceback (most recent call last):\n",
      "  File \"<stdin>\", line 10, in <module>\n",
      "NameError: name 'x' isn't defined\n"
     ]
    }
   ],
   "source": [
    "# Fehler können behandelt werden in Try-Blöcken (Auch kein Guter Stil hier)\n",
    "try:\n",
    "    print(x)\n",
    "except:\n",
    "    print(\"Ein Fehler\")\n",
    "\n",
    "# Mit vordefinierter Ausgabe\n",
    "import sys #oder usys\n",
    "try:\n",
    "    print(x)\n",
    "except Exception as err:   #Exception ist die Oberklasse aller Exceptions\n",
    "    print(err)\n",
    "    sys.print_exception(err)"
   ]
  },
  {
   "cell_type": "code",
   "execution_count": 260,
   "id": "fancy-telephone",
   "metadata": {},
   "outputs": [
    {
     "name": "stdout",
     "output_type": "stream",
     "text": [
      "Variable existiert nicht (KeyError)\n"
     ]
    }
   ],
   "source": [
    "# Besser: es wird genau definiert, welcher Fehler erwartet wird\n",
    "try: \n",
    "    del x\n",
    "    print(x)   # Bei erstem Fehler wird unterbrochen !\n",
    "except NameError:\n",
    "    print(\"Variable existiert nicht (NameError)\")\n",
    "except KeyError:\n",
    "    print(\"Variable existiert nicht (KeyError)\")   "
   ]
  },
  {
   "cell_type": "code",
   "execution_count": 261,
   "id": "incoming-multimedia",
   "metadata": {},
   "outputs": [
    {
     "name": "stdout",
     "output_type": "stream",
     "text": [
      "Hallo\n",
      "Hat alles geklappt\n",
      "Wie auch immer... weiter gehts\n"
     ]
    }
   ],
   "source": [
    "# Else und Finally\n",
    "x = \"Hallo\"\n",
    "#del x\n",
    "\n",
    "try: \n",
    "    #del x\n",
    "    print(x)\n",
    "except NameError:\n",
    "    print(\"Variable existiert nicht (NameError)\")\n",
    "else:                                            # Wird ausgeführt wenn es kein Fehler gab\n",
    "    print(\"Hat alles geklappt\")\n",
    "finally:                                         # Wird ausgeführt in jedem Fall,\n",
    "    print(\"Wie auch immer... weiter gehts\")      #gut um z.B. in jedem Fall eine Verbindung zu trennen oder Dateien zu schließen"
   ]
  },
  {
   "cell_type": "code",
   "execution_count": 262,
   "id": "cordless-worse",
   "metadata": {},
   "outputs": [
    {
     "name": "stdout",
     "output_type": "stream",
     "text": [
      "Bitte Nummer angeben\n",
      "Traceback (most recent call last):\n",
      "  File \"<stdin>\", line 19, in <module>\n",
      "  File \"<stdin>\", line 6, in myFunction1\n",
      "Exception: Bitte Nummer angeben\n",
      "Bitte Nummer angeben\n",
      "Traceback (most recent call last):\n",
      "  File \"<stdin>\", line 25, in <module>\n",
      "  File \"<stdin>\", line 10, in myFunction2\n",
      "TypeError: Bitte Nummer angeben\n",
      "Bitte Nummer angeben\n",
      "Traceback (most recent call last):\n",
      "  File \"<stdin>\", line 31, in <module>\n",
      "  File \"<stdin>\", line 14, in myFunction3\n",
      "TypeError: Bitte Nummer angeben\n",
      "Bitte Zahl größer 0 angeben\n",
      "Traceback (most recent call last):\n",
      "  File \"<stdin>\", line 37, in <module>\n",
      "  File \"<stdin>\", line 16, in myFunction3\n",
      "ValueError: Bitte Zahl größer 0 angeben\n"
     ]
    }
   ],
   "source": [
    "# Exception selbst werfen\n",
    "import sys\n",
    "\n",
    "def myFunction1(x):\n",
    "    if not type(x) is int:\n",
    "        raise Exception(\"Bitte Nummer angeben\")\n",
    "        \n",
    "def myFunction2(x):\n",
    "    if not type(x) is int:\n",
    "        raise TypeError(\"Bitte Nummer angeben\")\n",
    "\n",
    "def myFunction3(x):\n",
    "    if not type(x) is int:\n",
    "        raise TypeError(\"Bitte Nummer angeben\")\n",
    "    if x < 0:\n",
    "        raise ValueError(\"Bitte Zahl größer 0 angeben\")\n",
    "\n",
    "try:\n",
    "    myFunction1(\"hallo\")\n",
    "except Exception as ex:\n",
    "    print(ex)\n",
    "    sys.print_exception(ex)\n",
    "    \n",
    "try:\n",
    "    myFunction2(\"hallo\")\n",
    "except Exception as ex:\n",
    "    print(ex)\n",
    "    sys.print_exception(ex)\n",
    "    \n",
    "try:\n",
    "    myFunction3(\"hallo\")\n",
    "except Exception as ex:\n",
    "    print(ex)\n",
    "    sys.print_exception(ex)\n",
    "    \n",
    "try:\n",
    "    myFunction3(-1)\n",
    "except Exception as ex:\n",
    "    print(ex)\n",
    "    sys.print_exception(ex)\n",
    "    "
   ]
  },
  {
   "cell_type": "code",
   "execution_count": 201,
   "id": "weighted-journey",
   "metadata": {},
   "outputs": [
    {
     "name": "stdout",
     "output_type": "stream",
     "text": [
      "ArithmeticError\n",
      "AssertionError\n",
      "AttributeError\n",
      "BaseException\n",
      "EOFError\n",
      "Exception\n",
      "GeneratorExit\n",
      "ImportError\n",
      "IndentationError\n",
      "IndexError\n",
      "KeyError\n",
      "KeyboardInterrupt\n",
      "LookupError\n",
      "MemoryError\n",
      "NameError\n",
      "NotImplementedError\n",
      "OSError\n",
      "OverflowError\n",
      "RuntimeError\n",
      "StopIteration\n",
      "SyntaxError\n",
      "SystemExit\n",
      "TypeError\n",
      "ValueError\n",
      "ZeroDivisionError\n",
      "StopAsyncIteration\n",
      "UnicodeError\n",
      "ViperTypeError\n"
     ]
    }
   ],
   "source": [
    "# Liste von Exceptions\n",
    "\n",
    "# https://docs.micropython.org/en/latest/library/builtins.html?highlight=except#exceptions\n",
    "import builtins\n",
    "\n",
    "list_no_exception = [\"Ellipsis\"]\n",
    "for x in dir(builtins):\n",
    "    if x[0].isupper() and x not in list_no_exception:\n",
    "        print(x)"
   ]
  },
  {
   "cell_type": "markdown",
   "id": "strong-annex",
   "metadata": {},
   "source": [
    "# Funktionen"
   ]
  },
  {
   "cell_type": "code",
   "execution_count": 4,
   "id": "automatic-prevention",
   "metadata": {},
   "outputs": [
    {
     "name": "stdout",
     "output_type": "stream",
     "text": [
      "Dies ist meine Funktion\n",
      "True\n"
     ]
    }
   ],
   "source": [
    "# Einfache Funktionen definieren\n",
    "\n",
    "def myFunction():\n",
    "    print(\"Dies ist meine Funktion\")\n",
    "\n",
    "myFunction()\n",
    "\n",
    "print(callable(myFunction)) # Überprüfung: ist das Objekt aufrufbar?"
   ]
  },
  {
   "cell_type": "code",
   "execution_count": 175,
   "id": "communist-coast",
   "metadata": {},
   "outputs": [
    {
     "name": "stdout",
     "output_type": "stream",
     "text": [
      "Dies ist die Funktion von dir und mir\n",
      "Dies ist die Funktion von dir und mir\n"
     ]
    }
   ],
   "source": [
    "# Funktion mit einfachen Parameter\n",
    "def myFunction(name1, name2):\n",
    "    print(\"Dies ist die Funktion von \"+ name1 + \" und \" + name2)\n",
    "\n",
    "myFunction(\"dir\",\"mir\")\n",
    "# myFunction(3) #! hier gibt es einen Fehler, Datentyp passt nicht!\n",
    "myFunction(name2 = \"mir\", name1= \"dir\") # Parameter werden explicit angegeben"
   ]
  },
  {
   "cell_type": "code",
   "execution_count": 173,
   "id": "armed-judge",
   "metadata": {},
   "outputs": [
    {
     "name": "stdout",
     "output_type": "stream",
     "text": [
      "Dies ist die Funktion von dir und mir\n"
     ]
    }
   ],
   "source": [
    "# Funktion mit default-Parametern\n",
    "def myFunction(name1 =\"dir\", name2 = \"mir\"):\n",
    "    print(\"Dies ist die Funktion von \"+ name1 + \" und \" + name2)\n",
    "\n",
    "myFunction()"
   ]
  },
  {
   "cell_type": "code",
   "execution_count": 179,
   "id": "caring-confirmation",
   "metadata": {},
   "outputs": [
    {
     "name": "stdout",
     "output_type": "stream",
     "text": [
      "Dies ist die Funktion von: \n",
      "Tick\n",
      "Trick\n",
      "Track\n"
     ]
    }
   ],
   "source": [
    "# Funktion mit beliebiger Anzahl von Parametern\n",
    "def myFunction(*namen):\n",
    "    print(\"Dies ist die Funktion von: \")\n",
    "    for name in namen:\n",
    "        print(name)\n",
    "\n",
    "myFunction(\"Tick\", \"Trick\", \"Track\")"
   ]
  },
  {
   "cell_type": "code",
   "execution_count": 182,
   "id": "conscious-landscape",
   "metadata": {},
   "outputs": [
    {
     "name": "stdout",
     "output_type": "stream",
     "text": [
      "Sein Nachname lautet Duck\n"
     ]
    }
   ],
   "source": [
    "def myFunction(vorname, nachname):\n",
    "    return(\"Sein Nachname lautet \" + nachname)\n",
    "\n",
    "lname = myFunction(\"Donald\", \"Duck\")\n",
    "print(lname)"
   ]
  },
  {
   "cell_type": "code",
   "execution_count": 183,
   "id": "complicated-today",
   "metadata": {},
   "outputs": [
    {
     "name": "stdout",
     "output_type": "stream",
     "text": [
      "Sein Nachname lautet Duck\n",
      "Donald\n"
     ]
    }
   ],
   "source": [
    "def myFunction(vorname, nachname):\n",
    "    vorname = \"Dagobert\"\n",
    "    return(\"Sein Nachname lautet \" + nachname)\n",
    "    \n",
    "\n",
    "vorname = \"Donald\"; nachname=\"Duck\"\n",
    "print(myFunction(\"Donald\", \"Duck\"))\n",
    "print(vorname)"
   ]
  },
  {
   "cell_type": "code",
   "execution_count": 178,
   "id": "resident-trial",
   "metadata": {},
   "outputs": [],
   "source": [
    "# Funktionsparameter als Dictionary\n",
    "def myFunction(**names):\n",
    "    print(\"Sein Nachname lautet \" + names[\"lname\"])\n",
    "\n",
    "myFunction(fname = \"Donald\", lname = \"Duck\")"
   ]
  },
  {
   "cell_type": "markdown",
   "id": "fuzzy-aside",
   "metadata": {},
   "source": [
    "## Lambda-Funktionen\n"
   ]
  },
  {
   "cell_type": "code",
   "execution_count": 192,
   "id": "everyday-influence",
   "metadata": {},
   "outputs": [
    {
     "name": "stdout",
     "output_type": "stream",
     "text": [
      "15\n"
     ]
    }
   ],
   "source": [
    "# Syntax: lambda arguments : expression\n",
    "x = lambda a : a + 10\n",
    "print(x(5))"
   ]
  },
  {
   "cell_type": "code",
   "execution_count": 196,
   "id": "scenic-atmosphere",
   "metadata": {},
   "outputs": [
    {
     "name": "stdout",
     "output_type": "stream",
     "text": [
      "15\n"
     ]
    }
   ],
   "source": [
    "# Syntax: lambda arguments : expression\n",
    "x = lambda a, b : a * b\n",
    "print(x(5,3))"
   ]
  },
  {
   "cell_type": "code",
   "execution_count": 198,
   "id": "wrapped-reading",
   "metadata": {},
   "outputs": [
    {
     "name": "stdout",
     "output_type": "stream",
     "text": [
      "22\n",
      "33\n"
     ]
    }
   ],
   "source": [
    "# Die Funktion gibt eine Funktion zurück, der Parameter ersetzt n\n",
    "def myfunc(n):\n",
    "    return lambda a : a * n\n",
    "\n",
    "mydoubler = myfunc(2)\n",
    "mytripler = myfunc(3)\n",
    "\n",
    "print(mydoubler(11))\n",
    "print(mytripler(11))"
   ]
  },
  {
   "cell_type": "markdown",
   "id": "domestic-medication",
   "metadata": {},
   "source": [
    "## Spezialthema: ByValue oder ByReference?\n",
    "Quelle: https://stackoverflow.com/questions/986006/how-do-i-pass-a-variable-by-reference\n"
   ]
  },
  {
   "cell_type": "code",
   "execution_count": 184,
   "id": "democratic-purse",
   "metadata": {},
   "outputs": [
    {
     "name": "stdout",
     "output_type": "stream",
     "text": [
      "before, outer_list = ['one', 'two', 'three']\n",
      "got ['one', 'two', 'three']\n",
      "changed to ['one', 'two', 'three', 'four']\n",
      "after, outer_list = ['one', 'two', 'three', 'four']\n"
     ]
    }
   ],
   "source": [
    "# Listen sind veränderbar (mutable type)\n",
    "def try_to_change_list_contents(the_list):\n",
    "    print('got', the_list)\n",
    "    the_list.append('four')\n",
    "    print('changed to', the_list)\n",
    "\n",
    "outer_list = ['one', 'two', 'three']\n",
    "\n",
    "print('before, outer_list =', outer_list)\n",
    "try_to_change_list_contents(outer_list)\n",
    "print('after, outer_list =', outer_list)"
   ]
  },
  {
   "cell_type": "code",
   "execution_count": 185,
   "id": "seeing-jaguar",
   "metadata": {},
   "outputs": [
    {
     "name": "stdout",
     "output_type": "stream",
     "text": [
      "before, outer_list = ['we', 'like', 'proper', 'English']\n",
      "got ['we', 'like', 'proper', 'English']\n",
      "set to ['and', 'we', 'can', 'not', 'lie']\n",
      "after, outer_list = ['we', 'like', 'proper', 'English']\n"
     ]
    }
   ],
   "source": [
    "# Wenn die Referenz sich ändert bleibt die original Liste unverändert\n",
    "def try_to_change_list_reference(the_list):\n",
    "    print('got', the_list)\n",
    "    the_list = ['and', 'we', 'can', 'not', 'lie']\n",
    "    print('set to', the_list)\n",
    "\n",
    "outer_list = ['we', 'like', 'proper', 'English']\n",
    "\n",
    "print('before, outer_list =', outer_list)\n",
    "try_to_change_list_reference(outer_list)\n",
    "print('after, outer_list =', outer_list)"
   ]
  },
  {
   "cell_type": "code",
   "execution_count": 186,
   "id": "consistent-selling",
   "metadata": {},
   "outputs": [],
   "source": [
    "# Strings sind nicht veränderbar (immutable type)\n",
    "def try_to_change_string_reference(the_string):\n",
    "    print('got', the_string)\n",
    "    the_string = 'In a kingdom by the sea'\n",
    "    print('set to', the_string)\n",
    "\n",
    "outer_string = 'It was many and many a year ago'\n",
    "\n",
    "print('before, outer_string =', outer_string)\n",
    "try_to_change_string_reference(outer_string)\n",
    "print('after, outer_string =', outer_string)"
   ]
  },
  {
   "cell_type": "code",
   "execution_count": 189,
   "id": "proper-dependence",
   "metadata": {},
   "outputs": [
    {
     "name": "stdout",
     "output_type": "stream",
     "text": [
      "before, outer_string = It was many and many a year ago\n",
      "got It was many and many a year ago\n",
      "set to It was many and many a year ago\n",
      "after, outer_string = It was many and many a year ago\n"
     ]
    }
   ],
   "source": [
    "# Strings sind nicht veränderbar (immutable type)\n",
    "def try_to_change_string_reference(the_string):\n",
    "    print('got', the_string)\n",
    "    the_string.replace(\"was\",\"is\")\n",
    "    print('set to', the_string)\n",
    "\n",
    "outer_string = 'It was many and many a year ago'\n",
    "\n",
    "print('before, outer_string =', outer_string)\n",
    "try_to_change_string_reference(outer_string)\n",
    "print('after, outer_string =', outer_string)"
   ]
  },
  {
   "cell_type": "markdown",
   "id": "aging-amino",
   "metadata": {},
   "source": [
    "Listen\n",
    "(reversed, filter, slice)"
   ]
  },
  {
   "cell_type": "markdown",
   "id": "square-vision",
   "metadata": {},
   "source": [
    "# Klassen (ToDo)"
   ]
  },
  {
   "cell_type": "code",
   "execution_count": 204,
   "id": "expanded-civilian",
   "metadata": {},
   "outputs": [],
   "source": []
  },
  {
   "cell_type": "code",
   "execution_count": 204,
   "id": "fatty-cricket",
   "metadata": {},
   "outputs": [],
   "source": []
  },
  {
   "cell_type": "markdown",
   "id": "successful-peace",
   "metadata": {},
   "source": [
    "# Module (ToDo)"
   ]
  },
  {
   "cell_type": "code",
   "execution_count": null,
   "id": "focal-aging",
   "metadata": {},
   "outputs": [],
   "source": []
  },
  {
   "cell_type": "code",
   "execution_count": null,
   "id": "improved-sucking",
   "metadata": {},
   "outputs": [],
   "source": []
  },
  {
   "cell_type": "markdown",
   "id": "electrical-peter",
   "metadata": {},
   "source": [
    "# Disconnect"
   ]
  },
  {
   "cell_type": "code",
   "execution_count": 149,
   "id": "trained-roller",
   "metadata": {},
   "outputs": [
    {
     "name": "stdout",
     "output_type": "stream",
     "text": [
      "\u001b[34mattempt to exit paste mode\n",
      "\u001b[0m\u001b[34m[\\r\\x03\\x02] \u001b[0mb'\\r\\nMicroPython v1.14 on 2021-02-02; Raspberry Pi Pico with RP2040\\r\\nType \"help()\" for more information.\\r\\n>>> '\u001b[34m\n",
      "Closing serial Serial<id=0x2093429aca0, open=True>(port='COM13', baudrate=115200, bytesize=8, parity='N', stopbits=1, timeout=0.5, xonxoff=False, rtscts=False, dsrdtr=False)\n",
      "\u001b[0m"
     ]
    }
   ],
   "source": [
    "%disconnect"
   ]
  }
 ],
 "metadata": {
  "kernelspec": {
   "display_name": "MicroPython - USB",
   "language": "micropython",
   "name": "micropython"
  },
  "language_info": {
   "codemirror_mode": "python",
   "file_extension": ".py",
   "mimetype": "text/python",
   "name": "micropython"
  }
 },
 "nbformat": 4,
 "nbformat_minor": 5
}
