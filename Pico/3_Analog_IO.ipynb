{
 "cells": [
  {
   "cell_type": "markdown",
   "source": [
    "# Analog I/O\n",
    "\n",
    "* *__Board: RPi Pico__*\n",
    "* *__Firmware: Micropython 1.14 (2021-02-05)__*\n",
    "* *__Kernel: MicroPyhton - USB__*\n",
    "\n",
    "In diesem Kapitel geht es um die \"analogen\" Ein- und Ausgangsschaltungen des RPi Pico."
   ],
   "metadata": {}
  },
  {
   "cell_type": "code",
   "execution_count": 22,
   "source": [
    "%serialconnect"
   ],
   "outputs": [
    {
     "output_type": "stream",
     "name": "stdout",
     "text": [
      "\u001b[34mConnecting to --port=COM4 --baud=115200 \u001b[0m\n",
      "\u001b[34mReady.\n",
      "\u001b[0m"
     ]
    }
   ],
   "metadata": {}
  },
  {
   "cell_type": "markdown",
   "source": [
    "## PWM\n",
    "Pulsdauermodulation"
   ],
   "metadata": {}
  },
  {
   "cell_type": "code",
   "execution_count": 4,
   "source": [
    "help(\"modules\")\r\n",
    "help(machine)\r\n",
    "help(machine.PWM)"
   ],
   "outputs": [
    {
     "output_type": "stream",
     "name": "stdout",
     "text": [
      "__main__          gc                uasyncio/event    ujson\n",
      "_boot             machine           uasyncio/funcs    uos\n",
      "_onewire          math              uasyncio/lock     urandom\n",
      "_rp2              micropython       uasyncio/stream   ure\n",
      "_thread           onewire           ubinascii         uselect\n",
      "_uasyncio         rp2               ucollections      ustruct\n",
      "builtins          uarray            uctypes           usys\n",
      "ds18x20           uasyncio/__init__ uhashlib          utime\n",
      "framebuf          uasyncio/core     uio               uzlib\n",
      "Plus any modules on the filesystem\n",
      "object <module 'umachine'> is of type module\n",
      "  __name__ -- umachine\n",
      "  unique_id -- <function>\n",
      "  soft_reset -- <function>\n",
      "  reset -- <function>\n",
      "  reset_cause -- <function>\n",
      "  bootloader -- <function>\n",
      "  freq -- <function>\n",
      "  idle -- <function>\n",
      "  lightsleep -- <function>\n",
      "  deepsleep -- <function>\n",
      "  disable_irq -- <function>\n",
      "  enable_irq -- <function>\n",
      "  time_pulse_us -- <function>\n",
      "  mem8 -- <8-bit memory>\n",
      "  mem16 -- <16-bit memory>\n",
      "  mem32 -- <32-bit memory>\n",
      "  ADC -- <class 'ADC'>\n",
      "  I2C -- <class 'I2C'>\n",
      "  SoftI2C -- <class 'SoftI2C'>\n",
      "  Pin -- <class 'Pin'>\n",
      "  PWM -- <class 'PWM'>\n",
      "  SPI -- <class 'SPI'>\n",
      "  SoftSPI -- <class 'SoftSPI'>\n",
      "  Timer -- <class 'Timer'>\n",
      "  UART -- <class 'UART'>\n",
      "  WDT -- <class 'WDT'>\n",
      "  PWRON_RESET -- 1\n",
      "  WDT_RESET -- 3\n",
      "object <class 'PWM'> is of type type\n",
      "  deinit -- <function>\n",
      "  freq -- <function>\n",
      "  duty_u16 -- <function>\n",
      "  duty_ns -- <function>\n"
     ]
    }
   ],
   "metadata": {}
  },
  {
   "cell_type": "code",
   "execution_count": 8,
   "source": [
    "import machine\r\n",
    "from machine import PWM, Pin\r\n",
    "help(Pin)\r\n",
    "help(PWM)"
   ],
   "outputs": [
    {
     "output_type": "stream",
     "name": "stdout",
     "text": [
      "object <class 'Pin'> is of type type\n",
      "  init -- <function>\n",
      "  value -- <function>\n",
      "  low -- <function>\n",
      "  high -- <function>\n",
      "  off -- <function>\n",
      "  on -- <function>\n",
      "  toggle -- <function>\n",
      "  irq -- <function>\n",
      "  IN -- 0\n",
      "  OUT -- 1\n",
      "  OPEN_DRAIN -- 2\n",
      "  ALT -- 3\n",
      "  PULL_UP -- 1\n",
      "  PULL_DOWN -- 2\n",
      "  IRQ_RISING -- 8\n",
      "  IRQ_FALLING -- 4\n",
      "object <class 'PWM'> is of type type\n",
      "  deinit -- <function>\n",
      "  freq -- <function>\n",
      "  duty_u16 -- <function>\n",
      "  duty_ns -- <function>\n"
     ]
    }
   ],
   "metadata": {}
  },
  {
   "cell_type": "code",
   "execution_count": null,
   "source": [
    "# Initialisiere die Onboard-LED als Ausgang\r\n",
    "onboard_led = Pin(25, Pin.OUT)\r\n",
    "\r\n",
    "# Ausgabe des aktuellen Ausgangszustand\r\n",
    "print(onboard_led.value())\r\n",
    "onboard_led.high()"
   ],
   "outputs": [],
   "metadata": {}
  },
  {
   "cell_type": "code",
   "execution_count": 16,
   "source": [
    "from machine import Pin, PWM\r\n",
    "\r\n",
    "# Erst wird der Pin initialisiert, dann eine PWM-instanz auf Basies des Pins\r\n",
    "onboard_led = Pin(25, Pin.OUT)\r\n",
    "onboard_pwm = PWM(onboard_led)\r\n",
    "\r\n",
    "# Inhalte der beiden Klassen\r\n",
    "print(dir(onboard_led))\r\n",
    "print(dir(onboard_pwm))\r\n",
    "\r\n",
    "# Einstellen einer Basisfrequenz (hier 500 Hz, default 1907 hz) (Max )\r\n",
    "onboard_pwm.freq(500)\r\n",
    "# Einstellen des An- zu Ausverhältnisses. 16 Bit-Zahl (Wertebereich 0 - 65025)\r\n",
    "onboard_pwm.duty_u16(30000)\r\n",
    "\r\n",
    "print(onboard_pwm)"
   ],
   "outputs": [
    {
     "output_type": "stream",
     "name": "stdout",
     "text": [
      "['__class__', 'value', 'ALT', 'IN', 'IRQ_FALLING', 'IRQ_RISING', 'OPEN_DRAIN', 'OUT', 'PULL_DOWN', 'PULL_UP', 'high', 'init', 'irq', 'low', 'off', 'on', 'toggle']\n",
      "['__class__', 'deinit', 'duty_ns', 'duty_u16', 'freq']\n",
      "<PWM slice=4 channel=1>\n"
     ]
    }
   ],
   "metadata": {}
  },
  {
   "cell_type": "code",
   "execution_count": 17,
   "source": [
    "from machine import Pin, PWM\r\n",
    "\r\n",
    "led1 = PWM(Pin(14, Pin.OUT))\r\n",
    "led2 = PWM(Pin(15, Pin.OUT)) \r\n",
    "\r\n",
    "# Beide LEDs sind von der Frequenzänderung betroffen (Slice)\r\n",
    "print(led1.freq())\r\n",
    "led2.freq(10)  # minmum 10 Hz\r\n",
    "print(led1.freq())\r\n",
    "\r\n",
    "print(led1)\r\n",
    "print(led2)\r\n",
    "\r\n",
    "print(onboard_pwm)\r\n",
    "print (onboard_pwm.freq())\r\n",
    "\r\n",
    "led1.duty_u16(15000)\r\n",
    "led2.duty_u16(30000)"
   ],
   "outputs": [
    {
     "output_type": "stream",
     "name": "stdout",
     "text": [
      "1907\n",
      "1907\n",
      "<PWM slice=7 channel=0>\n",
      "<PWM slice=6 channel=1>\n",
      "<PWM slice=4 channel=1>\n",
      "500\n"
     ]
    }
   ],
   "metadata": {}
  },
  {
   "cell_type": "code",
   "execution_count": 21,
   "source": [
    "# Liste welche Pins zusammen gehören \r\n",
    "from machine import Pin, PWM\r\n",
    "\r\n",
    "for i in range(0,29):\r\n",
    "    test_pwm = PWM(Pin(i,Pin.OUT))\r\n",
    "    print(\"Pin\"+str(i)  + \": \" +  str(test_pwm))"
   ],
   "outputs": [
    {
     "output_type": "stream",
     "name": "stdout",
     "text": [
      "Pin0: <PWM slice=0 channel=0>\n",
      "Pin1: <PWM slice=0 channel=1>\n",
      "Pin2: <PWM slice=1 channel=0>\n",
      "Pin3: <PWM slice=1 channel=1>\n",
      "Pin4: <PWM slice=2 channel=0>\n",
      "Pin5: <PWM slice=2 channel=1>\n",
      "Pin6: <PWM slice=3 channel=0>\n",
      "Pin7: <PWM slice=3 channel=1>\n",
      "Pin8: <PWM slice=4 channel=0>\n",
      "Pin9: <PWM slice=4 channel=1>\n",
      "Pin10: <PWM slice=5 channel=0>\n",
      "Pin11: <PWM slice=5 channel=1>\n",
      "Pin12: <PWM slice=6 channel=0>\n",
      "Pin13: <PWM slice=6 channel=1>\n",
      "Pin14: <PWM slice=7 channel=0>\n",
      "Pin15: <PWM slice=7 channel=1>\n",
      "Pin16: <PWM slice=0 channel=0>\n",
      "Pin17: <PWM slice=0 channel=1>\n",
      "Pin18: <PWM slice=1 channel=0>\n",
      "Pin19: <PWM slice=1 channel=1>\n",
      "Pin20: <PWM slice=2 channel=0>\n",
      "Pin21: <PWM slice=2 channel=1>\n",
      "Pin22: <PWM slice=3 channel=0>\n",
      "Pin23: <PWM slice=3 channel=1>\n",
      "Pin24: <PWM slice=4 channel=0>\n",
      "Pin25: <PWM slice=4 channel=1>\n",
      "Pin26: <PWM slice=5 channel=0>\n",
      "Pin27: <PWM slice=5 channel=1>\n",
      "Pin28: <PWM slice=6 channel=0>\n"
     ]
    }
   ],
   "metadata": {}
  },
  {
   "cell_type": "code",
   "execution_count": 33,
   "source": [
    "# Miniaugabe: Oberes Beispiel auf zwei unabhängige Pins "
   ],
   "outputs": [],
   "metadata": {
    "tags": []
   }
  },
  {
   "cell_type": "markdown",
   "source": [
    "## Aufgabe: PWM Fade\n",
    "Zwei LEDs an Pins 14 und 15 sollen die Helligkeit kontinuierlich erhöhen/verringern (Faden). Dabei sollen beide LEDs immer die gegenläufige Helligkeit anzeigen.\n",
    "\n",
    "![Pico_DIO_Led1_Steckplatine.png](Fritzing/Pico_DIO_Led1_Steckplatine.png \"Aufbau mit zwei Leds\")"
   ],
   "metadata": {
    "tags": []
   }
  },
  {
   "cell_type": "code",
   "execution_count": 14,
   "source": [
    "# Neustart des Boards \r\n",
    "help(machine)\r\n",
    "machine.reset()"
   ],
   "outputs": [
    {
     "output_type": "stream",
     "name": "stdout",
     "text": [
      "object <module 'umachine'> is of type module\n",
      "  __name__ -- umachine\n",
      "  unique_id -- <function>\n",
      "  soft_reset -- <function>\n",
      "  reset -- <function>\n",
      "  reset_cause -- <function>\n",
      "  bootloader -- <function>\n",
      "  freq -- <function>\n",
      "  idle -- <function>\n",
      "  lightsleep -- <function>\n",
      "  deepsleep -- <function>\n",
      "  disable_irq -- <function>\n",
      "  enable_irq -- <function>\n",
      "  time_pulse_us -- <function>\n",
      "  mem8 -- <8-bit memory>\n",
      "  mem16 -- <16-bit memory>\n",
      "  mem32 -- <32-bit memory>\n",
      "  ADC -- <class 'ADC'>\n",
      "  I2C -- <class 'I2C'>\n",
      "  SoftI2C -- <class 'SoftI2C'>\n",
      "  Pin -- <class 'Pin'>\n",
      "\n",
      "**[ys] <class 'serial.serialutil.SerialException'>\n",
      "**[ys] ClearCommError failed (OSError(22, 'Der E/A-Vorgang wurde wegen eines Threadendes oder einer Anwendungsanforderung abgebrochen.', None, 995))\n",
      "\n",
      "\n",
      "**[ys] <class 'serial.serialutil.SerialException'>\n",
      "**[ys] ClearCommError failed (PermissionError(13, 'Das Gerät erkennt den Befehl nicht.', None, 22))\n",
      "\n"
     ]
    }
   ],
   "metadata": {
    "collapsed": true,
    "jupyter": {
     "outputs_hidden": true,
     "source_hidden": true
    },
    "tags": []
   }
  },
  {
   "cell_type": "markdown",
   "source": [
    "# ADC\n",
    "Analoge Digital Converter"
   ],
   "metadata": {}
  },
  {
   "cell_type": "code",
   "execution_count": 24,
   "source": [
    "help(machine)\r\n",
    "help(machine.ADC)"
   ],
   "outputs": [
    {
     "output_type": "stream",
     "name": "stdout",
     "text": [
      "object <module 'umachine'> is of type module\n",
      "  __name__ -- umachine\n",
      "  unique_id -- <function>\n",
      "  soft_reset -- <function>\n",
      "  reset -- <function>\n",
      "  reset_cause -- <function>\n",
      "  bootloader -- <function>\n",
      "  freq -- <function>\n",
      "  idle -- <function>\n",
      "  lightsleep -- <function>\n",
      "  deepsleep -- <function>\n",
      "  disable_irq -- <function>\n",
      "  enable_irq -- <function>\n",
      "  time_pulse_us -- <function>\n",
      "  mem8 -- <8-bit memory>\n",
      "  mem16 -- <16-bit memory>\n",
      "  mem32 -- <32-bit memory>\n",
      "  ADC -- <class 'ADC'>\n",
      "  I2C -- <class 'I2C'>\n",
      "  SoftI2C -- <class 'SoftI2C'>\n",
      "  Pin -- <class 'Pin'>\n",
      "  PWM -- <class 'PWM'>\n",
      "  SPI -- <class 'SPI'>\n",
      "  SoftSPI -- <class 'SoftSPI'>\n",
      "  Timer -- <class 'Timer'>\n",
      "  UART -- <class 'UART'>\n",
      "  WDT -- <class 'WDT'>\n",
      "  PWRON_RESET -- 1\n",
      "  WDT_RESET -- 3\n",
      "object <class 'ADC'> is of type type\n",
      "  read_u16 -- <function>\n",
      "  CORE_TEMP -- 4\n"
     ]
    }
   ],
   "metadata": {}
  },
  {
   "cell_type": "code",
   "execution_count": 32,
   "source": [
    "from machine import Pin, ADC\r\n",
    "import time\r\n",
    "\r\n",
    "\r\n",
    "# ADC Pins: 26, 27, 28\r\n",
    "\r\n",
    "# Pin 26 wird als analoger Eingang geschaltet\r\n",
    "adc = ADC(Pin(26))\r\n",
    "\r\n",
    "while True:\r\n",
    "    # Auslesen des aktuellen Wertes\r\n",
    "    print(adc.read_u16())\r\n",
    "    time.sleep(1)\r\n"
   ],
   "outputs": [
    {
     "output_type": "stream",
     "name": "stdout",
     "text": [
      "4337\n",
      "768\n",
      "19140\n",
      "20180\n",
      "20981\n",
      "\u001b[34m\n",
      "\n",
      "*** Sending Ctrl-C\n",
      "\n",
      "\u001b[0m"
     ]
    },
    {
     "output_type": "stream",
     "name": "stderr",
     "text": [
      "Traceback (most recent call last):\n",
      "  File \"<stdin>\", line 10, in <module>\n",
      "KeyboardInterrupt: \n"
     ]
    }
   ],
   "metadata": {}
  },
  {
   "cell_type": "markdown",
   "source": [
    "# Aufgabe: Helligkeit einer LED einstellen\n",
    "\n",
    "Ein Poti soll genutzt werden um die Helligkeit einer LED zu steuern.\n",
    "\n",
    "\n",
    "![Pico_DIO_Poti1_Steckplatine](Fritzing/Pico_DIO_Poti1_Steckplatine.png \"Poti an IO26, LED an IO15\")\n",
    "Poti an IO26, LED an IO15."
   ],
   "metadata": {}
  },
  {
   "cell_type": "markdown",
   "source": [
    "# Lösungen"
   ],
   "metadata": {}
  },
  {
   "cell_type": "code",
   "execution_count": 43,
   "source": [
    "# Aufgabe: PWM Fade\r\n",
    "\r\n",
    "from machine import Pin, PWM\r\n",
    "\r\n",
    "led1 = PWM(Pin(15, Pin.OUT))\r\n",
    "led2 = PWM(Pin(14, Pin.OUT)) \r\n",
    "\r\n",
    "for i in range(65535):\r\n",
    "    led1.duty_u16(i)\r\n",
    "    led2.duty_u16(65535-i)\r\n",
    "\r\n",
    "for i in range(65535,0,-1):\r\n",
    "    led1.duty_u16(i)\r\n",
    "    led2.duty_u16(65535-i)"
   ],
   "outputs": [
    {
     "output_type": "stream",
     "name": "stdout",
     "text": [
      "."
     ]
    }
   ],
   "metadata": {}
  },
  {
   "cell_type": "code",
   "execution_count": 45,
   "source": [
    "# Aufgabe: Helligkeit einer LED einstellen\r\n",
    "\r\n",
    "from machine import Pin, ADC, PWM\r\n",
    "import time\r\n",
    "\r\n",
    "# Pin 26 wird als analoger Eingang geschaltet, Pin 15 als Ausgang\r\n",
    "adc = ADC(Pin(26))\r\n",
    "led = PWM(Pin(15, Pin.OUT))\r\n",
    "\r\n",
    "while True:\r\n",
    "    # Auslesen des aktuellen Wertes und Übertragung auf die LED\r\n",
    "    led.duty_u16(adc.read_u16())"
   ],
   "outputs": [
    {
     "output_type": "stream",
     "name": "stdout",
     "text": [
      "\u001b[34m\n",
      "\n",
      "*** Sending Ctrl-C\n",
      "\n",
      "\u001b[0m"
     ]
    },
    {
     "output_type": "stream",
     "name": "stderr",
     "text": [
      "Traceback (most recent call last):\n",
      "  File \"<stdin>\", line 12, in <module>\n",
      "KeyboardInterrupt: \n"
     ]
    }
   ],
   "metadata": {}
  },
  {
   "cell_type": "code",
   "execution_count": 46,
   "source": [
    "%disconnect"
   ],
   "outputs": [
    {
     "output_type": "stream",
     "name": "stdout",
     "text": [
      "\u001b[34mattempt to exit paste mode\n",
      "\u001b[0m\u001b[34m[\\r\\x03\\x02] \u001b[0mb'\\r\\nMicroPython v1.14 on 2021-02-05; Raspberry Pi Pico with RP2040\\r\\nType \"help()\" for more information.\\r\\n>>> '\u001b[34m\n",
      "Closing serial Serial<id=0x143422d3940, open=True>(port='COM4', baudrate=115200, bytesize=8, parity='N', stopbits=1, timeout=0.5, xonxoff=False, rtscts=False, dsrdtr=False)\n",
      "\u001b[0m"
     ]
    }
   ],
   "metadata": {}
  },
  {
   "cell_type": "code",
   "execution_count": null,
   "source": [],
   "outputs": [],
   "metadata": {}
  }
 ],
 "metadata": {
  "kernelspec": {
   "display_name": "MicroPython - USB",
   "language": "micropython",
   "name": "micropython"
  },
  "language_info": {
   "codemirror_mode": "python",
   "file_extension": ".py",
   "mimetype": "text/python",
   "name": "micropython"
  }
 },
 "nbformat": 4,
 "nbformat_minor": 5
}