{
 "cells": [
  {
   "cell_type": "markdown",
   "source": [
    "# Python / MicroPython Einstieg\r\n",
    "\r\n",
    "* *__Board: RPi Pico__*\r\n",
    "* *__Firmware: MicroPython 1.14 (2021-02-05)__*\r\n",
    "* *__Kernel: MicroPython - USB__*\r\n",
    "\r\n",
    "Dieses Notebook soll als Einstieg in Python bzw. konkret in MicroPython dienen. Es werden vor \r\n",
    "allem grundlegende Befehle und Keywords behandelt, sowie die builtin-Funktionen und Klassen.\r\n",
    "\r\n",
    "\r\n",
    "### Mögliche Grundlagen Python/MicroPython Themen\r\n",
    "Hier:\r\n",
    "- exec, eval, keywords allgemein, pass\r\n",
    "- Generelle Befehle\r\n",
    "- buildins\r\n",
    "- klassen : \r\n",
    "hasattr.\r\n",
    "type, isinstance\r\n",
    "\r\n",
    "### ToDo:\r\n",
    "    - Klassen\r\n",
    "    - Keywords ergänzen"
   ],
   "metadata": {}
  },
  {
   "cell_type": "markdown",
   "source": [
    "# Connect"
   ],
   "metadata": {}
  },
  {
   "cell_type": "code",
   "execution_count": 108,
   "source": [
    "%serialconnect --port=COM6"
   ],
   "outputs": [
    {
     "output_type": "stream",
     "name": "stdout",
     "text": [
      "\u001b[34mConnecting to --port=COM6 --baud=115200 \u001b[0m\n",
      "\u001b[34mReady.\n",
      "\u001b[0m"
     ]
    }
   ],
   "metadata": {}
  },
  {
   "cell_type": "markdown",
   "source": [
    "# Erste Schritte"
   ],
   "metadata": {}
  },
  {
   "cell_type": "code",
   "execution_count": 19,
   "source": [
    "print(\"Hello World!\")\r\n",
    "print(\"\\n\")   # Sonderzeichen für neue Zeile\r\n",
    "print(\"Neue Zeile\")"
   ],
   "outputs": [
    {
     "output_type": "stream",
     "name": "stdout",
     "text": [
      "Hello World!\n",
      "\n",
      "\n",
      "Neue Zeile\n"
     ]
    }
   ],
   "metadata": {}
  },
  {
   "cell_type": "code",
   "execution_count": 20,
   "source": [
    "# Kommentare mit \r\n",
    "\r\n",
    "print(\"Hello World\") # Kommentar zu dieser Zeile\r\n",
    "\r\n",
    "# Mehrzeilige Kommentare existieren nicht in Python. Ein workaround ist die Verwendung eines mehrzeiligen Strings, da Python (auch MPython) \r\n",
    "# String die keiner Variable zugeordnet wurden ignoriert. \r\n",
    "\"\"\"\r\n",
    "Kommentare über mehrere Zeilen \r\n",
    "Kommentarzeile 1\r\n",
    "Kommentarzeile 2\r\n",
    "....\r\n",
    "\"\"\""
   ],
   "outputs": [
    {
     "output_type": "stream",
     "name": "stdout",
     "text": [
      "Hello World\n"
     ]
    }
   ],
   "metadata": {}
  },
  {
   "cell_type": "code",
   "execution_count": 21,
   "source": [
    "# Einrücken von Code-Blöcken\r\n",
    "if 5 > 2:\r\n",
    " print(\"Five is greater than two!\")  # Möglich aber kein guter Stil!\r\n",
    "if 5 > 2:\r\n",
    "        print(\"Five is greater than two!\") "
   ],
   "outputs": [
    {
     "output_type": "stream",
     "name": "stdout",
     "text": [
      "Five is greater than two!\n",
      "Five is greater than two!\n"
     ]
    }
   ],
   "metadata": {}
  },
  {
   "cell_type": "code",
   "execution_count": 22,
   "source": [
    "# Verschachteln von Befehlen\r\n",
    "print((3 + 5) * 3)\r\n",
    "\r\n",
    "# Mehrere Befehle in eine Zeile\r\n",
    "print(\"Zeile 1\");print(\"Zeile 2\");print(\"Zeile 3\")"
   ],
   "outputs": [
    {
     "output_type": "stream",
     "name": "stdout",
     "text": [
      "24\n",
      "Zeile 1\n",
      "Zeile 2\n",
      "Zeile 3\n"
     ]
    }
   ],
   "metadata": {}
  },
  {
   "cell_type": "code",
   "execution_count": 23,
   "source": [
    "# Funktionen definieren\r\n",
    "\r\n",
    "#myFunction() # !! Hier kann die Funktion noch nicht aufgerufen werden\r\n",
    "\r\n",
    "def myFunction():\r\n",
    "    print(\"Dies ist meine Funktion\")\r\n",
    "\r\n",
    "myFunction()"
   ],
   "outputs": [
    {
     "output_type": "stream",
     "name": "stdout",
     "text": [
      "Dies ist meine Funktion\n"
     ]
    }
   ],
   "metadata": {}
  },
  {
   "cell_type": "code",
   "execution_count": 24,
   "source": [
    "# Hilfe-Funktion\r\n",
    "help()\r\n",
    "\r\n",
    "help(\"modules\")\r\n",
    "\r\n",
    "# Einbinden eines Modules\r\n",
    "import builtins\r\n",
    "# Hilfe zum Modul\r\n",
    "help(builtins)"
   ],
   "outputs": [
    {
     "output_type": "stream",
     "name": "stdout",
     "text": [
      "Welcome to MicroPython!\n",
      "\n",
      "For online help please visit https://micropython.org/help/.\n",
      "\n",
      "For access to the hardware use the 'machine' module.  RP2 specific commands\n",
      "are in the 'rp2' module.\n",
      "\n",
      "Quick overview of some objects:\n",
      "  machine.Pin(pin) -- get a pin, eg machine.Pin(0)\n",
      "  machine.Pin(pin, m, [p]) -- get a pin and configure it for IO mode m, pull mode p\n",
      "    methods: init(..), value([v]), high(), low(), irq(handler)\n",
      "  machine.ADC(pin) -- make an analog object from a pin\n",
      "    methods: read_u16()\n",
      "  machine.PWM(pin) -- make a PWM object from a pin\n",
      "    methods: deinit(), freq([f]), duty_u16([d]), duty_ns([d])\n",
      "  machine.I2C(id) -- create an I2C object (id=0,1)\n",
      "    methods: readfrom(addr, buf, stop=True), writeto(addr, buf, stop=True)\n",
      "             readfrom_mem(addr, memaddr, arg), writeto_mem(addr, memaddr, arg)\n",
      "  machine.SPI(id, baudrate=1000000) -- create an SPI object (id=0,1)\n",
      "    methods: read(nbytes, write=0x00), write(buf), write_readinto(wr_buf, rd_buf)\n",
      "  machine.Timer(freq, callback) -- create a software timer object\n",
      "    eg: machine.Timer(freq=1, callback=lambda t:print(t))\n",
      "\n",
      "Pins are numbered 0-29, and 26-29 have ADC capabilities\n",
      "Pin IO modes are: Pin.IN, Pin.OUT, Pin.ALT\n",
      "Pin pull modes are: Pin.PULL_UP, Pin.PULL_DOWN\n",
      "\n",
      "Useful control commands:\n",
      "  CTRL-C -- interrupt a running program\n",
      "  CTRL-D -- on a blank line, do a soft reset of the board\n",
      "  CTRL-E -- on a blank line, enter paste mode\n",
      "\n",
      "For further help on a specific object, type help(obj)\n",
      "For a list of available modules, type help('modules')\n",
      "__main__          gc                uasyncio/funcs    uos\n",
      "_boot             machine           uasyncio/lock     urandom\n",
      "_onewire          math              uasyncio/stream   ure\n",
      "_rp2              micropython       ubinascii         uselect\n",
      "_thread           onewire           ucollections      ustruct\n",
      "_uasyncio         rp2               uctypes           usys\n",
      "builtins          uarray            uerrno            utime\n",
      "cmath             uasyncio/__init__ uhashlib          uzlib\n",
      "ds18x20           uasyncio/core     uio\n",
      "framebuf          uasyncio/event    ujson\n",
      "Plus any modules on the filesystem\n",
      "object <module 'builtins'> is of type module\n",
      "  __name__ -- builtins\n",
      "  __build_class__ -- <function>\n",
      "  __import__ -- <function>\n",
      "  __repl_print__ -- <function>\n",
      "  bool -- <class 'bool'>\n",
      "  bytes -- <class 'bytes'>\n",
      "  bytearray -- <class 'bytearray'>\n",
      "  complex -- <class 'complex'>\n",
      "  dict -- <class 'dict'>\n",
      "  enumerate -- <class 'enumerate'>\n",
      "  filter -- <class 'filter'>\n",
      "  float -- <class 'float'>\n",
      "  frozenset -- <class 'frozenset'>\n",
      "  int -- <class 'int'>\n",
      "  list -- <class 'list'>\n",
      "  map -- <class 'map'>\n",
      "  memoryview -- <class 'memoryview'>\n",
      "  object -- <class 'object'>\n",
      "  property -- <class 'property'>\n",
      "  range -- <class 'range'>\n",
      "  reversed -- <class 'reversed'>\n",
      "  set -- <class 'set'>\n",
      "  slice -- <class 'slice'>\n",
      "  str -- <class 'str'>\n",
      "  super -- <class 'super'>\n",
      "  tuple -- <class 'tuple'>\n",
      "  type -- <class 'type'>\n",
      "  zip -- <class 'zip'>\n",
      "  classmethod -- <class 'classmethod'>\n",
      "  staticmethod -- <class 'staticmethod'>\n",
      "  Ellipsis -- Ellipsis\n",
      "  abs -- <function>\n",
      "  all -- <function>\n",
      "  any -- <function>\n",
      "  bin -- <function>\n",
      "  callable -- <function>\n",
      "  compile -- <function>\n",
      "  chr -- <function>\n",
      "  delattr -- <function>\n",
      "  dir -- <function>\n",
      "  divmod -- <function>\n",
      "  eval -- <function>\n",
      "  exec -- <function>\n",
      "  getattr -- <function>\n",
      "  setattr -- <function>\n",
      "  globals -- <function>\n",
      "  hasattr -- <function>\n",
      "  hash -- <function>\n",
      "  help -- <function>\n",
      "  hex -- <function>\n",
      "  id -- <function>\n",
      "  input -- <function>\n",
      "  isinstance -- <function>\n",
      "  issubclass -- <function>\n",
      "  iter -- <function>\n",
      "  len -- <function>\n",
      "  locals -- <function>\n",
      "  max -- <function>\n",
      "  min -- <function>\n",
      "  next -- <function>\n",
      "  oct -- <function>\n",
      "  ord -- <function>\n",
      "  pow -- <function>\n",
      "  print -- <function>\n",
      "  repr -- <function>\n",
      "  round -- <function>\n",
      "  sorted -- <function>\n",
      "  sum -- <function>\n",
      "  BaseException -- <class 'BaseException'>\n",
      "  ArithmeticError -- <class 'ArithmeticError'>\n",
      "  AssertionError -- <class 'AssertionError'>\n",
      "  AttributeError -- <class 'AttributeError'>\n",
      "  EOFError -- <class 'EOFError'>\n",
      "  Exception -- <class 'Exception'>\n",
      "  GeneratorExit -- <class 'GeneratorExit'>\n",
      "  ImportError -- <class 'ImportError'>\n",
      "  IndentationError -- <class 'IndentationError'>\n",
      "  IndexError -- <class 'IndexError'>\n",
      "  KeyboardInterrupt -- <class 'KeyboardInterrupt'>\n",
      "  KeyError -- <class 'KeyError'>\n",
      "  LookupError -- <class 'LookupError'>\n",
      "  MemoryError -- <class 'MemoryError'>\n",
      "  NameError -- <class 'NameError'>\n",
      "  NotImplementedError -- <class 'NotImplementedError'>\n",
      "  OSError -- <class 'OSError'>\n",
      "  OverflowError -- <class 'OverflowError'>\n",
      "  RuntimeError -- <class 'RuntimeError'>\n",
      "  StopAsyncIteration -- <class 'StopAsyncIteration'>\n",
      "  StopIteration -- <class 'StopIteration'>\n",
      "  SyntaxError -- <class 'SyntaxError'>\n",
      "  SystemExit -- <class 'SystemExit'>\n",
      "  TypeError -- <class 'TypeError'>\n",
      "  UnicodeError -- <class 'UnicodeError'>\n",
      "  ValueError -- <class 'ValueError'>\n",
      "  ViperTypeError -- <class 'ViperTypeError'>\n",
      "  ZeroDivisionError -- <class 'ZeroDivisionError'>\n",
      "  open -- <function>\n"
     ]
    }
   ],
   "metadata": {
    "tags": []
   }
  },
  {
   "cell_type": "markdown",
   "source": [
    "# Datentypen\n",
    "\n",
    "Datentypen:\n",
    "* __Numerisch:__ int, float, complex, bool, bytes, bytearray, memoryview\n",
    "* __Text:__      str\n",
    "\n",
    "* __Listen:__ list, tuple, set, dict, frozenset, range, enumerate, \n",
    "* __Sonstiges:__ function, class"
   ],
   "metadata": {}
  },
  {
   "cell_type": "markdown",
   "source": [
    "## Variablen "
   ],
   "metadata": {}
  },
  {
   "cell_type": "code",
   "execution_count": 25,
   "source": [
    "# Anders als bei z.B. C müssen Variablen nicht deklariert werden\r\n",
    "x = 3\r\n",
    "y = \"MicroPython\"\r\n",
    "\r\n",
    "print(x)\r\n",
    "print(y)"
   ],
   "outputs": [
    {
     "output_type": "stream",
     "name": "stdout",
     "text": [
      "3\n",
      "MicroPython\n"
     ]
    }
   ],
   "metadata": {}
  },
  {
   "cell_type": "code",
   "execution_count": 26,
   "source": [
    "# Variablen im Symbol Table (https://en.wikipedia.org/wiki/Symbol_table)\r\n",
    "print(dir())      # Liste von Strings\r\n",
    "print(locals())   # Dictionary (kann auch verändert werden)\r\n",
    "print(globals())  # Dictionary (kann auch verändert werden)"
   ],
   "outputs": [
    {
     "output_type": "stream",
     "name": "stdout",
     "text": [
      "['machine', 'start_deepsleep', 'y', 'myFunction', 'myFunc', 'x', 'sleep', 'builtins', 'led', 'rp2', '__name__', 'otherName']\n",
      "{'machine': <module 'umachine'>, 'start_deepsleep': <function start_deepsleep at 0x20009150>, 'y': 'MicroPython', 'myFunction': <function myFunction at 0x20009fb0>, 'myFunc': <function myFunc at 0x2000a200>, 'x': 3, 'sleep': <function>, 'builtins': <module 'builtins'>, 'led': Pin(25, mode=OUT), 'rp2': <module 'rp2' from 'rp2.py'>, '__name__': '__main__', 'otherName': <function myFunc at 0x2000a200>}\n",
      "{'machine': <module 'umachine'>, 'start_deepsleep': <function start_deepsleep at 0x20009150>, 'y': 'MicroPython', 'myFunction': <function myFunction at 0x20009fb0>, 'myFunc': <function myFunc at 0x2000a200>, 'x': 3, 'sleep': <function>, 'builtins': <module 'builtins'>, 'led': Pin(25, mode=OUT), 'rp2': <module 'rp2' from 'rp2.py'>, '__name__': '__main__', 'otherName': <function myFunc at 0x2000a200>}\n"
     ]
    }
   ],
   "metadata": {}
  },
  {
   "cell_type": "code",
   "execution_count": 27,
   "source": [
    "# Überschreiben einer Variable\r\n",
    "y = x\r\n",
    "print(y)\r\n",
    "print(x)"
   ],
   "outputs": [
    {
     "output_type": "stream",
     "name": "stdout",
     "text": [
      "3\n",
      "3\n"
     ]
    }
   ],
   "metadata": {}
  },
  {
   "cell_type": "code",
   "execution_count": 28,
   "source": [
    "# Löschen von Variablen\r\n",
    "# Das löschen von Variablen ist nicht umbedingt nötig -> Garbage Collector (gc)\r\n",
    "x = 3\r\n",
    "y = x\r\n",
    "\r\n",
    "del x\r\n",
    "# print(x) # Error!\r\n",
    "\r\n",
    "print(y)\r\n",
    "print(dir())"
   ],
   "outputs": [
    {
     "output_type": "stream",
     "name": "stdout",
     "text": [
      "3\n",
      "['machine', 'start_deepsleep', 'y', 'myFunction', 'myFunc', 'sleep', 'builtins', 'led', 'rp2', '__name__', 'otherName']\n"
     ]
    }
   ],
   "metadata": {}
  },
  {
   "cell_type": "code",
   "execution_count": 29,
   "source": [
    "# Variablentypen\r\n",
    "x = 3\r\n",
    "y = \"MicroPython\"\r\n",
    "print(x)\r\n",
    "print(type(x))\r\n",
    "print(y)\r\n",
    "print(type(y))"
   ],
   "outputs": [
    {
     "output_type": "stream",
     "name": "stdout",
     "text": [
      "3\n",
      "<class 'int'>\n",
      "MicroPython\n",
      "<class 'str'>\n"
     ]
    }
   ],
   "metadata": {}
  },
  {
   "cell_type": "code",
   "execution_count": 30,
   "source": [
    "# Casting von Variablen \r\n",
    "\r\n",
    "# Variablen kann ein bestimmter Typ bewust zugewiesen werden\r\n",
    "x = str(3)    \r\n",
    "y = int(3)    \r\n",
    "z = float(3)  \r\n",
    "\r\n",
    "print(x + \": \" + str(type(x)))       #Zusammensetzen eines Strings für eine klarere Ausgabe\r\n",
    "print(str(y) + \": \" + str(type(y)))  #Print kann nur Strings ausgeben, also müssen Variablen eines anderen Types als String gecastet werden\r\n",
    "print(str(z) + ': ' + str(type(z)))  #In Python kann ein String durch ein einfaches oder doppeltes Anführungszeichen gekennzeichnet werden"
   ],
   "outputs": [
    {
     "output_type": "stream",
     "name": "stdout",
     "text": [
      "3: <class 'str'>\n",
      "3: <class 'int'>\n",
      "3.0: <class 'float'>\n"
     ]
    }
   ],
   "metadata": {}
  },
  {
   "cell_type": "code",
   "execution_count": 31,
   "source": [
    "# Kurzschreibweisen\r\n",
    "\r\n",
    "x, y, z = \"Orange\", \"Banane\", \"Kirsche\"\r\n",
    "print(x)\r\n",
    "print(y)\r\n",
    "print(z)\r\n",
    "\r\n",
    "x = y = z = \"Orange\"\r\n",
    "print(x)\r\n",
    "print(y)\r\n",
    "print(z)\r\n",
    "\r\n",
    "del x, y, z"
   ],
   "outputs": [
    {
     "output_type": "stream",
     "name": "stdout",
     "text": [
      "Orange\n",
      "Banane\n",
      "Kirsche\n",
      "Orange\n",
      "Orange\n",
      "Orange\n"
     ]
    }
   ],
   "metadata": {}
  },
  {
   "cell_type": "markdown",
   "source": [
    "### Sichtbarkeit"
   ],
   "metadata": {}
  },
  {
   "cell_type": "code",
   "execution_count": 32,
   "source": [
    "# Variablen Sichtbarkeit (Scope)\r\n",
    "\r\n",
    "x = 3\r\n",
    "\r\n",
    "def myFunc():\r\n",
    "    x = 4\r\n",
    "    print(\"Globaler Wert: \" + str(x)) \r\n",
    "    y = 5\r\n",
    "    print(\"Localer Wert: \" + str(y))\r\n",
    "    print(locals()) # s.u.\r\n",
    "    \r\n",
    "myFunc()\r\n",
    "print(x)\r\n",
    "# print(y) #! Fehler, y ist nicht bekannt\r\n",
    "\r\n",
    "del x\r\n",
    "\r\n",
    "# locals:\r\n",
    "# https://github.com/micropython/micropython/wiki/Differences\r\n",
    "# MicroPython optimizes local variable handling and does not record or provide any introspection info for them, e.g. locals() doesn't have entries for locals."
   ],
   "outputs": [
    {
     "output_type": "stream",
     "name": "stdout",
     "text": [
      "Globaler Wert: 4\n",
      "Localer Wert: 5\n",
      "{'x': 3, 'start_deepsleep': <function start_deepsleep at 0x20009150>, 'led': Pin(25, mode=OUT), 'myFunc': <function myFunc at 0x2000adc0>, 'otherName': <function myFunc at 0x2000a200>, 'myFunction': <function myFunction at 0x20009fb0>, '__name__': '__main__', 'builtins': <module 'builtins'>, 'machine': <module 'umachine'>, 'sleep': <function>, 'rp2': <module 'rp2' from 'rp2.py'>}\n",
      "3\n"
     ]
    }
   ],
   "metadata": {}
  },
  {
   "cell_type": "code",
   "execution_count": 33,
   "source": [
    "# Variablen Sichtbarkeit (Scope)\r\n",
    "x = 3\r\n",
    "\r\n",
    "def myFunc():\r\n",
    "    global y    # y existiert nun global\r\n",
    "    y = 5  \r\n",
    "    global x    # die globale Variable x wird verändert\r\n",
    "    x = 4  \r\n",
    "    \r\n",
    "myFunc()\r\n",
    "print(\"Globaler Wert: \" + str(y))\r\n",
    "print(\"Globaler Wert: \" + str(x))\r\n",
    "\r\n",
    "del x,y"
   ],
   "outputs": [
    {
     "output_type": "stream",
     "name": "stdout",
     "text": [
      "Globaler Wert: 5\n",
      "Globaler Wert: 4\n"
     ]
    }
   ],
   "metadata": {}
  },
  {
   "cell_type": "code",
   "execution_count": 34,
   "source": [
    "# Funktionen als Variablen\r\n",
    "def myFunc():\r\n",
    "    print(\"Meine Funktion\")\r\n",
    "\r\n",
    "otherName = myFunc\r\n",
    "print(type(myFunc))\r\n",
    "otherName()\r\n",
    "print(callable(otherName))"
   ],
   "outputs": [
    {
     "output_type": "stream",
     "name": "stdout",
     "text": [
      "<class 'function'>\n",
      "Meine Funktion\n",
      "True\n"
     ]
    }
   ],
   "metadata": {}
  },
  {
   "cell_type": "markdown",
   "source": [
    "## Numerische Typen"
   ],
   "metadata": {}
  },
  {
   "cell_type": "code",
   "execution_count": 35,
   "source": [
    "# Boolsche Variable\r\n",
    "x = True\r\n",
    "print(str(x) + '\\t\\t' + str(type(x)) + '\\t\\t' + str(x == x))\r\n",
    "\r\n",
    "# Komplexe Variable\r\n",
    "x = 2j\r\n",
    "print(str(x) + '\\t\\t' + str(type(x)) + '\\t' + str(x*x))\r\n",
    "\r\n",
    "# Bytes\r\n",
    "x = bytes(1) # Anzahl an Bytes\r\n",
    "print(str(x) + '\\t\\t' + str(type(x)) + '\\t\\t' + str(x[0]))\r\n",
    "x = b\"HALLO\"  # String zu Byte \r\n",
    "print(str(x) + '\\t' + str(type(x)) + '\\t\\tx[1]: ' + str(x[1])) # (ASCII-Tabelle https://www.pctipp.ch/praxis/software/ascii-tabelle-sonderzeichen-1859563.html )\r\n",
    "print('\\t\\t\\t\\t\\tx[1] as hex: {:02x} \\t\\t x[1] as bin: \"{:08b}'.format(x[1],x[1]))\r\n",
    "\r\n",
    "# Memoryview\r\n",
    "y = b\"HALLO\"\r\n",
    "x = memoryview(y)\r\n",
    "print(str(x) + '\\t' + str(type(x)) + '\\t' + str(x[1]))\r\n",
    "\r\n",
    "# Bytearray\r\n",
    "x = bytearray(5)\r\n",
    "print(str(x) + '\\t' + str(type(x)))"
   ],
   "outputs": [
    {
     "output_type": "stream",
     "name": "stdout",
     "text": [
      "True\t\t<class 'bool'>\t\tTrue\n",
      "2j\t\t<class 'complex'>\t(-4+0j)\n",
      "b'\\x00'\t\t<class 'bytes'>\t\t0\n",
      "b'HALLO'\t<class 'bytes'>\t\tx[1]: 65\n",
      "\t\t\t\t\tx[1] as hex: 41 \t\t x[1] as bin: \"01000001\n",
      "<memoryview>\t<class 'memoryview'>\t65\n",
      "bytearray(b'\\x00\\x00\\x00\\x00\\x00')\t<class 'bytearray'>\n"
     ]
    }
   ],
   "metadata": {}
  },
  {
   "cell_type": "markdown",
   "source": [
    "### Mathematische Funktionen"
   ],
   "metadata": {}
  },
  {
   "cell_type": "code",
   "execution_count": 36,
   "source": [
    "# Mathematische Funktionen\r\n",
    "x = 3; y = -5; z = 2.4;\r\n",
    "\r\n",
    "print(abs(x*y))  # Absolutwert (Betrag)\r\n",
    "print(min(x,y))  # Minimum\r\n",
    "print(max(x,y))  # Maximum\r\n",
    "\r\n",
    "# Runden von Werten\r\n",
    "print(z*x)     \r\n",
    "print(round(z*x)) \r\n",
    "print(round(2.7456,2))\r\n",
    "\r\n",
    "# Potenzen\r\n",
    "print(pow(y,x))\r\n",
    "print(y**x)\r\n",
    "# Schnellzuweisungen  (gilt auch für alle anderen Rechenoperationen)\r\n",
    "y **= x\r\n",
    "print(y)"
   ],
   "outputs": [
    {
     "output_type": "stream",
     "name": "stdout",
     "text": [
      "15\n",
      "-5\n",
      "3\n",
      "7.2\n",
      "7\n",
      "2.75\n",
      "-125\n",
      "-125\n",
      "-125\n"
     ]
    }
   ],
   "metadata": {}
  },
  {
   "cell_type": "code",
   "execution_count": 37,
   "source": [
    "# Binäre Operationen\r\n",
    "a = 0b00110011\r\n",
    "b = 0b11000011\r\n",
    "\r\n",
    "print(bin(195));  # bin()-erzeugt einen String der Zahl binär darstellt\r\n",
    "print(bin(b))\r\n",
    "print(bin(-196))\r\n",
    "print(bin(a))\r\n",
    "\r\n",
    "# Und, oder, exclusiv oder\r\n",
    "print(bin(a&b))   \r\n",
    "print(bin(a|b))\r\n",
    "print(bin(a^b))\r\n",
    "\r\n",
    "print(bin(~b))    # ! Achtung, weil zahl mit vorzeichen interpretiert wird!\r\n",
    "print(bin(255-b))\r\n",
    "\r\n",
    "print(bin(b>>2))  # Shift um zwei Stellen nach rechts\r\n",
    "print(bin(a<<2))  # Shift um zwei Stellen nach links"
   ],
   "outputs": [
    {
     "output_type": "stream",
     "name": "stdout",
     "text": [
      "0b11000011\n",
      "0b11000011\n",
      "-0b11000100\n",
      "0b110011\n",
      "0b11\n",
      "0b11110011\n",
      "0b11110000\n",
      "-0b11000100\n",
      "0b111100\n",
      "0b110000\n",
      "0b11001100\n"
     ]
    }
   ],
   "metadata": {}
  },
  {
   "cell_type": "markdown",
   "source": [
    "## Strings"
   ],
   "metadata": {}
  },
  {
   "cell_type": "code",
   "execution_count": 38,
   "source": [
    "# Strings einer Variable zuweisen\r\n",
    "\r\n",
    "a = \"Text A\"\r\n",
    "b = 'Text B'    # Mit Sonderzeilchen \"Neue Zeile\"\r\n",
    "c = \"\"\"Mehrzeiliger Text \r\n",
    "Zeile 1 \r\n",
    "Zeile 2\"\"\" # Mit Sonderzeilchen \"Tabulator\"\r\n",
    "d = '''  \r\n",
    "\\tAuch ein Mehrzeiliger Text\r\n",
    "Zeile 1\r\n",
    "Zeile 2\r\n",
    "\r\n",
    "'''\r\n",
    "\r\n",
    "print(a); print(b); print(c); print(d)"
   ],
   "outputs": [
    {
     "output_type": "stream",
     "name": "stdout",
     "text": [
      "Text A\n",
      "Text B\n",
      "Mehrzeiliger Text \n",
      "Zeile 1 \n",
      "Zeile 2\n",
      "  \n",
      "\tAuch ein Mehrzeiliger Text\n",
      "Zeile 1\n",
      "Zeile 2\n",
      "\n",
      "\n"
     ]
    }
   ],
   "metadata": {}
  },
  {
   "cell_type": "code",
   "execution_count": 39,
   "source": [
    "# Strings sind nicht anderes als eine Liste (vgl. Array) von Zeichen\r\n",
    "\r\n",
    "print(a[5])\r\n",
    "#print(a[6]) #! Fehler: IndexError: string index out of range\r\n",
    "\r\n",
    "print(len(a))  #Länge des Strings, index beginnt mit 0"
   ],
   "outputs": [
    {
     "output_type": "stream",
     "name": "stdout",
     "text": [
      "A\n",
      "6\n"
     ]
    }
   ],
   "metadata": {}
  },
  {
   "cell_type": "code",
   "execution_count": 40,
   "source": [
    "# Prüfen ob ein Teilstring enthalten ist\r\n",
    "\r\n",
    "print(\"Text\" in c)\r\n",
    "print(\"Text\" not in c)"
   ],
   "outputs": [
    {
     "output_type": "stream",
     "name": "stdout",
     "text": [
      "True\n",
      "False\n"
     ]
    }
   ],
   "metadata": {}
  },
  {
   "cell_type": "code",
   "execution_count": 41,
   "source": [
    "# Teilstrings (vgl. Listen)\r\n",
    "\r\n",
    "print(a[0:4])   # Teilstring von Index 0 bis 4\r\n",
    "print(a[:4])    # Teilstring von Index 0 (automatisch weil nicht angegeben) bis 4\r\n",
    "print(a[5:])    # Teilstring von Index 5 bis Ende (automatisch weil nicht angegeben)\r\n",
    "print(a[-1:])   # Teilstring mit negativen Indizes (Von -1 bis Ende des Strings)"
   ],
   "outputs": [
    {
     "output_type": "stream",
     "name": "stdout",
     "text": [
      "Text\n",
      "Text\n",
      "A\n",
      "A\n"
     ]
    }
   ],
   "metadata": {}
  },
  {
   "cell_type": "code",
   "execution_count": 42,
   "source": [
    "# String Funktionen\r\n",
    "\r\n",
    "help(str)"
   ],
   "outputs": [
    {
     "output_type": "stream",
     "name": "stdout",
     "text": [
      "object <class 'str'> is of type type\n",
      "  encode -- <function>\n",
      "  find -- <function>\n",
      "  rfind -- <function>\n",
      "  index -- <function>\n",
      "  rindex -- <function>\n",
      "  join -- <function>\n",
      "  split -- <function>\n",
      "  splitlines -- <function>\n",
      "  rsplit -- <function>\n",
      "  startswith -- <function>\n",
      "  endswith -- <function>\n",
      "  strip -- <function>\n",
      "  lstrip -- <function>\n",
      "  rstrip -- <function>\n",
      "  format -- <function>\n",
      "  replace -- <function>\n",
      "  count -- <function>\n",
      "  partition -- <function>\n",
      "  rpartition -- <function>\n",
      "  center -- <function>\n",
      "  lower -- <function>\n",
      "  upper -- <function>\n",
      "  isspace -- <function>\n",
      "  isalpha -- <function>\n",
      "  isdigit -- <function>\n",
      "  isupper -- <function>\n",
      "  islower -- <function>\n"
     ]
    }
   ],
   "metadata": {}
  },
  {
   "cell_type": "code",
   "execution_count": 43,
   "source": [
    "# String Funktionen #1 \r\n",
    "\r\n",
    "print(a.upper())\r\n",
    "print(b.lower())\r\n",
    "\r\n",
    "print(a.lower().islower())\r\n",
    "print(b.upper().isupper())\r\n",
    "\r\n",
    "print(a.startswith(\"Text\"))\r\n",
    "print(b.endswith(\"B\"))\r\n",
    "\r\n",
    "e = c[:12]; f = d[:2]; g= c[-1:]\r\n",
    "print(e+f+g)      # Einfache Zusammensetzung (Konkatenation, verkettung) von Strings\r\n",
    "\r\n",
    "print(e.isalpha())   # Besteht nur aus Zeichen des Alphabets\r\n",
    "print(f.isspace())   # ist ein oder mehr Leerzeichen\r\n",
    "print(g.isdigit())   # ist eine Zahl\r\n"
   ],
   "outputs": [
    {
     "output_type": "stream",
     "name": "stdout",
     "text": [
      "TEXT A\n",
      "text b\n",
      "True\n",
      "True\n",
      "True\n",
      "True\n",
      "Mehrzeiliger  2\n",
      "True\n",
      "True\n",
      "True\n"
     ]
    }
   ],
   "metadata": {}
  },
  {
   "cell_type": "code",
   "execution_count": 44,
   "source": [
    "# String Funktionen #2\r\n",
    "print(c)\r\n",
    "print(c.count(\"e\"))      # Zähle wieviele von Teilstrings existieren\r\n",
    "\r\n",
    "# string.find(value, start, end)\r\n",
    "print(c.find(\"Zeile\"))   # Gib die erste Position von Teilstring aus\r\n",
    "print(c.rfind(\"Zeile\"))  # Gib die erste Position von Teilstring aus (von beginnend mit dem hinteren Teil des Strings)\r\n",
    "print(c.find(\"Gibts nicht\"))\r\n",
    "# string.index(value, start, end)\r\n",
    "print(c.index(\"Zeile\"))   # Gib die erste Position von Teilstring aus\r\n",
    "print(c.rindex(\"Zeile\"))   # Gib die erste Position von Teilstring aus\r\n",
    "print(c.index(\"Gibts nicht\"))  # Hier ist der einzige Unterschied: ValueError statt -1"
   ],
   "outputs": [
    {
     "output_type": "stream",
     "name": "stdout",
     "text": [
      "Mehrzeiliger Text \n",
      "Zeile 1 \n",
      "Zeile 2\n",
      "8\n",
      "19\n",
      "28\n",
      "-1\n",
      "19\n",
      "28\n"
     ]
    },
    {
     "output_type": "stream",
     "name": "stderr",
     "text": [
      "Traceback (most recent call last):\n",
      "  File \"<stdin>\", line 12, in <module>\n",
      "ValueError: substring not found\n"
     ]
    }
   ],
   "metadata": {}
  },
  {
   "cell_type": "code",
   "execution_count": 45,
   "source": [
    "# String Funktionen #3\r\n",
    "print(d)\r\n",
    "\r\n",
    "# string.split(separator, maxsplit)\r\n",
    "print(d.strip())        # Leerzeichen am Anfang und am Ende des Strings werden entfernt\r\n",
    "print(d.lstrip())       # Leerzeichen am Anfang des Strings werden entfernt\r\n",
    "print(d.rstrip())       # Leerzeichen am Ende des Strings werden entfernt"
   ],
   "outputs": [
    {
     "output_type": "stream",
     "name": "stdout",
     "text": [
      "  \n",
      "\tAuch ein Mehrzeiliger Text\n",
      "Zeile 1\n",
      "Zeile 2\n",
      "\n",
      "\n",
      "Auch ein Mehrzeiliger Text\n",
      "Zeile 1\n",
      "Zeile 2\n",
      "Auch ein Mehrzeiliger Text\n",
      "Zeile 1\n",
      "Zeile 2\n",
      "\n",
      "\n",
      "  \n",
      "\tAuch ein Mehrzeiliger Text\n",
      "Zeile 1\n",
      "Zeile 2\n"
     ]
    }
   ],
   "metadata": {}
  },
  {
   "cell_type": "code",
   "execution_count": 46,
   "source": [
    "# String Funktionen #4\r\n",
    "\r\n",
    "# string.replace(oldvalue, newvalue, count)\r\n",
    "print(a.replace(\"Text\",\"String\"))   \r\n",
    "\r\n",
    "# string.split(separator, maxsplit)\r\n",
    "list_of_strings = c.split(\"\\n\")     # String wird aufgeteilt, jeweils am Trennungsstrring (hier neue Zeile)\r\n",
    "list_of_strings_right = c.rsplit(\"\\n\",1)     # String wird aufgeteilt, jeweils am Trennungsstrring (hier neue Zeile), maximal sofoft wie angegeben, rechts startend\r\n",
    "print(list_of_strings)\r\n",
    "print(list_of_strings_right)\r\n",
    "\r\n",
    "print(\"\\n\".join(list_of_strings))   # inverses von split, liste wird aneinandergereit mit jeweiligem Trennzeichen\r\n",
    "\r\n",
    "# ! Hier: Convertierung zwischen Strings und Byte-Array\r\n",
    "print(a.encode())\r\n",
    "print(a.encode().decode()) "
   ],
   "outputs": [
    {
     "output_type": "stream",
     "name": "stdout",
     "text": [
      "String A\n",
      "['Mehrzeiliger Text ', 'Zeile 1 ', 'Zeile 2']\n",
      "['Mehrzeiliger Text \\nZeile 1 ', 'Zeile 2']\n",
      "Mehrzeiliger Text \n",
      "Zeile 1 \n",
      "Zeile 2\n",
      "b'Text A'\n",
      "Text A\n"
     ]
    }
   ],
   "metadata": {}
  },
  {
   "cell_type": "code",
   "execution_count": 47,
   "source": [
    "# String Funktionen #5\r\n",
    "\r\n",
    "# string.format(value1, value2...)\r\n",
    "print(\"Hallo mein Name ist {}\".format(\"Donald\"))   # Platzhalter werden durch angegebene Werte ersetzt\r\n",
    "print(\"Hallo mein Name ist {} {}\".format(\"Donald\",\"Duck\"))   # Indentifikation durch Position\r\n",
    "print(\"Hallo mein Name ist {1} {0}\".format(\"Duck\",\"Donald\"))   # Indentifikation durch Index\r\n",
    "print(\"Hallo mein Name ist {fname} {lname}\".format(lname = \"Duck\", fname = \"Donald\"))  # Indentifikation durch Bezeichner\r\n",
    "\r\n",
    "# Platzhalter können auch dir Formatierung angeben\r\n",
    "print(\"Die Spannung beträgt {voltage:.2f} V\".format(voltage=5))     # Auf zweich Nachkommastellen genau\r\n",
    "print(\"Die Binärdarstellung von {0} ist {0:b}\".format(5))           # Binärdarstellung\r\n",
    "print(\"Die Binärdarstellung von {0:3} ist {0:0>8b}\".format(5))        # Binär und Deziaml mit führenden Nullen\r\n",
    "print(\"Die Binärdarstellung von {0:3} ist {0:8b}\".format(255))      # Binär und Deziaml mit führenden Leerzeichen\r\n",
    "print(\"Die Hexadeziamldarstellung von {0} ist {0:x} oder {0:X}\".format(254))  # Hexadezimaldarstellung\r\n",
    "print(\"Große Kommazahl: {0:n} \\t {0:g} \\t {0:5.2F} \\t {0:+8.3}\".format(15.7324234))\r\n",
    "print(\"Große Zahl: {0:n} \\t {0:,n} \\t {0:e} \\t {0:E}\".format(100000000))"
   ],
   "outputs": [
    {
     "output_type": "stream",
     "name": "stdout",
     "text": [
      "Hallo mein Name ist Donald\n",
      "Hallo mein Name ist Donald Duck\n",
      "Hallo mein Name ist Donald Duck\n",
      "Hallo mein Name ist Donald Duck\n",
      "Die Spannung beträgt 5.00 V\n",
      "Die Binärdarstellung von 5 ist 101\n",
      "Die Binärdarstellung von   5 ist 00000101\n",
      "Die Binärdarstellung von 255 ist 11111111\n",
      "Die Hexadeziamldarstellung von 254 ist fe oder FE\n",
      "Große Kommazahl: 15.7324 \t 15.7324 \t 15.73 \t    +15.7\n",
      "Große Zahl: 100000000 \t 100,000,000 \t 1.000000e+08 \t 1.000000E+08\n"
     ]
    }
   ],
   "metadata": {}
  },
  {
   "cell_type": "markdown",
   "source": [
    "### String Formatierungen\r\n",
    "\r\n",
    "https://www.programiz.com/python-programming/methods/string/format\r\n",
    "\r\n",
    "Allgemein: {[Platzhalterindentifizierung]:[Positionierung][Numerische Darstellung]}\r\n",
    "\r\n",
    "| Numerisch            |             |   | Positionierung                   | (in Verbindung mit Platzangabe) |\r\n",
    "|----------------------|-------------|---|----------------------------------|---------------------------------|\r\n",
    "| Format               | Platzhalter |   | Format                           | Platzhalter                     |\r\n",
    "| Dezimal              | d           |   | Linksbündig                      | <                               |\r\n",
    "| Binär                | b           |   | Rechtsbündig                     | >                               |\r\n",
    "| Hexadezimal (klein)  | x           |   | Zentral                          | ^                               |\r\n",
    "| Hexadezimal (groß)   | X           |   | Vorzeichen links                 | =                               |\r\n",
    "| Octal                | o           |   | Vorzeichen bei positiv           | +                               |\r\n",
    "| Numerisch            | n           |   | Vorzeichen nur bei negativ       | -                               |\r\n",
    "| Kommazahl            | f           |   | Leerzeichen bei Vorzeichen       |                                 |\r\n",
    "| Kommazahl (groß)     | F           |   | Unterstrich um 1000er zu trennen | _                               |\r\n",
    "| Nummer               | n           |   | Komma um 1000er zu trennen       | ,                               |\r\n",
    "| Wissenschaftlich (e) | e           |   |                                  |                                 |\r\n",
    "| Wissenschaftlich (E) | E           |   | Vorkomma(X) Nachkommastellen (Y) |  X.                               |\r\n",
    "| Generell             | g           |   |                                  |                                 |\r\n",
    "| Generell             | G           |   |                                  |                                 |\r\n",
    "| Prozent              | %           |   |                                  |                                 |\r\n"
   ],
   "metadata": {}
  },
  {
   "cell_type": "markdown",
   "source": [
    "## Listen und Co (ToDo)\r\n",
    "\r\n",
    "* Listen []: Geordnet (index), Änderbar, Duplikate erlaubt\r\n",
    "* Tuple (): Geordnet (index), Nicht Änderbar, Duplikate erlaubt\r\n",
    "* Set {}: Ungeordnet (kein index), Erweiterbar, Keine Duplikate\r\n",
    "* Dictionary {key:value}: Geordnet*, Änderbar, Keine Duplikate\r\n"
   ],
   "metadata": {}
  },
  {
   "cell_type": "markdown",
   "source": [
    "### Listen\r\n",
    "\r\n",
    "* Eckige Klammern\r\n",
    "* Duplikate erlaubt\r\n",
    "* Verschiedene Datentypen mischbar\r\n",
    "* Geordnet (Index)\r\n",
    "* Änderbar"
   ],
   "metadata": {}
  },
  {
   "cell_type": "code",
   "execution_count": 48,
   "source": [
    "# Listen erstellen\r\n",
    "\r\n",
    "meineDaten1 = [1,2,3]                 # Definiert über eckige Klammern\r\n",
    "meineDaten2 = list((\"1\",\"2\",\"3\"))     # über den Listen-Construktor ((-beachten\r\n",
    "meineDaten3 = [\"eins\",\"zwei\",\"drei\",\"vier\"]\r\n",
    "meineDaten4 = [\"eins\",2,\"drei\",True] # Es müssen nicht mal die gleichen Typen verwendet werden\r\n",
    "\r\n",
    "print(meineDaten1)\r\n",
    "print(meineDaten2)\r\n",
    "print(meineDaten3)\r\n",
    "print(meineDaten4)\r\n",
    "\r\n",
    "# Länge einer Liste (vgl. Strings)\r\n",
    "print(len(meineDaten1))\r\n",
    "\r\n",
    "# Zugriff auf Elemente\r\n",
    "print(meineDaten4[0])\r\n",
    "print(meineDaten2[-1])\r\n",
    "print(meineDaten3[1:-1])\r\n",
    "\r\n",
    "# Loop List\r\n",
    "for x in meineDaten1:\r\n",
    "    print(x)\r\n",
    "# Abkürzung für Durchlauf\r\n",
    "[print(x) for x in meineDaten3]\r\n",
    "\r\n",
    "print(sum(meineDaten1)) # Summer einer gesamten numerischen Liste"
   ],
   "outputs": [
    {
     "output_type": "stream",
     "name": "stdout",
     "text": [
      "[1, 2, 3]\n",
      "['1', '2', '3']\n",
      "['eins', 'zwei', 'drei', 'vier']\n",
      "['eins', 2, 'drei', True]\n",
      "3\n",
      "eins\n",
      "3\n",
      "['zwei', 'drei']\n",
      "1\n",
      "2\n",
      "3\n",
      "eins\n",
      "zwei\n",
      "drei\n",
      "vier\n",
      "6\n"
     ]
    }
   ],
   "metadata": {}
  },
  {
   "cell_type": "code",
   "execution_count": 49,
   "source": [
    "# Elemente finden/filtern\r\n",
    "print(meineDaten3)\r\n",
    "\r\n",
    "print(\"vier\" in meineDaten3)\r\n",
    "print(\"fünf\" not in meineDaten3)\r\n",
    "print(meineDaten3.index(\"vier\")) # Gibt den index des erste fundes\r\n",
    "\r\n",
    "neueListe = []        # ! Liste muss als solche initialisiert sein\r\n",
    "for x in meineDaten3:\r\n",
    "  if \"r\" in x:          # Alle Elemente die ein r enthalten kommen in die neue Liste\r\n",
    "    neueListe.append(x)\r\n",
    "print(neueListe)\r\n",
    "\r\n",
    "#newlist = [expression for item in iterable if condition == True] \r\n",
    "neueListe2 = [x for x in meineDaten3 if \"r\" in x]  # Selbe Funktion in Kurzschreibweise\r\n",
    "print(neueListe2)\r\n",
    "\r\n",
    "neueListe2 = [x if \"r\" in x else \"-\" for x in meineDaten3]  # Einfügen wenn 'r' in Element sonst '-' einfügen\r\n",
    "print(neueListe2)\r\n",
    "\r\n",
    "neueListe3 =  [x for x in range(10)]  # Neue Liste von Elementen mit Range \r\n",
    "print(neueListe3)"
   ],
   "outputs": [
    {
     "output_type": "stream",
     "name": "stdout",
     "text": [
      "['eins', 'zwei', 'drei', 'vier']\n",
      "True\n",
      "True\n",
      "3\n",
      "['drei', 'vier']\n",
      "['drei', 'vier']\n",
      "['-', '-', 'drei', 'vier']\n",
      "[0, 1, 2, 3, 4, 5, 6, 7, 8, 9]\n"
     ]
    }
   ],
   "metadata": {}
  },
  {
   "cell_type": "code",
   "execution_count": 50,
   "source": [
    "# Listen verändern #1\r\n",
    "\r\n",
    "# Einzelnes Element verändern\r\n",
    "meineDaten3[3] = \"drei\"\r\n",
    "print(meineDaten3)\r\n",
    "\r\n",
    "# Teilliste Verändern\r\n",
    "meineDaten4[1:3] = [\"zwei\",\"drei\"]\r\n",
    "print(meineDaten4)\r\n",
    "\r\n",
    "# Teilliste Verändern\r\n",
    "meineDaten4[1:2] = [\"zwei\",\"drei\"]    # Hier wird die Liste an der Stelle erweitert\r\n",
    "print(meineDaten4)\r\n",
    "\r\n",
    "meineDaten4.insert(-1,\"vier\")         # Einfügen an Stelle X\r\n",
    "print(meineDaten4)\r\n",
    "\r\n",
    "meineDaten3.append(\"vier\")            # Hinten anhängen\r\n",
    "print(meineDaten3)\r\n",
    "\r\n",
    "meineDaten4.extend(meineDaten3)       # Liste um Liste erweitern\r\n",
    "print(meineDaten4)"
   ],
   "outputs": [
    {
     "output_type": "stream",
     "name": "stdout",
     "text": [
      "['eins', 'zwei', 'drei', 'drei']\n",
      "['eins', 'zwei', 'drei', True]\n",
      "['eins', 'zwei', 'drei', 'drei', True]\n",
      "['eins', 'zwei', 'drei', 'drei', 'vier', True]\n",
      "['eins', 'zwei', 'drei', 'drei', 'vier']\n",
      "['eins', 'zwei', 'drei', 'drei', 'vier', True, 'eins', 'zwei', 'drei', 'drei', 'vier']\n"
     ]
    }
   ],
   "metadata": {}
  },
  {
   "cell_type": "code",
   "execution_count": 51,
   "source": [
    "# Weitere Listen Funktionen\r\n",
    "\r\n",
    "meineDaten1[1:2] = [1,2,3,4]    # Hier wird die Liste an der Stelle erweitert\r\n",
    "print(meineDaten1)\r\n",
    "\r\n",
    "print(meineDaten1.count(1))     # Wieviele von diesem Element existieren\r\n",
    "\r\n",
    "meineDaten1.sort()              # Sortiet die Elemente einer List \r\n",
    "meineDaten3.sort(reverse = True)\r\n",
    "print(meineDaten1)\r\n",
    "print(meineDaten3)\r\n",
    "\r\n",
    "meineDaten1.reverse()           # Dreht die Reihenfolge einer Liste um\r\n",
    "print(meineDaten1)"
   ],
   "outputs": [
    {
     "output_type": "stream",
     "name": "stdout",
     "text": [
      "[1, 1, 2, 3, 4, 3]\n",
      "2\n",
      "[1, 1, 2, 3, 3, 4]\n",
      "['zwei', 'vier', 'eins', 'drei', 'drei']\n",
      "[4, 3, 3, 2, 1, 1]\n"
     ]
    }
   ],
   "metadata": {}
  },
  {
   "cell_type": "code",
   "execution_count": 52,
   "source": [
    "# Liste Verändern #2\r\n",
    "\r\n",
    "print(meineDaten4)\r\n",
    "\r\n",
    "print(meineDaten4.remove(\"drei\")) # entfernt nur ein Element bei mehreren!\r\n",
    "print(meineDaten4)\r\n",
    "\r\n",
    "print(meineDaten4.pop(2)) # entfernt am angegeben Index (und gibt Element zurück)\r\n",
    "print(meineDaten4)\r\n",
    "\r\n",
    "print(meineDaten4.pop()) # entfernt ohne Index das letzte Element(und gibt Element zurück)\r\n",
    "print(meineDaten4)\r\n",
    "\r\n",
    "del meineDaten4[0]       # entfernt erste Element über del\r\n",
    "print(meineDaten4)\r\n",
    "\r\n",
    "meineDaten4.clear()      # Löscht komplette Liste ! nicht die Liste selbst\r\n",
    "print(meineDaten4)\r\n",
    "\r\n",
    "print(any(meineDaten4))  # Befindet sich mindestens ein Element in der Liste?"
   ],
   "outputs": [
    {
     "output_type": "stream",
     "name": "stdout",
     "text": [
      "['eins', 'zwei', 'drei', 'drei', 'vier', True, 'eins', 'zwei', 'drei', 'drei', 'vier']\n",
      "None\n",
      "['eins', 'zwei', 'drei', 'vier', True, 'eins', 'zwei', 'drei', 'drei', 'vier']\n",
      "drei\n",
      "['eins', 'zwei', 'vier', True, 'eins', 'zwei', 'drei', 'drei', 'vier']\n",
      "vier\n",
      "['eins', 'zwei', 'vier', True, 'eins', 'zwei', 'drei', 'drei']\n",
      "['zwei', 'vier', True, 'eins', 'zwei', 'drei', 'drei']\n",
      "[]\n",
      "False\n"
     ]
    }
   ],
   "metadata": {}
  },
  {
   "cell_type": "code",
   "execution_count": 53,
   "source": [
    "# Listen Kopieren\r\n",
    "\r\n",
    "meineDaten5 = meineDaten3     \r\n",
    "meineDaten6 = meineDaten3.copy()\r\n",
    "print(meineDaten5)\r\n",
    "print(meineDaten6)\r\n",
    "\r\n",
    "meineDaten3.clear()      # Löscht komplette Liste ! nicht die Liste selbst\r\n",
    "print(meineDaten3)\r\n",
    "print(meineDaten5)       # Liste5 war nur ein \"Verweis\" auf Liste3\r\n",
    "print(meineDaten6)       # Liste6 war eine echte Kopie von Liste3 "
   ],
   "outputs": [
    {
     "output_type": "stream",
     "name": "stdout",
     "text": [
      "['zwei', 'vier', 'eins', 'drei', 'drei']\n",
      "['zwei', 'vier', 'eins', 'drei', 'drei']\n",
      "[]\n",
      "[]\n",
      "['zwei', 'vier', 'eins', 'drei', 'drei']\n"
     ]
    }
   ],
   "metadata": {}
  },
  {
   "cell_type": "code",
   "execution_count": 54,
   "source": [
    "help(list)"
   ],
   "outputs": [
    {
     "output_type": "stream",
     "name": "stdout",
     "text": [
      "object <class 'list'> is of type type\n",
      "  append -- <function>\n",
      "  clear -- <function>\n",
      "  copy -- <function>\n",
      "  count -- <function>\n",
      "  extend -- <function>\n",
      "  index -- <function>\n",
      "  insert -- <function>\n",
      "  pop -- <function>\n",
      "  remove -- <function>\n",
      "  reverse -- <function>\n",
      "  sort -- <function>\n"
     ]
    }
   ],
   "metadata": {}
  },
  {
   "cell_type": "markdown",
   "source": [
    "### Tuple\n",
    "\n",
    "* Runde Klammern\n",
    "* Dupplikate erlaubt\n",
    "* Verschiedene Datentypen mischbar\n",
    "* Geordnet (Index)\n",
    "* Nicht Änderbar"
   ],
   "metadata": {}
  },
  {
   "cell_type": "code",
   "execution_count": 55,
   "source": [
    "# Tuple erstellen\r\n",
    "\r\n",
    "meineDaten1 = (1,2,3)                  # Hier Runde Klammern!\r\n",
    "meineDaten2 = tuple((\"1\",\"2\",\"3\"))     # über den Tuple-Construktor ((-beachten\r\n",
    "meineDaten3 = (\"eins\",\"zwei\",\"drei\",\"vier\")\r\n",
    "meineDaten4 = (\"eins\",2,\"drei\",True) # Es müssen nicht mal die gleichen Typen verwendet werden\r\n",
    "meineDaten5 = (1,)                   # Tuple mit nur einem Element müssen ein Komma enthalten, sonst kein Tuple!\r\n",
    "\r\n",
    "print(meineDaten1)\r\n",
    "print(meineDaten2)\r\n",
    "print(meineDaten3)\r\n",
    "print(meineDaten4)\r\n",
    "\r\n",
    "# Länge einer Liste (vgl. Strings)\r\n",
    "print(len(meineDaten1))\r\n",
    "\r\n",
    "# Zugriff auf Elemente\r\n",
    "print(meineDaten4[0])\r\n",
    "print(meineDaten2[-1])\r\n",
    "print(meineDaten3[1:-1])\r\n",
    "\r\n",
    "# Loop List\r\n",
    "for x in meineDaten1:\r\n",
    "    print(x)\r\n",
    "# Abkürzung für Durchlauf\r\n",
    "[print(x) for x in meineDaten3]\r\n",
    "\r\n",
    "print(sum(meineDaten1)) # Summer einer gesamten numerischen Liste"
   ],
   "outputs": [
    {
     "output_type": "stream",
     "name": "stdout",
     "text": [
      "(1, 2, 3)\n",
      "('1', '2', '3')\n",
      "('eins', 'zwei', 'drei', 'vier')\n",
      "('eins', 2, 'drei', True)\n",
      "3\n",
      "eins\n",
      "3\n",
      "('zwei', 'drei')\n",
      "1\n",
      "2\n",
      "3\n",
      "eins\n",
      "zwei\n",
      "drei\n",
      "vier\n",
      "6\n"
     ]
    }
   ],
   "metadata": {}
  },
  {
   "cell_type": "code",
   "execution_count": 56,
   "source": [
    "# Elemente finden/filtern\r\n",
    "print(meineDaten3)\r\n",
    "\r\n",
    "print(\"vier\" in meineDaten3)\r\n",
    "print(\"fünf\" not in meineDaten3)\r\n",
    "print(meineDaten3.index(\"vier\")) # Gibt den index des erste fundes\r\n",
    "\r\n",
    "neueListe = []        # ! Liste muss als solche initialisiert sein\r\n",
    "for x in meineDaten3:\r\n",
    "    if \"r\" in x:          # Alle Elemente die ein r enthalten kommen in die neue Liste\r\n",
    "        neueListe.append(x)\r\n",
    "print(neueListe)\r\n",
    "\r\n",
    "#newlist = [expression for item in iterable if condition == True] \r\n",
    "neueListe2 = [x for x in meineDaten3 if \"r\" in x]  # Selbe Funktion in Kurzschreibweise\r\n",
    "print(neueListe2)\r\n",
    "\r\n",
    "neueListe2 = [x if \"r\" in x else \"-\" for x in meineDaten3]  # Einfügen wenn 'r' in Element sonst '-' einfügen\r\n",
    "print(neueListe2)"
   ],
   "outputs": [
    {
     "output_type": "stream",
     "name": "stdout",
     "text": [
      "('eins', 'zwei', 'drei', 'vier')\n",
      "True\n",
      "True\n",
      "3\n",
      "['drei', 'vier']\n",
      "['drei', 'vier']\n",
      "['-', '-', 'drei', 'vier']\n"
     ]
    }
   ],
   "metadata": {}
  },
  {
   "cell_type": "code",
   "execution_count": 57,
   "source": [
    "# Tuple verändern #1\r\n",
    "\r\n",
    "print(meineDaten3)\r\n",
    "# meineDaten3[3] = \"drei\" #! Tuple lassen sich nicht ändern!\r\n",
    "\r\n",
    "# Workaround über Listen\r\n",
    "neueListe = list(meineDaten3)\r\n",
    "print(neueListe)\r\n",
    "neueListe[3] = \"drei\"\r\n",
    "meineDaten3  = tuple(neueListe)\r\n",
    "print(meineDaten3)"
   ],
   "outputs": [
    {
     "output_type": "stream",
     "name": "stdout",
     "text": [
      "('eins', 'zwei', 'drei', 'vier')\n",
      "['eins', 'zwei', 'drei', 'vier']\n",
      "('eins', 'zwei', 'drei', 'drei')\n"
     ]
    }
   ],
   "metadata": {}
  },
  {
   "cell_type": "code",
   "execution_count": 58,
   "source": [
    "# Weitere Tuple Funktionen\r\n",
    "\r\n",
    "# Unpacking\r\n",
    "varEins, varZwei, varDrei = meineDaten1    # Tuple wird direkt Variablen zugeordnet\r\n",
    "print(varZwei)\r\n",
    "\r\n",
    "varEins, varZwei, *varDrei = meineDaten3   # Asterisk ermöglicht zuweisung bei weniger Variablen\r\n",
    "print(varDrei)\r\n",
    "\r\n",
    "varEins, *varZwei, varDrei = meineDaten4   # Asterisk muss nicht an letzer Stelle stehen, Variable mit * wird Liste\r\n",
    "print(varZwei)\r\n",
    "\r\n",
    "neuesTuple1 = meineDaten1 + meineDaten2    # Zusammenführen von Tuplen\r\n",
    "print(neuesTuple1)\r\n",
    "\r\n",
    "neuesTuple2 = meineDaten1 * 2              # Multiplizieren eines Tuples \r\n",
    "print(neuesTuple2)\r\n",
    "\r\n",
    "print(neuesTuple2.count(2))                # Wieoft kommmt ein Element vor ?\r\n",
    "print(neuesTuple2.index(2))                # An welcher (Index-)Stelle erscheint es zuerst?"
   ],
   "outputs": [
    {
     "output_type": "stream",
     "name": "stdout",
     "text": [
      "2\n",
      "['drei', 'drei']\n",
      "[2, 'drei']\n",
      "(1, 2, 3, '1', '2', '3')\n",
      "(1, 2, 3, 1, 2, 3)\n",
      "2\n",
      "1\n"
     ]
    }
   ],
   "metadata": {}
  },
  {
   "cell_type": "code",
   "execution_count": 59,
   "source": [
    "help(tuple)"
   ],
   "outputs": [
    {
     "output_type": "stream",
     "name": "stdout",
     "text": [
      "object <class 'tuple'> is of type type\n",
      "  count -- <function>\n",
      "  index -- <function>\n"
     ]
    }
   ],
   "metadata": {}
  },
  {
   "cell_type": "markdown",
   "source": [
    "### Sets\r\n",
    "\r\n",
    "* Geschweifte Klammern\r\n",
    "* Keine Duplikate \r\n",
    "* Verschiedene Datentypen mischbar\r\n",
    "* Ungeordnet (Kein Index)\r\n",
    "* Nur Erweitern/Löschen, kein Verändern von Elementen"
   ],
   "metadata": {
    "tags": []
   }
  },
  {
   "cell_type": "code",
   "execution_count": 60,
   "source": [
    "# Sets erstellen\r\n",
    "\r\n",
    "meineDaten1 = {1,2,3}                  # Hier geschweifte Klammern\r\n",
    "meineDaten2 = set((\"1\",\"2\",\"3\"))       # über den Set-Construktor ((-beachten\r\n",
    "meineDaten3 = {\"eins\",\"zwei\",\"drei\",\"vier\"}\r\n",
    "meineDaten4 = {\"eins\",2,\"drei\",True} # Es müssen nicht mal die gleichen Typen verwendet werden\r\n",
    "meineDaten5 = {1,}                   # Tuple mit nur einem Element müssen ein Komma enthalten, sonst kein Tuple!\r\n",
    "\r\n",
    "print(meineDaten1)\r\n",
    "print(meineDaten2)\r\n",
    "print(meineDaten3)\r\n",
    "print(meineDaten4)\r\n",
    "\r\n",
    "# Länge einer Liste (vgl. Strings)\r\n",
    "print(len(meineDaten1))\r\n",
    "\r\n",
    "# Zugriff auf Elemente\r\n",
    "# print(meineDaten4[0])    # ! Kein Zugriff über Index (es gibt kein Index)\r\n",
    "\r\n",
    "# Loop List\r\n",
    "for x in meineDaten1:\r\n",
    "    print(x)\r\n",
    "# Abkürzung für Durchlauf\r\n",
    "[print(x) for x in meineDaten3]\r\n",
    "\r\n",
    "print(sum(meineDaten1)) # Summer einer gesamten numerischen Liste"
   ],
   "outputs": [
    {
     "output_type": "stream",
     "name": "stdout",
     "text": [
      "{3, 1, 2}\n",
      "{'1', '3', '2'}\n",
      "{'eins', 'zwei', 'vier', 'drei'}\n",
      "{'eins', True, 2, 'drei'}\n",
      "3\n",
      "3\n",
      "1\n",
      "2\n",
      "eins\n",
      "zwei\n",
      "vier\n",
      "drei\n",
      "6\n"
     ]
    }
   ],
   "metadata": {}
  },
  {
   "cell_type": "code",
   "execution_count": 61,
   "source": [
    "# Elemente finden/filtern\r\n",
    "print(meineDaten3)\r\n",
    "\r\n",
    "print(\"vier\" in meineDaten3)\r\n",
    "print(\"fünf\" not in meineDaten3)\r\n",
    "\r\n",
    "neueListe = []        # ! Liste muss als solche initialisiert sein\r\n",
    "for x in meineDaten3:\r\n",
    "  if \"r\" in x:          # Alle Elemente die ein r enthalten kommen in die neue Liste\r\n",
    "    neueListe.append(x)\r\n",
    "print(neueListe)\r\n",
    "\r\n",
    "#newlist = [expression for item in iterable if condition == True] \r\n",
    "neueListe2 = [x for x in meineDaten3 if \"r\" in x]  # Selbe Funktion in Kurzschreibweise\r\n",
    "print(neueListe2)\r\n",
    "\r\n",
    "neueListe2 = [x if \"r\" in x else \"-\" for x in meineDaten3]  # Einfügen wenn 'r' in Element sonst '-' einfügen\r\n",
    "print(neueListe2)\r\n",
    "\r\n",
    "neueListe3 =  {x for x in range(10)}  # Neues Set von Elementen mit Range \r\n",
    "print(neueListe3)"
   ],
   "outputs": [
    {
     "output_type": "stream",
     "name": "stdout",
     "text": [
      "{'eins', 'zwei', 'vier', 'drei'}\n",
      "True\n",
      "True\n",
      "['vier', 'drei']\n",
      "['vier', 'drei']\n",
      "['-', '-', 'vier', 'drei']\n",
      "{0, 1, 2, 3, 4, 5, 6, 7, 8, 9}\n"
     ]
    }
   ],
   "metadata": {}
  },
  {
   "cell_type": "code",
   "execution_count": 62,
   "source": [
    "# Set verändern\r\n",
    "\r\n",
    "print(meineDaten2)\r\n",
    "\r\n",
    "meineDaten2.add(4)                # Element hinzufügen\r\n",
    "meineDaten2.add(2)                # Keine Dupplikate\r\n",
    "print(meineDaten2)\r\n",
    "\r\n",
    "# Vereinigung\r\n",
    "meineDaten2.update(meineDaten1)   # Ein komplettes Set hinzufügen, funktioniert auch mit Listen etc.\r\n",
    "print(meineDaten2)\r\n",
    "\r\n",
    "neuesSet1 = meineDaten2.union(meineDaten1)  # Vereint beide Sets (z.B. in einem neuen Set)\r\n",
    "print(neuesSet1)\r\n",
    "\r\n",
    "neuesSet2 = neuesSet1.union(meineDaten1)  # Keine Dupplikate\r\n",
    "print(neuesSet2)"
   ],
   "outputs": [
    {
     "output_type": "stream",
     "name": "stdout",
     "text": [
      "{'1', '3', '2'}\n",
      "{'3', '2', 2, '1', 4}\n",
      "{1, 2, 3, '1', 4, '3', '2'}\n",
      "{1, 2, 3, '1', 4, '3', '2'}\n",
      "{1, 2, 3, '1', 4, '3', '2'}\n"
     ]
    }
   ],
   "metadata": {}
  },
  {
   "cell_type": "code",
   "execution_count": 63,
   "source": [
    "print(meineDaten3)\r\n",
    "print(meineDaten4)\r\n",
    "\r\n",
    "# Schnittmente / Überschneidung \r\n",
    "neuesSet2 = meineDaten4.intersection(meineDaten3)   # Nur Elemente die in beiden Liste vorkommen\r\n",
    "print(neuesSet2)\r\n",
    "\r\n",
    "neuesSet2.intersection_update(meineDaten3)        # Update: Nur Elemente die in beiden Liste vorkommen\r\n",
    "print(neuesSet2)\r\n",
    "\r\n",
    "\r\n",
    "# Differenz \r\n",
    "neuesSet2 = meineDaten4.difference(meineDaten3)   # Nur Elemente die nicht in beiden Liste vorkommen\r\n",
    "print(neuesSet2)\r\n",
    "\r\n",
    "neuesSet2.difference_update(meineDaten3)        # Update: Nur Elemente die nicht in beiden Liste vorkommen\r\n",
    "print(neuesSet2)\r\n",
    "\r\n",
    "# Symetrische Differenz = Vereinigung bis auf dupplikate (XOR)\r\n",
    "neuesSet2 = meineDaten4.symmetric_difference(meineDaten3)   # Nur Elemente die in beiden Liste vorkommen\r\n",
    "print(neuesSet2)\r\n",
    "\r\n",
    "neuesSet2.symmetric_difference_update(meineDaten4)        # Update: Nur Elemente die in beiden Liste vorkommen\r\n",
    "print(neuesSet2)"
   ],
   "outputs": [
    {
     "output_type": "stream",
     "name": "stdout",
     "text": [
      "{'eins', 'zwei', 'vier', 'drei'}\n",
      "{'eins', True, 2, 'drei'}\n",
      "{'eins', 'drei'}\n",
      "{'eins', 'drei'}\n",
      "{True, 2}\n",
      "{True, 2}\n",
      "{'zwei', True, 2, 'vier'}\n",
      "{'zwei', 'drei', 'eins', 'vier'}\n"
     ]
    }
   ],
   "metadata": {}
  },
  {
   "cell_type": "code",
   "execution_count": 64,
   "source": [
    "# Eigenschaften\r\n",
    "schnittmenge = meineDaten4.intersection(meineDaten3)   # Nur Elemente die in beiden Liste vorkommen\r\n",
    "\r\n",
    "print(schnittmenge.issubset(meineDaten3))    # Untermenge\r\n",
    "print(meineDaten3.issuperset(schnittmenge))  # Obermenge\r\n",
    "print(schnittmenge.isdisjoint(meineDaten1))  # Disjunkt"
   ],
   "outputs": [
    {
     "output_type": "stream",
     "name": "stdout",
     "text": [
      "True\n",
      "True\n",
      "True\n"
     ]
    }
   ],
   "metadata": {}
  },
  {
   "cell_type": "code",
   "execution_count": 65,
   "source": [
    "neuesSet = meineDaten2.copy()  # Kopieren eines Sets\r\n",
    "print(neuesSet)\r\n",
    "\r\n",
    "neuesSet.remove('1')    # Entfernen von Element\r\n",
    "print(neuesSet)\r\n",
    "\r\n",
    "# meineDaten2.remove('1')  # ! Wenn ELement nicht existiert -> ERROR\r\n",
    "\r\n",
    "neuesSet.discard('1')     # Discard entfernt auch, aber ohne Error falls Element nicht existiert\r\n",
    "print(neuesSet)\r\n",
    "\r\n",
    "neuesSet.pop()            # Entfernt letzes Element\r\n",
    "print(neuesSet)\r\n",
    "\r\n",
    "neuesSet.clear()          # Löscht Set-Inhalt\r\n",
    "print(neuesSet)"
   ],
   "outputs": [
    {
     "output_type": "stream",
     "name": "stdout",
     "text": [
      "{1, 2, 3, '1', 4, '3', '2'}\n",
      "{1, 2, 3, 4, '3', '2'}\n",
      "{1, 2, 3, 4, '3', '2'}\n",
      "{2, 3, 4, '3', '2'}\n",
      "set()\n"
     ]
    }
   ],
   "metadata": {}
  },
  {
   "cell_type": "code",
   "execution_count": 66,
   "source": [
    "help(set)"
   ],
   "outputs": [
    {
     "output_type": "stream",
     "name": "stdout",
     "text": [
      "object <class 'set'> is of type type\n",
      "  add -- <function>\n",
      "  clear -- <function>\n",
      "  copy -- <function>\n",
      "  discard -- <function>\n",
      "  difference -- <function>\n",
      "  difference_update -- <function>\n",
      "  intersection -- <function>\n",
      "  intersection_update -- <function>\n",
      "  isdisjoint -- <function>\n",
      "  issubset -- <function>\n",
      "  issuperset -- <function>\n",
      "  pop -- <function>\n",
      "  remove -- <function>\n",
      "  symmetric_difference -- <function>\n",
      "  symmetric_difference_update -- <function>\n",
      "  union -- <function>\n",
      "  update -- <function>\n",
      "  __contains__ -- <function>\n"
     ]
    }
   ],
   "metadata": {}
  },
  {
   "cell_type": "markdown",
   "source": [
    "### Dictionaries\n",
    "\n",
    "* Geschweifte Klammern, Key:Value\n",
    "* Keine Dupplikate\n",
    "* Verschiedene Datentypen mischbar\n",
    "* Geordnet (Index)\n",
    "* Änderbar"
   ],
   "metadata": {}
  },
  {
   "cell_type": "code",
   "execution_count": 67,
   "source": [
    "# Dictionary erstellen\r\n",
    "\r\n",
    "# Key:Value Paare\r\n",
    "meineDaten1 = {1:\"eins\",2:\"zwei\",3:\"drei\",4:\"vier\"}\r\n",
    "# Doppelter Key -> Überschrieben. Auch z.B. lists sind values\r\n",
    "meineDaten2 = {\"vorname\":\"Donald\",\"nachname\":\"Duck\",\"alter\":56,\"vorname\":\"Dagobert\", \"enkel\":[\"Tick\",\"Trick\",\"Track\"]}  \r\n",
    "\r\n",
    "x = (\"1\",\"2\",\"3\") \r\n",
    "y = [\"1\",\"2\",\"3\"]\r\n",
    "meineDaten3 = dict.fromkeys(x,0)    # Erstellt eine Dict aus einem vorgebenen Datensatz (hier set), Value für alle 0\r\n",
    "meineDaten4 = dict.fromkeys(y)      # hier aus Liste erstellt. Value nicht angegeben -> None\r\n",
    "\r\n",
    "print(meineDaten1)\r\n",
    "print(meineDaten2)\r\n",
    "print(meineDaten3)\r\n",
    "print(meineDaten4)\r\n",
    "\r\n",
    "# Länge des Dictionaries\r\n",
    "print(len(meineDaten1))\r\n",
    "print(len(meineDaten4))"
   ],
   "outputs": [
    {
     "output_type": "stream",
     "name": "stdout",
     "text": [
      "{4: 'vier', 1: 'eins', 2: 'zwei', 3: 'drei'}\n",
      "{'nachname': 'Duck', 'alter': 56, 'enkel': ['Tick', 'Trick', 'Track'], 'vorname': 'Dagobert'}\n",
      "{'3': 0, '1': 0, '2': 0}\n",
      "{'3': None, '1': None, '2': None}\n",
      "4\n",
      "3\n"
     ]
    }
   ],
   "metadata": {}
  },
  {
   "cell_type": "code",
   "execution_count": 68,
   "source": [
    "# Zugriff auf Elemente\r\n",
    "print(meineDaten1[1])                # ! Kein Zugriff über Index, hier über key die eine Zahl ist\r\n",
    "print(meineDaten2[\"vorname\"])        # Zugriff über key\r\n",
    "print(meineDaten2.get(\"vorname\"))    # Zugriff über key und Funktion get()\r\n",
    "\r\n",
    "print(meineDaten2.get(\"zweitname\"))   # None wenn Key nicht exisitert\r\n",
    "print(meineDaten2.setdefault(\"ehepartner\")) # Setdefault alternative zu get\r\n",
    "print(meineDaten2.setdefault(\"familie\",\"Duck\")) # Bei setdefault kann Standardwert angegben werden\r\n",
    "\r\n",
    "print(meineDaten2.keys())           # Eine Liste von keys\r\n",
    "\r\n",
    "for x in meineDaten2:   # Durchläuft Keys\r\n",
    "    print(x)\r\n",
    "    \r\n",
    "for x in meineDaten2.keys():\r\n",
    "    print(x)\r\n",
    "    \r\n",
    "[print(x) for x in meineDaten2.values()]   # Eine Liste von Values\r\n",
    "\r\n",
    "print(meineDaten2.items())"
   ],
   "outputs": [
    {
     "output_type": "stream",
     "name": "stdout",
     "text": [
      "eins\n",
      "Dagobert\n",
      "Dagobert\n",
      "None\n",
      "None\n",
      "Duck\n",
      "dict_keys(['nachname', 'vorname', 'familie', 'ehepartner', 'alter', 'enkel'])\n",
      "nachname\n",
      "vorname\n",
      "familie\n",
      "ehepartner\n",
      "alter\n",
      "enkel\n",
      "nachname\n",
      "vorname\n",
      "familie\n",
      "ehepartner\n",
      "alter\n",
      "enkel\n",
      "Duck\n",
      "Dagobert\n",
      "Duck\n",
      "None\n",
      "56\n",
      "['Tick', 'Trick', 'Track']\n",
      "dict_items([('nachname', 'Duck'), ('vorname', 'Dagobert'), ('familie', 'Duck'), ('ehepartner', None), ('alter', 56), ('enkel', ['Tick', 'Trick', 'Track'])])\n"
     ]
    }
   ],
   "metadata": {}
  },
  {
   "cell_type": "code",
   "execution_count": 69,
   "source": [
    "# Daten verändern/hinzufügen\r\n",
    "\r\n",
    "# Werte Verändern\r\n",
    "meineDaten1[1] = \"null\"\r\n",
    "print(meineDaten1)\r\n",
    "meineDaten1.update({2:\"eins\"})\r\n",
    "print(meineDaten1)\r\n",
    "\r\n",
    "# Key-Value-Paar hinzufügen\r\n",
    "meineDaten1[5] = \"vier\"\r\n",
    "print(meineDaten1)\r\n",
    "meineDaten1.update({6:\"sechs\"})\r\n",
    "print(meineDaten1)\r\n",
    "\r\n",
    "neuesDict = meineDaten1.copy()\r\n",
    "print(neuesDict)"
   ],
   "outputs": [
    {
     "output_type": "stream",
     "name": "stdout",
     "text": [
      "{4: 'vier', 1: 'null', 2: 'zwei', 3: 'drei'}\n",
      "{4: 'vier', 1: 'null', 2: 'eins', 3: 'drei'}\n",
      "{1: 'null', 2: 'eins', 3: 'drei', 4: 'vier', 5: 'vier'}\n",
      "{6: 'sechs', 1: 'null', 2: 'eins', 3: 'drei', 4: 'vier', 5: 'vier'}\n",
      "{6: 'sechs', 1: 'null', 2: 'eins', 3: 'drei', 4: 'vier', 5: 'vier'}\n"
     ]
    }
   ],
   "metadata": {}
  },
  {
   "cell_type": "code",
   "execution_count": 70,
   "source": [
    "# Daten löschen\r\n",
    "print(meineDaten1)\r\n",
    "\r\n",
    "meineDaten1.popitem()   # Entfernt zuletzt hinzugefügtes item\r\n",
    "print(meineDaten1)\r\n",
    "\r\n",
    "meineDaten1.pop(1)      # Entfernt Key-Value Paar mit diesem Key\r\n",
    "print(meineDaten1)\r\n",
    "\r\n",
    "del meineDaten1[2]      # Entfernt Key-Value Paar mit diesem Key (del Methode)\r\n",
    "print(meineDaten1)\r\n",
    "\r\n",
    "meineDaten1.clear()     # Löscht Dictionary Inhalt\r\n",
    "print(meineDaten1)"
   ],
   "outputs": [
    {
     "output_type": "stream",
     "name": "stdout",
     "text": [
      "{6: 'sechs', 1: 'null', 2: 'eins', 3: 'drei', 4: 'vier', 5: 'vier'}\n",
      "{1: 'null', 2: 'eins', 3: 'drei', 4: 'vier', 5: 'vier'}\n",
      "{2: 'eins', 3: 'drei', 4: 'vier', 5: 'vier'}\n",
      "{3: 'drei', 4: 'vier', 5: 'vier'}\n",
      "{}\n"
     ]
    }
   ],
   "metadata": {}
  },
  {
   "cell_type": "code",
   "execution_count": 71,
   "source": [
    "help(dict)"
   ],
   "outputs": [
    {
     "output_type": "stream",
     "name": "stdout",
     "text": [
      "object <class 'dict'> is of type type\n",
      "  clear -- <function>\n",
      "  copy -- <function>\n",
      "  fromkeys -- <classmethod>\n",
      "  get -- <function>\n",
      "  items -- <function>\n",
      "  keys -- <function>\n",
      "  pop -- <function>\n",
      "  popitem -- <function>\n",
      "  setdefault -- <function>\n",
      "  update -- <function>\n",
      "  values -- <function>\n",
      "  __getitem__ -- <function>\n",
      "  __setitem__ -- <function>\n",
      "  __delitem__ -- <function>\n"
     ]
    }
   ],
   "metadata": {}
  },
  {
   "cell_type": "markdown",
   "source": [
    "## Klassen und Objekte"
   ],
   "metadata": {}
  },
  {
   "cell_type": "code",
   "execution_count": 112,
   "source": [
    "# Definition einer Klasse\r\n",
    "class MyClass(): \r\n",
    "    # Attribut einer Klasse\r\n",
    "    wert = 10      \r\n",
    "\r\n",
    "    #Funktion einer Klasse\r\n",
    "    def myFunction(self):\r\n",
    "        #Zugriff auf eineges Attribut\r\n",
    "        print(str(self.wert))\r\n",
    "\r\n",
    "# Object instanzieren\r\n",
    "myObject = MyClass()\r\n",
    "\r\n",
    "#Zugriff auf Attribute und Funktionen\r\n",
    "print(myObject.wert)\r\n",
    "myObject.myFunction()"
   ],
   "outputs": [
    {
     "output_type": "stream",
     "name": "stdout",
     "text": [
      "10\n",
      "10\n"
     ]
    }
   ],
   "metadata": {}
  },
  {
   "cell_type": "markdown",
   "source": [
    "# Kontrollstrukturen "
   ],
   "metadata": {}
  },
  {
   "cell_type": "markdown",
   "source": [
    "## If-Then-Else\r\n",
    "\r\n",
    "Es existiert (derzeit) kein switch-case in MicroPython!\r\n",
    "\r\n",
    "(Erscheint in Python 3.10: https://towardsdatascience.com/switch-case-statements-are-coming-to-python-d0caf7b2bfd3)\r\n"
   ],
   "metadata": {}
  },
  {
   "cell_type": "code",
   "execution_count": 72,
   "source": [
    "# klassiche IF-Anweisung\r\n",
    "x=3; y=5\r\n",
    "\r\n",
    "if x < y:\r\n",
    "    print(str(x)+ \" ist kleiner als \" +str(y))\r\n",
    "elif x == y:\r\n",
    "    print(str(x)+ \" ist gleich \" +str(y))\r\n",
    "else:\r\n",
    "    print(str(x)+ \" ist größer als \" +str(y))"
   ],
   "outputs": [
    {
     "output_type": "stream",
     "name": "stdout",
     "text": [
      "3 ist kleiner als 5\n"
     ]
    }
   ],
   "metadata": {}
  },
  {
   "cell_type": "code",
   "execution_count": 73,
   "source": [
    "# Kurzschreibweisen\r\n",
    "a = 5; b = 3\r\n",
    "\r\n",
    "if a > b: print(\"a ist größer als b\")\r\n",
    "print(\"A\") if a > b else print(\"B\")"
   ],
   "outputs": [
    {
     "output_type": "stream",
     "name": "stdout",
     "text": [
      "a ist größer als b\n",
      "A\n"
     ]
    }
   ],
   "metadata": {}
  },
  {
   "cell_type": "code",
   "execution_count": 74,
   "source": [
    "# AND und OR\r\n",
    "a = 3; b = 4; c = 7\r\n",
    "\r\n",
    "if b > a and b < c: \r\n",
    "    print(\"b liegt zwischen a und c\")\r\n",
    "\r\n",
    "if b < a or b > c: \r\n",
    "    print(\"b liegt nicht zwischen a und c\")"
   ],
   "outputs": [
    {
     "output_type": "stream",
     "name": "stdout",
     "text": [
      "b liegt zwischen a und c\n"
     ]
    }
   ],
   "metadata": {}
  },
  {
   "cell_type": "markdown",
   "source": [
    "## While-Loop"
   ],
   "metadata": {}
  },
  {
   "cell_type": "code",
   "execution_count": 75,
   "source": [
    "x = 1 \r\n",
    "\r\n",
    "# Einfache While-Loop\r\n",
    "while x <= 3:\r\n",
    "    print(x)\r\n",
    "    x += 1"
   ],
   "outputs": [
    {
     "output_type": "stream",
     "name": "stdout",
     "text": [
      "1\n",
      "2\n",
      "3\n"
     ]
    }
   ],
   "metadata": {}
  },
  {
   "cell_type": "code",
   "execution_count": 76,
   "source": [
    "# While mit Abbruchbedingung:\r\n",
    "while x > 0:\r\n",
    "    print(x)\r\n",
    "    x += 1\r\n",
    "    if x>5: break"
   ],
   "outputs": [
    {
     "output_type": "stream",
     "name": "stdout",
     "text": [
      "4\n",
      "5\n"
     ]
    }
   ],
   "metadata": {}
  },
  {
   "cell_type": "code",
   "execution_count": 77,
   "source": [
    "# While mit continue\r\n",
    "while x < 10:\r\n",
    "    x += 1\r\n",
    "    if x == 7: continue\r\n",
    "    print(x)"
   ],
   "outputs": [
    {
     "output_type": "stream",
     "name": "stdout",
     "text": [
      "8\n",
      "9\n",
      "10\n"
     ]
    }
   ],
   "metadata": {}
  },
  {
   "cell_type": "code",
   "execution_count": 78,
   "source": [
    "# While mit Else\r\n",
    "while x < 13:\r\n",
    "    x += 1\r\n",
    "    print(x)\r\n",
    "else:                    # Die Else-Anweisung wird ausfeführt, wenn die Schleifenbedingung nicht länger True ist\r\n",
    "    print(\"Die 13 wurde erreicht\")"
   ],
   "outputs": [
    {
     "output_type": "stream",
     "name": "stdout",
     "text": [
      "11\n",
      "12\n",
      "13\n",
      "Die 13 wurde erreicht\n"
     ]
    }
   ],
   "metadata": {}
  },
  {
   "cell_type": "markdown",
   "source": [
    "## For-Loop"
   ],
   "metadata": {}
  },
  {
   "cell_type": "code",
   "execution_count": 79,
   "source": [
    "# For-Loop zum durchlauf eines Zahlenbereichs\r\n",
    "for x in range(5):\r\n",
    "    print(x)"
   ],
   "outputs": [
    {
     "output_type": "stream",
     "name": "stdout",
     "text": [
      "0\n",
      "1\n",
      "2\n",
      "3\n",
      "4\n"
     ]
    }
   ],
   "metadata": {}
  },
  {
   "cell_type": "code",
   "execution_count": 80,
   "source": [
    "# range() erzeugt einen sequenz von nummern die durchlaufen wird. \r\n",
    "# range(start, stop, step)\r\n",
    "for x in range(0,6,2):\r\n",
    "    print(x)"
   ],
   "outputs": [
    {
     "output_type": "stream",
     "name": "stdout",
     "text": [
      "0\n",
      "2\n",
      "4\n"
     ]
    }
   ],
   "metadata": {}
  },
  {
   "cell_type": "code",
   "execution_count": 81,
   "source": [
    "# For-Loop um Listen zu durchlaufen\r\n",
    "languages = [\"c\", \"c++\", \"python\"]\r\n",
    "for x in languages:\r\n",
    "    print(x)"
   ],
   "outputs": [
    {
     "output_type": "stream",
     "name": "stdout",
     "text": [
      "c\n",
      "c++\n",
      "python\n"
     ]
    }
   ],
   "metadata": {}
  },
  {
   "cell_type": "code",
   "execution_count": 82,
   "source": [
    "# For-Loop um Zeichen eines Strings zu durchlaufen\r\n",
    "language = \"python\"\r\n",
    "for x in language:\r\n",
    "    print(x)"
   ],
   "outputs": [
    {
     "output_type": "stream",
     "name": "stdout",
     "text": [
      "p\n",
      "y\n",
      "t\n",
      "h\n",
      "o\n",
      "n\n"
     ]
    }
   ],
   "metadata": {}
  },
  {
   "cell_type": "code",
   "execution_count": 83,
   "source": [
    "# Break, Continue, Else funktionieren auch hier\r\n",
    "\r\n",
    "language = \"python\"\r\n",
    "for x in language:\r\n",
    "    if x == 'y': continue\r\n",
    "    if x == 'o': break    \r\n",
    "    print(x)\r\n",
    "else:       # Else wird nicht Ausgeführt, da zuvor mit Break die Schleife beendet wurde!\r\n",
    "    print(\"Was ist PTHON?\")"
   ],
   "outputs": [
    {
     "output_type": "stream",
     "name": "stdout",
     "text": [
      "p\n",
      "t\n",
      "h\n"
     ]
    }
   ],
   "metadata": {}
  },
  {
   "cell_type": "markdown",
   "source": [
    "## Try-Except"
   ],
   "metadata": {}
  },
  {
   "cell_type": "code",
   "execution_count": 84,
   "source": [
    "# Bei Fehlern schmeißt Pyhton eine Exception\r\n",
    "\r\n",
    "#del x      # KeyError: x\r\n",
    "#print(x)   # NameError: name 'x' isn't defined"
   ],
   "outputs": [],
   "metadata": {}
  },
  {
   "cell_type": "code",
   "execution_count": 85,
   "source": [
    "# Fehler können behandelt werden in Try-Blöcken (Kein Guter Stil hier)\r\n",
    "try:\r\n",
    "    del x\r\n",
    "except:\r\n",
    "    pass  # Tue nichts"
   ],
   "outputs": [],
   "metadata": {}
  },
  {
   "cell_type": "code",
   "execution_count": 86,
   "source": [
    "# Fehler können behandelt werden in Try-Blöcken (Auch kein Guter Stil hier)\r\n",
    "try:\r\n",
    "    print(x)\r\n",
    "except:\r\n",
    "    print(\"Ein Fehler\")\r\n",
    "\r\n",
    "# Mit vordefinierter Ausgabe\r\n",
    "import sys #oder usys\r\n",
    "try:\r\n",
    "    print(x)\r\n",
    "except Exception as err:   #Exception ist die Oberklasse aller Exceptions\r\n",
    "    print(err)\r\n",
    "    sys.print_exception(err)"
   ],
   "outputs": [
    {
     "output_type": "stream",
     "name": "stdout",
     "text": [
      "Ein Fehler\n",
      "name 'x' isn't defined\n",
      "Traceback (most recent call last):\n",
      "  File \"<stdin>\", line 10, in <module>\n",
      "NameError: name 'x' isn't defined\n"
     ]
    }
   ],
   "metadata": {}
  },
  {
   "cell_type": "code",
   "execution_count": 87,
   "source": [
    "# Besser: es wird genau definiert, welcher Fehler erwartet wird\r\n",
    "try: \r\n",
    "    del x\r\n",
    "    print(x)   # Bei erstem Fehler wird unterbrochen !\r\n",
    "except NameError:\r\n",
    "    print(\"Variable existiert nicht (NameError)\")\r\n",
    "except KeyError:\r\n",
    "    print(\"Variable existiert nicht (KeyError)\")   "
   ],
   "outputs": [
    {
     "output_type": "stream",
     "name": "stdout",
     "text": [
      "Variable existiert nicht (KeyError)\n"
     ]
    }
   ],
   "metadata": {}
  },
  {
   "cell_type": "code",
   "execution_count": 88,
   "source": [
    "# Else und Finally\r\n",
    "x = \"Hallo\"\r\n",
    "#del x\r\n",
    "\r\n",
    "try: \r\n",
    "    #del x\r\n",
    "    print(x)\r\n",
    "except NameError:\r\n",
    "    print(\"Variable existiert nicht (NameError)\")\r\n",
    "else:                                            # Wird ausgeführt wenn es kein Fehler gab\r\n",
    "    print(\"Hat alles geklappt\")\r\n",
    "finally:                                         # Wird ausgeführt in jedem Fall,\r\n",
    "    print(\"Wie auch immer... weiter gehts\")      #gut um z.B. in jedem Fall eine Verbindung zu trennen oder Dateien zu schließen"
   ],
   "outputs": [
    {
     "output_type": "stream",
     "name": "stdout",
     "text": [
      "Hallo\n",
      "Hat alles geklappt\n",
      "Wie auch immer... weiter gehts\n"
     ]
    }
   ],
   "metadata": {}
  },
  {
   "cell_type": "code",
   "execution_count": 89,
   "source": [
    "# Exception selbst werfen\r\n",
    "import sys\r\n",
    "\r\n",
    "def myFunction1(x):\r\n",
    "    if not type(x) is int:\r\n",
    "        raise Exception(\"Bitte Nummer angeben\")\r\n",
    "        \r\n",
    "def myFunction2(x):\r\n",
    "    if not type(x) is int:\r\n",
    "        raise TypeError(\"Bitte Nummer angeben\")\r\n",
    "\r\n",
    "def myFunction3(x):\r\n",
    "    if not type(x) is int:\r\n",
    "        raise TypeError(\"Bitte Nummer angeben\")\r\n",
    "    if x < 0:\r\n",
    "        raise ValueError(\"Bitte Zahl größer 0 angeben\")\r\n",
    "\r\n",
    "try:\r\n",
    "    myFunction1(\"hallo\")\r\n",
    "except Exception as ex:\r\n",
    "    print(ex)\r\n",
    "    sys.print_exception(ex)\r\n",
    "    \r\n",
    "try:\r\n",
    "    myFunction2(\"hallo\")\r\n",
    "except Exception as ex:\r\n",
    "    print(ex)\r\n",
    "    sys.print_exception(ex)\r\n",
    "    \r\n",
    "try:\r\n",
    "    myFunction3(\"hallo\")\r\n",
    "except Exception as ex:\r\n",
    "    print(ex)\r\n",
    "    sys.print_exception(ex)\r\n",
    "    \r\n",
    "try:\r\n",
    "    myFunction3(-1)\r\n",
    "except Exception as ex:\r\n",
    "    print(ex)\r\n",
    "    sys.print_exception(ex)\r\n",
    "    "
   ],
   "outputs": [
    {
     "output_type": "stream",
     "name": "stdout",
     "text": [
      "Bitte Nummer angeben\n",
      "Traceback (most recent call last):\n",
      "  File \"<stdin>\", line 19, in <module>\n",
      "  File \"<stdin>\", line 6, in myFunction1\n",
      "Exception: Bitte Nummer angeben\n",
      "Bitte Nummer angeben\n",
      "Traceback (most recent call last):\n",
      "  File \"<stdin>\", line 25, in <module>\n",
      "  File \"<stdin>\", line 10, in myFunction2\n",
      "TypeError: Bitte Nummer angeben\n",
      "Bitte Nummer angeben\n",
      "Traceback (most recent call last):\n",
      "  File \"<stdin>\", line 31, in <module>\n",
      "  File \"<stdin>\", line 14, in myFunction3\n",
      "TypeError: Bitte Nummer angeben\n",
      "Bitte Zahl größer 0 angeben\n",
      "Traceback (most recent call last):\n",
      "  File \"<stdin>\", line 37, in <module>\n",
      "  File \"<stdin>\", line 16, in myFunction3\n",
      "ValueError: Bitte Zahl größer 0 angeben\n"
     ]
    }
   ],
   "metadata": {}
  },
  {
   "cell_type": "code",
   "execution_count": 90,
   "source": [
    "# Liste von Exceptions\r\n",
    "\r\n",
    "# https://docs.micropython.org/en/latest/library/builtins.html?highlight=except#exceptions\r\n",
    "import builtins\r\n",
    "\r\n",
    "list_no_exception = [\"Ellipsis\"]\r\n",
    "for x in dir(builtins):\r\n",
    "    if x[0].isupper() and x not in list_no_exception:\r\n",
    "        print(x)"
   ],
   "outputs": [
    {
     "output_type": "stream",
     "name": "stdout",
     "text": [
      "ArithmeticError\n",
      "AssertionError\n",
      "AttributeError\n",
      "BaseException\n",
      "EOFError\n",
      "Exception\n",
      "GeneratorExit\n",
      "ImportError\n",
      "IndentationError\n",
      "IndexError\n",
      "KeyError\n",
      "KeyboardInterrupt\n",
      "LookupError\n",
      "MemoryError\n",
      "NameError\n",
      "NotImplementedError\n",
      "OSError\n",
      "OverflowError\n",
      "RuntimeError\n",
      "StopIteration\n",
      "SyntaxError\n",
      "SystemExit\n",
      "TypeError\n",
      "ValueError\n",
      "ZeroDivisionError\n",
      "StopAsyncIteration\n",
      "UnicodeError\n",
      "ViperTypeError\n"
     ]
    }
   ],
   "metadata": {}
  },
  {
   "cell_type": "markdown",
   "source": [
    "# Funktionen"
   ],
   "metadata": {}
  },
  {
   "cell_type": "code",
   "execution_count": 91,
   "source": [
    "# Einfache Funktionen definieren\r\n",
    "\r\n",
    "def myFunction():\r\n",
    "    print(\"Dies ist meine Funktion\")\r\n",
    "\r\n",
    "myFunction()\r\n",
    "\r\n",
    "print(callable(myFunction)) # Überprüfung: ist das Objekt aufrufbar?"
   ],
   "outputs": [
    {
     "output_type": "stream",
     "name": "stdout",
     "text": [
      "Dies ist meine Funktion\n",
      "True\n"
     ]
    }
   ],
   "metadata": {}
  },
  {
   "cell_type": "code",
   "execution_count": 92,
   "source": [
    "# Funktion mit einfachen Parameter\r\n",
    "def myFunction(name1, name2):\r\n",
    "    print(\"Dies ist die Funktion von \"+ name1 + \" und \" + name2)\r\n",
    "\r\n",
    "myFunction(\"dir\",\"mir\")\r\n",
    "# myFunction(3) #! hier gibt es einen Fehler, Datentyp passt nicht!\r\n",
    "myFunction(name2 = \"mir\", name1= \"dir\") # Parameter werden explicit angegeben"
   ],
   "outputs": [
    {
     "output_type": "stream",
     "name": "stdout",
     "text": [
      "Dies ist die Funktion von dir und mir\n",
      "Dies ist die Funktion von dir und mir\n"
     ]
    }
   ],
   "metadata": {}
  },
  {
   "cell_type": "code",
   "execution_count": 93,
   "source": [
    "# Funktion mit default-Parametern\r\n",
    "def myFunction(name1 =\"dir\", name2 = \"mir\"):\r\n",
    "    print(\"Dies ist die Funktion von \"+ name1 + \" und \" + name2)\r\n",
    "\r\n",
    "myFunction()"
   ],
   "outputs": [
    {
     "output_type": "stream",
     "name": "stdout",
     "text": [
      "Dies ist die Funktion von dir und mir\n"
     ]
    }
   ],
   "metadata": {}
  },
  {
   "cell_type": "code",
   "execution_count": 94,
   "source": [
    "# Funktion mit beliebiger Anzahl von Parametern\r\n",
    "def myFunction(*namen):\r\n",
    "    print(\"Dies ist die Funktion von: \")\r\n",
    "    for name in namen:\r\n",
    "        print(name)\r\n",
    "\r\n",
    "myFunction(\"Tick\", \"Trick\", \"Track\")"
   ],
   "outputs": [
    {
     "output_type": "stream",
     "name": "stdout",
     "text": [
      "Dies ist die Funktion von: \n",
      "Tick\n",
      "Trick\n",
      "Track\n"
     ]
    }
   ],
   "metadata": {}
  },
  {
   "cell_type": "code",
   "execution_count": 95,
   "source": [
    "def myFunction(vorname, nachname):\r\n",
    "    return(\"Sein Nachname lautet \" + nachname)\r\n",
    "\r\n",
    "lname = myFunction(\"Donald\", \"Duck\")\r\n",
    "print(lname)"
   ],
   "outputs": [
    {
     "output_type": "stream",
     "name": "stdout",
     "text": [
      "Sein Nachname lautet Duck\n"
     ]
    }
   ],
   "metadata": {}
  },
  {
   "cell_type": "code",
   "execution_count": 96,
   "source": [
    "def myFunction(vorname, nachname):\r\n",
    "    vorname = \"Dagobert\"\r\n",
    "    return(\"Sein Nachname lautet \" + nachname)\r\n",
    "    \r\n",
    "\r\n",
    "vorname = \"Donald\"; nachname=\"Duck\"\r\n",
    "print(myFunction(\"Donald\", \"Duck\"))\r\n",
    "print(vorname)"
   ],
   "outputs": [
    {
     "output_type": "stream",
     "name": "stdout",
     "text": [
      "Sein Nachname lautet Duck\n",
      "Donald\n"
     ]
    }
   ],
   "metadata": {}
  },
  {
   "cell_type": "code",
   "execution_count": 97,
   "source": [
    "# Funktionsparameter als Dictionary\r\n",
    "def myFunction(**names):\r\n",
    "    print(\"Sein Nachname lautet \" + names[\"lname\"])\r\n",
    "\r\n",
    "myFunction(fname = \"Donald\", lname = \"Duck\")"
   ],
   "outputs": [
    {
     "output_type": "stream",
     "name": "stdout",
     "text": [
      "Sein Nachname lautet Duck\n"
     ]
    }
   ],
   "metadata": {}
  },
  {
   "cell_type": "markdown",
   "source": [
    "## Lambda-Funktionen\n"
   ],
   "metadata": {}
  },
  {
   "cell_type": "code",
   "execution_count": 98,
   "source": [
    "# Syntax: lambda arguments : expression\r\n",
    "x = lambda a : a + 10\r\n",
    "print(x(5))"
   ],
   "outputs": [
    {
     "output_type": "stream",
     "name": "stdout",
     "text": [
      "15\n"
     ]
    }
   ],
   "metadata": {}
  },
  {
   "cell_type": "code",
   "execution_count": 99,
   "source": [
    "# Syntax: lambda arguments : expression\r\n",
    "x = lambda a, b : a * b\r\n",
    "print(x(5,3))"
   ],
   "outputs": [
    {
     "output_type": "stream",
     "name": "stdout",
     "text": [
      "15\n"
     ]
    }
   ],
   "metadata": {}
  },
  {
   "cell_type": "code",
   "execution_count": 100,
   "source": [
    "# Die Funktion gibt eine Funktion zurück, der Parameter ersetzt n\r\n",
    "def myfunc(n):\r\n",
    "    return lambda a : a * n\r\n",
    "\r\n",
    "mydoubler = myfunc(2)\r\n",
    "mytripler = myfunc(3)\r\n",
    "\r\n",
    "print(mydoubler(11))\r\n",
    "print(mytripler(11))"
   ],
   "outputs": [
    {
     "output_type": "stream",
     "name": "stdout",
     "text": [
      "22\n",
      "33\n"
     ]
    }
   ],
   "metadata": {}
  },
  {
   "cell_type": "markdown",
   "source": [
    "## Spezialthema: ByValue oder ByReference?\n",
    "Quelle: https://stackoverflow.com/questions/986006/how-do-i-pass-a-variable-by-reference\n"
   ],
   "metadata": {}
  },
  {
   "cell_type": "code",
   "execution_count": 101,
   "source": [
    "# Listen sind veränderbar (mutable type)\r\n",
    "def try_to_change_list_contents(the_list):\r\n",
    "    print('got', the_list)\r\n",
    "    the_list.append('four')\r\n",
    "    print('changed to', the_list)\r\n",
    "\r\n",
    "outer_list = ['one', 'two', 'three']\r\n",
    "\r\n",
    "print('before, outer_list =', outer_list)\r\n",
    "try_to_change_list_contents(outer_list)\r\n",
    "print('after, outer_list =', outer_list)"
   ],
   "outputs": [
    {
     "output_type": "stream",
     "name": "stdout",
     "text": [
      "before, outer_list = ['one', 'two', 'three']\n",
      "got ['one', 'two', 'three']\n",
      "changed to ['one', 'two', 'three', 'four']\n",
      "after, outer_list = ['one', 'two', 'three', 'four']\n"
     ]
    }
   ],
   "metadata": {}
  },
  {
   "cell_type": "code",
   "execution_count": 102,
   "source": [
    "# Wenn die Referenz sich ändert bleibt die original Liste unverändert\r\n",
    "def try_to_change_list_reference(the_list):\r\n",
    "    print('got', the_list)\r\n",
    "    the_list = ['and', 'we', 'can', 'not', 'lie']\r\n",
    "    print('set to', the_list)\r\n",
    "\r\n",
    "outer_list = ['we', 'like', 'proper', 'English']\r\n",
    "\r\n",
    "print('before, outer_list =', outer_list)\r\n",
    "try_to_change_list_reference(outer_list)\r\n",
    "print('after, outer_list =', outer_list)"
   ],
   "outputs": [
    {
     "output_type": "stream",
     "name": "stdout",
     "text": [
      "before, outer_list = ['we', 'like', 'proper', 'English']\n",
      "got ['we', 'like', 'proper', 'English']\n",
      "set to ['and', 'we', 'can', 'not', 'lie']\n",
      "after, outer_list = ['we', 'like', 'proper', 'English']\n"
     ]
    }
   ],
   "metadata": {}
  },
  {
   "cell_type": "code",
   "execution_count": 103,
   "source": [
    "# Strings sind nicht veränderbar (immutable type)\r\n",
    "def try_to_change_string_reference(the_string):\r\n",
    "    print('got', the_string)\r\n",
    "    the_string = 'In a kingdom by the sea'\r\n",
    "    print('set to', the_string)\r\n",
    "\r\n",
    "outer_string = 'It was many and many a year ago'\r\n",
    "\r\n",
    "print('before, outer_string =', outer_string)\r\n",
    "try_to_change_string_reference(outer_string)\r\n",
    "print('after, outer_string =', outer_string)"
   ],
   "outputs": [
    {
     "output_type": "stream",
     "name": "stdout",
     "text": [
      "before, outer_string = It was many and many a year ago\n",
      "got It was many and many a year ago\n",
      "set to In a kingdom by the sea\n",
      "after, outer_string = It was many and many a year ago\n"
     ]
    }
   ],
   "metadata": {}
  },
  {
   "cell_type": "code",
   "execution_count": 104,
   "source": [
    "# Strings sind nicht veränderbar (immutable type)\r\n",
    "def try_to_change_string_reference(the_string):\r\n",
    "    print('got', the_string)\r\n",
    "    the_string.replace(\"was\",\"is\")\r\n",
    "    print('set to', the_string)\r\n",
    "\r\n",
    "outer_string = 'It was many and many a year ago'\r\n",
    "\r\n",
    "print('before, outer_string =', outer_string)\r\n",
    "try_to_change_string_reference(outer_string)\r\n",
    "print('after, outer_string =', outer_string)"
   ],
   "outputs": [
    {
     "output_type": "stream",
     "name": "stdout",
     "text": [
      "before, outer_string = It was many and many a year ago\n",
      "got It was many and many a year ago\n",
      "set to It was many and many a year ago\n",
      "after, outer_string = It was many and many a year ago\n"
     ]
    }
   ],
   "metadata": {}
  },
  {
   "cell_type": "markdown",
   "source": [
    "# Disconnect"
   ],
   "metadata": {}
  },
  {
   "cell_type": "code",
   "execution_count": 113,
   "source": [
    "%disconnect"
   ],
   "outputs": [
    {
     "output_type": "stream",
     "name": "stdout",
     "text": [
      "\u001b[34mattempt to exit paste mode\n",
      "\u001b[0m\u001b[34m[\\r\\x03\\x02] \u001b[0mb'\\r\\nMicroPython v1.16 on 2021-06-18; Raspberry Pi Pico with RP2040\\r\\nType \"help()\" for more information.\\r\\n>>> '\u001b[34m\n",
      "Closing serial Serial<id=0x1620c6c5040, open=True>(port='COM6', baudrate=115200, bytesize=8, parity='N', stopbits=1, timeout=0.5, xonxoff=False, rtscts=False, dsrdtr=False)\n",
      "\u001b[0m"
     ]
    }
   ],
   "metadata": {}
  }
 ],
 "metadata": {
  "kernelspec": {
   "name": "micropython",
   "display_name": "MicroPython - USB",
   "language": "micropython"
  },
  "language_info": {
   "name": "micropython",
   "codemirror_mode": "python",
   "mimetype": "text/python",
   "file_extension": ".py"
  },
  "interpreter": {
   "hash": "63fd5069d213b44bf678585dea6b12cceca9941eaf7f819626cde1f2670de90d"
  }
 },
 "nbformat": 4,
 "nbformat_minor": 5
}