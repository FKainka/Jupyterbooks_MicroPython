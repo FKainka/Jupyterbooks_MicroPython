{
 "cells": [
  {
   "cell_type": "markdown",
   "source": [
    "# Informationen RPi Pico"
   ],
   "metadata": {}
  },
  {
   "cell_type": "markdown",
   "source": [
    "## Pinout\n",
    "\n",
    "![Raspberry-Pi-Pico-Pinout.jpg](Bilder/Raspberry-Pi-Pico-Pinout.jpg)"
   ],
   "metadata": {}
  },
  {
   "cell_type": "markdown",
   "source": [
    "## Teschnische Daten\n",
    "\n",
    "* 21 mm × 51 mm form factor\n",
    "* RP2040 microcontroller chip designed by Raspberry Pi in the UK\n",
    "* Dual-core Arm Cortex-M0+ processor, flexible clock running up to 133 MHz\n",
    "* 264KB on-chip SRAM\n",
    "* 2MB on-board QSPI Flash\n",
    "* 26 multifunction GPIO pins, including 3 analogue inputs\n",
    "* 2 × UART, 2 × SPI controllers, 2 × I2C controllers, 16 × PWM channels\n",
    "* 1 × USB 1.1 controller and PHY, with host and device support\n",
    "* 8 × Programmable I/O (PIO) state machines for custom peripheral support\n",
    "* Supported input power 1.8–5.5V DC\n",
    "* Operating temperature -20°C to +85°C\n",
    "* Castellated module allows soldering direct to carrier boards\n",
    "* Drag-and-drop programming using mass storage over USB\n",
    "* Low-power sleep and dormant modes\n",
    "* Accurate on-chip clock\n",
    "* Temperature sensor\n",
    "* Accelerated integer and floating-point libraries on-chip"
   ],
   "metadata": {}
  },
  {
   "cell_type": "markdown",
   "source": [
    "# Firmware installieren\n",
    "\n",
    "- Downloaden von einer der beiden Quellen :\n",
    "    * https://micropython.org/download/rp2-pico/\n",
    "    * https://www.raspberrypi.org/documentation/rp2040/getting-started/#getting-started-with-micropython\n",
    "- Pico in den Bootload-Modus versetzen: Boot-Taste gedrückt halten und Board an PC anschließem\n",
    "- Das UF2-File direkt auf den Pico kopieren\n",
    "- Board startet direkt neu mit MicroPython als Firmware"
   ],
   "metadata": {}
  },
  {
   "cell_type": "code",
   "execution_count": null,
   "source": [],
   "outputs": [],
   "metadata": {}
  }
 ],
 "metadata": {
  "kernelspec": {
   "display_name": "MicroPython - USB",
   "language": "micropython",
   "name": "micropython"
  },
  "language_info": {
   "codemirror_mode": "python",
   "file_extension": ".py",
   "mimetype": "text/python",
   "name": "micropython"
  }
 },
 "nbformat": 4,
 "nbformat_minor": 5
}