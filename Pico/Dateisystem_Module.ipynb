{
 "cells": [
  {
   "cell_type": "markdown",
   "id": "threaded-wright",
   "metadata": {},
   "source": [
    "# Dateisystem und Module\n",
    "* *__Board: RPi Pico__*\n",
    "* *__Firmware: Micropython 1.14 (2021-02-05)__*\n",
    "* *__Kernel: MicroPyhton - USB__*"
   ]
  },
  {
   "cell_type": "markdown",
   "id": "arbitrary-chamber",
   "metadata": {},
   "source": [
    "# Connect"
   ]
  },
  {
   "cell_type": "code",
   "execution_count": 141,
   "id": "military-corner",
   "metadata": {},
   "outputs": [
    {
     "name": "stdout",
     "output_type": "stream",
     "text": [
      "\u001b[34mConnecting to --port=COM13 --baud=115200 \u001b[0m\n",
      "\u001b[34mReady.\n",
      "\u001b[0m"
     ]
    }
   ],
   "source": [
    "%serialconnect --port=COM13"
   ]
  },
  {
   "cell_type": "markdown",
   "id": "turkish-rates",
   "metadata": {},
   "source": [
    "# Dateisystem"
   ]
  },
  {
   "cell_type": "code",
   "execution_count": 113,
   "id": "protected-extension",
   "metadata": {},
   "outputs": [
    {
     "name": "stdout",
     "output_type": "stream",
     "text": [
      "__main__          gc                uasyncio/event    ujson\n",
      "_boot             machine           uasyncio/funcs    uos\n",
      "_onewire          math              uasyncio/lock     urandom\n",
      "_rp2              micropython       uasyncio/stream   ure\n",
      "_thread           onewire           ubinascii         uselect\n",
      "_uasyncio         rp2               ucollections      ustruct\n",
      "builtins          uarray            uctypes           usys\n",
      "ds18x20           uasyncio/__init__ uhashlib          utime\n",
      "framebuf          uasyncio/core     uio               uzlib\n",
      "Plus any modules on the filesystem\n",
      "object <module 'uos'> is of type module\n",
      "  __name__ -- uos\n",
      "  uname -- <function>\n",
      "  chdir -- <function>\n",
      "  getcwd -- <function>\n",
      "  listdir -- <function>\n",
      "  mkdir -- <function>\n",
      "  remove -- <function>\n",
      "  rename -- <function>\n",
      "  rmdir -- <function>\n",
      "  stat -- <function>\n",
      "  statvfs -- <function>\n",
      "  ilistdir -- <function>\n",
      "  mount -- <function>\n",
      "  umount -- <function>\n",
      "  VfsLfs2 -- <class 'VfsLfs2'>\n"
     ]
    }
   ],
   "source": [
    "help(\"modules\")\n",
    "import os # das gleiche wie import uos\n",
    "help(os)"
   ]
  },
  {
   "cell_type": "code",
   "execution_count": 112,
   "id": "persistent-prevention",
   "metadata": {},
   "outputs": [
    {
     "name": "stderr",
     "output_type": "stream",
     "text": [
      "Traceback (most recent call last):\n",
      "  File \"<stdin>\", line 2, in <module>\n",
      "NameError: name 'os' isn't defined\n"
     ]
    }
   ],
   "source": [
    "# Dateisystem Status\n",
    "print(os.uname())  # Informationen über den Controller und Betriebssystem\n",
    "\n",
    "\"\"\"\n",
    "f_bsize – file system block size\n",
    "\n",
    "f_frsize – fragment size\n",
    "\n",
    "f_blocks – size of fs in f_frsize units\n",
    "\n",
    "f_bfree – number of free blocks\n",
    "\n",
    "f_bavail – number of free blocks for unprivileged users\n",
    "\n",
    "f_files – number of inodes\n",
    "\n",
    "f_ffree – number of free inodes\n",
    "\n",
    "f_favail – number of free inodes for unprivileged users\n",
    "\n",
    "f_flag – mount flags\n",
    "\n",
    "f_namemax – maximum filename length\n",
    "\"\"\"\n",
    "print(os.statvfs(\"/\"))   # Status des Dateisystems\n",
    "print(os.stat(\"/\"))      # Status des Ordners/der Datei"
   ]
  },
  {
   "cell_type": "markdown",
   "id": "dedicated-voice",
   "metadata": {},
   "source": [
    "## Dateisystem 1 (uos-Modul)"
   ]
  },
  {
   "cell_type": "code",
   "execution_count": 267,
   "id": "meaningful-february",
   "metadata": {},
   "outputs": [
    {
     "name": "stdout",
     "output_type": "stream",
     "text": [
      "[]\n",
      "['testdir']\n",
      "/testdir\n",
      "[]\n",
      "['testdir']\n"
     ]
    }
   ],
   "source": [
    "# Umgang mit dem Dateisystem #1\n",
    "import os,sys # Für die Fehlermeldungen\n",
    "\n",
    "os.chdir(\"/\")   # In den Rootodner wechseln\n",
    "print(os.listdir())   # Dateien und Ordner aufzeigen\n",
    "\n",
    "try:\n",
    "    os.mkdir(\"testdir\")    # Ordner erstellen\n",
    "except OSError as err:\n",
    "    sys.print_exception(err)  # OSError17: Datei existiert bereits\n",
    "    \n",
    "print(os.listdir())\n",
    "os.chdir(\"testdir\")        # Ordner wechseln\n",
    "print(os.getcwd())         # Aktuellen Ordner ausgeben\n",
    "\n",
    "\n",
    "print(os.listdir())\n",
    "print(os.listdir(\"/\"))     # Dateien und Ordner aufzeigen (fester Pfad)"
   ]
  },
  {
   "cell_type": "markdown",
   "id": "chief-change",
   "metadata": {},
   "source": [
    "## Dateisystem (Jupyterlabs & MicroPython Kernel)"
   ]
  },
  {
   "cell_type": "markdown",
   "id": "champion-chassis",
   "metadata": {},
   "source": [
    "### Befehle"
   ]
  },
  {
   "cell_type": "code",
   "execution_count": 268,
   "id": "shaped-burke",
   "metadata": {},
   "outputs": [
    {
     "name": "stdout",
     "output_type": "stream",
     "text": [
      "%capture [--quiet] [--QUIET] outputfilename\n",
      "    records output to a file\n",
      "\n",
      "%comment\n",
      "    print this into output\n",
      "\n",
      "%disconnect [--raw]\n",
      "    disconnects from web/serial connection\n",
      "\n",
      "%esptool [--port PORT] {erase,esp32,esp8266} [binfile]\n",
      "    commands for flashing your esp-device\n",
      "\n",
      "%fetchfile [--binary] [--print] [--load] [--quiet] [--QUIET] sourcefilename [destinationfilename]\n",
      "    fetch and save a file from the device\n",
      "\n",
      "%ls [--recurse] [dirname]\n",
      "    list files on the device\n",
      "\n",
      "%lsmagic\n",
      "    list magic commands\n",
      "\n",
      "%mpy-cross [--set-exe SET_EXE] [pyfile]\n",
      "    cross-compile a .py file to a .mpy file\n",
      "\n",
      "%readbytes [--binary]\n",
      "    does serial.read_all()\n",
      "\n",
      "%rebootdevice\n",
      "    reboots device\n",
      "\n",
      "%sendtofile [--append] [--mkdir] [--binary] [--execute] [--source [SOURCE]] [--quiet] [--QUIET]\n",
      "                   [destinationfilename]\n",
      "    send cell contents or file/direcectory to the device\n",
      "\n",
      "%serialconnect [--raw] [--port PORT] [--baud BAUD] [--verbose]\n",
      "    connects to a device over USB wire\n",
      "\n",
      "%socketconnect [--raw] ipnumber portnumber\n",
      "    connects to a socket of a device over wifi\n",
      "\n",
      "%suppressendcode\n",
      "    doesn't send x04 or wait to read after sending the contents of the cell\n",
      "  (assists for debugging using %writebytes and %readbytes)\n",
      "\n",
      "%websocketconnect [--raw] [--password PASSWORD] [--verbose] [websocketurl]\n",
      "    connects to the webREPL websocket of an ESP8266 over wifi\n",
      "    websocketurl defaults to ws://192.168.4.1:8266 but be sure to be connected\n",
      "\n",
      "%writebytes [--binary] [--verbose] stringtosend\n",
      "    does serial.write() of the python quoted string given\n",
      "\n",
      "%%writefile [--append] [--execute] destinationfilename\n",
      "    write contents of cell to a file\n",
      "\n"
     ]
    }
   ],
   "source": [
    "%lsmagic"
   ]
  },
  {
   "cell_type": "code",
   "execution_count": null,
   "id": "banned-geography",
   "metadata": {},
   "outputs": [
    {
     "name": "stdout",
     "output_type": "stream",
     "text": [
      "Listing directory '/'.\n",
      "             testdir/\n",
      "\n",
      "testdir:\n"
     ]
    },
    {
     "name": "stderr",
     "output_type": "stream",
     "text": [
      ">>"
     ]
    }
   ],
   "source": [
    "%ls \"/\"  --recurse"
   ]
  },
  {
   "cell_type": "code",
   "execution_count": 286,
   "id": "isolated-advance",
   "metadata": {},
   "outputs": [
    {
     "name": "stdout",
     "output_type": "stream",
     "text": [
      "Listing directory '/testdir'.\n",
      "             testdir/testdir/\n"
     ]
    }
   ],
   "source": [
    "%ls \"/testdir\""
   ]
  },
  {
   "cell_type": "markdown",
   "id": "canadian-public",
   "metadata": {},
   "source": [
    "### Sendtofile"
   ]
  },
  {
   "cell_type": "raw",
   "id": "extended-scott",
   "metadata": {},
   "source": [
    "%sendtofile [--append] [--mkdir] [--binary] [--execute] [--source [SOURCE]] [--quiet] [--QUIET]\n",
    "                   [destinationfilename]\n",
    "    send cell contents or file/direcectory to the device"
   ]
  },
  {
   "cell_type": "code",
   "execution_count": 6,
   "id": "developmental-breakdown",
   "metadata": {},
   "outputs": [
    {
     "name": "stdout",
     "output_type": "stream",
     "text": [
      "Sent 1 lines (27 bytes) to /testdir/testfile.txt.\n"
     ]
    }
   ],
   "source": [
    "%sendtofile \"/testdir/testfile.txt\" --mkdir\n",
    "Dies kommt in die Testdatei"
   ]
  },
  {
   "cell_type": "code",
   "execution_count": null,
   "id": "defined-reward",
   "metadata": {},
   "outputs": [
    {
     "name": "stdout",
     "output_type": "stream",
     "text": [
      "Listing directory '/'.\n",
      "             testdir/\n",
      "       32    testfile2.txt\n",
      "\n",
      "testdir:\n",
      "             testdir/testdir/\n",
      "       27    testdir/testfile.txt\n",
      "\n",
      "testdir/testdir:\n"
     ]
    },
    {
     "name": "stderr",
     "output_type": "stream",
     "text": [
      ">>"
     ]
    }
   ],
   "source": [
    "%ls \"/\"  --recurse"
   ]
  },
  {
   "cell_type": "code",
   "execution_count": 292,
   "id": "stuck-mechanics",
   "metadata": {},
   "outputs": [
    {
     "name": "stdout",
     "output_type": "stream",
     "text": [
      "Sent 1 lines (35 bytes) to /testdir/testfile.txt.\n"
     ]
    }
   ],
   "source": [
    "%sendtofile \"/testdir/testfile.txt\" --append\n",
    "Dies wird der Testdatei hinzugefügt"
   ]
  },
  {
   "cell_type": "code",
   "execution_count": 293,
   "id": "caring-pennsylvania",
   "metadata": {},
   "outputs": [
    {
     "name": "stdout",
     "output_type": "stream",
     "text": [
      "Sent 1 lines (32 bytes) to /testdir/testfile.txt.\n",
      "Hallo from testfile.txt\n"
     ]
    }
   ],
   "source": [
    "%sendtofile \"/testdir/testfile.txt\" --execute\n",
    "print(\"Hallo from testfile.txt\")"
   ]
  },
  {
   "cell_type": "markdown",
   "id": "parental-proposal",
   "metadata": {},
   "source": [
    "### Fetchfile"
   ]
  },
  {
   "cell_type": "raw",
   "id": "greater-begin",
   "metadata": {},
   "source": [
    "%fetchfile [--binary] [--print] [--load] [--quiet] [--QUIET] sourcefilename [destinationfilename]\n",
    "    fetch and save a file from the device"
   ]
  },
  {
   "cell_type": "code",
   "execution_count": 294,
   "id": "consecutive-michael",
   "metadata": {},
   "outputs": [
    {
     "name": "stdout",
     "output_type": "stream",
     "text": [
      "print(\"Hallo from testfile.txt\")"
     ]
    }
   ],
   "source": [
    "%fetchfile --print \"/testdir/testfile.txt\""
   ]
  },
  {
   "cell_type": "code",
   "execution_count": null,
   "id": "contemporary-parks",
   "metadata": {},
   "outputs": [
    {
     "name": "stdout",
     "output_type": "stream",
     "text": [
      "Fetched 32=32 bytes from /testdir/testfile.txt.\n",
      "Saving file to 'testfile.txt'"
     ]
    }
   ],
   "source": [
    "%fetchfile \"/testdir/testfile.txt\""
   ]
  },
  {
   "cell_type": "code",
   "execution_count": 296,
   "id": "supposed-milton",
   "metadata": {},
   "outputs": [
    {
     "name": "stdout",
     "output_type": "stream",
     "text": [
      "Hallo from testfile.txt\n"
     ]
    }
   ],
   "source": [
    "#%fetchfile /testdir/testfile.txt --load\n",
    "\n",
    "print(\"Hallo from testfile.txt\")"
   ]
  },
  {
   "cell_type": "markdown",
   "id": "assisted-surrey",
   "metadata": {},
   "source": [
    "## Dateisystem 2 (uos-Modul)"
   ]
  },
  {
   "cell_type": "code",
   "execution_count": 16,
   "id": "signal-rochester",
   "metadata": {},
   "outputs": [
    {
     "name": "stdout",
     "output_type": "stream",
     "text": [
      "New Hallot in die TestdateiNew Hallo\n",
      "10\n"
     ]
    }
   ],
   "source": [
    "# Dateien lesen und schreiben\n",
    "f = open(\"/testdir/testfile.txt\")\n",
    "print(f.read())\n",
    "f.close()\n",
    "\n",
    "f = open(\"/testdir/testfile.txt\",\"a\")  # a= append (erstellt auch Datei wenn nicht vorhandenspot)\n",
    "print(f.write(\"\\nNew Hallo\"))    # Rückgabe, wieviele Zeichen wurden geschrieben?\n",
    "f.close()"
   ]
  },
  {
   "cell_type": "code",
   "execution_count": 17,
   "id": "loving-active",
   "metadata": {},
   "outputs": [
    {
     "name": "stdout",
     "output_type": "stream",
     "text": [
      "New Hallot in die TestdateiNew Hallo\n",
      "New Hallo"
     ]
    }
   ],
   "source": [
    "%fetchfile --print \"/testdir/testfile.txt\""
   ]
  },
  {
   "cell_type": "code",
   "execution_count": 297,
   "id": "fitting-fisher",
   "metadata": {},
   "outputs": [],
   "source": [
    "import os,sys \n",
    "\n",
    "os.rename(\"/testdir/testfile.txt\",\"/testdir/testfile2.txt\") # Umbennen, kann auch verschieben sein!"
   ]
  },
  {
   "cell_type": "code",
   "execution_count": null,
   "id": "spread-explorer",
   "metadata": {},
   "outputs": [
    {
     "name": "stdout",
     "output_type": "stream",
     "text": [
      "Listing directory '/'.\n",
      "             testdir/\n",
      "       32    testfile2.txt\n",
      "\n",
      "testdir:\n",
      "             testdir/testdir/\n",
      "\n",
      "testdir/testdir:\n"
     ]
    },
    {
     "name": "stderr",
     "output_type": "stream",
     "text": [
      ">>"
     ]
    }
   ],
   "source": [
    "%ls \"/\" --recurse"
   ]
  },
  {
   "cell_type": "code",
   "execution_count": 303,
   "id": "accepting-quantity",
   "metadata": {},
   "outputs": [
    {
     "name": "stderr",
     "output_type": "stream",
     "text": [
      "Traceback (most recent call last):\n",
      "  File \"<stdin>\", line 1, in <module>\n",
      "OSError: 2\n"
     ]
    }
   ],
   "source": [
    "os.rename(\"/testdir/testfile2.txt\",\"/testfile2.txt\")    # Umbennen, kann auch verschieben sein!"
   ]
  },
  {
   "cell_type": "code",
   "execution_count": null,
   "id": "experimental-spectacular",
   "metadata": {},
   "outputs": [
    {
     "name": "stdout",
     "output_type": "stream",
     "text": [
      "Listing directory '/'.\n",
      "             testdir/\n",
      "       32    testfile2.txt\n",
      "\n",
      "testdir:\n",
      "             testdir/testdir/\n",
      "\n",
      "testdir/testdir:\n"
     ]
    },
    {
     "name": "stderr",
     "output_type": "stream",
     "text": [
      ">>"
     ]
    }
   ],
   "source": [
    "%ls \"/\" --recurse"
   ]
  },
  {
   "cell_type": "code",
   "execution_count": 305,
   "id": "exact-express",
   "metadata": {},
   "outputs": [],
   "source": [
    "os.rename(\"/testfile2.txt\",\"testdir/testfile2.txt\")    # Umbennen, kann auch verschieben sein!"
   ]
  },
  {
   "cell_type": "code",
   "execution_count": 306,
   "id": "crazy-cherry",
   "metadata": {},
   "outputs": [
    {
     "name": "stdout",
     "output_type": "stream",
     "text": [
      "Listing directory '/'.\n",
      "             testdir/\n",
      "\n",
      "testdir:\n",
      "             testdir/testdir/\n",
      "\n",
      "testdir/testdir:\n",
      "       32    testdir/testdir/testfile2.txt\n"
     ]
    }
   ],
   "source": [
    "%ls \"/\" --recurse"
   ]
  },
  {
   "cell_type": "code",
   "execution_count": 307,
   "id": "junior-feedback",
   "metadata": {},
   "outputs": [
    {
     "name": "stdout",
     "output_type": "stream",
     "text": [
      "Traceback (most recent call last):\n",
      "  File \"<stdin>\", line 2, in <module>\n",
      "OSError: 2\n",
      "Traceback (most recent call last):\n",
      "  File \"<stdin>\", line 7, in <module>\n",
      "OSError: 39\n"
     ]
    }
   ],
   "source": [
    "try:\n",
    "    os.remove(\"/testdir/testfile2.txt\")   # Datei löschen \n",
    "except OSError as err:\n",
    "    sys.print_exception(err)  # OSError2: Ordner/Datei nicht gefunden\n",
    "\n",
    "try:\n",
    "    os.rmdir(\"/testdir\")   # Ordner löschen\n",
    "except OSError as err:\n",
    "    sys.print_exception(err)  # OSError39: Ordner nicht leer"
   ]
  },
  {
   "cell_type": "markdown",
   "id": "institutional-chemical",
   "metadata": {},
   "source": [
    "### Rekursives Löschen"
   ]
  },
  {
   "cell_type": "code",
   "execution_count": 85,
   "id": "olive-accordance",
   "metadata": {},
   "outputs": [],
   "source": [
    "# Beispiel zum rekursiven Löschen von Dateien und Ordnern in einem Verzeichniss\n",
    "import os,sys \n",
    "def rmtree(dirname):\n",
    "    os.chdir(dirname)\n",
    "    it = os.ilistdir()    # Iterator\n",
    "    \n",
    "    while True:\n",
    "        try:\n",
    "            file_or_dir = next(it)\n",
    "            if file_or_dir[1] == 0x8000: # Wenn Datei -> löschen\n",
    "                os.remove(os.getcwd()+\"/\"+file_or_dir[0])\n",
    "            elif file_or_dir[1] == 0x4000:\n",
    "                try:\n",
    "                    os.rmdir(os.getcwd()+\"/\"+file_or_dir[0])                \n",
    "                except OSError as err:\n",
    "                    if err.args[0] == 39:      # OSError39: Ordner nicht leer\n",
    "                        rmtree(file_or_dir[0]) # reursiver Aufruf\n",
    "                        os.chdir(\"..\")         # zurück in Verzeichniss\n",
    "                        os.rmdir(os.getcwd()+\"/\"+file_or_dir[0]) # Löschen im zweiten Anlauf\n",
    "        except StopIteration: \n",
    "            break\n",
    "    \n",
    "rmtree(\"/\")"
   ]
  },
  {
   "cell_type": "code",
   "execution_count": null,
   "id": "destroyed-sarah",
   "metadata": {},
   "outputs": [
    {
     "name": "stdout",
     "output_type": "stream",
     "text": [
      "Listing directory '/'.\n"
     ]
    },
    {
     "name": "stderr",
     "output_type": "stream",
     "text": [
      ">>"
     ]
    }
   ],
   "source": [
    "%ls \"/\"  --recurse"
   ]
  },
  {
   "cell_type": "markdown",
   "id": "varied-machine",
   "metadata": {},
   "source": [
    "# Module und Packages"
   ]
  },
  {
   "cell_type": "markdown",
   "id": "hazardous-brief",
   "metadata": {},
   "source": [
    "## Modul"
   ]
  },
  {
   "cell_type": "code",
   "execution_count": 143,
   "id": "urban-bandwidth",
   "metadata": {},
   "outputs": [
    {
     "name": "stdout",
     "output_type": "stream",
     "text": [
      "Sent 2 lines (50 bytes) to /hello.py.\n"
     ]
    }
   ],
   "source": [
    "%sendtofile \"/hello.py\" --mkdir     # Libraries/Module Enden auf *.py\n",
    "\n",
    "def say_hello():\n",
    "    print(\"Hello from Hello.upy\")"
   ]
  },
  {
   "cell_type": "code",
   "execution_count": 145,
   "id": "instrumental-respondent",
   "metadata": {},
   "outputs": [
    {
     "name": "stdout",
     "output_type": "stream",
     "text": [
      "{'triggered': False, 'irq_handler': <function irq_handler at 0x200075d0>, 'button1': Pin(18, mode=IN, pull=PULL_DOWN), 'button2': Pin(19, mode=IN, pull=PULL_DOWN), 'machine': <module 'umachine'>, '__name__': '__main__', 'Pin': <class 'Pin'>, 'rp2': <module 'rp2'>, 'hello': <module 'hello'>, 'say_hello': <function say_hello at 0x20017830>, 'interrupt_pin': Pin(18, mode=IN, pull=PULL_DOWN), 'sleep_ms': <function>}\n",
      "object <module 'hello'> is of type module\n",
      "  __name__ -- hello\n",
      "  say_hello -- <function say_hello at 0x20017830>\n",
      "['__class__', '__name__', 'say_hello']\n",
      "Hello from Hello.upy\n",
      "['triggered', 'irq_handler', 'button1', 'button2', 'machine', '__name__', 'Pin', 'rp2', 'hello', 'say_hello', 'interrupt_pin', 'sleep_ms']\n",
      "Hello from Hello.upy\n"
     ]
    }
   ],
   "source": [
    "# Importieren und Aufrufen \n",
    "import hello\n",
    "print(globals())\n",
    "\n",
    "help(hello)\n",
    "print(dir(hello))\n",
    "hello.say_hello()\n",
    "\n",
    "\n",
    "from hello import say_hello\n",
    "print(dir())\n",
    "say_hello()"
   ]
  },
  {
   "cell_type": "code",
   "execution_count": 56,
   "id": "adjusted-radiation",
   "metadata": {},
   "outputs": [
    {
     "name": "stdout",
     "output_type": "stream",
     "text": [
      "Sent 4 lines (67 bytes) to /hello2.py.\n"
     ]
    }
   ],
   "source": [
    "%sendtofile \"/hello2.py\" --mkdir     # Libraries/Module Enden auf *.py\n",
    "\n",
    "def say_hello():\n",
    "    print(\"Hello from Hello.upy\")\n",
    "    \n",
    "say_hello()"
   ]
  },
  {
   "cell_type": "code",
   "execution_count": 57,
   "id": "known-fitness",
   "metadata": {},
   "outputs": [
    {
     "name": "stdout",
     "output_type": "stream",
     "text": [
      "Hello from Hello.upy\n"
     ]
    }
   ],
   "source": [
    "import hello2    # Der Code wird direkt beim Importieren ausgeführt"
   ]
  },
  {
   "cell_type": "markdown",
   "id": "green-click",
   "metadata": {},
   "source": [
    "## Packages"
   ]
  },
  {
   "cell_type": "code",
   "execution_count": 60,
   "id": "afraid-wages",
   "metadata": {},
   "outputs": [
    {
     "name": "stdout",
     "output_type": "stream",
     "text": [
      "object <module 'sys'> is of type module\n",
      "  __name__ -- sys\n",
      "  path -- ['', '/lib']\n",
      "  argv -- []\n",
      "  version -- 3.4.0\n",
      "  version_info -- (3, 4, 0)\n",
      "  implementation -- (name='micropython', version=(1, 14, 0), mpy=5637)\n",
      "  platform -- rp2\n",
      "  byteorder -- little\n",
      "  maxsize -- 2147483647\n",
      "  exit -- <function>\n",
      "  stdin -- <io.FileIO 0>\n",
      "  stdout -- <io.FileIO 1>\n",
      "  stderr -- <io.FileIO 2>\n",
      "  modules -- {'hello': <module 'hello'>, 'hello2': <module 'hello2'>, 'rp2': <module 'rp2'>}\n",
      "  print_exception -- <function>\n",
      "['', '/lib']\n"
     ]
    }
   ],
   "source": [
    "import sys\n",
    "help(sys)  # Hier interesant: die Path-Liste\n",
    "print(sys.path)   # Path kann auch verändert werden (append)"
   ]
  },
  {
   "cell_type": "code",
   "execution_count": 128,
   "id": "discrete-fishing",
   "metadata": {},
   "outputs": [
    {
     "name": "stdout",
     "output_type": "stream",
     "text": [
      "Sent 4 lines (63 bytes) to /lib/myModule/__init__.py.\n"
     ]
    }
   ],
   "source": [
    "%sendtofile \"/lib/myModule/__init__.py\" --mkdir\n",
    "\n",
    "text = \"Hello from __init__\"\n",
    "\n",
    "def main_hallo():\n",
    "    print(text)"
   ]
  },
  {
   "cell_type": "code",
   "execution_count": 127,
   "id": "spatial-advertising",
   "metadata": {},
   "outputs": [
    {
     "name": "stdout",
     "output_type": "stream",
     "text": [
      "Sent 4 lines (65 bytes) to /lib/myModule/another/__init__.py.\n"
     ]
    }
   ],
   "source": [
    "%sendtofile \"/lib/myModule/another/__init__.py\" --mkdir\n",
    "\n",
    "text = \"Hello from another\"\n",
    "\n",
    "def another_hello():\n",
    "    print(text)"
   ]
  },
  {
   "cell_type": "code",
   "execution_count": 131,
   "id": "convertible-publication",
   "metadata": {},
   "outputs": [
    {
     "name": "stdout",
     "output_type": "stream",
     "text": [
      "['machine', 'text', '__name__', 'myModule', 'anotherModule', 'rp2', 'main_hallo']\n",
      "['__class__', '__name__', '__path__', 'text', 'main_hallo']\n",
      "Hello from __init__\n",
      "['machine', 'text', '__name__', 'myModule', 'anotherModule', 'rp2', 'main_hallo']\n",
      "Hello from __init__\n",
      "['machine', 'text', '__name__', 'myModule', 'anotherModule', 'rp2', 'main_hallo']\n",
      "Hello from __init__\n",
      "Hello from __init__\n"
     ]
    }
   ],
   "source": [
    "# Module Importieren\n",
    "import myModule\n",
    "print(dir())\n",
    "print(dir(myModule))\n",
    "myModule.main_hallo()\n",
    "\n",
    "# Importieren unter anderen Namen\n",
    "import myModule as anotherModule\n",
    "print(dir())\n",
    "anotherModule.main_hallo()\n",
    "\n",
    "# Inhalt importieren\n",
    "from myModule import *\n",
    "print(dir())\n",
    "main_hallo()\n",
    "\n",
    "# Zugriff auf Variablen des Moduls\n",
    "print(text)"
   ]
  },
  {
   "cell_type": "code",
   "execution_count": 136,
   "id": "informed-scenario",
   "metadata": {},
   "outputs": [
    {
     "name": "stdout",
     "output_type": "stream",
     "text": [
      "['machine', 'text', '__name__', 'myModule', 'anotherModule', 'rp2', 'another', 'main_hallo']\n",
      "['machine', 'text', '__name__', 'myModule', 'anotherModule', 'rp2', 'another', 'main_hallo']\n",
      "['__class__', '__name__', '__path__', 'text', 'another_hello']\n",
      "Hello from __init__\n",
      "Hello from another\n"
     ]
    }
   ],
   "source": [
    "# Importieren des Submodules\n",
    "import myModule.another\n",
    "print(dir())\n",
    "\n",
    "from myModule import another\n",
    "print(dir())\n",
    "print(dir(another))\n",
    "\n",
    "print(text)\n",
    "print(another.text)"
   ]
  },
  {
   "cell_type": "code",
   "execution_count": 129,
   "id": "opponent-import",
   "metadata": {},
   "outputs": [
    {
     "name": "stdout",
     "output_type": "stream",
     "text": [
      "repl is in normal command mode\n",
      "[\\r\\x03\\x03] b'\\r\\nMicroPython v1.14 on 2021-02-02; Raspberry Pi Pico with RP2040\\r\\nType \"help()\" for more information.\\r\\n>>> \\r\\n>>> \\r\\nMPY: soft reboot\\r\\nMicroPython v1.14 on 2021-02-02; Raspberry Pi Pico with RP2040\\r\\nType \"help()\" for more information.\\r\\n>>> \\r\\n>>> \\r\\n>>> '\n",
      "[\\r\\x01] b'\\r\\n>>> \\r\\nraw REPL; CTRL-B to exit\\r\\n>'"
     ]
    }
   ],
   "source": [
    "%rebootdevice"
   ]
  },
  {
   "cell_type": "markdown",
   "id": "recovered-roots",
   "metadata": {},
   "source": [
    "# Disconnect"
   ]
  },
  {
   "cell_type": "code",
   "execution_count": 146,
   "id": "pretty-blend",
   "metadata": {},
   "outputs": [
    {
     "name": "stdout",
     "output_type": "stream",
     "text": [
      "\u001b[34mattempt to exit paste mode\n",
      "\u001b[0m\u001b[34m[\\r\\x03\\x02] \u001b[0mb'\\r\\nMicroPython v1.14 on 2021-02-02; Raspberry Pi Pico with RP2040\\r\\nType \"help()\" for more information.\\r\\n>>> '\u001b[34m\n",
      "Closing serial Serial<id=0x13f0237f490, open=True>(port='COM13', baudrate=115200, bytesize=8, parity='N', stopbits=1, timeout=0.5, xonxoff=False, rtscts=False, dsrdtr=False)\n",
      "\u001b[0m"
     ]
    }
   ],
   "source": [
    "%disconnect"
   ]
  }
 ],
 "metadata": {
  "kernelspec": {
   "display_name": "MicroPython - USB",
   "language": "micropython",
   "name": "micropython"
  },
  "language_info": {
   "codemirror_mode": "python",
   "file_extension": ".py",
   "mimetype": "text/python",
   "name": "micropython"
  }
 },
 "nbformat": 4,
 "nbformat_minor": 5
}
