{
 "cells": [
  {
   "cell_type": "markdown",
   "id": "dynamic-spray",
   "metadata": {},
   "source": [
    "# Weitere integrierte Module\n",
    "* *__Board: RPi Pico__*\n",
    "* *__Firmware: Micropython 1.14 (2021-02-05)__*\n",
    "* *__Kernel: MicroPyhton - USB__*\n",
    "\n",
    "\n",
    "__main__          gc                uasyncio/funcs    uos\n",
    "_boot             machine           uasyncio/lock     urandom\n",
    "_onewire          math              uasyncio/stream   ure\n",
    "_rp2              micropython       ubinascii         uselect\n",
    "_thread           onewire           ucollections      ustruct\n",
    "_uasyncio         rp2               uctypes           usys\n",
    "builtins          uasyncio/__init__ uhashlib          utime\n",
    "ds18x20           uasyncio/core     uio               uzlib\n",
    "framebuf          uasyncio/event    ujson\n",
    "Plus any modules on the filesystem\n",
    "4. I2C\n",
    "\n",
    "## Themen\n",
    "* math – mathematical functions\n",
    "* ure\n",
    "* ujson\n",
    "* urandom\n",
    "* utime\n",
    "* uzlib\n",
    "\n",
    "* uhasblib\n",
    "* uctypes\n",
    "* uselect\n",
    "* ustruct\n",
    "* ucollections\n",
    "\n",
    "---\n",
    "* ds18x20\n",
    "* micropython\n",
    "* rp2\n",
    "* ubinascii\n",
    "\n",
    "* uio\n",
    "\n",
    "\n",
    "* cmath – mathematical functions for complex numbers\n",
    "gc – control the garbage collector\n",
    "uarray – arrays of numeric data\n",
    "uasyncio — asynchronous I/O scheduler\n",
    "ubinascii – binary/ASCII conversions\n",
    "ucollections – collection and container types\n",
    "uerrno – system error codes\n",
    "uhashlib – hashing algorithms\n",
    "uheapq – heap queue algorithm\n",
    "uio – input/output streams\n",
    "ujson – JSON encoding and decoding\n",
    "uos – basic “operating system” services\n",
    "ure – simple regular expressions\n",
    "uselect – wait for events on a set of streams\n",
    "usocket – socket module\n",
    "ussl – SSL/TLS module\n",
    "ustruct – pack and unpack primitive data types\n",
    "usys – system specific functions\n",
    "utime – time related functions\n",
    "uzlib – zlib decompression\n",
    "_thread – multithreading support"
   ]
  },
  {
   "cell_type": "markdown",
   "id": "french-cooperative",
   "metadata": {},
   "source": [
    "# Connect"
   ]
  },
  {
   "cell_type": "code",
   "execution_count": 5,
   "id": "equivalent-translation",
   "metadata": {},
   "outputs": [
    {
     "name": "stdout",
     "output_type": "stream",
     "text": [
      "\u001b[34mConnecting to --port=COM13 --baud=115200 \u001b[0m\n",
      "\u001b[34mReady.\n",
      "\u001b[0m"
     ]
    }
   ],
   "source": [
    "%serialconnect --port=COM13"
   ]
  },
  {
   "cell_type": "markdown",
   "id": "meaningful-intranet",
   "metadata": {},
   "source": [
    "# Serielle Schnittstelle"
   ]
  },
  {
   "cell_type": "code",
   "execution_count": 21,
   "id": "extra-utility",
   "metadata": {},
   "outputs": [
    {
     "name": "stdout",
     "output_type": "stream",
     "text": [
      "object <module 'micropython'> is of type module\n",
      "  __name__ -- micropython\n",
      "  const -- <function>\n",
      "  opt_level -- <function>\n",
      "  mem_info -- <function>\n",
      "  qstr_info -- <function>\n",
      "  stack_use -- <function>\n",
      "  alloc_emergency_exception_buf -- <function>\n",
      "  heap_lock -- <function>\n",
      "  heap_unlock -- <function>\n",
      "  kbd_intr -- <function>\n",
      "  schedule -- <function>\n"
     ]
    }
   ],
   "source": [
    "import micropython\n",
    "help(micropython)"
   ]
  },
  {
   "cell_type": "code",
   "execution_count": 20,
   "id": "green-bridges",
   "metadata": {},
   "outputs": [
    {
     "name": "stdout",
     "output_type": "stream",
     "text": [
      "object <module 'rp2'> is of type module\n",
      "  Flash -- <class 'Flash'>\n",
      "  PIOASMEmit -- <class 'PIOASMEmit'>\n",
      "  const -- <function>\n",
      "  asm_pio -- <function asm_pio at 0x20006960>\n",
      "  PIOASMError -- <class 'PIOASMError'>\n",
      "  _pio_funcs -- {'in_': None, 'y_dec': 4, 'pin': 6, 'iffull': 64, 'gpio': 0, 'not_osre': 7, 'clear': 64, 'rel': <function <lambda> at 0x200066f0>, 'wrap': None, 'x_not_y': 5, 'word': None, 'out': None, 'push': None, 'noblock': 1, 'pull': None, 'wrap_target': None, 'x_dec': 2, 'mov': None, 'irq': None, 'set': None, 'y': 2, 'x': 1, 'null': 3, 'pc': 5, 'invert': <function <lambda> at 0x20006400>, 'pins': 0, 'not_x': 1, 'not_y': 3, 'ifempty': 64, 'isr': 6, 'pindirs': 4, 'exec': 8, 'label': None, 'status': 5, 'nop': None, 'osr': 7, 'block': 33, 'reverse': <function <lambda> at 0x20006410>, 'jmp': None, 'wait': None}\n",
      "  __name__ -- rp2\n",
      "  StateMachine -- <class 'StateMachine'>\n",
      "  asm_pio_encode -- <function asm_pio_encode at 0x200067e0>\n",
      "  PIO -- <class 'PIO'>\n",
      "object <class 'PIO'> is of type type\n",
      "  add_program -- <function>\n",
      "  remove_program -- <function>\n",
      "  state_machine -- <function>\n",
      "  irq -- <function>\n",
      "  IN_LOW -- 0\n",
      "  IN_HIGH -- 1\n",
      "  OUT_LOW -- 2\n",
      "  OUT_HIGH -- 3\n",
      "  SHIFT_LEFT -- 0\n",
      "  SHIFT_RIGHT -- 1\n",
      "  IRQ_SM0 -- 256\n",
      "  IRQ_SM1 -- 512\n",
      "  IRQ_SM2 -- 1024\n",
      "  IRQ_SM3 -- 2048\n"
     ]
    }
   ],
   "source": [
    "import rp2\n",
    "help(rp2)\n",
    "help(rp2.PIO)"
   ]
  },
  {
   "cell_type": "code",
   "execution_count": 12,
   "id": "round-kansas",
   "metadata": {},
   "outputs": [
    {
     "name": "stdout",
     "output_type": "stream",
     "text": [
      "object <module 'math'> is of type module\n",
      "  __name__ -- math\n",
      "  e -- 2.718282\n",
      "  pi -- 3.141593\n",
      "  sqrt -- <function>\n",
      "  pow -- <function>\n",
      "  exp -- <function>\n",
      "  log -- <function>\n",
      "  cos -- <function>\n",
      "  sin -- <function>\n",
      "  tan -- <function>\n",
      "  acos -- <function>\n",
      "  asin -- <function>\n",
      "  atan -- <function>\n",
      "  atan2 -- <function>\n",
      "  ceil -- <function>\n",
      "  copysign -- <function>\n",
      "  fabs -- <function>\n",
      "  floor -- <function>\n",
      "  fmod -- <function>\n",
      "  frexp -- <function>\n",
      "  ldexp -- <function>\n",
      "  modf -- <function>\n",
      "  isfinite -- <function>\n",
      "  isinf -- <function>\n",
      "  isnan -- <function>\n",
      "  trunc -- <function>\n",
      "  radians -- <function>\n",
      "  degrees -- <function>\n"
     ]
    }
   ],
   "source": [
    "import math\n",
    "help(math)"
   ]
  },
  {
   "cell_type": "code",
   "execution_count": 13,
   "id": "handmade-enclosure",
   "metadata": {},
   "outputs": [
    {
     "name": "stdout",
     "output_type": "stream",
     "text": [
      "object <module 'ure'> is of type module\n",
      "  __name__ -- ure\n",
      "  compile -- <function>\n",
      "  match -- <function>\n",
      "  search -- <function>\n",
      "  sub -- <function>\n"
     ]
    }
   ],
   "source": [
    "import ure\n",
    "help(ure)"
   ]
  },
  {
   "cell_type": "code",
   "execution_count": 16,
   "id": "broad-scotland",
   "metadata": {},
   "outputs": [
    {
     "name": "stdout",
     "output_type": "stream",
     "text": [
      "object <module 'ujson'> is of type module\n",
      "  __name__ -- ujson\n",
      "  dump -- <function>\n",
      "  dumps -- <function>\n",
      "  load -- <function>\n",
      "  loads -- <function>\n"
     ]
    }
   ],
   "source": [
    "import ujson\n",
    "help(ujson)"
   ]
  },
  {
   "cell_type": "code",
   "execution_count": 15,
   "id": "copyrighted-robertson",
   "metadata": {},
   "outputs": [
    {
     "name": "stdout",
     "output_type": "stream",
     "text": [
      "object <module 'utime'> is of type module\n",
      "  __name__ -- utime\n",
      "  gmtime -- <function>\n",
      "  localtime -- <function>\n",
      "  mktime -- <function>\n",
      "  time -- <function>\n",
      "  time_ns -- <function>\n",
      "  sleep -- <function>\n",
      "  sleep_ms -- <function>\n",
      "  sleep_us -- <function>\n",
      "  ticks_ms -- <function>\n",
      "  ticks_us -- <function>\n",
      "  ticks_cpu -- <function>\n",
      "  ticks_add -- <function>\n",
      "  ticks_diff -- <function>\n"
     ]
    }
   ],
   "source": [
    "import utime\n",
    "help(utime)"
   ]
  },
  {
   "cell_type": "code",
   "execution_count": 17,
   "id": "southeast-incident",
   "metadata": {},
   "outputs": [
    {
     "name": "stdout",
     "output_type": "stream",
     "text": [
      "object <module 'urandom'> is of type module\n",
      "  __name__ -- urandom\n",
      "  __init__ -- <function>\n",
      "  getrandbits -- <function>\n",
      "  seed -- <function>\n",
      "  randrange -- <function>\n",
      "  randint -- <function>\n",
      "  choice -- <function>\n",
      "  random -- <function>\n",
      "  uniform -- <function>\n"
     ]
    }
   ],
   "source": [
    "import urandom\n",
    "help(urandom)"
   ]
  },
  {
   "cell_type": "code",
   "execution_count": 18,
   "id": "professional-civilization",
   "metadata": {},
   "outputs": [
    {
     "name": "stdout",
     "output_type": "stream",
     "text": [
      "object <module 'uzlib'> is of type module\n",
      "  __name__ -- uzlib\n",
      "  decompress -- <function>\n",
      "  DecompIO -- <class 'DecompIO'>\n"
     ]
    }
   ],
   "source": [
    "import uzlib\n",
    "help(uzlib)"
   ]
  },
  {
   "cell_type": "code",
   "execution_count": 19,
   "id": "signal-niagara",
   "metadata": {},
   "outputs": [
    {
     "name": "stdout",
     "output_type": "stream",
     "text": [
      "object <module 'ujson'> is of type module\n",
      "  __name__ -- ujson\n",
      "  dump -- <function>\n",
      "  dumps -- <function>\n",
      "  load -- <function>\n",
      "  loads -- <function>\n"
     ]
    }
   ],
   "source": [
    "import ujson\n",
    "help(ujson)"
   ]
  },
  {
   "cell_type": "markdown",
   "id": "sorted-accused",
   "metadata": {},
   "source": [
    "# Weiere Datenstrukturen?"
   ]
  },
  {
   "cell_type": "code",
   "execution_count": 24,
   "id": "laden-adolescent",
   "metadata": {},
   "outputs": [
    {
     "name": "stdout",
     "output_type": "stream",
     "text": [
      "object <module 'uhashlib'> is of type module\n",
      "  __name__ -- uhashlib\n",
      "  sha256 -- <class 'sha256'>\n"
     ]
    }
   ],
   "source": [
    "import hashlib as lib; help(lib)"
   ]
  },
  {
   "cell_type": "code",
   "execution_count": 25,
   "id": "favorite-headquarters",
   "metadata": {},
   "outputs": [
    {
     "name": "stdout",
     "output_type": "stream",
     "text": [
      "object <module 'uctypes'> is of type module\n",
      "  __name__ -- uctypes\n",
      "  struct -- <class 'struct'>\n",
      "  sizeof -- <function>\n",
      "  addressof -- <function>\n",
      "  bytes_at -- <function>\n",
      "  bytearray_at -- <function>\n",
      "  NATIVE -- 2\n",
      "  LITTLE_ENDIAN -- 0\n",
      "  BIG_ENDIAN -- 1\n",
      "  VOID -- 0\n",
      "  UINT8 -- 0\n",
      "  INT8 -- 134217728\n",
      "  UINT16 -- 268435456\n",
      "  INT16 -- 402653184\n",
      "  UINT32 -- 536870912\n",
      "  INT32 -- 671088640\n",
      "  UINT64 -- 805306368\n",
      "  INT64 -- 939524096\n",
      "  BFUINT8 -- -1073741824\n",
      "  BFINT8 -- -939524096\n",
      "  BFUINT16 -- -805306368\n",
      "  BFINT16 -- -671088640\n",
      "  BFUINT32 -- -536870912\n",
      "  BFINT32 -- -402653184\n",
      "  BF_POS -- 17\n",
      "  BF_LEN -- 22\n",
      "  FLOAT32 -- -268435456\n",
      "  FLOAT64 -- -134217728\n",
      "  SHORT -- 402653184\n",
      "  USHORT -- 268435456\n",
      "  INT -- 671088640\n",
      "  UINT -- 536870912\n",
      "  LONG -- 671088640\n",
      "  ULONG -- 536870912\n",
      "  LONGLONG -- 939524096\n",
      "  ULONGLONG -- 805306368\n",
      "  PTR -- 536870912\n",
      "  ARRAY -- -1073741824\n"
     ]
    }
   ],
   "source": [
    "import uctypes as lib; help(lib)"
   ]
  },
  {
   "cell_type": "code",
   "execution_count": 26,
   "id": "historic-diagram",
   "metadata": {},
   "outputs": [
    {
     "name": "stdout",
     "output_type": "stream",
     "text": [
      "object <module 'uselect'> is of type module\n",
      "  __name__ -- uselect\n",
      "  select -- <function>\n",
      "  poll -- <function>\n",
      "  POLLIN -- 1\n",
      "  POLLOUT -- 4\n",
      "  POLLERR -- 8\n",
      "  POLLHUP -- 16\n"
     ]
    }
   ],
   "source": [
    "import uselect as lib; help(lib)"
   ]
  },
  {
   "cell_type": "code",
   "execution_count": 27,
   "id": "secondary-theology",
   "metadata": {},
   "outputs": [
    {
     "name": "stdout",
     "output_type": "stream",
     "text": [
      "object <module 'ustruct'> is of type module\n",
      "  __name__ -- ustruct\n",
      "  calcsize -- <function>\n",
      "  pack -- <function>\n",
      "  pack_into -- <function>\n",
      "  unpack -- <function>\n",
      "  unpack_from -- <function>\n"
     ]
    }
   ],
   "source": [
    "import ustruct as lib; help(lib)"
   ]
  },
  {
   "cell_type": "code",
   "execution_count": 28,
   "id": "moral-calibration",
   "metadata": {},
   "outputs": [
    {
     "name": "stdout",
     "output_type": "stream",
     "text": [
      "object <module 'ucollections'> is of type module\n",
      "  __name__ -- ucollections\n",
      "  namedtuple -- <function>\n"
     ]
    }
   ],
   "source": [
    "import ucollections as lib; help(lib)"
   ]
  },
  {
   "cell_type": "markdown",
   "id": "alternate-count",
   "metadata": {},
   "source": [
    "# Disconnect"
   ]
  },
  {
   "cell_type": "code",
   "execution_count": 7,
   "id": "wound-merit",
   "metadata": {},
   "outputs": [],
   "source": [
    "%disconnect"
   ]
  }
 ],
 "metadata": {
  "kernelspec": {
   "display_name": "MicroPython - USB",
   "language": "micropython",
   "name": "micropython"
  },
  "language_info": {
   "codemirror_mode": "python",
   "file_extension": ".py",
   "mimetype": "text/python",
   "name": "micropython"
  }
 },
 "nbformat": 4,
 "nbformat_minor": 5
}
