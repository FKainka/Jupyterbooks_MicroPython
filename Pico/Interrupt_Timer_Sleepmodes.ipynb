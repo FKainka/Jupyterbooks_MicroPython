{
 "cells": [
  {
   "cell_type": "markdown",
   "id": "special-franklin",
   "metadata": {},
   "source": [
    "# Interrupts, Timer und Sleepmodes\n",
    "* *__Board: RPi Pico__*\n",
    "* *__Firmware: Micropython 1.14 (2021-02-05)__*\n",
    "* *__Kernel: MicroPyhton - USB__*"
   ]
  },
  {
   "cell_type": "markdown",
   "id": "metric-triple",
   "metadata": {},
   "source": [
    "# Connect"
   ]
  },
  {
   "cell_type": "code",
   "execution_count": 107,
   "id": "favorite-sterling",
   "metadata": {},
   "outputs": [],
   "source": [
    "%serialconnect --port=COM13"
   ]
  },
  {
   "cell_type": "markdown",
   "id": "verbal-purchase",
   "metadata": {},
   "source": [
    "# Interrupts"
   ]
  },
  {
   "cell_type": "code",
   "execution_count": 2,
   "id": "grave-trail",
   "metadata": {},
   "outputs": [
    {
     "name": "stdout",
     "output_type": "stream",
     "text": [
      "object <class 'Pin'> is of type type\n",
      "  init -- <function>\n",
      "  value -- <function>\n",
      "  low -- <function>\n",
      "  high -- <function>\n",
      "  off -- <function>\n",
      "  on -- <function>\n",
      "  toggle -- <function>\n",
      "  irq -- <function>\n",
      "  IN -- 0\n",
      "  OUT -- 1\n",
      "  OPEN_DRAIN -- 2\n",
      "  ALT -- 3\n",
      "  PULL_UP -- 1\n",
      "  PULL_DOWN -- 2\n",
      "  IRQ_RISING -- 8\n",
      "  IRQ_FALLING -- 4\n"
     ]
    }
   ],
   "source": [
    "import machine\n",
    "help(machine.Pin)"
   ]
  },
  {
   "cell_type": "code",
   "execution_count": null,
   "id": "cross-storm",
   "metadata": {},
   "outputs": [],
   "source": [
    "# Interrupt Handling\n",
    "\n",
    "from machine import Pin\n",
    "from time import sleep_ms \n",
    "\n",
    "triggered = False\n",
    "\n",
    "def irq_handler(pin):\n",
    "    global triggered, interrupt_pin\n",
    "    triggered = True\n",
    "    interrupt_pin = pin\n",
    "    \n",
    "button1 = Pin(18, Pin.IN, Pin.PULL_DOWN)\n",
    "button2 = Pin(19, Pin.IN, Pin.PULL_DOWN)\n",
    "\n",
    "#trigger: IRQ_RISING; IRQ_FALLING; ALT\n",
    "button1.irq (trigger=Pin.IRQ_FALLING, handler = irq_handler)\n",
    "button2.irq (trigger=Pin.IRQ_FALLING, handler = irq_handler)\n",
    "\n",
    "# Aktivieren/Deaktivieren von Interrupts\n",
    "# machine.disable_irq()\n",
    "# machine.enable_irq()\n",
    "    \n",
    "while True:\n",
    "    if triggered:\n",
    "        print(\"Interrupt Triggered from \" + str(interrupt_pin))\n",
    "        triggered = False\n",
    "        sleep_ms(500)"
   ]
  },
  {
   "cell_type": "markdown",
   "id": "consolidated-builder",
   "metadata": {},
   "source": [
    "# Timer"
   ]
  },
  {
   "cell_type": "code",
   "execution_count": null,
   "id": "nasty-thesaurus",
   "metadata": {},
   "outputs": [],
   "source": [
    "# Timer für periodisches Blinken\n",
    "\n",
    "from machine import Pin, Timer\n",
    "from time import sleep\n",
    "\n",
    "def blink(timer):\n",
    "    led.toggle()\n",
    "\n",
    "led = Pin(25, Pin.OUT)\n",
    "\n",
    "\n",
    "timer = Timer(freq=2.5, mode=Timer.PERIODIC, callback=blink)\n",
    "#timer.init(freq=2.5, mode=Timer.PERIODIC, callback=blink)\n",
    "#timer.deinit()\n",
    "\n",
    "help(machine.Timer)\n",
    "\n",
    "while True:\n",
    "    print(\"doing stuff\")\n",
    "    sleep(1)"
   ]
  },
  {
   "cell_type": "markdown",
   "id": "related-shade",
   "metadata": {},
   "source": [
    "## Watchdog Timer"
   ]
  },
  {
   "cell_type": "code",
   "execution_count": 115,
   "id": "opposite-butter",
   "metadata": {},
   "outputs": [
    {
     "name": "stdout",
     "output_type": "stream",
     "text": [
      "Alles OK\n",
      "\n",
      "**[ys] <class 'serial.serialutil.SerialException'>\n",
      "**[ys] ClearCommError failed (PermissionError(13, 'Das Gerät erkennt den Befehl nicht.', None, 22))\n",
      "\n",
      "\n",
      "**[ys] <class 'serial.serialutil.SerialException'>\n",
      "**[ys] ClearCommError failed (PermissionError(13, 'Das Gerät erkennt den Befehl nicht.', None, 22))\n",
      "\n"
     ]
    }
   ],
   "source": [
    "# Benutzung eines Watchdog Timers\n",
    "\n",
    "from machine import WDT\n",
    "from time import sleep\n",
    "\n",
    "wdt = WDT(timeout=2000)  # Watchdog Timer mit einem timeout von 2s\n",
    "\n",
    "while True:\n",
    "    #wdt.feed()         # Muss mindestens alle [timeout] aufgerufen werden sonst - WDT_Reset\n",
    "    sleep(1)\n",
    "    print(\"Alles OK\")"
   ]
  },
  {
   "cell_type": "markdown",
   "id": "respiratory-richardson",
   "metadata": {},
   "source": [
    "# Sleepmodes\n",
    "\n",
    "__machine.idle()__: Kann den Stromverbrauch reduzieren bis ein Interrupt getriggert wird. \n",
    "\n",
    "__machine.ligthsleep()__: (Hardwareabhängig)\n",
    "\n",
    "__machine.deeplseep()__: (Hardwareabhängig)"
   ]
  },
  {
   "cell_type": "markdown",
   "id": "precise-investor",
   "metadata": {},
   "source": [
    "## Lightsleep\n",
    "\n",
    "Controller behält RAM und Position im Code."
   ]
  },
  {
   "cell_type": "code",
   "execution_count": 73,
   "id": "soviet-champion",
   "metadata": {},
   "outputs": [],
   "source": [
    "import machine\n",
    "from time import sleep\n",
    "\n",
    "led = machine.Pin(25, machine.Pin.OUT)\n",
    "\n",
    "for x in range(5):\n",
    "    print(\"Hello\")\n",
    "    led.toggle()\n",
    "    sleep(1)\n",
    "    machine.lightsleep(4000) # time in ms, lightsleep behält RAM, macht an dieser Stelle weiter"
   ]
  },
  {
   "cell_type": "markdown",
   "id": "prospective-murray",
   "metadata": {},
   "source": [
    "## Deepsleep\n",
    "\n",
    "Controller verliert RAM, fährt alles runter. Startet neu nach Deepsleep."
   ]
  },
  {
   "cell_type": "code",
   "execution_count": 112,
   "id": "daily-battery",
   "metadata": {},
   "outputs": [
    {
     "name": "stdout",
     "output_type": "stream",
     "text": [
      "\u001b[34mConnecting to --port=COM13 --baud=115200 \u001b[0m\n",
      "\u001b[34mReady.\n",
      "\u001b[0m"
     ]
    }
   ],
   "source": [
    "%serialconnect --port=COM13"
   ]
  },
  {
   "cell_type": "code",
   "execution_count": 109,
   "id": "improving-damages",
   "metadata": {},
   "outputs": [
    {
     "name": "stdout",
     "output_type": "stream",
     "text": [
      "Sent 19 lines (426 bytes) to /boot.py.\n",
      "['__class__', '__name__', 'ADC', 'I2C', 'PWM', 'PWRON_RESET', 'Pin', 'SPI', 'SoftI2C', 'SoftSPI', 'Timer', 'UART', 'WDT', 'WDT_RESET', 'bootloader', 'deepsleep', 'disable_irq', 'enable_irq', 'freq', 'idle', 'lightsleep', 'mem16', 'mem32', 'mem8', 'reset', 'reset_cause', 'soft_reset', 'time_pulse_us', 'unique_id']\n",
      "1\n",
      "Power On Reset\n"
     ]
    }
   ],
   "source": [
    "%sendtofile \"/boot.py\" --execute\n",
    "\n",
    "import machine\n",
    "from time import sleep\n",
    "\n",
    "led = machine.Pin(25, machine.Pin.OUT)\n",
    "\n",
    "\n",
    "if (machine.reset_cause() == machine.PWRON_RESET):    # Ursache des Resets war ein Power UP (Stromversorgung angeschlossen, RUN auf GND reset)\n",
    "    led.value(not led.value())\n",
    "elif (machine.reset_cause()== machine.WDT_RESET):    # Watchdog Timer Reset\n",
    "    led.value(not led.value())\n",
    "    machine.deepsleep(5000)                      # Deepsleep für 5 Sekunden\n",
    "\n",
    "    \n",
    "def start_deepsleep():\n",
    "    machine.deepsleep(5000)             # Funktion zum Started des Deepsleep"
   ]
  },
  {
   "cell_type": "code",
   "execution_count": 110,
   "id": "spoken-newton",
   "metadata": {},
   "outputs": [
    {
     "name": "stdout",
     "output_type": "stream",
     "text": [
      "['machine', 'led', 'sleep', 'start_deepsleep', '__name__', 'rp2']\n",
      ".\n",
      "**[ys] <class 'serial.serialutil.SerialException'>\n",
      "**[ys] ClearCommError failed (PermissionError(13, 'Das Gerät erkennt den Befehl nicht.', None, 22))\n",
      "\n",
      "\n",
      "**[ys] <class 'serial.serialutil.SerialException'>\n",
      "**[ys] ClearCommError failed (PermissionError(13, 'Das Gerät erkennt den Befehl nicht.', None, 22))\n",
      "\n"
     ]
    }
   ],
   "source": [
    "# Startet den Deepsleep, RESET-Pin bei Pin30 (auf Pinout markiert mit RUN)\n",
    "print(dir())\n",
    "start_deepsleep()"
   ]
  },
  {
   "cell_type": "code",
   "execution_count": 117,
   "id": "respected-martin",
   "metadata": {},
   "outputs": [
    {
     "name": "stdout",
     "output_type": "stream",
     "text": [
      "\u001b[34mConnecting to --port=COM13 --baud=115200 \u001b[0m\n",
      "\u001b[34mReady.\n",
      "\u001b[0m"
     ]
    }
   ],
   "source": [
    "%serialconnect --port=COM13"
   ]
  },
  {
   "cell_type": "markdown",
   "id": "proud-valentine",
   "metadata": {},
   "source": [
    "# Reboot"
   ]
  },
  {
   "cell_type": "code",
   "execution_count": null,
   "id": "hidden-sessions",
   "metadata": {},
   "outputs": [],
   "source": [
    "%rebootdevice"
   ]
  },
  {
   "cell_type": "markdown",
   "id": "amazing-covering",
   "metadata": {},
   "source": [
    "# Disconnect"
   ]
  },
  {
   "cell_type": "code",
   "execution_count": 18,
   "id": "sacred-theory",
   "metadata": {},
   "outputs": [
    {
     "name": "stdout",
     "output_type": "stream",
     "text": [
      "\u001b[34mattempt to exit paste mode\n",
      "\u001b[0m\u001b[34m[\\r\\x03\\x02] \u001b[0mb'\\r\\n>>> \\r\\n>>> \\r\\nMicroPython v1.14 on 2021-02-02; Raspberry Pi Pico with RP2040\\r\\nType \"help()\" for more information.\\r\\n>>> '\u001b[34m\n",
      "Closing serial Serial<id=0x1774267f3a0, open=True>(port='COM13', baudrate=115200, bytesize=8, parity='N', stopbits=1, timeout=0.5, xonxoff=False, rtscts=False, dsrdtr=False)\n",
      "\u001b[0m"
     ]
    }
   ],
   "source": [
    "%disconnect"
   ]
  }
 ],
 "metadata": {
  "kernelspec": {
   "display_name": "MicroPython - USB",
   "language": "micropython",
   "name": "micropython"
  },
  "language_info": {
   "codemirror_mode": "python",
   "file_extension": ".py",
   "mimetype": "text/python",
   "name": "micropython"
  }
 },
 "nbformat": 4,
 "nbformat_minor": 5
}
