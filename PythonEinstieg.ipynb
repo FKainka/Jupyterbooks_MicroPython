{
 "cells": [
  {
   "cell_type": "markdown",
   "id": "mathematical-cherry",
   "metadata": {},
   "source": [
    "# Allgemeine Pyhton/MicroPyhton Themen\n",
    "\n",
    "IF\n",
    "Schleifen\n",
    "Sichtbarkeit von Variablen\n",
    "VM bzw. GC\n",
    "Listen\n",
    "\n",
    "Error Hanlding"
   ]
  },
  {
   "cell_type": "code",
   "execution_count": null,
   "id": "infectious-minnesota",
   "metadata": {},
   "outputs": [],
   "source": []
  },
  {
   "cell_type": "code",
   "execution_count": null,
   "id": "unexpected-reading",
   "metadata": {},
   "outputs": [],
   "source": [
    "# Zusammensetzen von Strings\n",
    "\n",
    "# i = int\n",
    "# test_pwm = class machine.PWM\n",
    "\n",
    "print(str(i)  + \": \" +  str(test_pwm))"
   ]
  },
  {
   "cell_type": "code",
   "execution_count": null,
   "id": "above-investing",
   "metadata": {},
   "outputs": [],
   "source": [
    "# For Schleifen\n",
    "\n",
    "# https://www.w3schools.com/python/ref_func_range.asp\n",
    "# range(start, stop, step)\n",
    "\n",
    "for i in range(0,28):\n",
    "    print(i)"
   ]
  }
 ],
 "metadata": {
  "kernelspec": {
   "display_name": "MicroPython - USB",
   "language": "micropython",
   "name": "micropython"
  },
  "language_info": {
   "codemirror_mode": "python",
   "file_extension": ".py",
   "mimetype": "text/python",
   "name": "micropython"
  }
 },
 "nbformat": 4,
 "nbformat_minor": 5
}
