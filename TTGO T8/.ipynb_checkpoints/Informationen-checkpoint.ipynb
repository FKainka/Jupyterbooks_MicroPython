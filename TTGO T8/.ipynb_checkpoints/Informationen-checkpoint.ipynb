{
 "cells": [
  {
   "cell_type": "markdown",
   "id": "requested-project",
   "metadata": {},
   "source": [
    "# Informationen zum TTGO T8 ESP32-S2\n",
    "\n",
    "## Pinout\n",
    "\n",
    "![image.png](Bilder/Pinout.jpg)"
   ]
  },
  {
   "cell_type": "code",
   "execution_count": null,
   "id": "geological-tongue",
   "metadata": {},
   "outputs": [],
   "source": []
  }
 ],
 "metadata": {
  "kernelspec": {
   "display_name": "MicroPython - USB",
   "language": "micropython",
   "name": "micropython"
  },
  "language_info": {
   "codemirror_mode": "python",
   "file_extension": ".py",
   "mimetype": "text/python",
   "name": "micropython"
  }
 },
 "nbformat": 4,
 "nbformat_minor": 5
}
