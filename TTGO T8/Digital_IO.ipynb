{
 "cells": [
  {
   "cell_type": "markdown",
   "id": "helpful-popularity",
   "metadata": {},
   "source": [
    "# Digital I/O\n",
    "\n",
    "* *__Board: TTGO T8 ESP32-S2__*\n",
    "* *__Firmware: CircuitPyhton 6.2.0-beta.4__*\n",
    "* *__Kernel: MicroPyhton - USB__*\n",
    "\n",
    "In diesem Kapitel geht es darum, die Grundlagen der digitalen Pinansteuerung kennen zu lernen."
   ]
  },
  {
   "cell_type": "code",
   "execution_count": 5,
   "id": "political-olive",
   "metadata": {},
   "outputs": [
    {
     "name": "stdout",
     "output_type": "stream",
     "text": [
      "\u001b[34mConnecting to --port=COM14 --baud=115200 \u001b[0m\n",
      "raw REPL; CTRL-B to exit\n",
      ">\u001b[34mReady.\n",
      "\u001b[0m"
     ]
    }
   ],
   "source": [
    "# Wichtiger erster Notebook Befehl. COM-Port anpassen!\n",
    "%serialconnect --port=COM14"
   ]
  },
  {
   "cell_type": "code",
   "execution_count": 39,
   "id": "altered-bouquet",
   "metadata": {
    "collapsed": true,
    "jupyter": {
     "outputs_hidden": true
    },
    "tags": []
   },
   "outputs": [
    {
     "name": "stdout",
     "output_type": "stream",
     "text": [
      "%capture [--quiet] [--QUIET] outputfilename\n",
      "    records output to a file\n",
      "\n",
      "%comment\n",
      "    print this into output\n",
      "\n",
      "%disconnect [--raw]\n",
      "    disconnects from web/serial connection\n",
      "\n",
      "%esptool [--port PORT] {erase,esp32,esp8266} [binfile]\n",
      "    commands for flashing your esp-device\n",
      "\n",
      "%fetchfile [--binary] [--print] [--load] [--quiet] [--QUIET] sourcefilename [destinationfilename]\n",
      "    fetch and save a file from the device\n",
      "\n",
      "%ls [--recurse] [dirname]\n",
      "    list files on the device\n",
      "\n",
      "%lsmagic\n",
      "    list magic commands\n",
      "\n",
      "%mpy-cross [--set-exe SET_EXE] [pyfile]\n",
      "    cross-compile a .py file to a .mpy file\n",
      "\n",
      "%readbytes [--binary]\n",
      "    does serial.read_all()\n",
      "\n",
      "%rebootdevice\n",
      "    reboots device\n",
      "\n",
      "%sendtofile [--append] [--mkdir] [--binary] [--execute] [--source [SOURCE]] [--quiet] [--QUIET]\n",
      "                   [destinationfilename]\n",
      "    send cell contents or file/direcectory to the device\n",
      "\n",
      "%serialconnect [--raw] [--port PORT] [--baud BAUD] [--verbose]\n",
      "    connects to a device over USB wire\n",
      "\n",
      "%socketconnect [--raw] ipnumber portnumber\n",
      "    connects to a socket of a device over wifi\n",
      "\n",
      "%suppressendcode\n",
      "    doesn't send x04 or wait to read after sending the contents of the cell\n",
      "  (assists for debugging using %writebytes and %readbytes)\n",
      "\n",
      "%websocketconnect [--raw] [--password PASSWORD] [--verbose] [websocketurl]\n",
      "    connects to the webREPL websocket of an ESP8266 over wifi\n",
      "    websocketurl defaults to ws://192.168.4.1:8266 but be sure to be connected\n",
      "\n",
      "%writebytes [--binary] [--verbose] stringtosend\n",
      "    does serial.write() of the python quoted string given\n",
      "\n",
      "%%writefile [--append] [--execute] destinationfilename\n",
      "    write contents of cell to a file\n",
      "\n"
     ]
    }
   ],
   "source": [
    "# Liste von Kernel-Befehlen\n",
    "%lsmagic"
   ]
  },
  {
   "cell_type": "code",
   "execution_count": 11,
   "id": "beginning-fetish",
   "metadata": {
    "tags": []
   },
   "outputs": [
    {
     "name": "stdout",
     "output_type": "stream",
     "text": [
      "Willkommen bei Adafruit CircuitPython 6.2.0-beta.4!\n",
      "\n",
      "Projektleitfäden findest du auf learn.adafruit.com/category/circuitpython \n",
      "\n",
      "Um die integrierten Module aufzulisten, führe bitte `help(\"modules\")` aus.\n",
      "__main__          canio             json              sharpdisplay\n",
      "_bleio            collections       math              socketpool\n",
      "_pixelbuf         countio           microcontroller   ssl\n",
      "adafruit_bus_device                 digitalio         micropython       storage\n",
      "alarm             displayio         msgpack           struct\n",
      "analogio          dualbank          neopixel_write    supervisor\n",
      "array             errno             os                sys\n",
      "audiobusio        espidf            ps2io             terminalio\n",
      "audiocore         fontio            pulseio           time\n",
      "binascii          framebufferio     pwmio             touchio\n",
      "bitbangio         frequencyio       random            ulab\n",
      "bitmaptools       gamepad           re                usb_hid\n",
      "board             gc                rotaryio          vectorio\n",
      "builtins          io                rtc               watchdog\n",
      "busio             ipaddress         sdcardio          wifi\n",
      "und alle Module im Dateisystem \n",
      "object <module 'digitalio'> ist vom Type module\n",
      "  __name__ -- digitalio\n",
      "  DigitalInOut -- <class 'DigitalInOut'>\n",
      "  Direction -- <class 'Direction'>\n",
      "  DriveMode -- <class 'DriveMode'>\n",
      "  Pull -- <class 'Pull'>\n",
      "object <class 'DigitalInOut'> ist vom Type type\n",
      "  deinit -- <function>\n",
      "  __enter__ -- <function>\n",
      "  __exit__ -- <function>\n",
      "  switch_to_output -- <function>\n",
      "  switch_to_input -- <function>\n",
      "  direction -- <property>\n",
      "  value -- <property>\n",
      "  drive_mode -- <property>\n",
      "  pull -- <property>\n"
     ]
    }
   ],
   "source": [
    "help()\n",
    "# Generelle Übersicht über verfügbare Module\n",
    "help(\"modules\")\n",
    "# Übersicht über die relevanten Module\n",
    "import digitalio\n",
    "help(digitalio)\n",
    "help(digitalio.DigitalInOut)"
   ]
  },
  {
   "cell_type": "code",
   "execution_count": 12,
   "id": "sensitive-booking",
   "metadata": {
    "collapsed": true,
    "jupyter": {
     "outputs_hidden": true
    },
    "tags": []
   },
   "outputs": [
    {
     "name": "stdout",
     "output_type": "stream",
     "text": [
      "object <module ''> ist vom Type module\n",
      "  IO0 -- board.IO0\n",
      "  IO1 -- board.IO1\n",
      "  IO2 -- board.IO2\n",
      "  IO3 -- board.IO3\n",
      "  IO4 -- board.IO4\n",
      "  IO5 -- board.IO5\n",
      "  IO6 -- board.IO6\n",
      "  IO7 -- board.IO7\n",
      "  IO8 -- board.IO8\n",
      "  IO11 -- board.IO11\n",
      "  IO12 -- board.IO12\n",
      "  IO13 -- board.IO13\n",
      "  IO15 -- board.IO15\n",
      "  IO16 -- board.IO16\n",
      "  IO17 -- board.IO17\n",
      "  IO18 -- board.IO18\n",
      "  IO19 -- board.IO19\n",
      "  IO20 -- board.IO20\n",
      "  IO21 -- board.IO21\n",
      "  IO39 -- board.IO39\n",
      "  IO40 -- board.IO40\n",
      "  IO41 -- board.IO41\n",
      "  IO42 -- board.IO42\n",
      "  IO45 -- board.IO45\n",
      "  IO46 -- board.IO46\n",
      "  TX -- board.TX\n",
      "  RX -- board.RX\n",
      "  TX1 -- board.IO17\n",
      "  RX1 -- board.IO18\n",
      "  SD_MISO -- board.IO13\n",
      "  SD_MOSI -- board.IO11\n",
      "  SD_CLK -- board.IO12\n",
      "  SD_CS -- board.SD_CS\n",
      "  LCD_MOSI -- board.LCD_MOSI\n",
      "  LCD_CLK -- board.LCD_CLK\n",
      "  LCD_CS -- board.LCD_CS\n",
      "  LCD_RST -- board.LCD_RST\n",
      "  LCD_BCKL -- board.LCD_BCKL\n",
      "  LCD_D_C -- board.LCD_D_C\n",
      "  DISPLAY -- <Display>\n",
      "  PE_POWER -- board.PE_POWER\n"
     ]
    }
   ],
   "source": [
    "# board-Module mit allen Pins\n",
    "import board\n",
    "help (board)"
   ]
  },
  {
   "cell_type": "markdown",
   "id": "brown-thesaurus",
   "metadata": {
    "tags": []
   },
   "source": [
    "## Digital OUT"
   ]
  },
  {
   "cell_type": "code",
   "execution_count": 7,
   "id": "arabic-aggregate",
   "metadata": {},
   "outputs": [
    {
     "name": "stdout",
     "output_type": "stream",
     "text": [
      "object <DigitalInOut> ist vom Type DigitalInOut\n",
      "  deinit -- <function>\n",
      "  __enter__ -- <function>\n",
      "  __exit__ -- <function>\n",
      "  switch_to_output -- <function>\n",
      "  switch_to_input -- <function>\n",
      "  direction -- <property>\n",
      "  value -- <property>\n",
      "  drive_mode -- <property>\n",
      "  pull -- <property>\n"
     ]
    }
   ],
   "source": [
    "import board\n",
    "from digitalio import DigitalInOut, Direction, Pull\n",
    "\n",
    "# LED setup. ! IO0 = Boot Mode, Wenn LOW bei Boarstart => Bootmodus\n",
    "led = DigitalInOut(board.IO1)\n",
    "led.direction = Direction.OUTPUT\n",
    "\n",
    "help(led)"
   ]
  },
  {
   "cell_type": "code",
   "execution_count": 8,
   "id": "pending-world",
   "metadata": {},
   "outputs": [
    {
     "name": "stdout",
     "output_type": "stream",
     "text": [
      "True\n"
     ]
    }
   ],
   "source": [
    "# Ausgabe des aktuellen Ausgangszustand\n",
    "led.value = True\n",
    "print(led.value)"
   ]
  },
  {
   "cell_type": "code",
   "execution_count": 52,
   "id": "generic-estimate",
   "metadata": {},
   "outputs": [
    {
     "name": "stdout",
     "output_type": "stream",
     "text": [
      "object <module 'time'> ist vom Type module\n",
      "  __name__ -- time\n",
      "  monotonic -- <function>\n",
      "  sleep -- <function>\n",
      "  struct_time -- <class 'struct_time'>\n",
      "  localtime -- <function>\n",
      "  mktime -- <function>\n",
      "  time -- <function>\n",
      "  monotonic_ns -- <function>\n"
     ]
    }
   ],
   "source": [
    "# Kurzer Blick auf das time-Modul\n",
    "import time\n",
    "help(time)"
   ]
  },
  {
   "cell_type": "code",
   "execution_count": 54,
   "id": "exotic-bonus",
   "metadata": {},
   "outputs": [
    {
     "name": "stdout",
     "output_type": "stream",
     "text": [
      "......\u001b[34m\n",
      "\n",
      "*** Sending Ctrl-C\n",
      "\n",
      "\u001b[0m"
     ]
    },
    {
     "name": "stderr",
     "output_type": "stream",
     "text": [
      "Zurückverfolgung (jüngste Aufforderung zuletzt):\n",
      "  Datei \"<stdin>\", Zeile 4, in <module>\n",
      "KeyboardInterrupt: \n"
     ]
    }
   ],
   "source": [
    "# Blink Schleife\n",
    "while(True):\n",
    "    led.value = not led.value\n",
    "    time.sleep(1)\n",
    "\n",
    "# Um Schleife zu verlassen: In der Menüleiste \"Interrupt the Kernel\""
   ]
  },
  {
   "cell_type": "markdown",
   "id": "olive-voltage",
   "metadata": {},
   "source": [
    "### Aufgabe: LED Wechselblinker\n",
    "\n",
    "Zwei LEDs, jeweils an Pin IO0 und IO1, sollen abwechselnd mit einer Frequenz von 1 Hz (1x Umschalten pro Sekunde) blinken.\n",
    "\n"
   ]
  },
  {
   "cell_type": "code",
   "execution_count": 51,
   "id": "cross-manchester",
   "metadata": {},
   "outputs": [],
   "source": [
    "# Aufgabenbereich: LED Wechselblinker\n",
    "\n"
   ]
  },
  {
   "cell_type": "markdown",
   "id": "consolidated-humanity",
   "metadata": {},
   "source": [
    "## Digital IN"
   ]
  },
  {
   "cell_type": "code",
   "execution_count": 6,
   "id": "acquired-circus",
   "metadata": {},
   "outputs": [
    {
     "name": "stdout",
     "output_type": "stream",
     "text": [
      "False\n"
     ]
    }
   ],
   "source": [
    "import board\n",
    "from digitalio import DigitalInOut, Direction, Pull\n",
    "# Pin als Eingang initialisieren\n",
    "button = DigitalInOut(board.IO3)\n",
    "button.direction = Direction.INPUT\n",
    "\n",
    "print(button.value)"
   ]
  },
  {
   "cell_type": "code",
   "execution_count": 9,
   "id": "joint-colorado",
   "metadata": {
    "tags": []
   },
   "outputs": [
    {
     "name": "stdout",
     "output_type": "stream",
     "text": [
      "False\n",
      "False\n",
      "False\n",
      "False\n",
      "False\n",
      "False\n",
      "False\n",
      "False\n",
      "False\n",
      "False\n",
      ".False\n",
      "False\n",
      "False\n",
      "False\n",
      "False\n",
      "False\n",
      "True\n",
      "True\n",
      "True\n",
      "True\n",
      ".True\n",
      "False\n",
      "False\n",
      "False\n",
      "True\n",
      "True\n",
      "True\n",
      "True\n",
      "True\n",
      "True\n",
      ".True\n",
      "True\n",
      "False\n",
      "False\n",
      "True\n",
      "False\n",
      "True\n",
      "True\n",
      "False\n",
      "False\n",
      "\u001b[34m\n",
      "\n",
      "*** Sending Ctrl-C\n",
      "\n",
      "\u001b[0m"
     ]
    },
    {
     "name": "stderr",
     "output_type": "stream",
     "text": [
      "Zurückverfolgung (jüngste Aufforderung zuletzt):\n",
      "  Datei \"<stdin>\", Zeile 6, in <module>\n",
      "KeyboardInterrupt: \n"
     ]
    }
   ],
   "source": [
    "# Überwachung des Eingangspins\n",
    "import time \n",
    "\n",
    "while True:\n",
    "    print(button.value)\n",
    "    time.sleep(1)"
   ]
  },
  {
   "cell_type": "code",
   "execution_count": 5,
   "id": "italian-shareware",
   "metadata": {
    "collapsed": true,
    "jupyter": {
     "outputs_hidden": true
    },
    "tags": []
   },
   "outputs": [
    {
     "name": "stdout",
     "output_type": "stream",
     "text": [
      ".1\n",
      "0\n",
      "1\n",
      "0\n",
      "1\n",
      "0\n",
      "1\n",
      "0\n",
      "1\n",
      "0\n",
      "1\n",
      "0\n",
      "1\n",
      "0\n",
      "1\n",
      "0\n",
      "1\n",
      "0\n",
      "1\n",
      "0\n",
      "1\n",
      "0\n",
      "1\n",
      "0\n",
      "1\n",
      "0\n",
      "1\n",
      "0\n",
      "1\n",
      "0\n",
      "1\n",
      "0\n",
      "1\n",
      "0\n",
      "1\n",
      "0\n",
      "1\n",
      "0\n",
      "1\n",
      "0\n",
      "1\n",
      "0\n",
      "1\n",
      "0\n",
      "1\n",
      "0\n",
      "1\n",
      "0\n",
      "1\n",
      "0\n",
      "1\n",
      "0\n",
      "1\n",
      "0\n",
      "1\n",
      "0\n",
      "1\n",
      "0\n",
      "1\n",
      "0\n",
      "1\n",
      "0\n",
      "1\n",
      "0\n",
      "1\n",
      "0\n",
      "1\n",
      "0\n",
      "1\n",
      "0\n",
      "1\n",
      "0\n",
      "1\n",
      "0\n",
      "1\n",
      "0\n",
      "1\n",
      "0\n",
      "1\n",
      "0\n",
      "1\n",
      "0\n",
      "1\n",
      "0\n",
      "1\n",
      "0\n",
      "1\n",
      "0\n",
      "1\n",
      "0\n",
      "1\n",
      "0\n",
      "1\n",
      "0\n",
      "1\n",
      "0\n",
      "1\n",
      "0\n",
      "1\n",
      "0\n",
      "1\n",
      "0\n",
      "1\n",
      "0\n",
      "1\n",
      "0\n",
      "1\n",
      "0\n",
      "1\n",
      "0\n",
      "1\n",
      "0\n",
      "1\n",
      "0\n",
      "1\n",
      "0\n",
      "1\n",
      "0\n",
      "1\n",
      "0\n",
      "1\n",
      "0\n",
      "1\n",
      "0\n",
      "1\n",
      "0\n",
      "1\n",
      "0\n",
      "1\n",
      "0\n",
      "1\n",
      "0\n",
      "1\n",
      "0\n",
      "1\n",
      "0\n",
      "1\n",
      "0\n",
      "1\n",
      "0\n",
      "1\n",
      "0\n",
      "1\n",
      "0\n",
      "1\n",
      "0\n",
      "1\n",
      "0\n",
      "1\n",
      "0\n",
      "1\n",
      "0\n",
      "1\n",
      "0\n",
      "1\n",
      "0\n",
      "1\n",
      "0\n",
      "1\n",
      "0\n",
      "1\n",
      "0\n",
      "1\n",
      "0\n",
      "1\n",
      "0\n",
      "1\n",
      "0\n",
      "1\n",
      "0\n",
      "1\n",
      "0\n",
      "1\n",
      "0\n",
      "1\n",
      "0\n",
      "1\n",
      "0\n",
      "1\n",
      "0\n",
      "1\n",
      "0\n",
      "1\n",
      "0\n",
      "1\n",
      "0\n",
      "1\n",
      "0\n",
      "1\n",
      "0\n",
      "1\n",
      "0\n",
      "1\n",
      "0\n",
      "1\n",
      "0\n",
      "1\n",
      "0\n",
      "1\n",
      "0\n",
      "1\n",
      "0\n",
      "1\n",
      "0\n",
      "1\n",
      "0\n",
      "1\n",
      "0\n",
      "1\n",
      "0\n",
      "1\n",
      "0\n",
      "1\n",
      "0\n",
      "1\n",
      "0\n",
      "1\n",
      "0\n",
      "1\n",
      "0\n",
      "1\n",
      "0\n",
      "1\n",
      "0\n",
      "1\n",
      "0\n",
      "1\n",
      "0\n",
      "1\n",
      "0\n",
      "1\n",
      "0\n",
      "1\n",
      "0\n",
      "1\n",
      "0\n",
      "1\n",
      "0\n",
      "1\n",
      "0\n",
      "1\n",
      "0\n",
      "1\n",
      "0\n",
      "1\n",
      "0\n",
      "......\u001b[34m\n",
      "\n",
      "*** Sending Ctrl-C\n",
      "\n",
      "\u001b[0m"
     ]
    },
    {
     "name": "stderr",
     "output_type": "stream",
     "text": [
      "Traceback (most recent call last):\n",
      "  File \"<stdin>\", line 4, in <module>\n",
      "KeyboardInterrupt: \n"
     ]
    }
   ],
   "source": [
    "# Überwachung von Zustandsveränderungen (Extern Pullup/Pulldown)\n",
    "\n",
    "#value = button.value\n",
    "\n",
    "while True:\n",
    "    if button.value != value:\n",
    "        print(button.value())\n",
    "        value = button.value()\n",
    "        # time.sleep(1)"
   ]
  },
  {
   "cell_type": "code",
   "execution_count": 15,
   "id": "fewer-oakland",
   "metadata": {
    "tags": []
   },
   "outputs": [
    {
     "name": "stdout",
     "output_type": "stream",
     "text": [
      ".....True\n",
      "True\n",
      "False\n",
      "True\n",
      "False\n",
      "True\n",
      "False\n",
      "True\n",
      "True\n",
      "True\n",
      "True\n",
      "True\n",
      "True\n",
      "True\n",
      "False\n",
      "........................\u001b[34m\n",
      "\n",
      "*** Sending Ctrl-C\n",
      "\n",
      "\u001b[0m"
     ]
    },
    {
     "name": "stderr",
     "output_type": "stream",
     "text": [
      "Zurückverfolgung (jüngste Aufforderung zuletzt):\n",
      "  Datei \"<stdin>\", Zeile 6, in <module>\n",
      "KeyboardInterrupt: \n"
     ]
    }
   ],
   "source": [
    "# Interner Pulldown\n",
    "button.pull = Pull.DOWN\n",
    "value = 0\n",
    "\n",
    "while True:\n",
    "    if button.value != value:\n",
    "        print(button.value)\n",
    "        value = button.value\n",
    "        # time.sleep(1)"
   ]
  },
  {
   "cell_type": "code",
   "execution_count": 17,
   "id": "ranking-porter",
   "metadata": {},
   "outputs": [
    {
     "name": "stderr",
     "output_type": "stream",
     "text": [
      "Zurückverfolgung (jüngste Aufforderung zuletzt):\n",
      "  Datei \"<stdin>\", Zeile 7, in <module>\n",
      "TypeError: 'bool' Objekt ist kein callable\n"
     ]
    }
   ],
   "source": [
    "# Interner Pullup\n",
    "\n",
    "button.pull = Pull.UP \n",
    "value = 1\n",
    "\n",
    "while True:\n",
    "    if button.value != value:\n",
    "        print(button.value)\n",
    "        value = button.value\n",
    "        # time.sleep(1)"
   ]
  },
  {
   "cell_type": "markdown",
   "id": "popular-convergence",
   "metadata": {},
   "source": [
    "### Aufgabe: Zwei Taster schalten LEDs um \n",
    "\n",
    "Ein Button im Pullup-Modus, der andere Pulldown\n",
    "Einmal drücken = Zustandsänderung an der entsprechenden LED\n",
    "\n",
    "![Pico_DIO_button1_Steckplatine.png](Fritzing/Pico_DIO_button1_Steckplatine.png \"Aufbau mit zwei Leds und zwei Tastern\")"
   ]
  },
  {
   "cell_type": "code",
   "execution_count": 10,
   "id": "caring-wagon",
   "metadata": {},
   "outputs": [],
   "source": [
    "# Aufgabenbereich: Zwei Taster"
   ]
  },
  {
   "cell_type": "code",
   "execution_count": 33,
   "id": "sudden-power",
   "metadata": {},
   "outputs": [
    {
     "name": "stdout",
     "output_type": "stream",
     "text": [
      "object <module 'time'> ist vom Type module\n",
      "  __name__ -- time\n",
      "  monotonic -- <function>\n",
      "  sleep -- <function>\n",
      "  struct_time -- <class 'struct_time'>\n",
      "  localtime -- <function>\n",
      "  mktime -- <function>\n",
      "  time -- <function>\n",
      "  monotonic_ns -- <function>\n"
     ]
    }
   ],
   "source": [
    "help(time)"
   ]
  },
  {
   "cell_type": "code",
   "execution_count": null,
   "id": "synthetic-kingston",
   "metadata": {
    "tags": []
   },
   "outputs": [],
   "source": [
    "%disconnect"
   ]
  },
  {
   "cell_type": "markdown",
   "id": "attached-warren",
   "metadata": {},
   "source": [
    "## Lösungen"
   ]
  },
  {
   "cell_type": "code",
   "execution_count": 29,
   "id": "pediatric-marshall",
   "metadata": {},
   "outputs": [
    {
     "name": "stdout",
     "output_type": "stream",
     "text": [
      "................\u001b[34m\n",
      "\n",
      "*** Sending Ctrl-C\n",
      "\n",
      "\u001b[0m"
     ]
    },
    {
     "name": "stderr",
     "output_type": "stream",
     "text": [
      "Zurückverfolgung (jüngste Aufforderung zuletzt):\n",
      "  Datei \"<stdin>\", Zeile 16, in <module>\n",
      "KeyboardInterrupt: \n"
     ]
    }
   ],
   "source": [
    "# Aufgabe: Wechselblinker\n",
    "\n",
    "import board\n",
    "from digitalio import DigitalInOut, Direction, Pull\n",
    "\n",
    "# LED setup. ! IO0 = Boot Mode, Wenn LOW bei Boarstart => Bootmodus\n",
    "led1 = DigitalInOut(board.IO1)\n",
    "led1.direction = Direction.OUTPUT\n",
    "\n",
    "led2 = DigitalInOut(board.IO2)\n",
    "led2.direction = Direction.OUTPUT\n",
    "\n",
    "while True:\n",
    "    led1.value = led2.value\n",
    "    led2.value = not led2.value\n",
    "    time.sleep(1)"
   ]
  },
  {
   "cell_type": "code",
   "execution_count": 55,
   "id": "blessed-hormone",
   "metadata": {},
   "outputs": [
    {
     "name": "stdout",
     "output_type": "stream",
     "text": [
      "Already initialised\n",
      "Already initialised\n",
      "...................\u001b[34m\n",
      "\n",
      "*** Sending Ctrl-C\n",
      "\n",
      "\u001b[0m"
     ]
    },
    {
     "name": "stderr",
     "output_type": "stream",
     "text": [
      "Zurückverfolgung (jüngste Aufforderung zuletzt):\n",
      "  Datei \"<stdin>\", Zeile 37, in <module>\n",
      "KeyboardInterrupt: \n"
     ]
    }
   ],
   "source": [
    "# Aufgabe Zwei Taster\n",
    "\n",
    "import board\n",
    "from digitalio import DigitalInOut, Direction, Pull\n",
    "import time\n",
    "\n",
    "# LED und Button Setup\n",
    "# Zwei Methoden um den \"ValueError\" Fehler beim erneuten Initialisieren zu umgehen\n",
    "\n",
    "if ('led1' not in locals()):\n",
    "    led1 = DigitalInOut(board.IO1)\n",
    "    led1.direction = Direction.OUTPUT\n",
    "\n",
    "if ('led2' not in locals()):\n",
    "    led2 = DigitalInOut(board.IO2)\n",
    "    led2.direction = Direction.OUTPUT\n",
    "\n",
    "try:\n",
    "    button1 = DigitalInOut(board.IO3)\n",
    "    button1.direction = Direction.INPUT\n",
    "    button1.pull = Pull.DOWN\n",
    "except ValueError:\n",
    "    print(\"Already initialised\")\n",
    "    \n",
    "try:\n",
    "    button2 = DigitalInOut(board.IO4)\n",
    "    button2.direction = Direction.INPUT\n",
    "    button2.pull = Pull.UP\n",
    "except ValueError:\n",
    "    print(\"Already initialised\")\n",
    "    \n",
    "#sleep(0.X) statt sleep_ms()\n",
    "while True:\n",
    "    if button1.value == True:\n",
    "        led1.value = not led1.value\n",
    "        while button1.value == True:\n",
    "            time.sleep(0.1)\n",
    "    \n",
    "    if button2.value == 0:\n",
    "        led2.value = not led2.value\n",
    "        while button2.value == 0:\n",
    "            time.sleep(0.1)\n"
   ]
  },
  {
   "cell_type": "code",
   "execution_count": 15,
   "id": "proved-junior",
   "metadata": {},
   "outputs": [
    {
     "name": "stdout",
     "output_type": "stream",
     "text": [
      "\u001b[34mattempt to exit paste mode\n",
      "\u001b[0m\u001b[34m[\\r\\x03\\x02] \u001b[0mb'\\r\\nMicroPython v1.14 on 2021-02-05; Raspberry Pi Pico with RP2040\\r\\nType \"help()\" for more information.\\r\\n>>> '\u001b[34m\n",
      "Closing serial Serial<id=0x1f807f2f610, open=True>(port='COM13', baudrate=115200, bytesize=8, parity='N', stopbits=1, timeout=0.5, xonxoff=False, rtscts=False, dsrdtr=False)\n",
      "\u001b[0m"
     ]
    }
   ],
   "source": [
    "%disconnect"
   ]
  }
 ],
 "metadata": {
  "kernelspec": {
   "display_name": "MicroPython - USB",
   "language": "micropython",
   "name": "micropython"
  },
  "language_info": {
   "codemirror_mode": "python",
   "file_extension": ".py",
   "mimetype": "text/python",
   "name": "micropython"
  },
  "toc-autonumbering": false,
  "toc-showmarkdowntxt": false
 },
 "nbformat": 4,
 "nbformat_minor": 5
}
