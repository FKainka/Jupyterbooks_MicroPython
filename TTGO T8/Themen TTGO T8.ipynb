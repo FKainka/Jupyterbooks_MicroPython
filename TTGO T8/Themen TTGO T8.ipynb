{
 "cells": [
  {
   "cell_type": "markdown",
   "id": "sporting-intention",
   "metadata": {},
   "source": [
    "# Thenen für das TTGO T8 Board\n",
    "\n",
    "* *__Board: TTGO T8 ESP32-S2__*\n",
    "* *__Firmware: CircuitPyhton 6.2.0-beta.4__*\n",
    "* *__Kernel: MicroPyhton - USB__*\n"
   ]
  },
  {
   "cell_type": "code",
   "execution_count": 9,
   "id": "explicit-scheduling",
   "metadata": {},
   "outputs": [
    {
     "name": "stdout",
     "output_type": "stream",
     "text": [
      "\u001b[34mConnecting to --port=COM14 --baud=115200 \u001b[0m\n",
      "raw REPL; CTRL-B to exit\n",
      ">\u001b[34mReady.\n",
      "\u001b[0m"
     ]
    }
   ],
   "source": [
    "%serialconnect"
   ]
  },
  {
   "cell_type": "code",
   "execution_count": 2,
   "id": "retired-bronze",
   "metadata": {},
   "outputs": [
    {
     "name": "stdout",
     "output_type": "stream",
     "text": [
      "__main__          canio             json              sharpdisplay\n",
      "_bleio            collections       math              socketpool\n",
      "_pixelbuf         countio           microcontroller   ssl\n",
      "adafruit_bus_device                 digitalio         micropython       storage\n",
      "alarm             displayio         msgpack           struct\n",
      "analogio          dualbank          neopixel_write    supervisor\n",
      "array             errno             os                sys\n",
      "audiobusio        espidf            ps2io             terminalio\n",
      "audiocore         fontio            pulseio           time\n",
      "binascii          framebufferio     pwmio             touchio\n",
      "bitbangio         frequencyio       random            ulab\n",
      "bitmaptools       gamepad           re                usb_hid\n",
      "board             gc                rotaryio          vectorio\n",
      "builtins          io                rtc               watchdog\n",
      "busio             ipaddress         sdcardio          wifi\n",
      "und alle Module im Dateisystem \n"
     ]
    }
   ],
   "source": [
    "help(\"modules\")\n"
   ]
  },
  {
   "cell_type": "code",
   "execution_count": 26,
   "id": "derived-polymer",
   "metadata": {},
   "outputs": [
    {
     "name": "stdout",
     "output_type": "stream",
     "text": [
      "object <module 'gc'> ist vom Type module\n",
      "  __name__ -- gc\n",
      "  collect -- <function>\n",
      "  disable -- <function>\n",
      "  enable -- <function>\n",
      "  isenabled -- <function>\n",
      "  mem_free -- <function>\n",
      "  mem_alloc -- <function>\n",
      "8175504\n"
     ]
    }
   ],
   "source": [
    "# extra großer Speicher\n",
    "import gc \n",
    "help(gc)\n",
    "print(gc.mem_free())"
   ]
  },
  {
   "cell_type": "code",
   "execution_count": 27,
   "id": "reverse-yemen",
   "metadata": {},
   "outputs": [],
   "source": [
    "# USB HID etc geschichten\n",
    "import gamepad\n",
    "help(gamepad)"
   ]
  },
  {
   "cell_type": "code",
   "execution_count": 56,
   "id": "atomic-worse",
   "metadata": {},
   "outputs": [],
   "source": [
    "import touchio\n",
    "help(touchio)"
   ]
  },
  {
   "cell_type": "code",
   "execution_count": 66,
   "id": "dying-enemy",
   "metadata": {},
   "outputs": [
    {
     "name": "stdout",
     "output_type": "stream",
     "text": [
      "object <TouchIn> ist vom Type TouchIn\n",
      "  __enter__ -- <function>\n",
      "  __exit__ -- <function>\n",
      "  deinit -- <function>\n",
      "  value -- <property>\n",
      "  raw_value -- <property>\n",
      "  threshold -- <property>\n",
      "True\n",
      "65535\n",
      "65535\n",
      "65535\n",
      "65535\n",
      "65535\n",
      "65535\n",
      "65535\n",
      "65535\n",
      "65535\n",
      "65535\n",
      ".65535\n",
      "65535\n",
      "65535\n",
      "65535\n",
      "65535\n",
      "65535\n",
      "65535\n",
      "65535\n",
      "65535\n",
      "65535\n",
      ".65535\n",
      "65535\n",
      "65535\n",
      "65535\n",
      "65535\n",
      "65535\n",
      "65535\n",
      "65535\n",
      "\u001b[34m\n",
      "\n",
      "*** Sending Ctrl-C\n",
      "\n",
      "\u001b[0m5535\n"
     ]
    },
    {
     "name": "stderr",
     "output_type": "stream",
     "text": [
      "Zurückverfolgung (jüngste Aufforderung zuletzt):\n",
      "  Datei \"<stdin>\", Zeile 20, in <module>\n",
      "KeyboardInterrupt: \n"
     ]
    }
   ],
   "source": [
    "import board, touchio, time\n",
    "\n",
    "try:\n",
    "    touch_IO1 = touchio.TouchIn(board.IO1)  # Not a touch pin on Trinket M0!\n",
    "    touch_IO2 = touchio.TouchIn(board.IO2)  # Not a touch pin on Trinket M0!\n",
    "except ValueError:\n",
    "    pass\n",
    "    \n",
    "help(touch_IO1)\n",
    "print(touch_IO1.value)\n",
    "\n",
    "while True:\n",
    "    #if touch_IO1.value:\n",
    "    #    print(\"Touched 1!\")\n",
    "    #if touch_IO2.value:\n",
    "    #    print(\"Touched 2!\")\n",
    "    #time.sleep(0.05)\n",
    "    print(touch_IO1.raw_value)\n",
    "    time.sleep(1)"
   ]
  },
  {
   "cell_type": "code",
   "execution_count": 27,
   "id": "sapphire-lesbian",
   "metadata": {},
   "outputs": [],
   "source": [
    "import board\n",
    "import touchio\n",
    " \n",
    "touch_pad = board.A0  # Will not work for Circuit Playground Express!\n",
    "# touch_pad = board.A1  # For Circuit Playground Express\n",
    " \n",
    "touch = touchio.TouchIn(touch_pad)\n",
    " \n",
    "while True:\n",
    "    if touch.value:\n",
    "        print(\"Touched!\")\n",
    "    time.sleep(0.05)"
   ]
  },
  {
   "cell_type": "code",
   "execution_count": 27,
   "id": "proper-scene",
   "metadata": {},
   "outputs": [],
   "source": []
  },
  {
   "cell_type": "code",
   "execution_count": 54,
   "id": "major-strip",
   "metadata": {},
   "outputs": [
    {
     "name": "stdout",
     "output_type": "stream",
     "text": [
      "object <module 'os'> ist vom Type module\n",
      "  __name__ -- os\n",
      "  uname -- <function>\n",
      "  chdir -- <function>\n",
      "  getcwd -- <function>\n",
      "  listdir -- <function>\n",
      "  mkdir -- <function>\n",
      "  remove -- <function>\n",
      "  rename -- <function>\n",
      "  rmdir -- <function>\n",
      "  stat -- <function>\n",
      "  statvfs -- <function>\n",
      "  unlink -- <function>\n",
      "  sync -- <function>\n",
      "  urandom -- <function>\n",
      "  sep -- /\n",
      "['.fseventsd', '.metadata_never_index', '.Trashes', 'code.py', 'lib', 'boot_out.txt', 'System Volume Information']\n",
      "None\n",
      "['adafruit_display_text']\n"
     ]
    }
   ],
   "source": [
    "# allgmeine zum Filesystem\n",
    "import os\n",
    "help(os)\n",
    "os.chdir(\"/\")\n",
    "print(os.listdir())\n",
    "print(os.chdir(\"lib\"))\n",
    "print(os.listdir())\n",
    "os.chdir(\"..\")"
   ]
  },
  {
   "cell_type": "code",
   "execution_count": 45,
   "id": "matched-independence",
   "metadata": {},
   "outputs": [
    {
     "name": "stdout",
     "output_type": "stream",
     "text": [
      "object <module 'microcontroller'> ist vom Type module\n",
      "  __name__ -- microcontroller\n",
      "  cpu -- <Processor>\n",
      "  delay_us -- <function>\n",
      "  disable_interrupts -- <function>\n",
      "  enable_interrupts -- <function>\n",
      "  on_next_reset -- <function>\n",
      "  reset -- <function>\n",
      "  nvm -- <ByteArray>\n",
      "  watchdog -- <WatchDogTimer>\n",
      "  ResetReason -- <class 'ResetReason'>\n",
      "  RunMode -- <class 'RunMode'>\n",
      "  Pin -- <class 'Pin'>\n",
      "  pin -- <module ''>\n",
      "  Processor -- <class 'Processor'>\n",
      "object <class 'Pin'> ist vom Type type\n",
      "object <class 'Processor'> ist vom Type type\n",
      "  frequency -- <property>\n",
      "  reset_reason -- <property>\n",
      "  temperature -- <property>\n",
      "  uid -- <property>\n",
      "  voltage -- <property>\n",
      "32.9892\n"
     ]
    }
   ],
   "source": [
    "import microcontroller\n",
    "\n",
    "help(microcontroller)\n",
    "help(microcontroller.Pin)\n",
    "dir(microcontroller.Pin)\n",
    "help(microcontroller.Processor)\n",
    "print(microcontroller.cpu.temperature)"
   ]
  },
  {
   "cell_type": "code",
   "execution_count": 22,
   "id": "organizational-personal",
   "metadata": {},
   "outputs": [
    {
     "name": "stdout",
     "output_type": "stream",
     "text": [
      "object <Display> ist vom Type Display\n",
      "  show -- <function>\n",
      "  refresh -- <function>\n",
      "  fill_row -- <function>\n",
      "  auto_refresh -- <property>\n",
      "  brightness -- <property>\n",
      "  auto_brightness -- <property>\n",
      "  width -- <property>\n",
      "  height -- <property>\n",
      "  rotation -- <property>\n",
      "  bus -- <property>\n",
      "object <module 'displayio'> ist vom Type module\n",
      "  __name__ -- displayio\n",
      "  Bitmap -- <class 'Bitmap'>\n",
      "  ColorConverter -- <class 'ColorConverter'>\n",
      "  Display -- <class 'Display'>\n",
      "  EPaperDisplay -- <class 'EPaperDisplay'>\n",
      "  Group -- <class 'Group'>\n",
      "  OnDiskBitmap -- <class 'OnDiskBitmap'>\n",
      "  Palette -- <class 'Palette'>\n",
      "  Shape -- <class 'Shape'>\n",
      "  TileGrid -- <class 'TileGrid'>\n",
      "  FourWire -- <class 'FourWire'>\n",
      "  I2CDisplay -- <class 'I2CDisplay'>\n",
      "  ParallelBus -- <class 'ParallelBus'>\n",
      "  release_displays -- <function>\n",
      "object <class 'OnDiskBitmap'> ist vom Type type\n",
      "  height -- <property>\n",
      "  width -- <property>\n",
      "object <module 'terminalio'> ist vom Type module\n",
      "  __name__ -- terminalio\n",
      "  Terminal -- <class 'Terminal'>\n",
      "  FONT -- <BuiltinFont>\n"
     ]
    }
   ],
   "source": [
    "from board import DISPLAY as display\n",
    "import displayio\n",
    "help(display)\n",
    "help(displayio)\n",
    "help(displayio.OnDiskBitmap)\n",
    "import terminalio\n",
    "help(terminalio)"
   ]
  },
  {
   "cell_type": "code",
   "execution_count": 16,
   "id": "higher-screen",
   "metadata": {},
   "outputs": [],
   "source": [
    "# Display Test\n",
    "# zu installierende Libraries: \n",
    "#   adafruit_display_text\n",
    "\n",
    "import board\n",
    "import terminalio\n",
    "import displayio\n",
    "from adafruit_display_text import label\n",
    "#from adafruit_st7789 import ST7789\n",
    "from board import DISPLAY as display\n",
    "\n",
    "# First set some parameters used for shapes and text\n",
    "BORDER = 20\n",
    "FONTSCALE = 2\n",
    "BACKGROUND_COLOR = 0x00FF00  # Bright Green\n",
    "FOREGROUND_COLOR = 0xAA0088  # Purple\n",
    "TEXT_COLOR = 0xFFFF00\n",
    "\n",
    "# Make the display context\n",
    "splash = displayio.Group(max_size=10)\n",
    "display.show(splash)\n",
    "\n",
    "color_bitmap = displayio.Bitmap(display.width, display.height, 1)\n",
    "color_palette = displayio.Palette(1)\n",
    "color_palette[0] = BACKGROUND_COLOR\n",
    "\n",
    "bg_sprite = displayio.TileGrid(color_bitmap, pixel_shader=color_palette, x=0, y=0)\n",
    "splash.append(bg_sprite)\n",
    "\n",
    "# Draw a smaller inner rectangle\n",
    "inner_bitmap = displayio.Bitmap(\n",
    "    display.width - BORDER * 2, display.height - BORDER * 2, 1\n",
    ")\n",
    "inner_palette = displayio.Palette(1)\n",
    "inner_palette[0] = FOREGROUND_COLOR\n",
    "inner_sprite = displayio.TileGrid(\n",
    "    inner_bitmap, pixel_shader=inner_palette, x=BORDER, y=BORDER\n",
    ")\n",
    "splash.append(inner_sprite)\n",
    "\n",
    "# Draw a label\n",
    "text = \"Hello World!\"\n",
    "text_area = label.Label(terminalio.FONT, text=text, color=TEXT_COLOR)\n",
    "text_width = text_area.bounding_box[2] * FONTSCALE\n",
    "text_group = displayio.Group(\n",
    "    max_size=10,\n",
    "    scale=FONTSCALE,\n",
    "    x=display.width // 2 - text_width // 2,\n",
    "    y=display.height // 2,\n",
    ")\n",
    "text_group.append(text_area)  # Subgroup for text scaling\n",
    "splash.append(text_group)"
   ]
  },
  {
   "cell_type": "code",
   "execution_count": null,
   "id": "private-delaware",
   "metadata": {},
   "outputs": [],
   "source": []
  }
 ],
 "metadata": {
  "kernelspec": {
   "display_name": "MicroPython - USB",
   "language": "micropython",
   "name": "micropython"
  },
  "language_info": {
   "codemirror_mode": "python",
   "file_extension": ".py",
   "mimetype": "text/python",
   "name": "micropython"
  }
 },
 "nbformat": 4,
 "nbformat_minor": 5
}
