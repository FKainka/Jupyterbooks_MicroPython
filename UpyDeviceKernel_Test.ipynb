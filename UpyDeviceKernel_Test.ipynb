{
 "cells": [
  {
   "cell_type": "code",
   "execution_count": 12,
   "id": "instrumental-accommodation",
   "metadata": {
    "tags": []
   },
   "outputs": [
    {
     "name": "stdout",
     "output_type": "stream",
     "text": [
      "\u001b[31mSerial Port COM5 not availalbe\u001b[0m"
     ]
    }
   ],
   "source": [
    "%serialconnect COM5 115200"
   ]
  },
  {
   "cell_type": "code",
   "execution_count": 13,
   "id": "shared-depth",
   "metadata": {
    "tags": []
   },
   "outputs": [
    {
     "name": "stdout",
     "output_type": "stream",
     "text": [
      "__main__          canio             json              sharpdisplay\n",
      "_bleio            collections       math              socketpool\n",
      "_pixelbuf         countio           microcontroller   ssl\n",
      "adafruit_bus_device                 digitalio         micropython       storage\n",
      "alarm             displayio         msgpack           struct\n",
      "analogio          dualbank          neopixel_write    supervisor\n",
      "array             errno             os                sys\n",
      "audiobusio        espidf            ps2io             terminalio\n",
      "audiocore         fontio            pulseio           time\n",
      "binascii          framebufferio     pwmio             touchio\n",
      "bitbangio         frequencyio       random            ulab\n",
      "bitmaptools       gamepad           re                usb_hid\n",
      "board             gc                rotaryio          vectorio\n",
      "builtins          io                rtc               watchdog\n",
      "busio             ipaddress         sdcardio          wifi\n",
      "und alle Module im Dateisystem \n"
     ]
    }
   ],
   "source": [
    "help(\"modules\")"
   ]
  },
  {
   "cell_type": "code",
   "execution_count": 10,
   "id": "billion-auckland",
   "metadata": {
    "tags": []
   },
   "outputs": [
    {
     "name": "stdout",
     "output_type": "stream",
     "text": [
      "object <module 'sys'> ist vom Type module\n",
      "  __name__ -- sys\n",
      "  path -- ['', '/', '.frozen', '/lib']\n",
      "  argv -- []\n",
      "  version -- 3.4.0\n",
      "  version_info -- (3, 4, 0)\n",
      "  implementation -- (name='circuitpython', version=(6, 2, 0))\n",
      "  platform -- Espressif ESP32-S2\n",
      "  byteorder -- little\n",
      "  maxsize -- 2147483647\n",
      "  exit -- <function>\n",
      "  stdin -- <io.FileIO 0>\n",
      "  stdout -- <io.FileIO 1>\n",
      "  stderr -- <io.FileIO 2>\n",
      "  modules -- {}\n",
      "  print_exception -- <function>\n"
     ]
    }
   ],
   "source": [
    "import sys\n",
    "help(sys)"
   ]
  },
  {
   "cell_type": "code",
   "execution_count": 15,
   "id": "fundamental-depression",
   "metadata": {},
   "outputs": [
    {
     "name": "stdout",
     "output_type": "stream",
     "text": [
      "object <module 'displayio'> ist vom Type module\n",
      "  __name__ -- displayio\n",
      "  Bitmap -- <class 'Bitmap'>\n",
      "  ColorConverter -- <class 'ColorConverter'>\n",
      "  Display -- <class 'Display'>\n",
      "  EPaperDisplay -- <class 'EPaperDisplay'>\n",
      "  Group -- <class 'Group'>  OnDiskBitmap -- <class 'OnDiskBitmap'>\n",
      "  Palette -- <class 'Palette'>\n",
      "  Shape -- <class 'Shape'>\n",
      "  TileGrid -- <class 'TileGrid'>\n",
      "  FourWire -- <class 'FourWire'>\n",
      "  I2CDisplay -- <class 'I2CDisplay'>\n",
      "  ParallelBus -- <class 'ParallelBus'>\n",
      "  release_displays -- <function>"
     ]
    }
   ],
   "source": [
    "import displayio\n",
    "help(displayio)"
   ]
  },
  {
   "cell_type": "code",
   "execution_count": 9,
   "id": "opened-liquid",
   "metadata": {},
   "outputs": [
    {
     "name": "stdout",
     "output_type": "stream",
     "text": [
      "object <module 'builtins'> ist vom Type module\n",
      "  __name__ -- builtins  __build_class__ -- <function>\n",
      "  __import__ -- <function>\n",
      "  __repl_print__ -- <function>\n",
      "  bool -- <class 'bool'>\n",
      "  bytes -- <class 'bytes'>\n",
      "  bytearray -- <class 'bytearray'>\n",
      "  complex -- <class 'complex'>\n",
      "  dict -- <class 'dict'>\n",
      "  enumerate -- <class 'enumerate'>  filter -- <class 'filter'>\n",
      "  float -- <class 'float'>\n",
      "  frozenset -- <class 'frozenset'>\n",
      "  int -- <class 'int'>\n",
      "  list -- <class 'list'>\n",
      "  map -- <class 'map'>\n",
      "  memoryview -- <class 'memoryview'>\n",
      "  object -- <class 'object'>  property -- <class 'property'>\n",
      "  range -- <class 'range'>\n",
      "  reversed -- <class 'reversed'>\n",
      "  set -- <class 'set'>\n",
      "  slice -- <class 'slice'>\n",
      "  str -- <class 'str'>\n",
      "  super -- <class 'super'>\n",
      "  tuple -- <class 'tuple'>\n",
      "  type -- <class 'type'>\n",
      "  zip -- <class 'zip'>\n",
      "  classmethod -- <class 'classmethod'>\n",
      "  staticmethod -- <class 'staticmethod'>\n",
      "  Ellipsis -- Ellipsis\n",
      "  abs -- <function>\n",
      "  all -- <function>\n",
      "  any -- <function>\n",
      "  bin -- <function>\n",
      "  callable -- <function>\n",
      "  chr -- <function>\n",
      "  delattr -- <function>\n",
      "  dir -- <function>\n",
      "  divmod -- <function>\n",
      "  eval -- <function>  exec -- <function>  getattr -- <function>\n",
      "  setattr -- <function>\n",
      "  globals -- <function>\n",
      "  hasattr -- <function>\n",
      "  hash -- <function>\n",
      "  help -- <function>\n",
      "  hex -- <function>\n",
      "  id -- <function>\n",
      "  input -- <function>  isinstance -- <function>\n",
      "  issubclass -- <function>\n",
      "  iter -- <function>  len -- <function>\n",
      "  locals -- <function>\n",
      "  max -- <function>\n",
      "  min -- <function>\n",
      "  next -- <function>\n",
      "  oct -- <function>\n",
      "  ord -- <function>\n",
      "  pow -- <function>\n",
      "  print -- <function>\n",
      "  repr -- <function>\n",
      "  round -- <function>\n",
      "  sorted -- <function>\n",
      "  sum -- <function>\n",
      "  BaseException -- <class 'BaseException'>\n",
      "  ArithmeticError -- <class 'ArithmeticError'>  AssertionError -- <class 'AssertionError'>\n",
      "  AttributeError -- <class 'AttributeError'>\n",
      "  EOFError -- <class 'EOFError'>\n",
      "  Exception -- <class 'Exception'>  GeneratorExit -- <class 'GeneratorExit'>\n",
      "  ImportError -- <class 'ImportError'>\n",
      "  IndentationError -- <class 'IndentationError'>\n",
      "  IndexError -- <class 'IndexError'>\n",
      "  KeyboardInterrupt -- <class 'KeyboardInterrupt'>\n",
      "  ReloadException -- <class 'ReloadException'>  KeyError -- <class 'KeyError'>\n",
      "  LookupError -- <class 'LookupError'>\n",
      "  MemoryError -- <class 'MemoryError'>\n",
      "  MpyError -- <class 'MpyError'>\n",
      "  NameError -- <class 'NameError'>\n",
      "  NotImplementedError -- <class 'NotImplementedError'>  OSError -- <class 'OSError'>\n",
      "  TimeoutError -- <class 'TimeoutError'>\n",
      "  ConnectionError -- <class 'ConnectionError'>  BrokenPipeError -- <class 'BrokenPipeError'>\n",
      "  OverflowError -- <class 'OverflowError'>\n",
      "  RuntimeError -- <class 'RuntimeError'>\n",
      "  StopAsyncIteration -- <class 'StopAsyncIteration'>\n",
      "  StopIteration -- <class 'StopIteration'>  SyntaxError -- <class 'SyntaxError'>\n",
      "  SystemExit -- <class 'SystemExit'>\n",
      "  TypeError -- <class 'TypeError'>\n",
      "  UnicodeError -- <class 'UnicodeError'>\n",
      "  ValueError -- <class 'ValueError'>\n",
      "  ZeroDivisionError -- <class 'ZeroDivisionError'>\n",
      "  help -- <function>\n",
      "  input -- <function>  open -- <function>\n"
     ]
    }
   ],
   "source": [
    "import builtins\n",
    "help(builtins)"
   ]
  },
  {
   "cell_type": "code",
   "execution_count": 16,
   "id": "moral-baptist",
   "metadata": {},
   "outputs": [
    {
     "name": "stdout",
     "output_type": "stream",
     "text": [
      "\u001b[31mDevice Espressif ESP32-S2 disconnected.\u001b[0m"
     ]
    }
   ],
   "source": [
    "%disconnect"
   ]
  },
  {
   "cell_type": "code",
   "execution_count": null,
   "id": "danish-concept",
   "metadata": {},
   "outputs": [],
   "source": []
  }
 ],
 "metadata": {
  "kernelspec": {
   "display_name": "Python 3",
   "language": "python",
   "name": "python3"
  },
  "language_info": {
   "codemirror_mode": {
    "name": "ipython",
    "version": 3
   },
   "file_extension": ".py",
   "mimetype": "text/x-python",
   "name": "python",
   "nbconvert_exporter": "python",
   "pygments_lexer": "ipython3",
   "version": "3.9.2"
  }
 },
 "nbformat": 4,
 "nbformat_minor": 5
}
