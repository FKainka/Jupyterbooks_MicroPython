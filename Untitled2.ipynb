{
 "cells": [
  {
   "cell_type": "code",
   "execution_count": 1,
   "id": "expired-temple",
   "metadata": {},
   "outputs": [
    {
     "name": "stdout",
     "output_type": "stream",
     "text": [
      "\u001b[31mNo serial connected\n",
      "\u001b[0m  %serialconnect to connect\n",
      "  %esptool to flash the device\n",
      "  %lsmagic to list commands"
     ]
    }
   ],
   "source": [
    "##### Board: RPi Pico\n",
    "##### Firmware: Micropython 1.14 (2021-02-05)\n",
    "##### Kernel: MicroPyhton - USB \n",
    "\n",
    "# Digital I/O\n",
    "\n"
   ]
  },
  {
   "cell_type": "code",
   "execution_count": 2,
   "id": "accepting-asset",
   "metadata": {},
   "outputs": [],
   "source": [
    "# Wichtiger erster Notebook Befehl. COM-Port anpassen!\n",
    "%serialconnect --port=COM13"
   ]
  },
  {
   "cell_type": "code",
   "execution_count": 39,
   "id": "jewish-estate",
   "metadata": {},
   "outputs": [
    {
     "name": "stdout",
     "output_type": "stream",
     "text": [
      "%capture [--quiet] [--QUIET] outputfilename\n",
      "    records output to a file\n",
      "\n",
      "%comment\n",
      "    print this into output\n",
      "\n",
      "%disconnect [--raw]\n",
      "    disconnects from web/serial connection\n",
      "\n",
      "%esptool [--port PORT] {erase,esp32,esp8266} [binfile]\n",
      "    commands for flashing your esp-device\n",
      "\n",
      "%fetchfile [--binary] [--print] [--load] [--quiet] [--QUIET] sourcefilename [destinationfilename]\n",
      "    fetch and save a file from the device\n",
      "\n",
      "%ls [--recurse] [dirname]\n",
      "    list files on the device\n",
      "\n",
      "%lsmagic\n",
      "    list magic commands\n",
      "\n",
      "%mpy-cross [--set-exe SET_EXE] [pyfile]\n",
      "    cross-compile a .py file to a .mpy file\n",
      "\n",
      "%readbytes [--binary]\n",
      "    does serial.read_all()\n",
      "\n",
      "%rebootdevice\n",
      "    reboots device\n",
      "\n",
      "%sendtofile [--append] [--mkdir] [--binary] [--execute] [--source [SOURCE]] [--quiet] [--QUIET]\n",
      "                   [destinationfilename]\n",
      "    send cell contents or file/direcectory to the device\n",
      "\n",
      "%serialconnect [--raw] [--port PORT] [--baud BAUD] [--verbose]\n",
      "    connects to a device over USB wire\n",
      "\n",
      "%socketconnect [--raw] ipnumber portnumber\n",
      "    connects to a socket of a device over wifi\n",
      "\n",
      "%suppressendcode\n",
      "    doesn't send x04 or wait to read after sending the contents of the cell\n",
      "  (assists for debugging using %writebytes and %readbytes)\n",
      "\n",
      "%websocketconnect [--raw] [--password PASSWORD] [--verbose] [websocketurl]\n",
      "    connects to the webREPL websocket of an ESP8266 over wifi\n",
      "    websocketurl defaults to ws://192.168.4.1:8266 but be sure to be connected\n",
      "\n",
      "%writebytes [--binary] [--verbose] stringtosend\n",
      "    does serial.write() of the python quoted string given\n",
      "\n",
      "%%writefile [--append] [--execute] destinationfilename\n",
      "    write contents of cell to a file\n",
      "\n"
     ]
    }
   ],
   "source": [
    "# Liste von Kernel-Befehlen\n",
    "%lsmagic"
   ]
  },
  {
   "cell_type": "code",
   "execution_count": 47,
   "id": "neutral-matthew",
   "metadata": {
    "tags": []
   },
   "outputs": [
    {
     "name": "stdout",
     "output_type": "stream",
     "text": [
      "__main__          gc                uasyncio/event    ujson\n",
      "_boot             machine           uasyncio/funcs    uos\n",
      "_onewire          math              uasyncio/lock     urandom\n",
      "_rp2              micropython       uasyncio/stream   ure\n",
      "_thread           onewire           ubinascii         uselect\n",
      "_uasyncio         rp2               ucollections      ustruct\n",
      "builtins          uarray            uctypes           usys\n",
      "ds18x20           uasyncio/__init__ uhashlib          utime\n",
      "framebuf          uasyncio/core     uio               uzlib\n",
      "Plus any modules on the filesystem\n",
      "object <module 'umachine'> is of type module\n",
      "  __name__ -- umachine\n",
      "  unique_id -- <function>\n",
      "  soft_reset -- <function>\n",
      "  reset -- <function>\n",
      "  reset_cause -- <function>\n",
      "  bootloader -- <function>\n",
      "  freq -- <function>\n",
      "  idle -- <function>\n",
      "  lightsleep -- <function>\n",
      "  deepsleep -- <function>\n",
      "  disable_irq -- <function>\n",
      "  enable_irq -- <function>\n",
      "  time_pulse_us -- <function>\n",
      "  mem8 -- <8-bit memory>\n",
      "  mem16 -- <16-bit memory>\n",
      "  mem32 -- <32-bit memory>\n",
      "  ADC -- <class 'ADC'>\n",
      "  I2C -- <class 'I2C'>\n",
      "  SoftI2C -- <class 'SoftI2C'>\n",
      "  Pin -- <class 'Pin'>\n",
      "  PWM -- <class 'PWM'>\n",
      "  SPI -- <class 'SPI'>\n",
      "  SoftSPI -- <class 'SoftSPI'>\n",
      "  Timer -- <class 'Timer'>\n",
      "  UART -- <class 'UART'>\n",
      "  WDT -- <class 'WDT'>\n",
      "  PWRON_RESET -- 1\n",
      "  WDT_RESET -- 3\n",
      "object <class 'Pin'> is of type type\n",
      "  init -- <function>\n",
      "  value -- <function>\n",
      "  low -- <function>\n",
      "  high -- <function>\n",
      "  off -- <function>\n",
      "  on -- <function>\n",
      "  toggle -- <function>\n",
      "  irq -- <function>\n",
      "  IN -- 0\n",
      "  OUT -- 1\n",
      "  OPEN_DRAIN -- 2\n",
      "  ALT -- 3\n",
      "  PULL_UP -- 1\n",
      "  PULL_DOWN -- 2\n",
      "  IRQ_RISING -- 8\n",
      "  IRQ_FALLING -- 4\n",
      "object <class 'Pin'> is of type type\n",
      "  init -- <function>\n",
      "  value -- <function>\n",
      "  low -- <function>\n",
      "  high -- <function>\n",
      "  off -- <function>\n",
      "  on -- <function>\n",
      "  toggle -- <function>\n",
      "  irq -- <function>\n",
      "  IN -- 0\n",
      "  OUT -- 1\n",
      "  OPEN_DRAIN -- 2\n",
      "  ALT -- 3\n",
      "  PULL_UP -- 1\n",
      "  PULL_DOWN -- 2\n",
      "  IRQ_RISING -- 8\n",
      "  IRQ_FALLING -- 4\n"
     ]
    }
   ],
   "source": [
    "# Generelle Übersicht über verfügbare Module\n",
    "help(\"modules\")\n",
    "# Übersicht über die machine.Pin-Klasse\n",
    "help(machine)\n",
    "help(machine.Pin)\n",
    "from machine import Pin\n",
    "help(Pin)"
   ]
  },
  {
   "cell_type": "code",
   "execution_count": 14,
   "id": "enabling-broadway",
   "metadata": {},
   "outputs": [
    {
     "name": "stdout",
     "output_type": "stream",
     "text": [
      "1\n"
     ]
    }
   ],
   "source": [
    "# Initialisiere die Onboard-LED als Ausgang\n",
    "onboard_led = Pin(25, Pin.OUT)\n",
    "\n",
    "# Ausgabe des aktuellen Ausgangszustand\n",
    "print(onboard_led.value())\n",
    "onboard_led.high()"
   ]
  },
  {
   "cell_type": "code",
   "execution_count": 21,
   "id": "foreign-franchise",
   "metadata": {},
   "outputs": [
    {
     "name": "stdout",
     "output_type": "stream",
     "text": [
      "0\n"
     ]
    }
   ],
   "source": [
    "# Ausgabe des aktuellen Ausgangszustand\n",
    "onboard_led.toggle()\n",
    "print(onboard_led.value())"
   ]
  },
  {
   "cell_type": "code",
   "execution_count": 24,
   "id": "armed-seventh",
   "metadata": {},
   "outputs": [
    {
     "name": "stdout",
     "output_type": "stream",
     "text": [
      "1\n",
      "0\n"
     ]
    }
   ],
   "source": [
    "# Equivalente Möglichkeiten den Ausgangspin zu steuern\n",
    "onboard_led.value(1)\n",
    "print(onboard_led.value())\n",
    "onboard_led.off()\n",
    "print(onboard_led.value())"
   ]
  },
  {
   "cell_type": "code",
   "execution_count": 27,
   "id": "stretch-aircraft",
   "metadata": {},
   "outputs": [
    {
     "name": "stdout",
     "output_type": "stream",
     "text": [
      "object <module 'utime'> is of type module\n",
      "  __name__ -- utime\n",
      "  gmtime -- <function>\n",
      "  localtime -- <function>\n",
      "  mktime -- <function>\n",
      "  time -- <function>\n",
      "  time_ns -- <function>\n",
      "  sleep -- <function>\n",
      "  sleep_ms -- <function>\n",
      "  sleep_us -- <function>\n",
      "  ticks_ms -- <function>\n",
      "  ticks_us -- <function>\n",
      "  ticks_cpu -- <function>\n",
      "  ticks_add -- <function>\n",
      "  ticks_diff -- <function>\n"
     ]
    }
   ],
   "source": [
    "# Kurzer Blick auf das time-Modul\n",
    "import time\n",
    "help(time)"
   ]
  },
  {
   "cell_type": "code",
   "execution_count": 33,
   "id": "respiratory-cigarette",
   "metadata": {},
   "outputs": [
    {
     "name": "stdout",
     "output_type": "stream",
     "text": [
      "\u001b[34m\n",
      "\n",
      "*** Sending Ctrl-C\n",
      "\n",
      "\u001b[0m"
     ]
    },
    {
     "name": "stderr",
     "output_type": "stream",
     "text": [
      "Traceback (most recent call last):\n",
      "  File \"<stdin>\", line 4, in <module>\n",
      "KeyboardInterrupt: \n"
     ]
    }
   ],
   "source": [
    "# Blink Schleife\n",
    "while(True):\n",
    "    onboard_led.toggle()\n",
    "    time.sleep(1)\n",
    "\n",
    "# Um Schleife zu verlassen: In der Menüleiste \"Interrupt the Kernel\""
   ]
  },
  {
   "cell_type": "markdown",
   "id": "adapted-cabinet",
   "metadata": {},
   "source": [
    "## Aufgabe: "
   ]
  },
  {
   "cell_type": "code",
   "execution_count": 31,
   "id": "initial-calvin",
   "metadata": {},
   "outputs": [
    {
     "name": "stdout",
     "output_type": "stream",
     "text": [
      "%capture [--quiet] [--QUIET] outputfilename\n",
      "    records output to a file\n",
      "\n",
      "%comment\n",
      "    print this into output\n",
      "\n",
      "%disconnect [--raw]\n",
      "    disconnects from web/serial connection\n",
      "\n",
      "%esptool [--port PORT] {erase,esp32,esp8266} [binfile]\n",
      "    commands for flashing your esp-device\n",
      "\n",
      "%fetchfile [--binary] [--print] [--load] [--quiet] [--QUIET] sourcefilename [destinationfilename]\n",
      "    fetch and save a file from the device\n",
      "\n",
      "%ls [--recurse] [dirname]\n",
      "    list files on the device\n",
      "\n",
      "%lsmagic\n",
      "    list magic commands\n",
      "\n",
      "%mpy-cross [--set-exe SET_EXE] [pyfile]\n",
      "    cross-compile a .py file to a .mpy file\n",
      "\n",
      "%readbytes [--binary]\n",
      "    does serial.read_all()\n",
      "\n",
      "%rebootdevice\n",
      "    reboots device\n",
      "\n",
      "%sendtofile [--append] [--mkdir] [--binary] [--execute] [--source [SOURCE]] [--quiet] [--QUIET]\n",
      "                   [destinationfilename]\n",
      "    send cell contents or file/direcectory to the device\n",
      "\n",
      "%serialconnect [--raw] [--port PORT] [--baud BAUD] [--verbose]\n",
      "    connects to a device over USB wire\n",
      "\n",
      "%socketconnect [--raw] ipnumber portnumber\n",
      "    connects to a socket of a device over wifi\n",
      "\n",
      "%suppressendcode\n",
      "    doesn't send x04 or wait to read after sending the contents of the cell\n",
      "  (assists for debugging using %writebytes and %readbytes)\n",
      "\n",
      "%websocketconnect [--raw] [--password PASSWORD] [--verbose] [websocketurl]\n",
      "    connects to the webREPL websocket of an ESP8266 over wifi\n",
      "    websocketurl defaults to ws://192.168.4.1:8266 but be sure to be connected\n",
      "\n",
      "%writebytes [--binary] [--verbose] stringtosend\n",
      "    does serial.write() of the python quoted string given\n",
      "\n",
      "%%writefile [--append] [--execute] destinationfilename\n",
      "    write contents of cell to a file\n",
      "\n"
     ]
    }
   ],
   "source": []
  },
  {
   "cell_type": "code",
   "execution_count": null,
   "id": "knowing-poverty",
   "metadata": {},
   "outputs": [],
   "source": []
  }
 ],
 "metadata": {
  "kernelspec": {
   "display_name": "MicroPython - USB",
   "language": "micropython",
   "name": "micropython"
  },
  "language_info": {
   "codemirror_mode": "python",
   "file_extension": ".py",
   "mimetype": "text/python",
   "name": "micropython"
  }
 },
 "nbformat": 4,
 "nbformat_minor": 5
}
