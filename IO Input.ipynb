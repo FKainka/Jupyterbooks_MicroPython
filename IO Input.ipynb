{
 "cells": [
  {
   "cell_type": "code",
   "execution_count": null,
   "metadata": {},
   "outputs": [],
   "source": [
    " %serialconnect --port=COM13"
   ]
  },
  {
   "cell_type": "code",
   "execution_count": null,
   "metadata": {},
   "outputs": [],
   "source": [
    "from machine import Pin, Signal\n",
    "import utime\n",
    "\n",
    "button = Pin(0, Pin.IN)\n",
    "\n",
    "state = button.value()\n",
    "print(state)\n",
    "\n",
    "while True:\n",
    "    new_state = button.value()\n",
    "    if state != new_state:\n",
    "        state = new_state\n",
    "        print(state)  "
   ]
  },
  {
   "cell_type": "code",
   "execution_count": null,
   "metadata": {},
   "outputs": [],
   "source": [
    "button = Signal(button, invert = True)\n",
    "\n",
    "state = button.value()\n",
    "print(state)\n",
    "\n",
    "while True:\n",
    "    new_state = button.value()\n",
    "    if state != new_state:\n",
    "        state = new_state\n",
    "        print(state)   "
   ]
  },
  {
   "cell_type": "code",
   "execution_count": 1,
   "metadata": {},
   "outputs": [
    {
     "name": "stdout",
     "output_type": "stream",
     "text": [
      "0\n",
      "\u001b[34m\n",
      "\n",
      "*** Sending Ctrl-C\n",
      "\n",
      "\u001b[0m"
     ]
    }
   ],
   "source": [
    "button2 = Pin(17, Pin.IN)\n",
    "\n",
    "\n",
    "state = button2.value()\n",
    "print(state)\n",
    "\n",
    "while True:\n",
    "    new_state = button2.value()\n",
    "    if state != new_state:\n",
    "        state = new_state\n",
    "        print(state)   "
   ]
  },
  {
   "cell_type": "code",
   "execution_count": 1,
   "metadata": {},
   "outputs": [
    {
     "name": "stdout",
     "output_type": "stream",
     "text": [
      "0\n",
      "1\n",
      "0\n",
      "1\n",
      "0\n",
      "1\n",
      "0\n",
      "1\n",
      "0\n",
      "1\n",
      "0\n",
      "1\n",
      "Comms Exception timeout waiting for first EOF reception"
     ]
    }
   ],
   "source": [
    "button2 = Signal(16, Pin.IN, Pin.PULL_UP, invert = True)\n",
    "\n",
    "state = button2.value()\n",
    "print(state)\n",
    "\n",
    "while True:\n",
    "    new_state = button2.value()\n",
    "    if state != new_state:\n",
    "        state = new_state\n",
    "        print(state)  "
   ]
  },
  {
   "cell_type": "code",
   "execution_count": null,
   "metadata": {},
   "outputs": [],
   "source": []
  },
  {
   "cell_type": "code",
   "execution_count": null,
   "metadata": {},
   "outputs": [],
   "source": [
    "%disconnect"
   ]
  },
  {
   "cell_type": "code",
   "execution_count": null,
   "metadata": {},
   "outputs": [],
   "source": []
  }
 ],
 "metadata": {
  "kernelspec": {
   "display_name": "Python 3",
   "language": "python",
   "name": "python3"
  },
  "language_info": {
   "codemirror_mode": {
    "name": "ipython",
    "version": 3
   },
   "file_extension": ".py",
   "mimetype": "text/x-python",
   "name": "python",
   "nbconvert_exporter": "python",
   "pygments_lexer": "ipython3",
   "version": "3.9.2"
  }
 },
 "nbformat": 4,
 "nbformat_minor": 4
}
